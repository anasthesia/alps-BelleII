{
 "cells": [
  {
   "cell_type": "code",
   "execution_count": 1,
   "metadata": {},
   "outputs": [],
   "source": [
    "import numpy as np\n",
    "import scipy.stats as st\n",
    "\n",
    "# Function returns the index of the value in an array nearest to the input value\n",
    "def find_nearest(vector, value):\n",
    "    idx = (np.abs(vector-value)).argmin()\n",
    "    return idx\n",
    "\n",
    "# Function signalFloor to iteratively find the appropriate signal floor for \n",
    "# a given background level, at a given confidence level. This calculation\n",
    "# assumes background-only and solves the cumulative Poisson distribution iteratively.\n",
    "\n",
    "def signalFloor(Bg, conf, accuracy=1e-6):\n",
    "\n",
    "    #print(len(Bg))\n",
    "    floor = np.empty_like(Bg, dtype=float)\n",
    "    \n",
    "    # Convert the confidence level to a cdf:\n",
    "    conf = 1-conf\n",
    "        \n",
    "    for i in range(0, len(Bg)):\n",
    "            \n",
    "        #print(i)\n",
    "        \n",
    "        \n",
    "        # First, calculate the expectation with a background-only hypothesis\n",
    "        floor_bg = Bg[i] - st.poisson.ppf(conf, Bg[i])\n",
    "\n",
    "        # Make an interval around floor_bg\n",
    "        interval = np.linspace(0.5*floor_bg, max(2*floor_bg,6), 1000)\n",
    "\n",
    "        # Reduce the interval iteratively until reaching desired\n",
    "        deviations = ( conf - st.poisson.cdf(round(Bg[i]), Bg[i]+interval) )\n",
    "\n",
    "\n",
    "        # Now, iteratively reduce the interval until the desired decimal precision is reached\n",
    "        while np.max(interval)-np.min(interval) > accuracy:\n",
    "  \n",
    "            upper_lim = interval[np.all( [ (deviations > 0), (deviations <= np.min(deviations[deviations > 0])) ], axis=0 )]\n",
    "\n",
    "            lower_lim = interval[np.all( [ (deviations < 0), (deviations >= np.max(deviations[deviations < 0])) ], axis=0 )]\n",
    "\n",
    "            interval = np.linspace(lower_lim, upper_lim, 1000)\n",
    "            deviations = ( conf - st.poisson.cdf(round(Bg[i]), Bg[i]+interval) )\n",
    "\n",
    "            flr = np.mean(interval)\n",
    "            \n",
    "            floor[i] = flr\n",
    "    \n",
    "    return floor\n"
   ]
  },
  {
   "cell_type": "code",
   "execution_count": 2,
   "metadata": {},
   "outputs": [
    {
     "data": {
      "text/plain": [
       "2.302585092825784"
      ]
     },
     "execution_count": 2,
     "metadata": {},
     "output_type": "execute_result"
    }
   ],
   "source": [
    "signalFloor(Bg=[0.0], conf=0.90)[0]"
   ]
  },
  {
   "cell_type": "code",
   "execution_count": 3,
   "metadata": {},
   "outputs": [
    {
     "data": {
      "text/plain": [
       "2.9957322736197707"
      ]
     },
     "execution_count": 3,
     "metadata": {},
     "output_type": "execute_result"
    }
   ],
   "source": [
    "signalFloor(Bg=[0.0], conf=0.95)[0]"
   ]
  },
  {
   "cell_type": "code",
   "execution_count": 4,
   "metadata": {},
   "outputs": [
    {
     "data": {
      "text/plain": [
       "3.4935895871111624"
      ]
     },
     "execution_count": 4,
     "metadata": {},
     "output_type": "execute_result"
    }
   ],
   "source": [
    "signalFloor(Bg=[4.5], conf=0.9)[0]"
   ]
  },
  {
   "cell_type": "code",
   "execution_count": null,
   "metadata": {},
   "outputs": [],
   "source": []
  }
 ],
 "metadata": {
  "kernelspec": {
   "display_name": "Python 3 (ipykernel)",
   "language": "python",
   "name": "python3"
  },
  "language_info": {
   "codemirror_mode": {
    "name": "ipython",
    "version": 3
   },
   "file_extension": ".py",
   "mimetype": "text/x-python",
   "name": "python",
   "nbconvert_exporter": "python",
   "pygments_lexer": "ipython3",
   "version": "3.9.7"
  }
 },
 "nbformat": 4,
 "nbformat_minor": 2
}
