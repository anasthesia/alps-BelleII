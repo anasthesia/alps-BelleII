{
 "cells": [
  {
   "cell_type": "markdown",
   "id": "through-captain",
   "metadata": {},
   "source": [
    "Units used: GeV for masses, s for time, cm for distances"
   ]
  },
  {
   "cell_type": "code",
   "execution_count": 64,
   "id": "political-fault",
   "metadata": {},
   "outputs": [],
   "source": [
    "import os\n",
    "import glob\n",
    "import importlib\n",
    "\n",
    "import matplotlib as mlib\n",
    "import matplotlib.pyplot as plt\n",
    "\n",
    "# plt.rcParams[\"text.usetex\"] = True\n",
    "# plt.rcParams[\"text.latex.preamble\"] = r\"\\usepackage{slashed}\"\n",
    "\n",
    "import numpy as np\n",
    "from numpy import genfromtxt\n",
    "from numpy import loadtxt\n",
    "import re\n",
    "import csv\n",
    "import matplotlib.colors as mcolors\n",
    "import matplotlib.cm as cm\n",
    "import matplotlib.patches as mpatches\n",
    "import matplotlib.lines as mlines\n",
    "\n",
    "\n",
    "import sys\n",
    "sys.path.insert(1, '/home/stasya/prj/alps-running/TdAlps-Internal/')\n",
    "import TdAlps\n",
    "from collections import OrderedDict\n",
    "\n",
    "import scipy\n",
    "import scipy.integrate as integrate\n",
    "import scipy.optimize as optimize\n",
    "\n",
    "import csv"
   ]
  },
  {
   "cell_type": "code",
   "execution_count": 65,
   "id": "foreign-nancy",
   "metadata": {},
   "outputs": [],
   "source": [
    "#Plotting settings\n",
    "\n",
    "font = {\n",
    "        'weight' : 'normal',\n",
    "        'size'   : 16}\n",
    "\n",
    "mlib.rc('font', **font)"
   ]
  },
  {
   "cell_type": "code",
   "execution_count": 66,
   "id": "eb198115",
   "metadata": {},
   "outputs": [],
   "source": [
    "def importNotebook(name):\n",
    "    \n",
    "    currentDir=os.getcwd()\n",
    "    notebookDir=os.path.dirname(name)\n",
    "    os.chdir(notebookDir)\n",
    "    notebookName=os.path.basename(name).split('.')[0]\n",
    "    module = importlib.import_module(f\"ipynb.fs.full.{notebookName}\")\n",
    "    \n",
    "    os.chdir(currentDir)\n",
    "    \n",
    "    globals().update(vars(module))"
   ]
  },
  {
   "cell_type": "code",
   "execution_count": 67,
   "id": "68362ce3",
   "metadata": {},
   "outputs": [],
   "source": [
    "importNotebook(\"/home/stasya/prj/alps/Python/ALPs_base.ipynb\")"
   ]
  },
  {
   "cell_type": "code",
   "execution_count": 68,
   "id": "61e9c5be",
   "metadata": {},
   "outputs": [],
   "source": [
    "importNotebook(\"/home/stasya/prj/alps/Python/ALPs_BRs.ipynb\")"
   ]
  },
  {
   "cell_type": "markdown",
   "id": "sunset-raleigh",
   "metadata": {},
   "source": [
    "### mass-coupling grid"
   ]
  },
  {
   "cell_type": "code",
   "execution_count": 69,
   "id": "ordered-mattress",
   "metadata": {},
   "outputs": [],
   "source": [
    "#masslist= [0.05, 0.05, 0.1, 0.2, 0.3, 0.5, 1., 2., 4.]\n",
    "masslist=np.sort(np.append(np.logspace(-2, 0, 25),[0.09, 0.101, 0.43, 0.47,0.55,\\\n",
    "                                                   0.95, 1, 1.5, 2, 2.5, 3, 3.2, 3.5, 4,\\\n",
    "                                                   0.0935, 0.095, 0.63, 0.65]))\n",
    "masslistShort=np.logspace(-2,np.log(2.1), 40)\n",
    "particleCodes=[*range(0,7,1)]"
   ]
  },
  {
   "cell_type": "code",
   "execution_count": 70,
   "id": "adequate-exercise",
   "metadata": {},
   "outputs": [
    {
     "data": {
      "text/plain": [
       "array([0.01      , 0.01175726, 0.01382331, 0.01625243, 0.0191084 ,\n",
       "       0.02246624, 0.02641414, 0.03105579, 0.0365131 , 0.0429294 ,\n",
       "       0.0504732 , 0.05934265, 0.06977069, 0.08203121, 0.09644622,\n",
       "       0.11339432, 0.13332063, 0.15674852, 0.1842933 , 0.2166784 ,\n",
       "       0.25475441, 0.29952136, 0.35215502, 0.41403778, 0.48679494,\n",
       "       0.57233742, 0.67291193, 0.79115999, 0.93018729, 1.09364529,\n",
       "       1.28582709, 1.51178022, 1.77743916, 2.08978126, 2.45700995,\n",
       "       2.88877024, 3.396402  , 3.9932378 , 4.69495311, 5.51997797])"
      ]
     },
     "execution_count": 70,
     "metadata": {},
     "output_type": "execute_result"
    }
   ],
   "source": [
    "masslistShort"
   ]
  },
  {
   "cell_type": "code",
   "execution_count": 71,
   "id": "provincial-spiritual",
   "metadata": {},
   "outputs": [],
   "source": [
    "couplingList=np.sort(np.append(np.logspace(-6, 4, 20),np.logspace(-1, 2, 20)))\n",
    "couplingListShort=np.logspace(np.log(8*10**-4), np.log(1.7), 25)"
   ]
  },
  {
   "cell_type": "code",
   "execution_count": 72,
   "id": "encouraging-venue",
   "metadata": {},
   "outputs": [
    {
     "data": {
      "text/plain": [
       "array([7.39777588e-08, 1.54287757e-07, 3.21782010e-07, 6.71107442e-07,\n",
       "       1.39965935e-06, 2.91912468e-06, 6.08811630e-06, 1.26973542e-05,\n",
       "       2.64815579e-05, 5.52298451e-05, 1.15187173e-04, 2.40233968e-04,\n",
       "       5.01031130e-04, 1.04494879e-03, 2.17934156e-03, 4.54522719e-03,\n",
       "       9.47951003e-03, 1.97704332e-02, 4.12331468e-02, 8.59957079e-02,\n",
       "       1.79352350e-01, 3.74056638e-01, 7.80131225e-01, 1.62703897e+00,\n",
       "       3.39334683e+00])"
      ]
     },
     "execution_count": 72,
     "metadata": {},
     "output_type": "execute_result"
    }
   ],
   "source": [
    "couplingListShort"
   ]
  },
  {
   "cell_type": "code",
   "execution_count": 73,
   "id": "developed-america",
   "metadata": {},
   "outputs": [],
   "source": [
    "constants={\n",
    "    'InvGeVtocm': 1/(5.06 * 10**(13))\n",
    "}"
   ]
  },
  {
   "cell_type": "code",
   "execution_count": 74,
   "id": "appropriate-ivory",
   "metadata": {},
   "outputs": [],
   "source": [
    "sm['tauB+'] = 1.638*10**(-12)\n",
    "sm['ctauB+']= 3 * 10**10 * 1.638*10**(-12)"
   ]
  },
  {
   "cell_type": "markdown",
   "id": "attached-overhead",
   "metadata": {},
   "source": [
    "## based on https://github.com/rrschaefer/alps (formulas taken from 2012.12272 and 1708.00443)"
   ]
  },
  {
   "cell_type": "markdown",
   "id": "recorded-static",
   "metadata": {},
   "source": [
    "### Alps running implemented in https://github.com/TdAlps"
   ]
  },
  {
   "cell_type": "markdown",
   "id": "heavy-delight",
   "metadata": {},
   "source": [
    "### ALP and B-> Ka decay rates"
   ]
  },
  {
   "cell_type": "code",
   "execution_count": 75,
   "id": "sweet-branch",
   "metadata": {},
   "outputs": [],
   "source": [
    "def BrBtoKaplus(ma, cbs, Lambda):\n",
    "    return (np.pi/4)*abs(cbs)**2/(Lambda**2) * abs(formFactorFzeroBplus(ma))**2 \\\n",
    "            * (sm['mB+']**2-sm['mK+']**2)**2/sm['mB+']**3 * np.sqrt(sm['mB+']**4+sm['mK+']**4+ma**4\\\n",
    "            -2*(sm['mB+']**2 * sm['mK+']**2 + sm['mK+']**2 * ma**2 + ma**2 * sm['mB+']**2))\\\n",
    "            /sm['hbar']*sm['tauB+']"
   ]
  },
  {
   "cell_type": "markdown",
   "id": "subjective-institution",
   "metadata": {},
   "source": [
    "### ALP branching ratios"
   ]
  },
  {
   "cell_type": "markdown",
   "id": "equivalent-denial",
   "metadata": {},
   "source": [
    "### decays under consideration encoded as\n",
    " - 0: e \n",
    " - 1: mu\n",
    " - 2: tau\n",
    " - 3: charm\n",
    " - 4: bottom\n",
    " - 5: photon\n",
    " - 6: hadron\n",
    " - 7: 3 pions"
   ]
  },
  {
   "cell_type": "code",
   "execution_count": 76,
   "id": "abroad-textbook",
   "metadata": {},
   "outputs": [],
   "source": [
    "def brALPtoOneFinalState(ma,finalStateCode,cQ,cu,cd,cL,ce,cGG,cWW,cBB,Lambda,lscsPassed=None):\n",
    "    with HiddenPrints():\n",
    "        HC = OrderedDict()\n",
    "        HC['Q'] = np.array([[cQ,0,0],[0,cQ,0],[0,0,cQ]])\n",
    "        HC['u'] = -np.array([[cu,0,0],[0,cu,0],[0,0,cu]])\n",
    "        HC['d'] = -np.array([[cd,0,0],[0,cd,0],[0,0,cd]])\n",
    "        HC['L'] = np.array([[cL,0,0],[0,cL,0],[0,0,cL]])\n",
    "        HC['e'] = -np.array([[ce,0,0],[0,ce,0],[0,0,ce]])\n",
    "        HC['GG'] = cGG\n",
    "        HC['WW'] = cWW\n",
    "        HC['BB'] = cBB\n",
    "\n",
    "        brs = [[],[],[],[],[],[],[],[],[]]\n",
    "        \n",
    "        if (lscsPassed is not None):\n",
    "            lscs=lscsPassed\n",
    "        else:\n",
    "            if ma<1:\n",
    "                mu = 1\n",
    "            else:\n",
    "                mu=ma\n",
    "            lscs = TdAlps.RunRotateMatchRun(HC, Lambda, mu, 3)\n",
    "        \n",
    "#         print(\"mu= \",mu)\n",
    "#         print(\"readCee= \",readCee(lscs),\", readCmumu= \",readCmumu(lscs))\n",
    "#         print([ma,readCee(lscs),sm['me'],Lambda])\n",
    "#         print(\"Gamma_ll= \",Gammaatoll(ma,readCee(lscs),sm['me'],Lambda))\n",
    "        \n",
    "        brs[0].append(Gammaatoll(ma,readCee(lscs),sm['me'],Lambda))\n",
    "        brs[1].append(Gammaatoll(ma,readCmumu(lscs),sm['mmu'],Lambda))\n",
    "        try:\n",
    "            ctautau = readCtautau(lscs)\n",
    "        except IndexError:\n",
    "            ctautau = 0\n",
    "        brs[2].append(Gammaatoll(ma,ctautau,sm['mtau'],Lambda))\n",
    "        try:\n",
    "            ccc = readCcc(lscs)\n",
    "        except IndexError:\n",
    "            ccc = 0\n",
    "        brs[3].append(Gammaatoqq(ma,ccc,sm['mc'],Lambda))\n",
    "        try:\n",
    "            cbb = readCbb(lscs)\n",
    "        except IndexError:\n",
    "            cbb = 0\n",
    "        brs[4].append(Gammaatoqq(ma,cbb,sm['mb'],Lambda))\n",
    "        brs[5].append(Gammaatogamgam(ma,lscs,Lambda))\n",
    "        brs[6].append(Gammaatohad(ma,lscs,Lambda))\n",
    "        brs[7].append(Gammaato3pi000(ma,lscs,Lambda)+Gammaato3pi0pm(ma,lscs,Lambda))\n",
    "        brs[8].append(brs[0][-1]+brs[1][-1]+brs[2][-1]+brs[3][-1]+brs[4][-1]+brs[5][-1]\\\n",
    "                      +brs[6][-1]+brs[7][-1])\n",
    "            \n",
    "\n",
    "#         print(\"br[0][-1]= \",brs[0][-1])\n",
    "        \n",
    "        ctauAlp=constants['InvGeVtocm']/brs[8][-1]\n",
    "\n",
    "        return [brs[finalStateCode][-1]/brs[8][-1],ctauAlp]"
   ]
  },
  {
   "cell_type": "markdown",
   "id": "worse-overall",
   "metadata": {},
   "source": [
    "## Generate [ma, tau, c, BR(theory)] files"
   ]
  },
  {
   "cell_type": "code",
   "execution_count": 77,
   "id": "invalid-notice",
   "metadata": {},
   "outputs": [
    {
     "data": {
      "text/plain": [
       "array([0.01      , 0.01211528, 0.01467799, 0.01778279, 0.02154435,\n",
       "       0.02610157, 0.03162278, 0.03831187, 0.04641589, 0.05623413,\n",
       "       0.06812921, 0.08254042, 0.09      , 0.0935    , 0.095     ,\n",
       "       0.1       , 0.101     , 0.12115277, 0.14677993, 0.17782794,\n",
       "       0.21544347, 0.26101572, 0.31622777, 0.38311868, 0.43      ,\n",
       "       0.46415888, 0.47      , 0.55      , 0.56234133, 0.63      ,\n",
       "       0.65      , 0.68129207, 0.82540419, 0.95      , 1.        ,\n",
       "       1.        , 1.5       , 2.        , 2.5       , 3.        ,\n",
       "       3.2       , 3.5       , 4.        ])"
      ]
     },
     "execution_count": 77,
     "metadata": {},
     "output_type": "execute_result"
    }
   ],
   "source": [
    "masslist"
   ]
  },
  {
   "cell_type": "code",
   "execution_count": 78,
   "id": "international-programmer",
   "metadata": {},
   "outputs": [
    {
     "data": {
      "text/plain": [
       "array([1.00000000e-06, 3.35981829e-06, 1.12883789e-05, 3.79269019e-05,\n",
       "       1.27427499e-04, 4.28133240e-04, 1.43844989e-03, 4.83293024e-03,\n",
       "       1.62377674e-02, 5.45559478e-02, 1.00000000e-01, 1.43844989e-01,\n",
       "       1.83298071e-01, 2.06913808e-01, 2.97635144e-01, 4.28133240e-01,\n",
       "       6.15848211e-01, 6.15848211e-01, 8.85866790e-01, 1.27427499e+00,\n",
       "       1.83298071e+00, 2.06913808e+00, 2.63665090e+00, 3.79269019e+00,\n",
       "       5.45559478e+00, 6.95192796e+00, 7.84759970e+00, 1.12883789e+01,\n",
       "       1.62377674e+01, 2.33572147e+01, 2.33572147e+01, 3.35981829e+01,\n",
       "       4.83293024e+01, 6.95192796e+01, 7.84759970e+01, 1.00000000e+02,\n",
       "       2.63665090e+02, 8.85866790e+02, 2.97635144e+03, 1.00000000e+04])"
      ]
     },
     "execution_count": 78,
     "metadata": {},
     "output_type": "execute_result"
    }
   ],
   "source": [
    "couplingList"
   ]
  },
  {
   "cell_type": "code",
   "execution_count": 79,
   "id": "elder-order",
   "metadata": {},
   "outputs": [],
   "source": [
    "def generateLHCbFiles(mlist,clist,process,Lambda):\n",
    "    \n",
    "    with HiddenPrints():\n",
    "    \n",
    "        lhcbList=[['# m [GeV], tau [ps], c, BR_theo(B->K mu mu)\\n']]\n",
    "#         print(\"start\")\n",
    "\n",
    "        for ma in mlist:\n",
    "            for c in clist:\n",
    "\n",
    "#                 if process in ['cff=cWW=cBB']:\n",
    "#                     #print(\"1\")\n",
    "#                     cQ=cL=cWW=cBB=cff=c\n",
    "#                     ce=cd=cu=-c\n",
    "#                     cGG=0\n",
    "\n",
    "                if process in ['cWW']:\n",
    "                    #print(\"2\")\n",
    "                    cQ=cL=cu=cd=ce=cGG=cBB=cff=0\n",
    "                    cWW=c\n",
    "\n",
    "\n",
    "                if process in ['cff']:\n",
    "                    #print(\"3\")\n",
    "                    cGG=cWW=cBB=0\n",
    "                    cQ=cL=cff=c\n",
    "                    ce=cd=cu=c\n",
    "\n",
    "                coefs=getLScoefficients(cff, cWW, cBB, Lambda, ma)\n",
    "                cbs=getCbs(cff, cWW, cBB, Lambda, sm['mB+'])\n",
    "#                 print(\"ma= \",ma,\", cff= \",cff,\", cWW= \",cWW,\", cBB= \",cBB,\", cbs= \",cbs)\n",
    "\n",
    "                BR= BrBtoKaplus(ma, cbs, Lambda) \\\n",
    "                *brALPtoOneFinalState(ma,1,cQ,cu,cd,cL,ce,cGG,cWW,cBB,Lambda,None)[0]\n",
    "                tau=ctaua(ma, cff, cWW, cBB, Lambda)/sm['c']*10**12\n",
    "\n",
    "                lhcbList.append([ma,tau,c,BR])\n",
    "        return lhcbList"
   ]
  },
  {
   "cell_type": "code",
   "execution_count": 80,
   "id": "upset-audience",
   "metadata": {},
   "outputs": [],
   "source": [
    "# meshcffcWWcBB=generateLHCbFiles(masslistShort,couplingListShort,'cff=cWW=cBB',4*np.pi*10**3)"
   ]
  },
  {
   "cell_type": "code",
   "execution_count": 83,
   "id": "spatial-accent",
   "metadata": {
    "scrolled": true
   },
   "outputs": [
    {
     "name": "stderr",
     "output_type": "stream",
     "text": [
      "/home/stasya/prj/alps/Python/ALPs_base.ipynb:645: ComplexWarning: Casting complex values to real discards the imaginary part\n",
      "  \"    return float(gamma)\\n\",\n",
      "/home/stasya/prj/alps/Python/ALPs_base.ipynb:658: ComplexWarning: Casting complex values to real discards the imaginary part\n",
      "  \"    alphaEM = readAlphaEM(coeffs)\\n\",\n",
      "/home/stasya/prj/alps/Python/ALPs_base.ipynb:632: ComplexWarning: Casting complex values to real discards the imaginary part\n",
      "  {\n"
     ]
    }
   ],
   "source": [
    "meshcWW=generateLHCbFiles(masslist,couplingList,'cWW',4*np.pi*10**3)\n",
    "meshcff=generateLHCbFiles(masslist,couplingList,'cff',4*np.pi*10**3)"
   ]
  },
  {
   "cell_type": "code",
   "execution_count": 84,
   "id": "graphic-arbitration",
   "metadata": {},
   "outputs": [],
   "source": [
    "# with open(\"output/m-tau-c-BRBtoKmumu-cffcWWcBB.dat\", \"w\", newline=\"\") as f:\n",
    "#     writer = csv.writer(f,delimiter=\",\", quoting = csv.QUOTE_NONE,escapechar=' ')\n",
    "#     writer.writerows(meshcffcWWcBB)\n",
    "    \n",
    "with open(\"output/m-tau-c-BRBtoKmumu-cWW.dat\", \"w\", newline=\"\") as f:\n",
    "    writer = csv.writer(f,delimiter=\",\", quoting = csv.QUOTE_NONE,escapechar=' ')\n",
    "    writer.writerows(meshcWW)\n",
    "    \n",
    "with open(\"output/m-tau-c-BRBtoKmumu-cff.dat\", \"w\", newline=\"\") as f:\n",
    "    writer = csv.writer(f,delimiter=\",\", quoting = csv.QUOTE_NONE,escapechar=' ')\n",
    "    writer.writerows(meshcff)"
   ]
  },
  {
   "cell_type": "code",
   "execution_count": null,
   "id": "b7508764",
   "metadata": {},
   "outputs": [],
   "source": []
  }
 ],
 "metadata": {
  "kernelspec": {
   "display_name": "Python 3 (ipykernel)",
   "language": "python",
   "name": "python3"
  },
  "language_info": {
   "codemirror_mode": {
    "name": "ipython",
    "version": 3
   },
   "file_extension": ".py",
   "mimetype": "text/x-python",
   "name": "python",
   "nbconvert_exporter": "python",
   "pygments_lexer": "ipython3",
   "version": "3.9.7"
  }
 },
 "nbformat": 4,
 "nbformat_minor": 5
}
