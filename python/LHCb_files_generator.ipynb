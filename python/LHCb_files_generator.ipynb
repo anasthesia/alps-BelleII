{
 "cells": [
  {
   "cell_type": "markdown",
   "id": "through-captain",
   "metadata": {},
   "source": [
    "Units used: GeV for masses, s for time, cm for distances"
   ]
  },
  {
   "cell_type": "code",
   "execution_count": 65,
   "id": "political-fault",
   "metadata": {},
   "outputs": [
    {
     "name": "stdout",
     "output_type": "stream",
     "text": [
      "On branch main\n",
      "Your branch is up to date with 'origin/main'.\n",
      "\n",
      "nothing to commit, working tree clean\n"
     ]
    }
   ],
   "source": [
    "import os\n",
    "import glob\n",
    "import importlib\n",
    "\n",
    "import matplotlib as mlib\n",
    "import matplotlib.pyplot as plt\n",
    "\n",
    "# plt.rcParams[\"text.usetex\"] = True\n",
    "# plt.rcParams[\"text.latex.preamble\"] = r\"\\usepackage{slashed}\"\n",
    "\n",
    "import numpy as np\n",
    "from numpy import genfromtxt\n",
    "from numpy import loadtxt\n",
    "import re\n",
    "import csv\n",
    "import matplotlib.colors as mcolors\n",
    "import matplotlib.cm as cm\n",
    "import matplotlib.patches as mpatches\n",
    "import matplotlib.lines as mlines\n",
    "\n",
    "\n",
    "import sys\n",
    "sys.path.insert(1, '/home/stasya/prj/alps-running/TdAlps-Internal/')\n",
    "os.system('git -C /home/stasya/prj/alps-running/TdAlps-Internal/ fetch;\\\n",
    "git -C /home/stasya/prj/alps-running/TdAlps-Internal/ status')\n",
    "import TdAlps\n",
    "from collections import OrderedDict\n",
    "\n",
    "import scipy\n",
    "import scipy.integrate as integrate\n",
    "import scipy.optimize as optimize\n",
    "\n",
    "import csv"
   ]
  },
  {
   "cell_type": "code",
   "execution_count": 66,
   "id": "foreign-nancy",
   "metadata": {},
   "outputs": [],
   "source": [
    "#Plotting settings\n",
    "\n",
    "font = {\n",
    "        'weight' : 'normal',\n",
    "        'size'   : 16}\n",
    "\n",
    "mlib.rc('font', **font)"
   ]
  },
  {
   "cell_type": "code",
   "execution_count": 67,
   "id": "eb198115",
   "metadata": {},
   "outputs": [],
   "source": [
    "def importNotebook(name):\n",
    "    \n",
    "    currentDir=os.getcwd()\n",
    "    notebookDir=os.path.dirname(name)\n",
    "    os.chdir(notebookDir)\n",
    "    os.system('git fetch; git status')\n",
    "    notebookName=os.path.basename(name).split('.')[0]\n",
    "    module = importlib.import_module(f\"ipynb.fs.full.{notebookName}\")\n",
    "    \n",
    "    os.chdir(currentDir)\n",
    "    \n",
    "    globals().update(vars(module))"
   ]
  },
  {
   "cell_type": "code",
   "execution_count": 68,
   "id": "68362ce3",
   "metadata": {},
   "outputs": [
    {
     "name": "stdout",
     "output_type": "stream",
     "text": [
      "On branch main\n",
      "Your branch is behind 'origin/main' by 8 commits, and can be fast-forwarded.\n",
      "  (use \"git pull\" to update your local branch)\n",
      "\n",
      "Changes not staged for commit:\n",
      "  (use \"git add <file>...\" to update what will be committed)\n",
      "  (use \"git restore <file>...\" to discard changes in working directory)\n",
      "\tmodified:   ALPs_BRs.ipynb\n",
      "\tmodified:   ALPs_base.ipynb\n",
      "\n",
      "Untracked files:\n",
      "  (use \"git add <file>...\" to include in what will be committed)\n",
      "\t.ipynb_checkpoints/\n",
      "\tALPs_BRs-check.ipynb\n",
      "\tALPs_wip-Nastya.ipynb\n",
      "\n",
      "no changes added to commit (use \"git add\" and/or \"git commit -a\")\n"
     ]
    }
   ],
   "source": [
    "importNotebook(\"/home/stasya/prj/alps/Python/ALPs_base.ipynb\")"
   ]
  },
  {
   "cell_type": "code",
   "execution_count": 69,
   "id": "61e9c5be",
   "metadata": {
    "scrolled": true
   },
   "outputs": [
    {
     "name": "stdout",
     "output_type": "stream",
     "text": [
      "On branch main\n",
      "Your branch is behind 'origin/main' by 8 commits, and can be fast-forwarded.\n",
      "  (use \"git pull\" to update your local branch)\n",
      "\n",
      "Changes not staged for commit:\n",
      "  (use \"git add <file>...\" to update what will be committed)\n",
      "  (use \"git restore <file>...\" to discard changes in working directory)\n",
      "\tmodified:   ALPs_BRs.ipynb\n",
      "\tmodified:   ALPs_base.ipynb\n",
      "\n",
      "Untracked files:\n",
      "  (use \"git add <file>...\" to include in what will be committed)\n",
      "\t.ipynb_checkpoints/\n",
      "\tALPs_BRs-check.ipynb\n",
      "\tALPs_wip-Nastya.ipynb\n",
      "\n",
      "no changes added to commit (use \"git add\" and/or \"git commit -a\")\n"
     ]
    }
   ],
   "source": [
    "importNotebook(\"/home/stasya/prj/alps/Python/ALPs_BRs.ipynb\")"
   ]
  },
  {
   "cell_type": "markdown",
   "id": "sunset-raleigh",
   "metadata": {},
   "source": [
    "### mass-coupling grid"
   ]
  },
  {
   "cell_type": "code",
   "execution_count": 70,
   "id": "ordered-mattress",
   "metadata": {},
   "outputs": [],
   "source": [
    "#masslist= [0.05, 0.05, 0.1, 0.2, 0.3, 0.5, 1., 2., 4.]\n",
    "masslist=np.sort(np.append(np.logspace(-2, 0, 25),[0.09, 0.101, 0.43, 0.47,0.55,\\\n",
    "                                                   0.95, 1, 1.5, 2, 2.5, 3, 3.2, 3.5, 4,\\\n",
    "                                                   0.0935, 0.095, 0.63, 0.65]))\n",
    "masslistShort=np.logspace(-2,np.log(2.1), 40)\n",
    "masslistcWWcheck= np.linspace(0.3,0.4,1)\n",
    "particleCodes=[*range(0,7,1)]\n",
    "\n",
    "masslistCheck=np.logspace(-2,np.log10(2.1), 3)\n",
    "\n",
    "masslistPrompt=np.logspace(np.log10(0.2),np.log10(5))"
   ]
  },
  {
   "cell_type": "code",
   "execution_count": 71,
   "id": "provincial-spiritual",
   "metadata": {},
   "outputs": [],
   "source": [
    "couplingList=np.sort(np.append(np.logspace(-6, 4, 20),np.logspace(-1, 2, 20)))\n",
    "\n",
    "couplingListcWW=np.logspace(-1, 2, 20)\n",
    "couplingListcff=np.logspace(np.log(0.02), np.log(0.5), 20)\n",
    "\n",
    "couplingListShort=np.logspace(np.log(8*10**-4), np.log(1.7), 25)\n",
    "couplingListcWWcheck=np.arange(0,190)*0.5+0.5\n",
    "couplingListcWWcheckShort=np.array([0.5,1,1.5,2,2,5.3,50,80,85,90,95])\n",
    "\n",
    "couplingListcWWprompt=np.logspace(0,2, 40)\n",
    "couplingListcffprompt=np.logspace(-4, 0, 40)"
   ]
  },
  {
   "cell_type": "code",
   "execution_count": 72,
   "id": "developed-america",
   "metadata": {},
   "outputs": [],
   "source": [
    "constants={\n",
    "    'InvGeVtocm': 1/(5.06 * 10**(13))\n",
    "}"
   ]
  },
  {
   "cell_type": "code",
   "execution_count": 73,
   "id": "appropriate-ivory",
   "metadata": {},
   "outputs": [],
   "source": [
    "sm['tauB+'] = 1.638*10**(-12)\n",
    "sm['ctauB+']= 3 * 10**10 * 1.638*10**(-12)\n",
    "\n",
    "sm['mB0'] = 5.27965\n",
    "sm['tauB0'] = 1.519*10**(-12)\n",
    "\n",
    "sm['mK0'] = 0.89166"
   ]
  },
  {
   "cell_type": "markdown",
   "id": "attached-overhead",
   "metadata": {},
   "source": [
    "## based on https://github.com/rrschaefer/alps (formulas taken from 2012.12272 and 1708.00443)"
   ]
  },
  {
   "cell_type": "markdown",
   "id": "recorded-static",
   "metadata": {},
   "source": [
    "### Alps running implemented in https://github.com/TdAlps"
   ]
  },
  {
   "cell_type": "markdown",
   "id": "heavy-delight",
   "metadata": {},
   "source": [
    "### ALP and B-> Ka decay rates"
   ]
  },
  {
   "cell_type": "code",
   "execution_count": 74,
   "id": "2ef166a8",
   "metadata": {},
   "outputs": [],
   "source": [
    "def fzStar(t):\n",
    "    tplus = (sm['mB0']+sm['mK0'])**2\n",
    "    tminus = (sm['mB0']-sm['mK0'])**2\n",
    "    tzero = tplus * (1-math.sqrt(1-tminus/tplus))\n",
    "    return (math.sqrt(tplus-t) - math.sqrt(tplus-tzero))/(math.sqrt(tplus-t) + math.sqrt(tplus-tzero))\n",
    "\n",
    "\n",
    "def formFactorAzeroBstar(qsqr):\n",
    "    tmp = 0.34339\n",
    "    tmp += -1.1296 * (fzStar(qsqr) - fzStar(0))\n",
    "    tmp += 2.32629 * (fzStar(qsqr) - fzStar(0))**2\n",
    "    tmp = tmp/(1-qsqr/5.27**2)\n",
    "    return tmp"
   ]
  },
  {
   "cell_type": "code",
   "execution_count": 114,
   "id": "sweet-branch",
   "metadata": {},
   "outputs": [],
   "source": [
    "def BrBtoKaplus(ma, cbs, Lambda):\n",
    "    return (np.pi/4)*abs(cbs)**2/(Lambda**2) * abs(formFactorFzeroBplus(ma**2))**2 \\\n",
    "            * (sm['mB+']**2-sm['mK+']**2)**2/sm['mB+']**3 * np.sqrt(sm['mB+']**4+sm['mK+']**4+ma**4\\\n",
    "            -2*(sm['mB+']**2 * sm['mK+']**2 + sm['mK+']**2 * ma**2 + ma**2 * sm['mB+']**2))\\\n",
    "            /sm['hbar']*sm['tauB+']"
   ]
  },
  {
   "cell_type": "code",
   "execution_count": 115,
   "id": "400b4890",
   "metadata": {},
   "outputs": [],
   "source": [
    "def BrB0toK0aplus(ma, cbs, Lambda):\n",
    "    return (np.pi/4)*abs(cbs)**2/(Lambda**2) * abs(formFactorAzeroBstar(ma**2))**2 \\\n",
    "            * (sm['mB0']**2-sm['mK0']**2)**2/sm['mB0']**3 * np.sqrt(sm['mB0']**4+sm['mK0']**4+ma**4\\\n",
    "            -2*(sm['mB0']**2 * sm['mK0']**2 + sm['mK0']**2 * ma**2 + ma**2 * sm['mB0']**2))\\\n",
    "            /sm['hbar']*sm['tauB0']"
   ]
  },
  {
   "cell_type": "code",
   "execution_count": 116,
   "id": "c35136c9",
   "metadata": {},
   "outputs": [],
   "source": [
    "def BrKtoPiaplusForPrefactor(ma, cbs, Lambda):\n",
    "        return np.sqrt(sm['mB+']**4+sm['mK+']**4+ma**4\\\n",
    "            -2*(sm['mK+']**2 * sm['mB+']**2 + sm['mB+']**2 * ma**2 + ma**2 * sm['mK+']**2))\\\n",
    "            /(sm['mB+']**2-sm['mK+']**2)"
   ]
  },
  {
   "cell_type": "code",
   "execution_count": 172,
   "id": "ab24c197",
   "metadata": {},
   "outputs": [],
   "source": [
    "def BrBtoKaplusSimpl(ma, cff, cWW):\n",
    "        return 0.03 * (cff + 0.0032 * cWW)**2 * np.sqrt(sm['mB+']**4\\\n",
    "                +sm['mK+']**4 +ma**4-2*(sm['mK+']**2 * sm['mB+']**2 + sm['mB+']**2 * ma**2 \\\n",
    "                                         + ma**2 * sm['mK+']**2))/(sm['mB+']**2-sm['mK+']**2)"
   ]
  },
  {
   "cell_type": "code",
   "execution_count": 169,
   "id": "9ff90fa4",
   "metadata": {},
   "outputs": [],
   "source": [
    "def prefactorFull(ma, cbs, Lambda):\n",
    "    return  (np.pi/4)* abs(cbs)**2/(Lambda**2) * abs(formFactorFzeroBplus(ma**2))**2 \\\n",
    "            * (sm['mB+']**2-sm['mK+']**2)**2/sm['mB+']**3/sm['hbar']*sm['tauB+'] * (sm['mB+']**2-sm['mK+']**2)"
   ]
  },
  {
   "cell_type": "code",
   "execution_count": 170,
   "id": "3753c757",
   "metadata": {},
   "outputs": [],
   "source": [
    "def prefactorSimp(ma, cff, cWW):\n",
    "    return (0.1702400598048616 *cff + 0.0005382262168624476 * cWW)**2"
   ]
  },
  {
   "cell_type": "code",
   "execution_count": 157,
   "id": "23bbb6c9",
   "metadata": {},
   "outputs": [],
   "source": [
    "def BrRest(ma):\n",
    "    return np.sqrt(sm['mB+']**4\\\n",
    "                +sm['mK+']**4 +ma**4-2*(sm['mK+']**2 * sm['mB+']**2 + sm['mB+']**2 * ma**2 \\\n",
    "                                         + ma**2 * sm['mK+']**2))/(sm['mB+']**2-sm['mK+']**2)"
   ]
  },
  {
   "cell_type": "code",
   "execution_count": 158,
   "id": "8b307b28",
   "metadata": {},
   "outputs": [],
   "source": [
    "def Z(ma, cbs, Lambda):\n",
    "#     return np.sqrt(BrBtoKaplus(ma, cbs, Lambda)/BrBtoKaplusForPrefactor(ma, cbs, Lambda))\n",
    "    return np.sqrt(prefactorFull(ma, cbs, Lambda))"
   ]
  },
  {
   "cell_type": "code",
   "execution_count": 160,
   "id": "f9e23275",
   "metadata": {},
   "outputs": [
    {
     "name": "stdout",
     "output_type": "stream",
     "text": [
      "783267.5583450677\n",
      "783267.5583450677\n",
      "783267.5583450677\n"
     ]
    }
   ],
   "source": [
    "ma=1\n",
    "cbs=2\n",
    "Lambda=4*np.pi*1000\n",
    "\n",
    "print(prefactorFull(ma, cbs, Lambda)*BrRest(ma))\n",
    "print(Z(ma, cbs, Lambda)**2*BrRest(ma))\n",
    "print(BrBtoKaplus(ma, cbs, Lambda))"
   ]
  },
  {
   "cell_type": "markdown",
   "id": "subjective-institution",
   "metadata": {},
   "source": [
    "### ALP branching ratios"
   ]
  },
  {
   "cell_type": "markdown",
   "id": "equivalent-denial",
   "metadata": {},
   "source": [
    "### decays under consideration encoded as\n",
    " - 0: e \n",
    " - 1: mu\n",
    " - 2: tau\n",
    " - 3: charm\n",
    " - 4: bottom\n",
    " - 5: photon\n",
    " - 6: hadron\n",
    " - 7: 3 pions"
   ]
  },
  {
   "cell_type": "code",
   "execution_count": 143,
   "id": "abroad-textbook",
   "metadata": {},
   "outputs": [],
   "source": [
    "def brALPtoOneFinalState(ma,finalStateCode,cQ,cu,cd,cL,ce,cGG,cWW,cBB,Lambda,lscsPassed=None):\n",
    "    print(\"Lambda=\",Lambda)\n",
    "    with HiddenPrints():\n",
    "        HC = OrderedDict()\n",
    "        HC['Q'] = np.array([[cQ,0,0],[0,cQ,0],[0,0,cQ]])\n",
    "        HC['u'] = -np.array([[cu,0,0],[0,cu,0],[0,0,cu]])\n",
    "        HC['d'] = -np.array([[cd,0,0],[0,cd,0],[0,0,cd]])\n",
    "        HC['L'] = np.array([[cL,0,0],[0,cL,0],[0,0,cL]])\n",
    "        HC['e'] = -np.array([[ce,0,0],[0,ce,0],[0,0,ce]])\n",
    "        HC['GG'] = cGG\n",
    "        HC['WW'] = cWW\n",
    "        HC['BB'] = cBB\n",
    "\n",
    "        brs = [[],[],[],[],[],[],[],[],[]]\n",
    "        \n",
    "        if (lscsPassed is not None):\n",
    "            lscs=lscsPassed\n",
    "        else:\n",
    "            if ma<1:\n",
    "                mu = 1\n",
    "            else:\n",
    "                mu=ma\n",
    "            lscs = TdAlps.RunRotateMatchRun(HC, Lambda, mu, 3)\n",
    "        \n",
    "#         print(\"mu= \",mu)\n",
    "#         print(\"readCee= \",readCee(lscs),\", readCmumu= \",readCmumu(lscs))\n",
    "#         print([ma,readCee(lscs),sm['me'],Lambda])\n",
    "#         print(\"Gamma_ll= \",Gammaatoll(ma,readCee(lscs),sm['me'],Lambda))\n",
    "        \n",
    "        brs[0].append(Gammaatoll(ma,readCee(lscs),sm['me'],Lambda))\n",
    "        brs[1].append(Gammaatoll(ma,readCmumu(lscs),sm['mmu'],Lambda))\n",
    "        try:\n",
    "            ctautau = readCtautau(lscs)\n",
    "        except IndexError:\n",
    "            ctautau = 0\n",
    "        brs[2].append(Gammaatoll(ma,ctautau,sm['mtau'],Lambda))\n",
    "        try:\n",
    "            ccc = readCcc(lscs)\n",
    "        except IndexError:\n",
    "            ccc = 0\n",
    "        brs[3].append(Gammaatoqq(ma,ccc,sm['mc'],Lambda))\n",
    "        try:\n",
    "            cbb = readCbb(lscs)\n",
    "        except IndexError:\n",
    "            cbb = 0\n",
    "        brs[4].append(Gammaatoqq(ma,cbb,sm['mb'],Lambda))\n",
    "        brs[5].append(Gammaatogamgam(ma,lscs,Lambda))\n",
    "        brs[6].append(Gammaatohad(ma,lscs,Lambda))\n",
    "        brs[7].append(Gammaato3pi000(ma,lscs,Lambda)+Gammaato3pi0pm(ma,lscs,Lambda))\n",
    "        brs[8].append(brs[0][-1]+brs[1][-1]+brs[2][-1]+brs[3][-1]+brs[4][-1]+brs[5][-1]\\\n",
    "                      +brs[6][-1]+brs[7][-1])\n",
    "            \n",
    "\n",
    "#         print(\"br[0][-1]= \",brs[0][-1])\n",
    "        \n",
    "        ctauAlp=constants['InvGeVtocm']/brs[8][-1]\n",
    "\n",
    "        return [brs[finalStateCode][-1]/brs[8][-1],ctauAlp]\n",
    "#         return [brs[finalStateCode][-1],ctauAlp]"
   ]
  },
  {
   "cell_type": "code",
   "execution_count": 144,
   "id": "efb2ba8e",
   "metadata": {},
   "outputs": [
    {
     "name": "stdout",
     "output_type": "stream",
     "text": [
      "Lambda= 12566.370614359172\n",
      "BR(a->e e)=  3.023535553558155e-07\n",
      "Lambda= 12566.370614359172\n",
      "BR(a->mu mu)=  0.009175505470266354\n",
      "Lambda= 12566.370614359172\n",
      "BR(a->tau tau)=  0.0\n",
      "Lambda= 12566.370614359172\n",
      "BR(a->c c)=  0.0\n",
      "Lambda= 12566.370614359172\n",
      "BR(a->b b)=  0.0\n",
      "Lambda= 12566.370614359172\n",
      "BR(a->gamma gamma)=  0.9908241921761783\n",
      "Lambda= 12566.370614359172\n",
      "BR(a->hadrons)=  0.0\n",
      "Lambda= 12566.370614359172\n",
      "BR(a-> 3 pions)=  0.0\n"
     ]
    }
   ],
   "source": [
    "print(\"BR(a->e e)= \",brALPtoOneFinalState(0.3,0,0,0,0,0,0,0,1,0,4*np.pi*1000)[0])\n",
    "print(\"BR(a->mu mu)= \",brALPtoOneFinalState(0.3,1,0,0,0,0,0,0,1,0,4*np.pi*1000)[0])\n",
    "print(\"BR(a->tau tau)= \",brALPtoOneFinalState(0.3,2,0,0,0,0,0,0,1,0,4*np.pi*1000)[0])\n",
    "print(\"BR(a->c c)= \",brALPtoOneFinalState(0.3,3,0,0,0,0,0,0,1,0,4*np.pi*1000)[0])\n",
    "print(\"BR(a->b b)= \",brALPtoOneFinalState(0.3,4,0,0,0,0,0,0,1,0,4*np.pi*1000)[0])\n",
    "print(\"BR(a->gamma gamma)= \",brALPtoOneFinalState(0.3,5,0,0,0,0,0,0,1,0,4*np.pi*1000)[0])\n",
    "print(\"BR(a->hadrons)= \",brALPtoOneFinalState(0.3,6,0,0,0,0,0,0,1,0,4*np.pi*1000)[0])\n",
    "print(\"BR(a-> 3 pions)= \",brALPtoOneFinalState(0.3,7,0,0,0,0,0,0,1,0,4*np.pi*1000)[0])"
   ]
  },
  {
   "cell_type": "code",
   "execution_count": 145,
   "id": "d9bd2c2a",
   "metadata": {},
   "outputs": [
    {
     "name": "stdout",
     "output_type": "stream",
     "text": [
      "Lambda= 12566.370614359172\n",
      "W(a->e e)=  3.023535553558155e-07\n",
      "Lambda= 12566.370614359172\n",
      "W(a->mu mu)=  0.009175505470266354\n",
      "Lambda= 12566.370614359172\n",
      "W(a->tau tau)=  0.0\n",
      "Lambda= 12566.370614359172\n",
      "W(a->c c)=  0.0\n",
      "Lambda= 12566.370614359172\n",
      "W(a->b b)=  0.0\n",
      "Lambda= 12566.370614359172\n",
      "W(a->gamma gamma)=  0.9908241921761783\n",
      "Lambda= 12566.370614359172\n",
      "W(a->hadrons)=  0.0\n",
      "Lambda= 12566.370614359172\n",
      "W(a-> 3 pions)=  0.0\n"
     ]
    }
   ],
   "source": [
    "print(\"W(a->e e)= \",brALPtoOneFinalState(0.3,0,0,0,0,0,0,0,1,0,4*np.pi*1000)[0])\n",
    "print(\"W(a->mu mu)= \",brALPtoOneFinalState(0.3,1,0,0,0,0,0,0,1,0,4*np.pi*1000)[0])\n",
    "print(\"W(a->tau tau)= \",brALPtoOneFinalState(0.3,2,0,0,0,0,0,0,1,0,4*np.pi*1000)[0])\n",
    "print(\"W(a->c c)= \",brALPtoOneFinalState(0.3,3,0,0,0,0,0,0,1,0,4*np.pi*1000)[0])\n",
    "print(\"W(a->b b)= \",brALPtoOneFinalState(0.3,4,0,0,0,0,0,0,1,0,4*np.pi*1000)[0])\n",
    "print(\"W(a->gamma gamma)= \",brALPtoOneFinalState(0.3,5,0,0,0,0,0,0,1,0,4*np.pi*1000)[0])\n",
    "print(\"W(a->hadrons)= \",brALPtoOneFinalState(0.3,6,0,0,0,0,0,0,1,0,4*np.pi*1000)[0])\n",
    "print(\"W(a-> 3 pions)= \",brALPtoOneFinalState(0.3,7,0,0,0,0,0,0,1,0,4*np.pi*1000)[0])"
   ]
  },
  {
   "cell_type": "markdown",
   "id": "worse-overall",
   "metadata": {},
   "source": [
    "## Generate [ma, tau, c, BR(theory)] files"
   ]
  },
  {
   "cell_type": "code",
   "execution_count": 146,
   "id": "elder-order",
   "metadata": {},
   "outputs": [],
   "source": [
    "def generateLHCbFiles(mlist,clist,process,Lambda):\n",
    "    \n",
    "    with HiddenPrints():\n",
    "    \n",
    "        lhcbList=[['# m [GeV], tau [ps], c, BR_theo(B->K mu mu)\\n']]\n",
    "#         print(\"start\")\n",
    "\n",
    "        for ma in mlist:\n",
    "            for c in clist:\n",
    "\n",
    "#                 if process in ['cff=cWW=cBB']:\n",
    "#                     #print(\"1\")\n",
    "#                     cQ=cL=cWW=cBB=cff=c\n",
    "#                     ce=cd=cu=-c\n",
    "#                     cGG=0\n",
    "\n",
    "                if process in ['cWW']:\n",
    "                    #print(\"2\")\n",
    "                    cQ=cL=cu=cd=ce=cGG=cBB=cff=0\n",
    "                    cWW=c\n",
    "\n",
    "\n",
    "                if process in ['cff']:\n",
    "                    #print(\"3\")\n",
    "                    cGG=cWW=cBB=0\n",
    "                    cQ=cL=cff=c\n",
    "                    ce=cd=cu=c\n",
    "\n",
    "                coefs=getLScoefficients(cff, cWW, cBB, Lambda, ma)\n",
    "                cbs=getCbs(cff, cWW, cBB, Lambda, sm['mB+'])\n",
    "#                 print(\"ma= \",ma,\", cff= \",cff,\", cWW= \",cWW,\", cBB= \",cBB,\", cbs= \",cbs)\n",
    "\n",
    "                BR= BrBtoKaplus(ma, cbs, Lambda) \\\n",
    "                *brALPtoOneFinalState(ma,1,cQ,cu,cd,cL,ce,cGG,cWW,cBB,Lambda,None)[0]\n",
    "                tau=ctaua(ma, cff, cWW, cBB, Lambda)/sm['c']*10**12\n",
    "\n",
    "                lhcbList.append([ma,tau,c,BR])\n",
    "        return lhcbList"
   ]
  },
  {
   "cell_type": "code",
   "execution_count": 147,
   "id": "4e5888bb",
   "metadata": {},
   "outputs": [],
   "source": [
    "def generateLHCbPromptFiles(mlist,clist,process,Lambda):\n",
    "    \n",
    "    with HiddenPrints():\n",
    "    \n",
    "        lhcbList=[['# m [GeV], tau [ps], c, BR_theo(B0->K0 mu mu)\\n']]\n",
    "#         print(\"start\")\n",
    "\n",
    "        for ma in mlist:\n",
    "            for c in clist:\n",
    "\n",
    "#                 if process in ['cff=cWW=cBB']:\n",
    "#                     #print(\"1\")\n",
    "#                     cQ=cL=cWW=cBB=cff=c\n",
    "#                     ce=cd=cu=-c\n",
    "#                     cGG=0\n",
    "\n",
    "                if process in ['cWW']:\n",
    "                    #print(\"2\")\n",
    "                    cQ=cL=cu=cd=ce=cGG=cBB=cff=0\n",
    "                    cWW=c\n",
    "\n",
    "\n",
    "                if process in ['cff']:\n",
    "                    #print(\"3\")\n",
    "                    cGG=cWW=cBB=0\n",
    "                    cQ=cL=cff=c\n",
    "                    ce=cd=cu=c\n",
    "\n",
    "                coefs=getLScoefficients(cff, cWW, cBB, Lambda, ma)\n",
    "                cbs=getCbs(cff, cWW, cBB, Lambda, sm['mB+'])\n",
    "#                 print(\"ma= \",ma,\", cff= \",cff,\", cWW= \",cWW,\", cBB= \",cBB,\", cbs= \",cbs)\n",
    "\n",
    "                BR= BrB0toK0aplus(ma, cbs, Lambda) \\\n",
    "                *brALPtoOneFinalState(ma,1,cQ,cu,cd,cL,ce,cGG,cWW,cBB,Lambda,None)[0]\n",
    "                tau=ctaua(ma, cff, cWW, cBB, Lambda)/sm['c']*10**12\n",
    "\n",
    "                lhcbList.append([ma,tau,c,BR])\n",
    "        return lhcbList"
   ]
  },
  {
   "cell_type": "code",
   "execution_count": 148,
   "id": "f68d54d4",
   "metadata": {},
   "outputs": [],
   "source": [
    "def cbsFromFundamentalCouplings(cff,cWW,Lambda,ma):\n",
    "    \n",
    "    coefs=getLScoefficients(cff, cWW, 0, Lambda, ma)\n",
    "    cbs=getCbs(cff, cWW, 0, Lambda, sm['mB+'])\n",
    "    \n",
    "    return cbs"
   ]
  },
  {
   "cell_type": "code",
   "execution_count": 161,
   "id": "8907e83b",
   "metadata": {},
   "outputs": [
    {
     "name": "stdout",
     "output_type": "stream",
     "text": [
      "couplings= [0.001, 0.01, 0.1, 1, 10, 100] \n",
      "\n",
      "ma=0.1, Z (cff)= [0.00016493418569920505, 0.0016516939184713436, 0.016543986373574456, 0.16548452949848616, 1.6548926251859832, 16.54897386171099] \n",
      "\n",
      "ma=0.1, Z (cWW)= [5.222286802147952e-07, 5.222286738670267e-06, 5.222285806968282e-05, 0.0005231912651072082, 0.005226151478824267, 0.05217988235688306] \n",
      "\n"
     ]
    }
   ],
   "source": [
    "couplingstest=[10**-3,10**-2,10**-1,1,10**1,10**2]\n",
    "\n",
    "print(\"couplings=\",couplingstest,\"\\n\")\n",
    "\n",
    "ZZ=[]\n",
    "for c in couplingstest:\n",
    "    ZZ.append(Z(0.1,(cbsFromFundamentalCouplings(c/2,0,4*np.pi*1000,0.1)),4*np.pi*1000))\n",
    "print(\"ma=0.1, Z (cff)=\",ZZ,\"\\n\")\n",
    "\n",
    "ZZ=[]\n",
    "for c in couplingstest:\n",
    "    ZZ.append(Z(0.1,(cbsFromFundamentalCouplings(0,c,4*np.pi*1000,0.1)),4*np.pi*1000))\n",
    "print(\"ma=0.1, Z (cWW)=\",ZZ,\"\\n\")"
   ]
  },
  {
   "cell_type": "code",
   "execution_count": 162,
   "id": "df793273",
   "metadata": {},
   "outputs": [
    {
     "name": "stdout",
     "output_type": "stream",
     "text": [
      "couplings= [0.001, 0.01, 0.1, 1, 10, 100] \n",
      "\n",
      "ma=1, Z (cff)= [0.00016967390077122393, 0.0016991586604019077, 0.0170194110481723, 0.1702400598048616, 1.7024492883781226, 17.024541861797072] \n",
      "\n",
      "ma=1, Z (cWW)= [5.372359701599415e-07, 5.372359636297571e-06, 5.372358677821258e-05, 0.0005382262168624476, 0.005376335437521657, 0.053679376071995154] \n",
      "\n",
      "ma=1, Z (cWW)/Z (cff)= [0.0031662852549391896, 0.0031617763317210346, 0.0031566066902169276, 0.003161572061707402, 0.003158000343518923, 0.0031530584792094298] \n",
      "\n"
     ]
    }
   ],
   "source": [
    "couplingstest=[10**-3,10**-2,10**-1,1,10**1,10**2]\n",
    "\n",
    "print(\"couplings=\",couplingstest,\"\\n\")\n",
    "\n",
    "ZZ=[]\n",
    "for c in couplingstest:\n",
    "    ZZ.append(Z(1,cbsFromFundamentalCouplings(c/2,0,4*np.pi*1000,1),4*np.pi*1000))\n",
    "print(\"ma=1, Z (cff)=\",ZZ,\"\\n\")\n",
    "\n",
    "ZZ=[]\n",
    "for c in couplingstest:\n",
    "    ZZ.append(Z(1,cbsFromFundamentalCouplings(0,c,4*np.pi*1000,1),4*np.pi*1000))\n",
    "print(\"ma=1, Z (cWW)=\",ZZ,\"\\n\")\n",
    "\n",
    "ZZ=[]\n",
    "for c in couplingstest:\n",
    "    ZZ.append(Z(1,cbsFromFundamentalCouplings(0,c,4*np.pi*1000,1),4*np.pi*1000)/\\\n",
    "             Z(1,cbsFromFundamentalCouplings(c/2,0,4*np.pi*1000,1),4*np.pi*1000))\n",
    "print(\"ma=1, Z (cWW)/Z (cff)=\",ZZ,\"\\n\")"
   ]
  },
  {
   "cell_type": "code",
   "execution_count": 163,
   "id": "ca785da1",
   "metadata": {},
   "outputs": [
    {
     "name": "stdout",
     "output_type": "stream",
     "text": [
      "couplings= [0.001, 0.01, 0.1, 1, 10, 100] \n",
      "\n",
      "ma=0.1, Z (cff)= 2 \n",
      "\n",
      "ma=0.1, Z (cWW)= 2 \n",
      "\n"
     ]
    }
   ],
   "source": [
    "couplingstest=[10**-3,10**-2,10**-1,1,10**1,10**2]\n",
    "\n",
    "print(\"couplings=\",couplingstest,\"\\n\")\n",
    "\n",
    "BR=[]\n",
    "for c in couplingstest:\n",
    "    BR.append(Z(0.1,(cbsFromFundamentalCouplings(c/2,0,4*np.pi*1000,0.1)),4*np.pi*1000))\n",
    "print(\"ma=0.1, Z (cff)=\",cbs,\"\\n\")\n",
    "\n",
    "BR=[]\n",
    "for c in couplingstest:\n",
    "    BR.append(Z(0.1,(cbsFromFundamentalCouplings(0,c,4*np.pi*1000,0.1)),4*np.pi*1000))\n",
    "print(\"ma=0.1, Z (cWW)=\",cbs,\"\\n\")"
   ]
  },
  {
   "cell_type": "code",
   "execution_count": 164,
   "id": "d4041aeb",
   "metadata": {},
   "outputs": [
    {
     "name": "stdout",
     "output_type": "stream",
     "text": [
      "ma=1, cbs (cff/cWW)= [315.819687135869, 315.8196871359109, 315.8196871360906, 315.81968713687843, 315.8196871402961, 315.81968715514716, 315.8196872194648, 315.8196874969898, 315.8196886883063, 315.81969380261484, 315.8197167047133, 315.81984042932964, 315.8207740688215, 315.8285227008063, 315.87397097844257, 316.01809837445523, 316.2590485281454, 316.5019993620922, 316.6773638416653, 316.7813849905857, 316.8350913233808, 316.83262758945995, 316.57106966491676, 316.63361000169823, 316.53963681918106] \n",
      "\n"
     ]
    }
   ],
   "source": [
    "cbs=[]\n",
    "for c in couplingListShort:\n",
    "    cbs.append(abs(cbsFromFundamentalCouplings(c/2,0,4*np.pi*1000,1))/\\\n",
    "               abs(cbsFromFundamentalCouplings(0,c,4*np.pi*1000,1)))\n",
    "print(\"ma=1, cbs (cff/cWW)=\",cbs,\"\\n\")"
   ]
  },
  {
   "cell_type": "code",
   "execution_count": 173,
   "id": "aa2968b6",
   "metadata": {},
   "outputs": [
    {
     "name": "stdout",
     "output_type": "stream",
     "text": [
      "prefactors= 0.10984127865087212  ,  0.11629351219030075  ,  0.1098412786508721\n",
      "ma= 0.05 ; Kaon form factor f= 0.3290232196956104\n",
      "BRSimp(B+ -> K+ a)= 0.12037322155297016\n",
      "cff= 2 cWW= 1 ; ma= 0.05 ; cbs= (-0.0007561761686495232-1.4160759116206098e-05j) ;\n",
      " BR(B+ -> K+ a)= 0.10983116386371461 ; tau(a)= 1030.7342802934315 [ps]\n",
      "\n",
      "prefactors= 0.10991511624745383  ,  0.11629351219030075  ,  0.10991511624745381\n",
      "ma= 0.12 ; Kaon form factor f= 0.32913378924947473\n",
      "BRSimp(B+ -> K+ a)= 0.12032045339177583\n",
      "cff= 2 cWW= 1 ; ma= 0.12 ; cbs= (-0.0007561761686495232-1.4160759116206098e-05j) ;\n",
      " BR(B+ -> K+ a)= 0.109856815469578 ; tau(a)= 428.3988903556473 [ps]\n",
      "\n",
      "prefactors= 0.1101545046935545  ,  0.11629351219030075  ,  0.11015450469355452\n",
      "ma= 0.23 ; Kaon form factor f= 0.3294920110086901\n",
      "BRSimp(B+ -> K+ a)= 0.12014972740924328\n",
      "cff= 2 cWW= 1 ; ma= 0.23 ; cbs= (-0.0007561761686495232-1.4160759116206098e-05j) ;\n",
      " BR(B+ -> K+ a)= 0.10993985860501578 ; tau(a)= 0.013272888079232003 [ps]\n",
      "\n"
     ]
    }
   ],
   "source": [
    "Lambda=4*np.pi*1000\n",
    "cff=2\n",
    "cBB=0\n",
    "cWW=1\n",
    "\n",
    "for ma in [50*10**(-3),120*10**(-3),230*10**(-3)]:\n",
    "\n",
    "    cbs=cbsFromFundamentalCouplings(cff/2,cWW,Lambda,ma)\n",
    "\n",
    "    BR= BrBtoKaplus(ma, cbs, Lambda)\n",
    "    tau=ctaua(ma, cff/2, cWW, cBB, Lambda)/sm['c']*10**12\n",
    "    \n",
    "    print(\"prefactors=\",prefactorFull(ma, cbs, Lambda),\" , \", prefactorSimp(ma, cff, cWW),\" , \",\\\n",
    "          Z(ma, cbs, Lambda)**2)\n",
    "    print(\"ma=\",ma,\"; Kaon form factor f=\", formFactorFzeroBplus(ma**2))\n",
    "    print(\"BRSimp(B+ -> K+ a)=\",BrBtoKaplusSimpl(ma, cff, cWW))\n",
    "    print(\"cff=\",cff,\"cWW=\",cWW, \"; ma=\",ma, \"; cbs=\",cbs,\\\n",
    "          \";\\n BR(B+ -> K+ a)=\",BR,\"; tau(a)=\",tau, \"[ps]\\n\")"
   ]
  },
  {
   "cell_type": "code",
   "execution_count": 41,
   "id": "upset-audience",
   "metadata": {},
   "outputs": [],
   "source": [
    "meshcWWcheck=generateLHCbFiles(masslistcWWcheck,couplingListcWWcheck,'cWW',4*np.pi*10**3)"
   ]
  },
  {
   "cell_type": "code",
   "execution_count": 42,
   "id": "4217d99e",
   "metadata": {},
   "outputs": [],
   "source": [
    "with open(\"output/m-tau-c-BRBtoKmumu-cWWcheck.dat\", \"w\", newline=\"\") as f:\n",
    "    writer = csv.writer(f,delimiter=\",\", quoting = csv.QUOTE_NONE,escapechar=' ')\n",
    "    writer.writerows(meshcWWcheck)"
   ]
  },
  {
   "cell_type": "code",
   "execution_count": 47,
   "id": "cffa224e",
   "metadata": {},
   "outputs": [
    {
     "data": {
      "text/plain": [
       "'/home/stasya/prj/alps-BelleII/python'"
      ]
     },
     "execution_count": 47,
     "metadata": {},
     "output_type": "execute_result"
    }
   ],
   "source": [
    "os.getcwd()"
   ]
  },
  {
   "cell_type": "code",
   "execution_count": 48,
   "id": "4c567c99",
   "metadata": {},
   "outputs": [],
   "source": [
    "os.chdir(\"/home/stasya/prj/alps-BelleII/python/\")"
   ]
  },
  {
   "cell_type": "code",
   "execution_count": 14,
   "id": "spatial-accent",
   "metadata": {
    "scrolled": true
   },
   "outputs": [],
   "source": [
    "meshcWW=generateLHCbFiles(masslist,couplingListcWW,'cWW',4*np.pi*10**3)\n",
    "meshcff=generateLHCbFiles(masslist,couplingListcff,'cff',4*np.pi*10**3)"
   ]
  },
  {
   "cell_type": "code",
   "execution_count": 15,
   "id": "graphic-arbitration",
   "metadata": {},
   "outputs": [],
   "source": [
    "        \n",
    "with open(\"output/m-tau-c-BRBtoKmumu-cWW_fine.dat\", \"w\", newline=\"\") as f:\n",
    "    writer = csv.writer(f,delimiter=\",\", quoting = csv.QUOTE_NONE,escapechar=' ')\n",
    "    writer.writerows(meshcWW)\n",
    "    \n",
    "with open(\"output/m-tau-c-BRBtoKmumu-cff_fine.dat\", \"w\", newline=\"\") as f:\n",
    "    writer = csv.writer(f,delimiter=\",\", quoting = csv.QUOTE_NONE,escapechar=' ')\n",
    "    writer.writerows(meshcff)"
   ]
  },
  {
   "cell_type": "markdown",
   "id": "93c73cb5",
   "metadata": {},
   "source": [
    "# prompt search files generator"
   ]
  },
  {
   "cell_type": "code",
   "execution_count": 56,
   "id": "3d4a8be2",
   "metadata": {},
   "outputs": [
    {
     "name": "stderr",
     "output_type": "stream",
     "text": [
      "/tmp/ipykernel_24590/2779438533.py:3: RuntimeWarning: invalid value encountered in sqrt\n",
      "  * (sm['mB0']**2-sm['mK0']**2)**2/sm['mB0']**3 * np.sqrt(sm['mB0']**4+sm['mK0']**4+ma**4\\\n"
     ]
    }
   ],
   "source": [
    "meshcWWprompt=generateLHCbPromptFiles(masslistPrompt,couplingListcWWprompt,'cWW',4*np.pi*10**3)\n",
    "meshcffprompt=generateLHCbPromptFiles(masslistPrompt,couplingListcff,'cff',4*np.pi*10**3)"
   ]
  },
  {
   "cell_type": "code",
   "execution_count": 57,
   "id": "ece70268",
   "metadata": {},
   "outputs": [],
   "source": [
    "with open(\"output/m-tau-c-BRBtoKmumu-cWW-prompt.dat\", \"w\", newline=\"\") as f:\n",
    "    writer = csv.writer(f,delimiter=\",\", quoting = csv.QUOTE_NONE,escapechar=' ')\n",
    "    writer.writerows(meshcWWprompt)\n",
    "    \n",
    "with open(\"output/m-tau-c-BRBtoKmumu-cff-prompt.dat\", \"w\", newline=\"\") as f:\n",
    "    writer = csv.writer(f,delimiter=\",\", quoting = csv.QUOTE_NONE,escapechar=' ')\n",
    "    writer.writerows(meshcffprompt)"
   ]
  },
  {
   "cell_type": "code",
   "execution_count": null,
   "id": "7b8e0cbd",
   "metadata": {},
   "outputs": [],
   "source": []
  }
 ],
 "metadata": {
  "kernelspec": {
   "display_name": "Python 3 (ipykernel)",
   "language": "python",
   "name": "python3"
  },
  "language_info": {
   "codemirror_mode": {
    "name": "ipython",
    "version": 3
   },
   "file_extension": ".py",
   "mimetype": "text/x-python",
   "name": "python",
   "nbconvert_exporter": "python",
   "pygments_lexer": "ipython3",
   "version": "3.9.7"
  }
 },
 "nbformat": 4,
 "nbformat_minor": 5
}
