{
 "cells": [
  {
   "cell_type": "markdown",
   "id": "through-captain",
   "metadata": {},
   "source": [
    "Units used: GeV for masses, s for time, cm for distances"
   ]
  },
  {
   "cell_type": "code",
   "execution_count": 3,
   "id": "political-fault",
   "metadata": {},
   "outputs": [],
   "source": [
    "import glob\n",
    "import matplotlib as mlib\n",
    "import matplotlib.pyplot as plt\n",
    "import numpy as np\n",
    "from numpy import genfromtxt\n",
    "from numpy import loadtxt\n",
    "import re\n",
    "import csv\n",
    "import matplotlib.colors as mcolors\n",
    "import matplotlib.cm as cm\n",
    "import matplotlib.patches as mpatches\n",
    "\n",
    "import sys\n",
    "sys.path.insert(1, '/home/stasya/prj/alps-running/TdAlps-Internal/')\n",
    "import TdAlps\n",
    "from collections import OrderedDict\n",
    "\n",
    "import scipy.integrate as integrate\n",
    "import scipy.optimize as optimize\n",
    "\n",
    "import csv"
   ]
  },
  {
   "cell_type": "code",
   "execution_count": 4,
   "id": "foreign-nancy",
   "metadata": {},
   "outputs": [],
   "source": [
    "#Plotting settings\n",
    "\n",
    "font = {\n",
    "        'weight' : 'normal',\n",
    "        'size'   : 16}\n",
    "\n",
    "mlib.rc('font', **font)"
   ]
  },
  {
   "cell_type": "code",
   "execution_count": 5,
   "id": "spanish-explosion",
   "metadata": {},
   "outputs": [],
   "source": [
    "import os, sys\n",
    "\n",
    "class HiddenPrints:\n",
    "    def __enter__(self):\n",
    "        self._original_stdout = sys.stdout\n",
    "        sys.stdout = open(os.devnull, 'w')\n",
    "\n",
    "    def __exit__(self, exc_type, exc_val, exc_tb):\n",
    "        sys.stdout.close()\n",
    "        sys.stdout = self._original_stdout"
   ]
  },
  {
   "cell_type": "code",
   "execution_count": 6,
   "id": "developed-america",
   "metadata": {},
   "outputs": [],
   "source": [
    "constants={\n",
    "    'InvGeVtocm': 1/(5.06 * 10**(13))\n",
    "}"
   ]
  },
  {
   "cell_type": "code",
   "execution_count": 7,
   "id": "appropriate-ivory",
   "metadata": {},
   "outputs": [],
   "source": [
    "sm={\n",
    "    'GF': 1.166*10**(-5),\n",
    "    'sw': np.sqrt(0.231),\n",
    "    'hbar': 6.582*10**(-25),\n",
    "    'c': 3*10**10,\n",
    "    'alpha': 1/137,\n",
    "    'Vtb': 0.999,\n",
    "    'Vts': 0.0404,\n",
    "    'Xt': 1.469,\n",
    "    'BrBtoKnunu+': 4.5*10**(-6),\n",
    "    'NBBBaBar': 471*10**6,\n",
    "    'NBBBelleII': 5*10**10,\n",
    "    'me': 0.000511,\n",
    "    'mmu': 0.1056,\n",
    "    'mtau': 1.777,\n",
    "    'mu': 2.2/1000,\n",
    "    'md': 4.7/1000,\n",
    "    'ms': 95/1000,\n",
    "    'mc': 1.275,\n",
    "    'mb': 4.18,\n",
    "    'mt': 173,\n",
    "    'mZ': 91.19,\n",
    "    'mB+': 5.279,\n",
    "    'mK+': 0.494,\n",
    "    'tauB+': 1.638*10**(-12),\n",
    "    'ctauB+': 3 * 10**10 * 1.638*10**(-12),\n",
    "    'GammaB+': 6.582*10**(-25)/(10**(-12) * 1.638)\n",
    "}"
   ]
  },
  {
   "cell_type": "code",
   "execution_count": 8,
   "id": "controlling-newman",
   "metadata": {},
   "outputs": [],
   "source": [
    "BelleIIparams={\n",
    "    'gammaBoostB': 1.03029,\n",
    "    'RCDC': 60, #cm\n",
    "    'thetaCDCMin': np.deg2rad(17),\n",
    "    'thetaCDCMax': np.deg2rad(150),\n",
    "    'dres': 0.9,\n",
    "    'NBBelleII': 5*10**10\n",
    "}"
   ]
  },
  {
   "cell_type": "code",
   "execution_count": 9,
   "id": "final-router",
   "metadata": {},
   "outputs": [],
   "source": [
    "def f(Lambda):\n",
    "    return Lambda/(4 * np.pi)"
   ]
  },
  {
   "cell_type": "code",
   "execution_count": 10,
   "id": "virtual-hepatitis",
   "metadata": {},
   "outputs": [],
   "source": [
    "def fz(t):\n",
    "    tplus = (sm['mB+']+sm['mK+'])**2\n",
    "    tminus = (sm['mB+']-sm['mK+'])**2\n",
    "    tzero = tplus * (1-np.sqrt(1-tminus/tplus))\n",
    "    return (np.sqrt(tplus-t) - np.sqrt(tplus-tzero))/(np.sqrt(tplus-t) + np.sqrt(tplus-tzero))\n",
    "\n",
    "def formFactorFplusBplus(qsqr):\n",
    "    tmp = 0.329\n",
    "    tmp += -0.876 * (fz(qsqr) - fz(0))\n",
    "    tmp += 0.006 * (fz(qsqr) - fz(0))**2\n",
    "    tmp = tmp/(1-qsqr/5.325**2)\n",
    "    return tmp\n",
    "\n",
    "def formFactorFzeroBplus(qsqr):\n",
    "    tmp = 0.329\n",
    "    tmp += 0.195 * (fz(qsqr) - fz(0))\n",
    "    tmp += -0.446 * (fz(qsqr) - fz(0))**2\n",
    "    tmp = tmp/(1-qsqr/5.54**2)\n",
    "    return tmp"
   ]
  },
  {
   "cell_type": "markdown",
   "id": "attached-overhead",
   "metadata": {},
   "source": [
    "## based on https://github.com/rrschaefer/alps (formulas taken from 2012.12272 and 1708.00443)"
   ]
  },
  {
   "cell_type": "markdown",
   "id": "recorded-static",
   "metadata": {},
   "source": [
    "### Alps running implemented in https://github.com/TdAlps"
   ]
  },
  {
   "cell_type": "code",
   "execution_count": 11,
   "id": "systematic-gibraltar",
   "metadata": {},
   "outputs": [],
   "source": [
    "def getLScoefficients(cff, cww, cbb, Lambda, mu):\n",
    "    HC = OrderedDict()\n",
    "    HC['Q'] = np.array([[cff,0,0],[0,cff,0],[0,0,cff]])\n",
    "    HC['u'] = np.array([[-cff,0,0],[0,-cff,0],[0,0,-cff]])\n",
    "    HC['d'] = np.array([[-cff,0,0],[0,-cff,0],[0,0,-cff]])\n",
    "    HC['L'] = np.array([[cff,0,0],[0,cff,0],[0,0,cff]])\n",
    "    HC['e'] = np.array([[-cff,0,0],[0,-cff,0],[0,0,-cff]])\n",
    "    HC['GG'] = 0\n",
    "    HC['WW'] = cww\n",
    "    HC['BB'] = cbb\n",
    "    return TdAlps.RunRotateMatchRun(HC, Lambda, mu, 3)\n",
    "\n",
    "\n",
    "def getCuu(cff, cww, cbb, Lambda, mu):\n",
    "    coeffs = getLScoefficients(cff, cww, cbb, Lambda, mu)\n",
    "    return coeffs['U'][0][0]-coeffs['u'][0][0]\n",
    "\n",
    "def getCcc(cff, cww, cbb, Lambda, mu):\n",
    "    coeffs = getLScoefficients(cff, cww, cbb, Lambda, mu)\n",
    "    return coeffs['U'][1][1]-coeffs['u'][1][1]\n",
    "\n",
    "def getCtt(cff, cww, cbb, Lambda, mu):\n",
    "    coeffs = getLScoefficients(cff, cww, cbb, Lambda, mu)\n",
    "    return coeffs['U'][2][2]-coeffs['u'][2][2]\n",
    "\n",
    "def getCdd(cff, cww, cbb, Lambda, mu):\n",
    "    coeffs = getLScoefficients(cff, cww, cbb, Lambda, mu)\n",
    "    return coeffs['D'][0][0]-coeffs['d'][0][0]\n",
    "\n",
    "def getCss(cff, cww, cbb, Lambda, mu):\n",
    "    coeffs = getLScoefficients(cff, cww, cbb, Lambda, mu)\n",
    "    return coeffs['D'][1][1]-coeffs['d'][1][1]\n",
    "\n",
    "def getCbb(cff, cww, cbb, Lambda, mu):\n",
    "    coeffs = getLScoefficients(cff, cww, cbb, Lambda, mu)\n",
    "    return coeffs['D'][2][2]-coeffs['d'][2][2]\n",
    "\n",
    "def getCGG(cff, cww, cbb, Lambda, mu):\n",
    "    coeffs = getLScoefficients(cff, cww, cbb, Lambda, mu)\n",
    "    return coeffs['GG']\n",
    "\n",
    "def getCgg(cff, cww, cbb, Lambda, mu):\n",
    "    coeffs = getLScoefficients(cff, cww, cbb, Lambda, mu)\n",
    "    return coeffs['gamgam']\n",
    "\n",
    "def getCee(cff, cww, cbb, Lambda, mu):\n",
    "    coeffs = getLScoefficients(cff, cww, cbb, Lambda, mu)\n",
    "    return coeffs['E'][0][0]-coeffs['e'][0][0]\n",
    "\n",
    "def getCmumu(cff, cww, cbb, Lambda, mu):\n",
    "    coeffs = getLScoefficients(cff, cww, cbb, Lambda, mu)\n",
    "    return coeffs['E'][1][1]-coeffs['e'][1][1]\n",
    "\n",
    "def getCtautau(cff, cww, cbb, Lambda, mu):\n",
    "    coeffs = getLScoefficients(cff, cww, cbb, Lambda, mu)\n",
    "    return coeffs['E'][2][2]-coeffs['e'][2][2]\n",
    "\n",
    "def getCbs(cff, cww, cbb, Lambda, mu):\n",
    "    coeffs = getLScoefficients(cff, cww, cbb, Lambda, mu)\n",
    "    return coeffs['D'][2][1]-coeffs['d'][2][1]\n",
    "\n",
    "def getAlphaEM(cff, cww, cbb, Lambda, mu):\n",
    "    coeffs = getLScoefficients(cff, cww, cbb, Lambda, mu)\n",
    "    return coeffs['aEM']\n",
    "\n",
    "def getAlphaS(cff, cww, cbb, Lambda, mu):\n",
    "    coeffs = getLScoefficients(cff, cww, cbb, Lambda, mu)\n",
    "    return coeffs['a3']\n",
    "\n",
    "\n",
    "def readCuu(coeffs):\n",
    "    return coeffs['U'][0][0]-coeffs['u'][0][0]\n",
    "\n",
    "def readCcc(coeffs):\n",
    "    return coeffs['U'][1][1]-coeffs['u'][1][1]\n",
    "\n",
    "def readCtt(coeffs):\n",
    "    return coeffs['U'][2][2]-coeffs['u'][2][2]\n",
    "\n",
    "def readCdd(coeffs):\n",
    "    return coeffs['D'][0][0]-coeffs['d'][0][0]\n",
    "\n",
    "def readCss(coeffs):\n",
    "    return coeffs['D'][1][1]-coeffs['d'][1][1]\n",
    "\n",
    "def readCbb(coeffs):\n",
    "    return coeffs['D'][2][2]-coeffs['d'][2][2]\n",
    "\n",
    "def readCGG(coeffs):\n",
    "    return coeffs['GG']\n",
    "\n",
    "def readCgg(coeffs):\n",
    "    return coeffs['gamgam']\n",
    "\n",
    "def readCee(coeffs):\n",
    "    return coeffs['E'][0][0]-coeffs['e'][0][0]\n",
    "\n",
    "def readCmumu(coeffs):\n",
    "    return coeffs['E'][1][1]-coeffs['e'][1][1]\n",
    "\n",
    "def readCtautau(coeffs):\n",
    "    return coeffs['E'][2][2]-coeffs['e'][2][2]\n",
    "\n",
    "def readCbs(coeffs):\n",
    "    return coeffs['D'][2][1]-coeffs['d'][2][1]\n",
    "\n",
    "def readAlphaEM(coeffs):\n",
    "    return coeffs['aEM']\n",
    "\n",
    "def readAlphaS(coeffs):\n",
    "    return coeffs['a3']\n",
    "\n",
    "def printLowScaleCoef(coeffs):\n",
    "    print(\"readCuu = {0}\\n readCcc = {1}\\n readCdd = {2}\\n readCss = {3}\\n readCbb = {4}\\n\".format(readCuu(coeffs),readCcc(coeffs),readCdd(coeffs),readCss(coeffs),readCbb(coeffs)))  "
   ]
  },
  {
   "cell_type": "code",
   "execution_count": 12,
   "id": "sixth-worship",
   "metadata": {},
   "outputs": [],
   "source": [
    "testCoeff= getLScoefficients(1, 0.5, 0, 10**3, 5)#(cff, cww, cbb, Lambda, mu)"
   ]
  },
  {
   "cell_type": "code",
   "execution_count": 13,
   "id": "numerous-purpose",
   "metadata": {},
   "outputs": [
    {
     "data": {
      "text/plain": [
       "(0.0006075064977644085+1.1376652072672074e-05j)"
      ]
     },
     "execution_count": 13,
     "metadata": {},
     "output_type": "execute_result"
    }
   ],
   "source": [
    "readCbs(getLScoefficients(1, 0, 0, 10**3, 5))"
   ]
  },
  {
   "cell_type": "code",
   "execution_count": 14,
   "id": "unknown-degree",
   "metadata": {},
   "outputs": [
    {
     "data": {
      "text/plain": [
       "(0.0006093904735977875+1.141193290941793e-05j)"
      ]
     },
     "execution_count": 14,
     "metadata": {},
     "output_type": "execute_result"
    }
   ],
   "source": [
    "getCbs(1, 0.5, 0, 10**3, 5)"
   ]
  },
  {
   "cell_type": "code",
   "execution_count": 15,
   "id": "short-sport",
   "metadata": {},
   "outputs": [
    {
     "data": {
      "text/plain": [
       "(0.5+0j)"
      ]
     },
     "execution_count": 15,
     "metadata": {},
     "output_type": "execute_result"
    }
   ],
   "source": [
    "readCgg(testCoeff)"
   ]
  },
  {
   "cell_type": "code",
   "execution_count": 16,
   "id": "organic-execution",
   "metadata": {},
   "outputs": [
    {
     "data": {
      "text/plain": [
       "(0.009355856842486333+0j)"
      ]
     },
     "execution_count": 16,
     "metadata": {},
     "output_type": "execute_result"
    }
   ],
   "source": [
    "readAlphaEM(testCoeff)"
   ]
  },
  {
   "cell_type": "code",
   "execution_count": 17,
   "id": "protective-tournament",
   "metadata": {},
   "outputs": [
    {
     "name": "stdout",
     "output_type": "stream",
     "text": [
      "readCuu = (1.8074145610334433-1.236002685836065e-23j)\n",
      " readCcc = (1.8074145610334433-1.236002685836065e-23j)\n",
      " readCdd = (1.9849201641117094-1.6989130428214282e-21j)\n",
      " readCss = (1.9848961320794243+3.3757792145663177e-21j)\n",
      " readCbb = (1.9702061679936684-1.2352574450883817e-23j)\n",
      "\n"
     ]
    }
   ],
   "source": [
    "printLowScaleCoef(testCoeff)"
   ]
  },
  {
   "cell_type": "markdown",
   "id": "heavy-delight",
   "metadata": {},
   "source": [
    "### ALP and B-> Ka decay rates"
   ]
  },
  {
   "cell_type": "code",
   "execution_count": 18,
   "id": "manual-reproduction",
   "metadata": {},
   "outputs": [],
   "source": [
    "def nq(ma):\n",
    "    if ma>2*sm['mt']:\n",
    "        return 6\n",
    "    elif ma>=2*sm['mb']:\n",
    "        return 5\n",
    "    elif ma>=2*sm['mc']:\n",
    "        return 4\n",
    "    elif ma>=2*sm['ms']:\n",
    "        return 3\n",
    "    elif ma>=2*sm['md']:\n",
    "        return 2\n",
    "    elif ma>=2*sm['mu']:\n",
    "        return 1\n",
    "    else:\n",
    "        return 0\n",
    "\n",
    "def B2(tau):\n",
    "    return 1-(tau-1)*funcB(tau)**2\n",
    "\n",
    "# (14) in 2012.12272\n",
    "def B1(tau):\n",
    "    return 1-tau*funcB(tau)**2\n",
    "\n",
    "\n",
    "def funcB(tau):\n",
    "    if tau>=1:\n",
    "        return np.arcsin(1/np.sqrt(tau))\n",
    "    else:\n",
    "        return np.pi/2 + 1j/2 * np.log((1+np.sqrt(1-tau))/(1-np.sqrt(1-tau)))"
   ]
  },
  {
   "cell_type": "code",
   "execution_count": 19,
   "id": "concrete-matthew",
   "metadata": {},
   "outputs": [],
   "source": [
    "def Gammaatoll(ma, cll, ml, Lambda):\n",
    "    if ma <= 2 * ml:\n",
    "        return 0\n",
    "    gamma = ml**2 * abs(cll)**2 * np.sqrt(ma**2 - 4 * ml**2) / (8 * np.pi * Lambda**2) \n",
    "    if gamma.imag  != 0:\n",
    "        if gamma.imag/gamma.real > 10**-10:\n",
    "            print(\"The Decay rate to leptons with mass \" + str(ml) + \" is complex: \" + str(gamma))\n",
    "    return float(gamma)\n",
    "\n",
    "def Gammaatoqq(ma, cqq, mq, Lambda):\n",
    "    if ma <= 2 * mq:\n",
    "        return 0\n",
    "    gamma = 3 * mq**2 * abs(cqq)**2 * np.sqrt(ma**2 - 4 * mq**2) / (8 * np.pi * Lambda**2)\n",
    "    if gamma.imag  != 0:\n",
    "        if gamma.imag/gamma.real > 10**-10:\n",
    "            print(\"The Decay rate to quarks with mass \" + str(mq) + \" is complex: \" + str(gamma))\n",
    "    return float(gamma)\n",
    "\n",
    "def Gammaatogamgam(ma, coeffs, Lambda):\n",
    "    cgamgam = readCgg(coeffs)\n",
    "    alphaEM = readAlphaEM(coeffs)\n",
    "    effcgg = cgamgam\n",
    "    if ma >= sm['mZ']:\n",
    "        effcgg += 2 * alphaEM/np.pi * coeffs['WW']/sm['sw']**2 * B2(4*sm['mW']**2/ma**2)\n",
    "        effcgg += 3 * (2/3)**2 * readCtt(coeffs) * B1(4*sm['mt']**2/ma**2)\n",
    "    if ma >= sm['mc']:\n",
    "        effcgg += 3 * (2/3)**2 * readCcc(coeffs) * B1(4*sm['mc']**2/ma**2) \n",
    "    if ma >= sm['mu']:\n",
    "        effcgg += 3 * (2/3)**2 * readCuu(coeffs) * B1(4*sm['mu']**2/ma**2)\n",
    "    if ma >= sm['mb']:\n",
    "        effcgg += 3 * (-1/3)**2 * readCbb(coeffs) * B1(4*sm['mb']**2/ma**2)\n",
    "    if ma >= sm['ms']:\n",
    "        effcgg += 3 * (-1/3)**2 * readCss(coeffs) * B1(4*sm['ms']**2/ma**2)\n",
    "    if ma >= sm['md']:\n",
    "        effcgg += 3 * (-1/3)**2 * readCdd(coeffs) * B1(4*sm['md']**2/ma**2)\n",
    "    if ma >= sm['me']:\n",
    "        effcgg += readCee(coeffs) * B1(4*sm['me']**2/ma**2)\n",
    "    if ma >= sm['mmu']:\n",
    "        effcgg += readCmumu(coeffs) * B1(4*sm['mmu']**2/ma**2)\n",
    "    if ma >= sm['mtau']:\n",
    "        effcgg += readCtautau(coeffs) * B1(4*sm['mtau']**2/ma**2)\n",
    "    gamma = abs(effcgg)**2 * alphaEM**2 * ma**3 /(4 * np.pi * Lambda**2) \n",
    "    if gamma.imag  != 0:\n",
    "        if gamma.imag/gamma.real > 10**-10:\n",
    "            print(\"The Decay rate to photons is complex: \" + str(gamma))\n",
    "    return float(gamma)\n",
    "\n",
    "def GammaatogamgamMy(ma, coeffs, Lambda):\n",
    "    cgamgam = readCgg(coeffs)\n",
    "    alphaEM = readAlphaEM(coeffs)\n",
    "    effcgg = cgamgam\n",
    "    # eq. (47) in 2012.12272\n",
    "    if ma>sm['me']:\n",
    "        effcgg +=readCee(coeffs) * B1(4*sm['me']**2/ma**2) \n",
    "    if ma>sm['mmu']:\n",
    "        effcgg +=readCmumu(coeffs) * B1(4*sm['mmu']**2/ma**2) \n",
    "    if ma>sm['mtau']:\n",
    "        effcgg +=readCtautau(coeffs) * B1(4*sm['mtau']**2/ma**2)\n",
    "        \n",
    "    if ma>sm['mu']:\n",
    "        effcgg += 3 * (2/3)**2 * readCuu(coeffs) * B1(4*sm['mu']**2/ma**2) \n",
    "    if ma>sm['mc']:\n",
    "        effcgg += 3 * (2/3)**2 * readCdd(coeffs) * B1(4*sm['mc']**2/ma**2) \n",
    "    if ma>sm['mt']:\n",
    "        effcgg += 3 * (2/3)**2 * readCtt(coeffs) * B1(4*sm['mt']**2/ma**2) \n",
    "        \n",
    "    if ma>sm['md']:\n",
    "        effcgg += 3 * (1/3)**2 * readCdd(coeffs) * B1(4*sm['md']**2/ma**2) \n",
    "    if ma>sm['ms']:\n",
    "        effcgg += 3 * (1/3)**2 * readCss(coeffs) * B1(4*sm['ms']**2/ma**2) \n",
    "    if ma>sm['mb']:\n",
    "        effcgg += 3 * (1/3)**2 * readCbb(coeffs) * B1(4*sm['mb']**2/ma**2) \n",
    "        \n",
    "    if ma >= sm['mZ']:\n",
    "        effcgg += 2 * alphaEM/np.pi * coeffs['WW']/sm['sw']**2 * B2(4*sm['mW']**2/ma**2)\n",
    "        \n",
    "    # eq.(46) in 2012.12272\n",
    "    gamma = abs(effcgg)**2 * alphaEM**2 * ma**3 /(64 * np.pi * f(Lambda)**2) \n",
    "    if gamma.imag  != 0:\n",
    "        if gamma.imag/gamma.real > 10**-10:\n",
    "            print(\"The Decay rate to photons is complex: \" + str(gamma))\n",
    "    return float(gamma)\n",
    "    \n",
    "\n",
    "def Gammaatohad(ma, coeffs, Lambda):\n",
    "    if ma <= 1:\n",
    "        return 0\n",
    "    alphaS = readAlphaS(coeffs)\n",
    "    cGGeff = readCGG(coeffs)\n",
    "    cGGeff += 1/2 * readCuu(coeffs) * B1(4*sm['mu']**2/ma**2)\n",
    "    cGGeff += 1/2 * readCdd(coeffs) * B1(4*sm['md']**2/ma**2)\n",
    "    cGGeff += 1/2 * readCss(coeffs) * B1(4*sm['ms']**2/ma**2)\n",
    "#     if ma>2*sm['mc']:\n",
    "#         cGGeff += 1/2 * readCcc(coeffs) * B1(4*sm['mc']**2/ma**2)\n",
    "#     if ma>2*sm['mb']:\n",
    "#         cGGeff += 1/2 * readCbb(coeffs) * B1(4*sm['mb']**2/ma**2)\n",
    "#     if ma >= sm['mZ']:\n",
    "#         cGGeff += 1/2 * readCtt(coeffs) * B1(4*sm['mt']**2/ma**2)\n",
    "#     nQ = nq(ma)\n",
    "    nQ = 3\n",
    "#    gamma = abs(cGGeff)**2 * 32 * np.pi * alphaS**2 * ma**3 * (1 + (97/4-7*nQ/6) * alphaS/np.pi) /Lambda**2\n",
    "    gamma = abs(cGGeff)**2 * alphaS**2 * ma**3 * (1 + (97/4-7*nQ/6) * alphaS/np.pi) * 2/(np.pi * Lambda**2)\n",
    "    gamma += Gammaatoqq(ma, readCuu(coeffs), sm['mu'], Lambda)\n",
    "    gamma += Gammaatoqq(ma, readCdd(coeffs), sm['md'], Lambda)\n",
    "    gamma += Gammaatoqq(ma, readCss(coeffs), sm['ms'], Lambda)\n",
    "    if gamma.imag  != 0:\n",
    "        if gamma.imag/gamma.real > 10**-10:\n",
    "            print(\"The Decay rate to hadrons is complex: \" + str(gamma))\n",
    "    return float(gamma)\n",
    "\n",
    "#Old formula\n",
    "def GammaatohadMyCheck(ma, coeffs, Lambda):\n",
    "    if ma <= 1:\n",
    "        return 0\n",
    "    alphaS = readAlphaS(coeffs)\n",
    "    cGGeff = readCGG(coeffs)\n",
    "    \n",
    "    # eq.(13) in 2012.12272\n",
    "    \n",
    "    cGGeff += 1/2 * readCuu(coeffs) * B1(4*sm['mu']**2/ma**2) * np.heaviside(ma-sm['mu'],1)\\\n",
    "            + 1/2 * readCdd(coeffs) * B1(4*sm['md']**2/ma**2) * np.heaviside(ma-sm['md'],1)\\\n",
    "            + 1/2 * readCss(coeffs) * B1(4*sm['ms']**2/ma**2) * np.heaviside(ma-sm['ms'],1)\\\n",
    "            + 1/2 * readCcc(coeffs) * B1(4*sm['mc']**2/ma**2) * np.heaviside(ma-sm['mc'],1)\\\n",
    "            + 1/2 * readCbb(coeffs) * B1(4*sm['mb']**2/ma**2) * np.heaviside(ma-sm['mb'],1)\\\n",
    "            #+ 1/2 * readCtt(coeffs) * B1(4*sm['mt']**2/ma**2) * np.heaviside(ma-sm['mZ'],1)\\\n",
    "        \n",
    "    # eq.(29) in 1708.00443 with nq=3 light quarks\n",
    "    gamma = abs(cGGeff)**2 * 32 * np.pi * alphaS**2 * ma**3 * \\\n",
    "            (1 + (97/4-7*nq(ma)/6) * alphaS/np.pi)/Lambda**2\n",
    "    if gamma.imag  != 0:\n",
    "        if gamma.imag/gamma.real > 10**-10:\n",
    "            print(\"The Decay rate to hadrons is complex: \" + str(gamma))\n",
    "    return float(gamma)"
   ]
  },
  {
   "cell_type": "code",
   "execution_count": 20,
   "id": "auburn-console",
   "metadata": {},
   "outputs": [
    {
     "name": "stdout",
     "output_type": "stream",
     "text": [
      "6.52695168444915e-11 6.44184310705369e-10\n"
     ]
    },
    {
     "name": "stderr",
     "output_type": "stream",
     "text": [
      "<ipython-input-19-de56bdf3d9c0>:46: ComplexWarning: Casting complex values to real discards the imaginary part\n",
      "  return float(gamma)\n",
      "<ipython-input-19-de56bdf3d9c0>:82: ComplexWarning: Casting complex values to real discards the imaginary part\n",
      "  return float(gamma)\n"
     ]
    }
   ],
   "source": [
    "print(Gammaatogamgam(0.5, testCoeff, 10**3),GammaatogamgamMy(0.5, testCoeff, 10**3))"
   ]
  },
  {
   "cell_type": "code",
   "execution_count": 21,
   "id": "stretch-chester",
   "metadata": {},
   "outputs": [
    {
     "name": "stdout",
     "output_type": "stream",
     "text": [
      "1.2363309318937695e-07 1.2788374334017266e-06\n"
     ]
    },
    {
     "name": "stderr",
     "output_type": "stream",
     "text": [
      "<ipython-input-19-de56bdf3d9c0>:46: ComplexWarning: Casting complex values to real discards the imaginary part\n",
      "  return float(gamma)\n",
      "<ipython-input-19-de56bdf3d9c0>:82: ComplexWarning: Casting complex values to real discards the imaginary part\n",
      "  return float(gamma)\n"
     ]
    }
   ],
   "source": [
    "print(Gammaatogamgam(5, testCoeff, 10**3),GammaatogamgamMy(5, testCoeff, 10**3))"
   ]
  },
  {
   "cell_type": "code",
   "execution_count": 22,
   "id": "psychological-allah",
   "metadata": {},
   "outputs": [
    {
     "name": "stdout",
     "output_type": "stream",
     "text": [
      "1.6073220855935154e-05 0.0021527755294098645\n"
     ]
    },
    {
     "name": "stderr",
     "output_type": "stream",
     "text": [
      "<ipython-input-19-de56bdf3d9c0>:109: ComplexWarning: Casting complex values to real discards the imaginary part\n",
      "  return float(gamma)\n",
      "<ipython-input-19-de56bdf3d9c0>:133: ComplexWarning: Casting complex values to real discards the imaginary part\n",
      "  return float(gamma)\n"
     ]
    }
   ],
   "source": [
    "print(Gammaatohad(3, testCoeff, 10**3),GammaatohadMyCheck(3, testCoeff, 10**3))"
   ]
  },
  {
   "cell_type": "code",
   "execution_count": 23,
   "id": "heard-scenario",
   "metadata": {},
   "outputs": [],
   "source": [
    "def Gammaa(ma, cff, cww, cbb, Lambda):\n",
    "    lscs = getLScoefficients(cff, cww, cbb, Lambda, ma)\n",
    "    GammaTot = 0\n",
    "    if ma>2*sm['me']:\n",
    "        GammaTot += Gammaatoll(ma,readCee(lscs),sm['me'],Lambda)\n",
    "    if ma>2*sm['mmu']:\n",
    "        GammaTot += Gammaatoll(ma,readCmumu(lscs),sm['mmu'],Lambda)\n",
    "    if ma>2*sm['mtau']:\n",
    "        GammaTot += Gammaatoll(ma,readCtautau(lscs),sm['mtau'],Lambda)\n",
    "    if ma>2*sm['mc']:\n",
    "        GammaTot += Gammaatoqq(ma,readCcc(lscs),sm['mc'],Lambda)\n",
    "    if ma>2*sm['mb']:\n",
    "        GammaTot += Gammaatoqq(ma,readCbb(lscs),sm['mb'],Lambda)\n",
    "    if ma>1:\n",
    "        GammaTot += Gammaatohad(ma,lscs,Lambda)\n",
    "    GammaTot += Gammaatogamgam(ma,lscs,Lambda)\n",
    "    if GammaTot.imag  != 0:\n",
    "        print(\"The Decay rate to hadrons is complex: \" + str(GammaTot))\n",
    "    return float(GammaTot)"
   ]
  },
  {
   "cell_type": "code",
   "execution_count": 24,
   "id": "sweet-branch",
   "metadata": {},
   "outputs": [],
   "source": [
    "def BrBtoKaplus(ma, cbs, Lambda):\n",
    "    return abs(cbs)**2/(16 * np.pi * Lambda**2) * abs(formFactorFzeroBplus(ma))**2* (sm['mB+']**2\\\n",
    "    -sm['mK+'])**2/sm['mB+']**3 * np.sqrt(sm['mB+']**4+sm['mK+']**4+ma**4-2*(sm['mB+']**2 * sm['mK+']**2 \\\n",
    "                                    + sm['mK+']**2 * ma**2 + ma**2 * sm['mB+']**2))/sm['hbar']*sm['tauB+']\n",
    "\n",
    "def BrBtoKaplusMyCheck(ma, cbs, Lambda):\n",
    "    return abs(cbs)**2/(16 * np.pi * Lambda**2) * abs(formFactorFzeroBplus(ma))**2* (sm['mB+']**2\\\n",
    "    -sm['mK+'])**2/sm['mB+']**3 * np.sqrt(sm['mB+']**4+sm['mK+']**4+ma**4-2*(sm['mB+']**2 * sm['mK+']**2 \\\n",
    "                                    + sm['mK+']**2 * ma**2 + ma**2 * sm['mB+']**2))/sm['GammaB+']"
   ]
  },
  {
   "cell_type": "code",
   "execution_count": 25,
   "id": "pretty-grounds",
   "metadata": {},
   "outputs": [],
   "source": [
    "def ctaua(ma, cff, cww, cbb, Lambda):\n",
    "    gamma = Gammaa(ma,cff,cww,cbb,Lambda)\n",
    "    if gamma == 0:\n",
    "        print(\"The decay width of a with ma=\" + str(ma) + \"GeV and cff=\" + str(cff) + \", cWW=\"+ str(cww)+ \", cBB=\" + str(cbb) + \" is zero.\")\n",
    "        return 0\n",
    "    return sm['c']*sm['hbar']/gamma"
   ]
  },
  {
   "cell_type": "code",
   "execution_count": 26,
   "id": "middle-qatar",
   "metadata": {},
   "outputs": [
    {
     "data": {
      "text/plain": [
       "721645.0581140692"
      ]
     },
     "execution_count": 26,
     "metadata": {},
     "output_type": "execute_result"
    }
   ],
   "source": [
    "BrBtoKaplus(2, 1, 10**3)"
   ]
  },
  {
   "cell_type": "code",
   "execution_count": 27,
   "id": "blond-stanley",
   "metadata": {},
   "outputs": [
    {
     "data": {
      "text/plain": [
       "764400.4958397369"
      ]
     },
     "execution_count": 27,
     "metadata": {},
     "output_type": "execute_result"
    }
   ],
   "source": [
    "BrBtoKaplusMyCheck(0.3, 1, 10**3)"
   ]
  },
  {
   "cell_type": "code",
   "execution_count": 28,
   "id": "decreased-proceeding",
   "metadata": {},
   "outputs": [
    {
     "name": "stderr",
     "output_type": "stream",
     "text": [
      "<ipython-input-19-de56bdf3d9c0>:109: ComplexWarning: Casting complex values to real discards the imaginary part\n",
      "  return float(gamma)\n",
      "<ipython-input-19-de56bdf3d9c0>:46: ComplexWarning: Casting complex values to real discards the imaginary part\n",
      "  return float(gamma)\n"
     ]
    },
    {
     "data": {
      "text/plain": [
       "2.5384445624301206e-05"
      ]
     },
     "execution_count": 28,
     "metadata": {},
     "output_type": "execute_result"
    }
   ],
   "source": [
    "Gammaa(3, 1, 0, 0, 10**3)"
   ]
  },
  {
   "cell_type": "markdown",
   "id": "subjective-institution",
   "metadata": {},
   "source": [
    "### ALP branching ratios"
   ]
  },
  {
   "cell_type": "code",
   "execution_count": 29,
   "id": "cordless-access",
   "metadata": {},
   "outputs": [],
   "source": [
    "# def brsALP(cQ,cu,cd,cL,ce,cGG,cWW,cBB,title,Lambda,br=True):\n",
    "#     with HiddenPrints():\n",
    "#         HC = OrderedDict()\n",
    "#         HC['Q'] = np.array([[cQ,0,0],[0,cQ,0],[0,0,cQ]])\n",
    "#         HC['u'] = np.array([[cu,0,0],[0,cu,0],[0,0,cu]])\n",
    "#         HC['d'] = np.array([[cd,0,0],[0,cd,0],[0,0,cd]])\n",
    "#         HC['L'] = np.array([[cL,0,0],[0,cL,0],[0,0,cL]])\n",
    "#         HC['e'] = np.array([[ce,0,0],[0,ce,0],[0,0,ce]])\n",
    "#         HC['GG'] = cGG\n",
    "#         HC['WW'] = cWW\n",
    "#         HC['BB'] = cBB\n",
    "\n",
    "#         maList = list((i*10**(exp-2) for exp in range(-3, 2) for i in range(10, 100)))\n",
    "#         brs = [[],[],[],[],[],[],[],[]]\n",
    "#         for ma in maList:\n",
    "#             lscs = TdAlps.RunRotateMatchRun(HC, Lambda, ma, 3)\n",
    "#             brs[0].append(Gammaatoll(ma,readCee(lscs),sm['me'],Lambda))\n",
    "#             brs[1].append(Gammaatoll(ma,readCmumu(lscs),sm['mmu'],Lambda))\n",
    "#             try:\n",
    "#                 ctautau = readCtautau(lscs)\n",
    "#             except IndexError:\n",
    "#                 ctautau = 0\n",
    "#             brs[2].append(Gammaatoll(ma,ctautau,sm['mtau'],Lambda))\n",
    "#             try:\n",
    "#                 ccc = readCcc(lscs)\n",
    "#             except IndexError:\n",
    "#                 ccc = 0\n",
    "#             brs[3].append(Gammaatoqq(ma,ccc,sm['mc'],Lambda))\n",
    "#             try:\n",
    "#                 cbb = readCbb(lscs)\n",
    "#             except IndexError:\n",
    "#                 cbb = 0\n",
    "#             brs[4].append(Gammaatoqq(ma,cbb,sm['mb'],Lambda))\n",
    "#             brs[5].append(Gammaatogamgam(ma,lscs,Lambda))\n",
    "#             brs[6].append(Gammaatohad(ma,lscs,Lambda))\n",
    "#             brs[7].append(brs[0][-1]+brs[1][-1]+brs[2][-1]+brs[3][-1]+brs[4][-1]+brs[5][-1]+brs[6][-1])\n",
    "#             if (br):\n",
    "#                 brs[0][-1] = brs[0][-1]/brs[7][-1]\n",
    "#                 brs[1][-1] = brs[1][-1]/brs[7][-1]\n",
    "#                 brs[2][-1] = brs[2][-1]/brs[7][-1]\n",
    "#                 brs[3][-1] = brs[3][-1]/brs[7][-1]\n",
    "#                 brs[4][-1] = brs[4][-1]/brs[7][-1]\n",
    "#                 brs[5][-1] = brs[5][-1]/brs[7][-1]\n",
    "#                 brs[6][-1] = brs[6][-1]/brs[7][-1]\n",
    "\n",
    "#         fig, ax = plt.subplots() \n",
    "#         ax.set_xscale('log')\n",
    "#         ax.set_yscale('log')\n",
    "#         ax.set_xlabel('ma [GeV]')\n",
    "#         if (br):\n",
    "#             ax.set_ylim([2*10**-4,2.5])\n",
    "#             ax.set_xlim([5*10**-4,11])\n",
    "#             ax.set_ylabel('Branching ratio Br(a->X)')\n",
    "#             ax.plot([maList[0],maList[-1]],[1,1],label='all',ls=':') \n",
    "#         else:\n",
    "#             ax.plot(maList,brs[7],label='total') \n",
    "#             ax.set_ylabel('Decay rate Gamma(a->X)')\n",
    "#         ax.plot(maList,brs[0],label='electrons') \n",
    "#         ax.plot(maList,brs[1],label='muons') \n",
    "#         ax.plot(maList,brs[2],label='taus') \n",
    "#         ax.plot(maList,brs[3],label='charms') \n",
    "#         ax.plot(maList,brs[4],label='bottoms') \n",
    "#         ax.plot(maList,brs[5],label='photons') \n",
    "#         ax.plot(maList,brs[6],label='hadrons') \n",
    "#         ax.legend()\n",
    "#         plt.title(title)\n",
    "#     plt.show()"
   ]
  },
  {
   "cell_type": "code",
   "execution_count": 157,
   "id": "endless-christopher",
   "metadata": {},
   "outputs": [],
   "source": [
    "def brsALP(cQ,cu,cd,cL,ce,cGG,cWW,cBB,title,Lambda,br=True):\n",
    "    with HiddenPrints():\n",
    "        HC = OrderedDict()\n",
    "        HC['Q'] = np.array([[cQ,0,0],[0,cQ,0],[0,0,cQ]])\n",
    "        HC['u'] = np.array([[cu,0,0],[0,cu,0],[0,0,cu]])\n",
    "        HC['d'] = np.array([[cd,0,0],[0,cd,0],[0,0,cd]])\n",
    "        HC['L'] = np.array([[cL,0,0],[0,cL,0],[0,0,cL]])\n",
    "        HC['e'] = np.array([[ce,0,0],[0,ce,0],[0,0,ce]])\n",
    "        HC['GG'] = cGG\n",
    "        HC['WW'] = cWW\n",
    "        HC['BB'] = cBB\n",
    "\n",
    "        maList = list((i*10**(exp-2) for exp in range(-3, 2) for i in range(10, 100)))\n",
    "        brs = [[],[],[],[],[],[],[],[]]\n",
    "        for ma in maList:\n",
    "            lscs = TdAlps.RunRotateMatchRun(HC, Lambda, ma, 3)\n",
    "            brs[0].append(Gammaatoll(ma,readCee(lscs),sm['me'],Lambda))\n",
    "            brs[1].append(Gammaatoll(ma,readCmumu(lscs),sm['mmu'],Lambda))\n",
    "            try:\n",
    "                ctautau = readCtautau(lscs)\n",
    "            except IndexError:\n",
    "                ctautau = 0\n",
    "            brs[2].append(Gammaatoll(ma,ctautau,sm['mtau'],Lambda))\n",
    "            try:\n",
    "                ccc = readCcc(lscs)\n",
    "            except IndexError:\n",
    "                ccc = 0\n",
    "            brs[3].append(Gammaatoqq(ma,ccc,sm['mc'],Lambda))\n",
    "            try:\n",
    "                cbb = readCbb(lscs)\n",
    "            except IndexError:\n",
    "                cbb = 0\n",
    "            brs[4].append(Gammaatoqq(ma,cbb,sm['mb'],Lambda))\n",
    "            brs[5].append(Gammaatogamgam(ma,lscs,Lambda))\n",
    "            brs[6].append(Gammaatohad(ma,lscs,Lambda))\n",
    "            brs[7].append(brs[0][-1]+brs[1][-1]+brs[2][-1]+brs[3][-1]+brs[4][-1]+brs[5][-1]+brs[6][-1])\n",
    "            if (br and brs[7][-1] != 0):\n",
    "                brs[0][-1] = brs[0][-1]/brs[7][-1]\n",
    "                brs[1][-1] = brs[1][-1]/brs[7][-1]\n",
    "                brs[2][-1] = brs[2][-1]/brs[7][-1]\n",
    "                brs[3][-1] = brs[3][-1]/brs[7][-1]\n",
    "                brs[4][-1] = brs[4][-1]/brs[7][-1]\n",
    "                brs[5][-1] = brs[5][-1]/brs[7][-1]\n",
    "                brs[6][-1] = brs[6][-1]/brs[7][-1]\n",
    "\n",
    "        fig, ax = plt.subplots(figsize=(9, 7)) \n",
    "        ax.set_xscale('log')\n",
    "        ax.set_yscale('log')\n",
    "        ax.set_xlabel('ma [GeV]')\n",
    "        if (br):\n",
    "            ax.set_ylim([1*10**-6,2.5])\n",
    "            ax.set_xlim([5*10**-4,11])\n",
    "            ax.set_ylabel('Branching ratio Br(a->X)')\n",
    "            ax.plot([maList[0],maList[-1]],[1,1],label='all',ls=':') \n",
    "        else:\n",
    "            ax.plot(maList,brs[7],label='total') \n",
    "            ax.set_ylabel('Decay rate Gamma(a->X)')\n",
    "        ax.plot(maList,brs[0],label='electrons') \n",
    "        ax.plot(maList,brs[1],label='muons') \n",
    "        ax.plot(maList,brs[2],label='taus') \n",
    "        ax.plot(maList,brs[3],label='charms') \n",
    "        ax.plot(maList,brs[4],label='bottoms') \n",
    "        ax.plot(maList,brs[5],label='photons') \n",
    "        ax.plot(maList,brs[6],label='hadrons') \n",
    "        ax.legend(bbox_to_anchor=(1.05, 1))\n",
    "        plt.title(title)\n",
    "    plt.show()\n",
    "    \n",
    "    return fig"
   ]
  },
  {
   "cell_type": "markdown",
   "id": "equivalent-denial",
   "metadata": {},
   "source": [
    "decays under consideration encoded as\n",
    "0: e\n",
    "1: mu\n",
    "2: tau\n",
    "3: charm\n",
    "4: bottom\n",
    "5: photon\n",
    "6: hadron"
   ]
  },
  {
   "cell_type": "code",
   "execution_count": 31,
   "id": "abroad-textbook",
   "metadata": {},
   "outputs": [],
   "source": [
    "def brALPtoOneFinalState(ma,finalStateCode,cQ,cu,cd,cL,ce,cGG,cWW,cBB,Lambda,lscsPassed=None):\n",
    "    with HiddenPrints():\n",
    "        HC = OrderedDict()\n",
    "        HC['Q'] = np.array([[cQ,0,0],[0,cQ,0],[0,0,cQ]])\n",
    "        HC['u'] = np.array([[cu,0,0],[0,cu,0],[0,0,cu]])\n",
    "        HC['d'] = np.array([[cd,0,0],[0,cd,0],[0,0,cd]])\n",
    "        HC['L'] = np.array([[cL,0,0],[0,cL,0],[0,0,cL]])\n",
    "        HC['e'] = np.array([[ce,0,0],[0,ce,0],[0,0,ce]])\n",
    "        HC['GG'] = cGG\n",
    "        HC['WW'] = cWW\n",
    "        HC['BB'] = cBB\n",
    "\n",
    "        brs = [[],[],[],[],[],[],[],[]]\n",
    "        \n",
    "        if (lscsPassed is not None):\n",
    "            lscs=lscsPassed\n",
    "        else:\n",
    "            lscs = TdAlps.RunRotateMatchRun(HC, Lambda, ma, 3)\n",
    "        \n",
    "        brs[0].append(Gammaatoll(ma,readCee(lscs),sm['me'],Lambda))\n",
    "        brs[1].append(Gammaatoll(ma,readCmumu(lscs),sm['mmu'],Lambda))\n",
    "        try:\n",
    "            ctautau = readCtautau(lscs)\n",
    "        except IndexError:\n",
    "            ctautau = 0\n",
    "        brs[2].append(Gammaatoll(ma,ctautau,sm['mtau'],Lambda))\n",
    "        try:\n",
    "            ccc = readCcc(lscs)\n",
    "        except IndexError:\n",
    "            ccc = 0\n",
    "        brs[3].append(Gammaatoqq(ma,ccc,sm['mc'],Lambda))\n",
    "        try:\n",
    "            cbb = readCbb(lscs)\n",
    "        except IndexError:\n",
    "            cbb = 0\n",
    "        brs[4].append(Gammaatoqq(ma,cbb,sm['mb'],Lambda))\n",
    "        brs[5].append(Gammaatogamgam(ma,lscs,Lambda))\n",
    "        brs[6].append(Gammaatohad(ma,lscs,Lambda))\n",
    "        brs[7].append(brs[0][-1]+brs[1][-1]+brs[2][-1]+brs[3][-1]+brs[4][-1]+brs[5][-1]+brs[6][-1])\n",
    "        \n",
    "    #print(lscs)\n",
    "    ctauAlp=constants['InvGeVtocm']/brs[7][-1]\n",
    "\n",
    "    return [brs[finalStateCode][-1]/brs[7][-1],ctauAlp]"
   ]
  },
  {
   "cell_type": "code",
   "execution_count": 32,
   "id": "binary-wallet",
   "metadata": {},
   "outputs": [
    {
     "name": "stderr",
     "output_type": "stream",
     "text": [
      "<ipython-input-19-de56bdf3d9c0>:46: ComplexWarning: Casting complex values to real discards the imaginary part\n",
      "  return float(gamma)\n"
     ]
    },
    {
     "data": {
      "text/plain": [
       "[0.19259441829593593, 8.448783165873305e-06]"
      ]
     },
     "execution_count": 32,
     "metadata": {},
     "output_type": "execute_result"
    }
   ],
   "source": [
    "brALPtoOneFinalState(1,5,1,-1,-1,1,-1,0,0,0,1000)"
   ]
  },
  {
   "cell_type": "code",
   "execution_count": 57,
   "id": "involved-rescue",
   "metadata": {},
   "outputs": [
    {
     "name": "stderr",
     "output_type": "stream",
     "text": [
      "<ipython-input-19-de56bdf3d9c0>:46: ComplexWarning: Casting complex values to real discards the imaginary part\n",
      "  return float(gamma)\n",
      "<ipython-input-19-de56bdf3d9c0>:109: ComplexWarning: Casting complex values to real discards the imaginary part\n",
      "  return float(gamma)\n"
     ]
    },
    {
     "data": {
      "image/png": "[encoded data removed]",
      "text/plain": [
       "<Figure size 648x504 with 1 Axes>"
      ]
     },
     "metadata": {
      "needs_background": "light"
     },
     "output_type": "display_data"
    },
    {
     "data": {
      "image/png": "[encoded data removed]",
      "text/plain": [
       "<Figure size 648x504 with 1 Axes>"
      ]
     },
     "metadata": {
      "needs_background": "light"
     },
     "output_type": "display_data"
    }
   ],
   "source": [
    "brsALP(1,-1,-1,1,-1,0,0,0,\"cQ=cL=1, ce=cd=cu=-1, all other UV-couplings=0, \\u039B=1TeV\",1000)\n",
    "brsALP(1,-1,-1,1,-1,0,0,0,\"cQ=cL=1, ce=cd=cu=-1, all other UV-couplings=0, \\u039B=1TeV\",1000,br=False)"
   ]
  },
  {
   "cell_type": "code",
   "execution_count": 58,
   "id": "running-allowance",
   "metadata": {},
   "outputs": [
    {
     "name": "stderr",
     "output_type": "stream",
     "text": [
      "<ipython-input-19-de56bdf3d9c0>:46: ComplexWarning: Casting complex values to real discards the imaginary part\n",
      "  return float(gamma)\n",
      "<ipython-input-19-de56bdf3d9c0>:109: ComplexWarning: Casting complex values to real discards the imaginary part\n",
      "  return float(gamma)\n"
     ]
    },
    {
     "data": {
      "image/png": "[encoded data removed]",
      "text/plain": [
       "<Figure size 648x504 with 1 Axes>"
      ]
     },
     "metadata": {
      "needs_background": "light"
     },
     "output_type": "display_data"
    },
    {
     "data": {
      "image/png": "[encoded data removed]",
      "text/plain": [
       "<Figure size 648x504 with 1 Axes>"
      ]
     },
     "metadata": {
      "needs_background": "light"
     },
     "output_type": "display_data"
    }
   ],
   "source": [
    "brsALP(1,-1,-1,0,0,0,0,0,\"cQ=1, cd=-1=cu, all other UV-couplings=0, \\u039B=1TeV\",1000)\n",
    "brsALP(1,-1,-1,0,0,0,0,0,\"cQ=1, cd=-1=cu, all other UV-couplings=0, \\u039B=1TeV\",1000,br=False)"
   ]
  },
  {
   "cell_type": "markdown",
   "id": "greater-fusion",
   "metadata": {},
   "source": [
    "## Integral over detector"
   ]
  },
  {
   "cell_type": "code",
   "execution_count": 35,
   "id": "checked-meditation",
   "metadata": {},
   "outputs": [],
   "source": [
    "def gammaBeta(gammaParent,mParent,ma):\n",
    "    return np.sqrt(gammaParent**2 * (sm['mB+']**2-sm['mK+']**2+ma**2)**2/(4*sm['mB+']**2*ma**2)-1)\n",
    "    \n",
    "def gammaBetaAlp(ma):\n",
    "    return gammaBeta(BelleIIparams['gammaBoostB'],sm['mB+'],ma)"
   ]
  },
  {
   "cell_type": "code",
   "execution_count": 36,
   "id": "resident-netherlands",
   "metadata": {},
   "outputs": [],
   "source": [
    "def thetaMinBoost(thetaMin,r,ctau,gammaBeta):\n",
    "    return np.arctan(r/(r/np.tan(thetaMin) - gammaBeta * ctau))\n",
    "\n",
    "def thetaMaxBoost(thetaMin,r,ctau,gammaBeta):\n",
    "    return np.pi+np.arctan(-r/(-r/np.tan(thetaMin) + gammaBeta * ctau))\n",
    "\n",
    "def geomInt(thetaMin,thetaMax,dmin,dmax,ctau,gammaBeta):\n",
    "    return 1/(4 * (gammaBeta * ctau)**2) * integrate.quad(lambda theta: (1/np.sin(theta)) \\\n",
    "            * (np.exp(-dmin/(np.sin(theta) * gammaBeta * ctau)) * (dmin**2 + 2 * gammaBeta * ctau * np.sin(theta) \\\n",
    "            * (dmin + gammaBeta * ctau * np.sin(theta)))\\\n",
    "            - np.exp(-dmax/(np.sin(theta) * gammaBeta * ctau)) * (dmax**2 + 2 * gammaBeta * ctau * np.sin(theta) \\\n",
    "            * (dmax + gammaBeta * ctau * np.sin(theta))))\\\n",
    "            , thetaMin, thetaMax)[0]\n",
    "    \n",
    "def geomIntBelleIICDC(thetaMin,thetaMax,dmin,dmax,ctau,gammaBeta):\n",
    "    return np.heaviside(np.real(BelleIIparams['RCDC']/np.tan(thetaMin)-BelleIIparams['gammaBoostB'] * sm['ctauB+']),1)\\\n",
    "            * geomInt(thetaMin,thetaMax,dmin,dmax,ctau,gammaBeta)\n",
    "                                                "
   ]
  },
  {
   "cell_type": "code",
   "execution_count": 37,
   "id": "collectible-optimization",
   "metadata": {},
   "outputs": [
    {
     "data": {
      "text/plain": [
       "0.06484569710142005"
      ]
     },
     "execution_count": 37,
     "metadata": {},
     "output_type": "execute_result"
    }
   ],
   "source": [
    "geomInt(np.deg2rad(17),np.deg2rad(150),0.9,1.1,0.5,1.7)"
   ]
  },
  {
   "cell_type": "code",
   "execution_count": 38,
   "id": "cooked-bennett",
   "metadata": {},
   "outputs": [
    {
     "data": {
      "text/plain": [
       "0.7661607320676481"
      ]
     },
     "execution_count": 38,
     "metadata": {},
     "output_type": "execute_result"
    }
   ],
   "source": [
    "geomIntBelleIICDC(np.deg2rad(17),np.deg2rad(150),0.9,60,0.5,1.7)"
   ]
  },
  {
   "cell_type": "code",
   "execution_count": 39,
   "id": "modern-missile",
   "metadata": {},
   "outputs": [
    {
     "data": {
      "text/plain": [
       "0.40596908074511884"
      ]
     },
     "execution_count": 39,
     "metadata": {},
     "output_type": "execute_result"
    }
   ],
   "source": [
    "thetaMinBoost(np.deg2rad(17),0.9,0.5,1.7)"
   ]
  },
  {
   "cell_type": "code",
   "execution_count": 40,
   "id": "excessive-detective",
   "metadata": {},
   "outputs": [
    {
     "data": {
      "text/plain": [
       "3.547561734334912"
      ]
     },
     "execution_count": 40,
     "metadata": {},
     "output_type": "execute_result"
    }
   ],
   "source": [
    "thetaMaxBoost(np.deg2rad(17),0.9,0.5,1.7)"
   ]
  },
  {
   "cell_type": "markdown",
   "id": "educated-alabama",
   "metadata": {},
   "source": [
    "# Number of signal events"
   ]
  },
  {
   "cell_type": "code",
   "execution_count": 41,
   "id": "latin-volume",
   "metadata": {},
   "outputs": [],
   "source": [
    "BelleIIparams={\n",
    "    'gammaBoostB': 1.03029,\n",
    "    'RCDC': 60, #cm\n",
    "    'thetaCDCMin': np.deg2rad(17),\n",
    "    'thetaCDCMax': np.deg2rad(150),\n",
    "    'dres': 0.9,\n",
    "    'NBBelleII': 5*10**10\n",
    "}"
   ]
  },
  {
   "cell_type": "code",
   "execution_count": 42,
   "id": "forty-representative",
   "metadata": {},
   "outputs": [],
   "source": [
    "def nsignalBelleII(ma,finalStateCode,cQ,cu,cd,cL,ce,cGG,cWW,cBB,Lambda):\n",
    "    with HiddenPrints():\n",
    "        HC = OrderedDict()\n",
    "        HC['Q'] = np.array([[cQ,0,0],[0,cQ,0],[0,0,cQ]])\n",
    "        HC['u'] = np.array([[cu,0,0],[0,cu,0],[0,0,cu]])\n",
    "        HC['d'] = np.array([[cd,0,0],[0,cd,0],[0,0,cd]])\n",
    "        HC['L'] = np.array([[cL,0,0],[0,cL,0],[0,0,cL]])\n",
    "        HC['e'] = np.array([[ce,0,0],[0,ce,0],[0,0,ce]])\n",
    "        HC['GG'] = cGG\n",
    "        HC['WW'] = cWW\n",
    "        HC['BB'] = cBB\n",
    "        \n",
    "        lscsTmp = TdAlps.RunRotateMatchRun(HC, Lambda, sm['mB+'], 3)\n",
    "        \n",
    "        cbs=readCbs(lscsTmp)#getCbs(cff, cWW, cBB, Lambda, sm['mB+'])\n",
    "        \n",
    "#     print(\"BR(B-> K+ a)= \",BrBtoKaplus(ma, cbs, Lambda))    \n",
    "    \n",
    "#     #rewrite brALPtoOneFinalState such that last agr can be not a None \n",
    "#     print(\"BR(a->final)= \",brALPtoOneFinalState(ma,finalStateCode,cQ,cu,cd,cL,ce,cGG,cWW,cBB,Lambda,None)[0])\n",
    "    \n",
    "#     print([thetaMinBoost(BelleIIparams['thetaCDCMin'],BelleIIparams['RCDC'],sm['ctauB+']\\\n",
    "#     ,gammaBetaAlp(ma)),thetaMaxBoost(BelleIIparams['thetaCDCMax'],BelleIIparams['RCDC'],sm['ctauB+']\\\n",
    "#     ,gammaBetaAlp(ma)),BelleIIparams['dres'],BelleIIparams['RCDC']\\\n",
    "#     ,brALPtoOneFinalState(ma,finalStateCode,cQ,cu,cd,cL,ce,cGG,cWW,cBB,Lambda,None)[1],gammaBetaAlp(ma)])\n",
    "    \n",
    "#     print(geomIntBelleIICDC(thetaMinBoost(BelleIIparams['thetaCDCMin'],BelleIIparams['RCDC'],sm['ctauB+']\\\n",
    "#     ,gammaBetaAlp(ma)),thetaMaxBoost(BelleIIparams['thetaCDCMax'],BelleIIparams['RCDC'],sm['ctauB+']\\\n",
    "#     ,gammaBetaAlp(ma)),BelleIIparams['dres'],BelleIIparams['RCDC']\\\n",
    "#     ,brALPtoOneFinalState(ma,finalStateCode,cQ,cu,cd,cL,ce,cGG,cWW,cBB,Lambda,None)[1],gammaBetaAlp(ma)))\n",
    "    \n",
    "    return BelleIIparams['NBBelleII'] * BrBtoKaplus(ma, cbs, Lambda) \\\n",
    "    * brALPtoOneFinalState(ma,finalStateCode,cQ,cu,cd,cL,ce,cGG,cWW,cBB,Lambda,None)[0]\\\n",
    "    * geomIntBelleIICDC(thetaMinBoost(BelleIIparams['thetaCDCMin'],BelleIIparams['RCDC'],sm['ctauB+']\\\n",
    "    ,gammaBetaAlp(ma)),thetaMaxBoost(BelleIIparams['thetaCDCMax'],BelleIIparams['RCDC'],sm['ctauB+']\\\n",
    "    ,gammaBetaAlp(ma)),BelleIIparams['dres'],BelleIIparams['RCDC']\\\n",
    "    ,brALPtoOneFinalState(ma,finalStateCode,cQ,cu,cd,cL,ce,cGG,cWW,cBB,Lambda,None)[1],gammaBetaAlp(ma))"
   ]
  },
  {
   "cell_type": "code",
   "execution_count": 43,
   "id": "successful-terminology",
   "metadata": {},
   "outputs": [
    {
     "name": "stderr",
     "output_type": "stream",
     "text": [
      "<ipython-input-19-de56bdf3d9c0>:46: ComplexWarning: Casting complex values to real discards the imaginary part\n",
      "  return float(gamma)\n"
     ]
    },
    {
     "data": {
      "text/plain": [
       "8422533143.760596"
      ]
     },
     "execution_count": 43,
     "metadata": {},
     "output_type": "execute_result"
    }
   ],
   "source": [
    "nsignalBelleII(0.2,5,1,-1,-1,1,-1,0,0,0,1000)"
   ]
  },
  {
   "cell_type": "code",
   "execution_count": 44,
   "id": "fabulous-infrastructure",
   "metadata": {},
   "outputs": [
    {
     "data": {
      "text/plain": [
       "0.0"
      ]
     },
     "execution_count": 44,
     "metadata": {},
     "output_type": "execute_result"
    }
   ],
   "source": [
    "geomIntBelleIICDC(0.2968886712976968, 2.6185273888027787, 0.9, 60, 8.981305682648816e-06, 2.6080796979823226)"
   ]
  },
  {
   "cell_type": "code",
   "execution_count": 45,
   "id": "played-magic",
   "metadata": {},
   "outputs": [],
   "source": [
    "\n",
    "def nsignalAt95CLBelleIIAllcEqual(cff,ma,finalStateCode,Lambda,nOfEventsAt95CL):\n",
    "    cQ=cL=cWW=cBB=cff\n",
    "    ce=cd=cu=-cff\n",
    "    cGG=0\n",
    "    return nsignalBelleII(ma,finalStateCode,cQ,cu,cd,cL,ce,cGG,cWW,cBB,Lambda)-nOfEventsAt95CL\n",
    "\n",
    "def nsignalAt95CLBelleIIcff(cff,ma,finalStateCode,Lambda,nOfEventsAt95CL):\n",
    "    cGG=cWW=cBB=0\n",
    "    cQ=cL=cff\n",
    "    ce=cd=cu=-cff\n",
    "    return nsignalBelleII(ma,finalStateCode,cQ,cu,cd,cL,ce,cGG,cWW,cBB,Lambda)-nOfEventsAt95CL\n",
    "\n",
    "\n",
    "# def nsignalAt95CLBelleIIcWW(cWW,ma,finalStateCode,Lambda,nOfEventsAt95CL):\n",
    "#     cQ=cL=cu=cd=ce=cGG=cBB=0\n",
    "#     res = []\n",
    "#     for i in np.asarray(cWW):\n",
    "#         res_i = nsignalBelleII(ma,finalStateCode,cQ,cu,cd,cL,ce,cGG,i,cBB,Lambda)-nOfEventsAt95CL\n",
    "#         res.append(res_i)\n",
    "#     return np.array(res)\n",
    "\n",
    "def nsignalAt95CLBelleIIcWW(cWW,ma,finalStateCode,Lambda,nOfEventsAt95CL):\n",
    "    cQ=cL=cu=cd=ce=cGG=cBB=0\n",
    "    return nsignalBelleII(ma,finalStateCode,cQ,cu,cd,cL,ce,cGG,cWW,cBB,Lambda)-nOfEventsAt95CL"
   ]
  },
  {
   "cell_type": "code",
   "execution_count": 46,
   "id": "naked-divide",
   "metadata": {},
   "outputs": [
    {
     "name": "stderr",
     "output_type": "stream",
     "text": [
      "<ipython-input-19-de56bdf3d9c0>:46: ComplexWarning: Casting complex values to real discards the imaginary part\n",
      "  return float(gamma)\n"
     ]
    },
    {
     "data": {
      "text/plain": [
       "12186351608.862116"
      ]
     },
     "execution_count": 46,
     "metadata": {},
     "output_type": "execute_result"
    }
   ],
   "source": [
    "nsignalAt95CLBelleIIAllcEqual(1,0.1,5,10**3,3)"
   ]
  },
  {
   "cell_type": "code",
   "execution_count": 47,
   "id": "controversial-choice",
   "metadata": {},
   "outputs": [
    {
     "name": "stderr",
     "output_type": "stream",
     "text": [
      "<ipython-input-19-de56bdf3d9c0>:46: ComplexWarning: Casting complex values to real discards the imaginary part\n",
      "  return float(gamma)\n"
     ]
    },
    {
     "data": {
      "text/plain": [
       "12186351611.862116"
      ]
     },
     "execution_count": 47,
     "metadata": {},
     "output_type": "execute_result"
    }
   ],
   "source": [
    "nsignalBelleII(0.1,5,1,-1,-1,1,-1,0,1,1,10**3)"
   ]
  },
  {
   "cell_type": "markdown",
   "id": "motivated-principal",
   "metadata": {},
   "source": [
    "#### decays under consideration encoded as\n",
    "0: e\n",
    "1: mu\n",
    "2: tau\n",
    "3: charm\n",
    "4: bottom\n",
    "5: photon\n",
    "6: hadron"
   ]
  },
  {
   "cell_type": "code",
   "execution_count": 140,
   "id": "varying-musician",
   "metadata": {},
   "outputs": [],
   "source": [
    "couplingList=np.logspace(-6, 4, 20)\n",
    "def visibleBoundBelleIIcffEqcWWEqcBB(ma,finalStateCode,Lambda,nOfEventsAt95CL):\n",
    "    nsignalAt95CLBelleIIAllcEqualEstimate=np.vstack(([coupling,nsignalAt95CLBelleIIAllcEqual(\\\n",
    "                    coupling,ma,finalStateCode,Lambda,nOfEventsAt95CL)] for coupling in couplingList))\n",
    "    \n",
    "#     print([nsignalAt95CLBelleIIAllcEqual(couplingList[0],ma,finalStateCode,Lambda,nOfEventsAt95CL),\\\n",
    "#           nsignalAt95CLBelleIIAllcEqual(nsignalAt95CLBelleIIAllcEqualEstimate[\\\n",
    "#         np.argmax(nsignalAt95CLBelleIIAllcEqualEstimate[:,1]>0),0],ma,finalStateCode,Lambda,nOfEventsAt95CL)])\n",
    "    \n",
    "    if (np.argmax(nsignalAt95CLBelleIIAllcEqualEstimate[:,1]>0)==0):\n",
    "        root1=root2=np.nan\n",
    "    else:\n",
    "        root1=optimize.brentq(nsignalAt95CLBelleIIAllcEqual, couplingList[0],\\\n",
    "            nsignalAt95CLBelleIIAllcEqualEstimate[np.argmax(nsignalAt95CLBelleIIAllcEqualEstimate[:,1]>0),0],\\\n",
    "                          args = (ma,finalStateCode,Lambda,nOfEventsAt95CL))\n",
    "\n",
    "        root2=optimize.brentq(nsignalAt95CLBelleIIAllcEqual,\\\n",
    "            nsignalAt95CLBelleIIAllcEqualEstimate[np.argmax(nsignalAt95CLBelleIIAllcEqualEstimate[:,1]>0),0],\\\n",
    "                              couplingList[-1], args = (ma,finalStateCode,Lambda,nOfEventsAt95CL))\n",
    "    return [root1,root2]\n",
    "\n",
    "def visibleBoundBelleIIcff(ma,finalStateCode,Lambda,nOfEventsAt95CL):\n",
    "    nsignalAt95CLBelleIIcffEstimate=np.vstack(([coupling,nsignalAt95CLBelleIIcff(coupling,ma,finalStateCode,\\\n",
    "                                                Lambda,nOfEventsAt95CL)] for coupling in couplingList))\n",
    "    if (np.argmax(nsignalAt95CLBelleIIcffEstimate[:,1]>0)==0):\n",
    "        root1=root2=np.nan\n",
    "    else:\n",
    "        root1=optimize.brentq(nsignalAt95CLBelleIIcff, couplingList[0],\\\n",
    "            nsignalAt95CLBelleIIcffEstimate[np.argmax(nsignalAt95CLBelleIIcffEstimate[:,1]>0),0],\\\n",
    "                          args = (ma,finalStateCode,Lambda,nOfEventsAt95CL))\n",
    "\n",
    "        root2=optimize.brentq(nsignalAt95CLBelleIIcff,\\\n",
    "            nsignalAt95CLBelleIIcffEstimate[np.argmax(nsignalAt95CLBelleIIcffEstimate[:,1]>0),0],\\\n",
    "                              couplingList[-1], args = (ma,finalStateCode,Lambda,nOfEventsAt95CL))\n",
    "    return [root1,root2]\n",
    "\n",
    "def visibleBoundBelleIIcWW(ma,finalStateCode,Lambda,nOfEventsAt95CL):\n",
    "    nsignalAt95CLBelleIIcWWEstimate=np.vstack(([coupling,nsignalAt95CLBelleIIcWW(coupling,ma,finalStateCode,\\\n",
    "                                                Lambda,nOfEventsAt95CL)] for coupling in couplingList))\n",
    "#     print(nsignalAt95CLBelleIIcWWEstimate)\n",
    "    if (np.argmax(nsignalAt95CLBelleIIcWWEstimate[:,1]>0)==0):\n",
    "        root1=root2=np.nan\n",
    "    else:\n",
    "        root1=optimize.brentq(nsignalAt95CLBelleIIcWW, couplingList[0],\\\n",
    "            nsignalAt95CLBelleIIcWWEstimate[np.argmax(nsignalAt95CLBelleIIcWWEstimate[:,1]>0),0],\\\n",
    "                          args = (ma,finalStateCode,Lambda,nOfEventsAt95CL))\n",
    "\n",
    "        root2=optimize.brentq(nsignalAt95CLBelleIIcWW,\\\n",
    "            nsignalAt95CLBelleIIcWWEstimate[np.argmax(nsignalAt95CLBelleIIcWWEstimate[:,1]>0),0],\\\n",
    "                              couplingList[-1], args = (ma,finalStateCode,Lambda,nOfEventsAt95CL))\n",
    "    return [root1,root2]\n",
    "    "
   ]
  },
  {
   "cell_type": "code",
   "execution_count": 65,
   "id": "contained-kinase",
   "metadata": {},
   "outputs": [
    {
     "name": "stderr",
     "output_type": "stream",
     "text": [
      "<ipython-input-48-2b61bc1373f6>:38: FutureWarning: arrays to stack must be passed as a \"sequence\" type such as list or tuple. Support for non-sequence iterables such as generators is deprecated as of NumPy 1.16 and will raise an error in the future.\n",
      "  nsignalAt95CLBelleIIcWWEstimate=np.vstack(([coupling,nsignalAt95CLBelleIIcWW(coupling,ma,finalStateCode,\\\n",
      "<ipython-input-19-de56bdf3d9c0>:46: ComplexWarning: Casting complex values to real discards the imaginary part\n",
      "  return float(gamma)\n",
      "<ipython-input-36-1f1779c84ac1>:8: IntegrationWarning: The integral is probably divergent, or slowly convergent.\n",
      "  return 1/(4 * (gammaBeta * ctau)**2) * integrate.quad(lambda theta: (1/np.sin(theta)) \\\n",
      "<ipython-input-36-1f1779c84ac1>:8: IntegrationWarning: The maximum number of subdivisions (50) has been achieved.\n",
      "  If increasing the limit yields no improvement it is advised to analyze \n",
      "  the integrand in order to determine the difficulties.  If the position of a \n",
      "  local difficulty can be determined (singularity, discontinuity) one will \n",
      "  probably gain from splitting up the interval and calling the integrator \n",
      "  on the subranges.  Perhaps a special-purpose integrator should be used.\n",
      "  return 1/(4 * (gammaBeta * ctau)**2) * integrate.quad(lambda theta: (1/np.sin(theta)) \\\n"
     ]
    },
    {
     "data": {
      "text/plain": [
       "[0.009456786685087402, 0.33908459210026265]"
      ]
     },
     "execution_count": 65,
     "metadata": {},
     "output_type": "execute_result"
    }
   ],
   "source": [
    "visibleBoundBelleIIcWW(1,5,10**3,3)"
   ]
  },
  {
   "cell_type": "code",
   "execution_count": null,
   "id": "mysterious-community",
   "metadata": {},
   "outputs": [],
   "source": [
    "# visibleBoundBelleIIcffEqcWWEqcBB(0.05,5,10**3,3)"
   ]
  },
  {
   "cell_type": "code",
   "execution_count": 50,
   "id": "surface-treaty",
   "metadata": {},
   "outputs": [
    {
     "name": "stderr",
     "output_type": "stream",
     "text": [
      "<ipython-input-48-2b61bc1373f6>:23: FutureWarning: arrays to stack must be passed as a \"sequence\" type such as list or tuple. Support for non-sequence iterables such as generators is deprecated as of NumPy 1.16 and will raise an error in the future.\n",
      "  nsignalAt95CLBelleIIcffEstimate=np.vstack(([coupling,nsignalAt95CLBelleIIcff(coupling,ma,finalStateCode,\\\n",
      "<ipython-input-19-de56bdf3d9c0>:46: ComplexWarning: Casting complex values to real discards the imaginary part\n",
      "  return float(gamma)\n",
      "<ipython-input-36-1f1779c84ac1>:8: IntegrationWarning: The integral is probably divergent, or slowly convergent.\n",
      "  return 1/(4 * (gammaBeta * ctau)**2) * integrate.quad(lambda theta: (1/np.sin(theta)) \\\n",
      "<ipython-input-36-1f1779c84ac1>:8: IntegrationWarning: The maximum number of subdivisions (50) has been achieved.\n",
      "  If increasing the limit yields no improvement it is advised to analyze \n",
      "  the integrand in order to determine the difficulties.  If the position of a \n",
      "  local difficulty can be determined (singularity, discontinuity) one will \n",
      "  probably gain from splitting up the interval and calling the integrator \n",
      "  on the subranges.  Perhaps a special-purpose integrator should be used.\n",
      "  return 1/(4 * (gammaBeta * ctau)**2) * integrate.quad(lambda theta: (1/np.sin(theta)) \\\n"
     ]
    },
    {
     "data": {
      "text/plain": [
       "[0.5337758597390725, 617.7099326649783]"
      ]
     },
     "execution_count": 50,
     "metadata": {},
     "output_type": "execute_result"
    }
   ],
   "source": [
    "visibleBoundBelleIIcff(0.01,5,10**3,3)"
   ]
  },
  {
   "cell_type": "code",
   "execution_count": 108,
   "id": "ordered-mattress",
   "metadata": {},
   "outputs": [],
   "source": [
    "#masslist= [0.05, 0.05, 0.1, 0.2, 0.3, 0.5, 1., 2., 4.]\n",
    "masslist=np.sort(np.append(np.logspace(-2, 0, 25),[0.101, 0.43, 0.47, 0.95, 1, 1.5, 2, 2.5, 3, 3.2, 3.5, 4]))\n",
    "particleCodes=[*range(0,7,1)]"
   ]
  },
  {
   "cell_type": "code",
   "execution_count": 109,
   "id": "worse-things",
   "metadata": {},
   "outputs": [
    {
     "data": {
      "text/plain": [
       "array([0.01      , 0.01211528, 0.01467799, 0.01778279, 0.02154435,\n",
       "       0.02610157, 0.03162278, 0.03831187, 0.04641589, 0.05623413,\n",
       "       0.06812921, 0.08254042, 0.1       , 0.101     , 0.12115277,\n",
       "       0.14677993, 0.17782794, 0.21544347, 0.26101572, 0.31622777,\n",
       "       0.38311868, 0.43      , 0.46415888, 0.47      , 0.56234133,\n",
       "       0.68129207, 0.82540419, 0.95      , 1.        , 1.        ,\n",
       "       1.5       , 2.        , 2.5       , 3.        , 3.2       ,\n",
       "       3.5       , 4.        ])"
      ]
     },
     "execution_count": 109,
     "metadata": {},
     "output_type": "execute_result"
    }
   ],
   "source": [
    "masslist"
   ]
  },
  {
   "cell_type": "code",
   "execution_count": 52,
   "id": "exterior-participation",
   "metadata": {},
   "outputs": [
    {
     "data": {
      "text/plain": [
       "array([ 0.05623413,  0.07498942,  0.1       ,  0.13335214,  0.17782794,\n",
       "        0.23713737,  0.31622777,  0.4216965 ,  0.56234133,  0.74989421,\n",
       "        1.        ,  1.33352143,  1.77827941,  2.37137371,  3.16227766,\n",
       "        4.21696503,  5.62341325,  7.49894209, 10.        ])"
      ]
     },
     "execution_count": 52,
     "metadata": {},
     "output_type": "execute_result"
    }
   ],
   "source": [
    "masslist[6:]"
   ]
  },
  {
   "cell_type": "markdown",
   "id": "collected-civilian",
   "metadata": {},
   "source": [
    "### mapping bounds over masses and final states"
   ]
  },
  {
   "cell_type": "code",
   "execution_count": 110,
   "id": "preliminary-newspaper",
   "metadata": {},
   "outputs": [
    {
     "name": "stderr",
     "output_type": "stream",
     "text": [
      "<ipython-input-48-2b61bc1373f6>:3: FutureWarning: arrays to stack must be passed as a \"sequence\" type such as list or tuple. Support for non-sequence iterables such as generators is deprecated as of NumPy 1.16 and will raise an error in the future.\n",
      "  nsignalAt95CLBelleIIAllcEqualEstimate=np.vstack(([coupling,nsignalAt95CLBelleIIAllcEqual(\\\n",
      "<ipython-input-19-de56bdf3d9c0>:46: ComplexWarning: Casting complex values to real discards the imaginary part\n",
      "  return float(gamma)\n",
      "<ipython-input-36-1f1779c84ac1>:8: IntegrationWarning: The maximum number of subdivisions (50) has been achieved.\n",
      "  If increasing the limit yields no improvement it is advised to analyze \n",
      "  the integrand in order to determine the difficulties.  If the position of a \n",
      "  local difficulty can be determined (singularity, discontinuity) one will \n",
      "  probably gain from splitting up the interval and calling the integrator \n",
      "  on the subranges.  Perhaps a special-purpose integrator should be used.\n",
      "  return 1/(4 * (gammaBeta * ctau)**2) * integrate.quad(lambda theta: (1/np.sin(theta)) \\\n",
      "<ipython-input-36-1f1779c84ac1>:8: IntegrationWarning: The integral is probably divergent, or slowly convergent.\n",
      "  return 1/(4 * (gammaBeta * ctau)**2) * integrate.quad(lambda theta: (1/np.sin(theta)) \\\n",
      "<ipython-input-36-1f1779c84ac1>:8: IntegrationWarning: The occurrence of roundoff error is detected, which prevents \n",
      "  the requested tolerance from being achieved.  The error may be \n",
      "  underestimated.\n",
      "  return 1/(4 * (gammaBeta * ctau)**2) * integrate.quad(lambda theta: (1/np.sin(theta)) \\\n",
      "<ipython-input-19-de56bdf3d9c0>:109: ComplexWarning: Casting complex values to real discards the imaginary part\n",
      "  return float(gamma)\n"
     ]
    }
   ],
   "source": [
    "listVisibleBoundBelleIIcffEqcWWEqcBB=[]\n",
    "for mass in masslist:\n",
    "    listForFixedMass=[]\n",
    "    for particle in particleCodes:\n",
    "        listForFixedMass.append(visibleBoundBelleIIcffEqcWWEqcBB(mass,particle,10**3,3))\n",
    "    listVisibleBoundBelleIIcffEqcWWEqcBB.append(listForFixedMass)\n",
    "arrayVisibleBoundBelleIIcffEqcWWEqcBB=np.array(listVisibleBoundBelleIIcffEqcWWEqcBB)"
   ]
  },
  {
   "cell_type": "code",
   "execution_count": 111,
   "id": "numeric-asian",
   "metadata": {},
   "outputs": [
    {
     "name": "stderr",
     "output_type": "stream",
     "text": [
      "<ipython-input-48-2b61bc1373f6>:23: FutureWarning: arrays to stack must be passed as a \"sequence\" type such as list or tuple. Support for non-sequence iterables such as generators is deprecated as of NumPy 1.16 and will raise an error in the future.\n",
      "  nsignalAt95CLBelleIIcffEstimate=np.vstack(([coupling,nsignalAt95CLBelleIIcff(coupling,ma,finalStateCode,\\\n",
      "<ipython-input-19-de56bdf3d9c0>:46: ComplexWarning: Casting complex values to real discards the imaginary part\n",
      "  return float(gamma)\n",
      "<ipython-input-36-1f1779c84ac1>:8: IntegrationWarning: The integral is probably divergent, or slowly convergent.\n",
      "  return 1/(4 * (gammaBeta * ctau)**2) * integrate.quad(lambda theta: (1/np.sin(theta)) \\\n",
      "<ipython-input-36-1f1779c84ac1>:8: IntegrationWarning: The maximum number of subdivisions (50) has been achieved.\n",
      "  If increasing the limit yields no improvement it is advised to analyze \n",
      "  the integrand in order to determine the difficulties.  If the position of a \n",
      "  local difficulty can be determined (singularity, discontinuity) one will \n",
      "  probably gain from splitting up the interval and calling the integrator \n",
      "  on the subranges.  Perhaps a special-purpose integrator should be used.\n",
      "  return 1/(4 * (gammaBeta * ctau)**2) * integrate.quad(lambda theta: (1/np.sin(theta)) \\\n",
      "<ipython-input-36-1f1779c84ac1>:8: IntegrationWarning: The occurrence of roundoff error is detected, which prevents \n",
      "  the requested tolerance from being achieved.  The error may be \n",
      "  underestimated.\n",
      "  return 1/(4 * (gammaBeta * ctau)**2) * integrate.quad(lambda theta: (1/np.sin(theta)) \\\n",
      "<ipython-input-19-de56bdf3d9c0>:109: ComplexWarning: Casting complex values to real discards the imaginary part\n",
      "  return float(gamma)\n"
     ]
    }
   ],
   "source": [
    "listVisibleBoundBelleIIcff=[]\n",
    "for mass in masslist:\n",
    "    listForFixedMass=[]\n",
    "    for particle in particleCodes:\n",
    "        listForFixedMass.append(visibleBoundBelleIIcff(mass,particle,10**3,3))\n",
    "    listVisibleBoundBelleIIcff.append(listForFixedMass)\n",
    "arrayVisibleBoundBelleIIcff=np.array(listVisibleBoundBelleIIcff)"
   ]
  },
  {
   "cell_type": "code",
   "execution_count": 141,
   "id": "arctic-footage",
   "metadata": {},
   "outputs": [
    {
     "name": "stderr",
     "output_type": "stream",
     "text": [
      "<ipython-input-140-d5f8338667dc>:38: FutureWarning: arrays to stack must be passed as a \"sequence\" type such as list or tuple. Support for non-sequence iterables such as generators is deprecated as of NumPy 1.16 and will raise an error in the future.\n",
      "  nsignalAt95CLBelleIIcWWEstimate=np.vstack(([coupling,nsignalAt95CLBelleIIcWW(coupling,ma,finalStateCode,\\\n",
      "<ipython-input-19-de56bdf3d9c0>:46: ComplexWarning: Casting complex values to real discards the imaginary part\n",
      "  return float(gamma)\n",
      "<ipython-input-36-1f1779c84ac1>:8: IntegrationWarning: The integral is probably divergent, or slowly convergent.\n",
      "  return 1/(4 * (gammaBeta * ctau)**2) * integrate.quad(lambda theta: (1/np.sin(theta)) \\\n",
      "<ipython-input-36-1f1779c84ac1>:8: IntegrationWarning: The maximum number of subdivisions (50) has been achieved.\n",
      "  If increasing the limit yields no improvement it is advised to analyze \n",
      "  the integrand in order to determine the difficulties.  If the position of a \n",
      "  local difficulty can be determined (singularity, discontinuity) one will \n",
      "  probably gain from splitting up the interval and calling the integrator \n",
      "  on the subranges.  Perhaps a special-purpose integrator should be used.\n",
      "  return 1/(4 * (gammaBeta * ctau)**2) * integrate.quad(lambda theta: (1/np.sin(theta)) \\\n",
      "<ipython-input-36-1f1779c84ac1>:8: IntegrationWarning: The occurrence of roundoff error is detected, which prevents \n",
      "  the requested tolerance from being achieved.  The error may be \n",
      "  underestimated.\n",
      "  return 1/(4 * (gammaBeta * ctau)**2) * integrate.quad(lambda theta: (1/np.sin(theta)) \\\n"
     ]
    },
    {
     "data": {
      "text/plain": [
       "[2.730636431734552, 1120.0072212236569]"
      ]
     },
     "execution_count": 141,
     "metadata": {},
     "output_type": "execute_result"
    }
   ],
   "source": [
    "visibleBoundBelleIIcWW(0.021544346900318832,5,10**3,3)"
   ]
  },
  {
   "cell_type": "code",
   "execution_count": 142,
   "id": "numeric-brain",
   "metadata": {},
   "outputs": [
    {
     "name": "stderr",
     "output_type": "stream",
     "text": [
      "<ipython-input-140-d5f8338667dc>:38: FutureWarning: arrays to stack must be passed as a \"sequence\" type such as list or tuple. Support for non-sequence iterables such as generators is deprecated as of NumPy 1.16 and will raise an error in the future.\n",
      "  nsignalAt95CLBelleIIcWWEstimate=np.vstack(([coupling,nsignalAt95CLBelleIIcWW(coupling,ma,finalStateCode,\\\n",
      "<ipython-input-19-de56bdf3d9c0>:46: ComplexWarning: Casting complex values to real discards the imaginary part\n",
      "  return float(gamma)\n",
      "<ipython-input-36-1f1779c84ac1>:8: IntegrationWarning: The integral is probably divergent, or slowly convergent.\n",
      "  return 1/(4 * (gammaBeta * ctau)**2) * integrate.quad(lambda theta: (1/np.sin(theta)) \\\n",
      "<ipython-input-36-1f1779c84ac1>:8: IntegrationWarning: The maximum number of subdivisions (50) has been achieved.\n",
      "  If increasing the limit yields no improvement it is advised to analyze \n",
      "  the integrand in order to determine the difficulties.  If the position of a \n",
      "  local difficulty can be determined (singularity, discontinuity) one will \n",
      "  probably gain from splitting up the interval and calling the integrator \n",
      "  on the subranges.  Perhaps a special-purpose integrator should be used.\n",
      "  return 1/(4 * (gammaBeta * ctau)**2) * integrate.quad(lambda theta: (1/np.sin(theta)) \\\n",
      "<ipython-input-36-1f1779c84ac1>:8: IntegrationWarning: The occurrence of roundoff error is detected, which prevents \n",
      "  the requested tolerance from being achieved.  The error may be \n",
      "  underestimated.\n",
      "  return 1/(4 * (gammaBeta * ctau)**2) * integrate.quad(lambda theta: (1/np.sin(theta)) \\\n",
      "<ipython-input-19-de56bdf3d9c0>:109: ComplexWarning: Casting complex values to real discards the imaginary part\n",
      "  return float(gamma)\n"
     ]
    }
   ],
   "source": [
    "listVisibleBoundBelleIIcWW=[]\n",
    "for mass in masslist[4:]:\n",
    "    listForFixedMass=[]\n",
    "    for particle in particleCodes:\n",
    "#         print(mass,particle)\n",
    "        listForFixedMass.append(visibleBoundBelleIIcWW(mass,particle,10**3,3))\n",
    "    listVisibleBoundBelleIIcWW.append(listForFixedMass)\n",
    "arrayVisibleBoundBelleIIcWW=np.array(listVisibleBoundBelleIIcWW)"
   ]
  },
  {
   "cell_type": "code",
   "execution_count": 113,
   "id": "peripheral-spokesman",
   "metadata": {},
   "outputs": [
    {
     "data": {
      "text/plain": [
       "array([[[4.43439932e-01, 5.66531157e+02],\n",
       "        [           nan,            nan],\n",
       "        [           nan,            nan],\n",
       "        [           nan,            nan],\n",
       "        [           nan,            nan],\n",
       "        [4.70542927e-01, 5.62897183e+02],\n",
       "        [           nan,            nan]],\n",
       "\n",
       "       [[3.59732297e-01, 4.05472996e+02],\n",
       "        [           nan,            nan],\n",
       "        [           nan,            nan],\n",
       "        [           nan,            nan],\n",
       "        [           nan,            nan],\n",
       "        [3.55404562e-01, 4.06015313e+02],\n",
       "        [           nan,            nan]],\n",
       "\n",
       "       [[2.91415751e-01, 2.89190945e+02],\n",
       "        [           nan,            nan],\n",
       "        [           nan,            nan],\n",
       "        [           nan,            nan],\n",
       "        [           nan,            nan],\n",
       "        [2.71902374e-01, 2.91458717e+02],\n",
       "        [           nan,            nan]],\n",
       "\n",
       "       [[2.35208015e-01, 2.04554790e+02],\n",
       "        [           nan,            nan],\n",
       "        [           nan,            nan],\n",
       "        [           nan,            nan],\n",
       "        [           nan,            nan],\n",
       "        [2.08423280e-01, 2.07425153e+02],\n",
       "        [           nan,            nan]],\n",
       "\n",
       "       [[1.89103496e-01, 1.43420154e+02],\n",
       "        [           nan,            nan],\n",
       "        [           nan,            nan],\n",
       "        [           nan,            nan],\n",
       "        [           nan,            nan],\n",
       "        [1.59583568e-01, 1.46323889e+02],\n",
       "        [           nan,            nan]],\n",
       "\n",
       "       [[1.51481343e-01, 9.97181625e+01],\n",
       "        [           nan,            nan],\n",
       "        [           nan,            nan],\n",
       "        [           nan,            nan],\n",
       "        [           nan,            nan],\n",
       "        [1.21912878e-01, 1.02377962e+02],\n",
       "        [           nan,            nan]],\n",
       "\n",
       "       [[1.20950811e-01, 6.88078808e+01],\n",
       "        [           nan,            nan],\n",
       "        [           nan,            nan],\n",
       "        [           nan,            nan],\n",
       "        [           nan,            nan],\n",
       "        [9.28927550e-02, 7.11090894e+01],\n",
       "        [           nan,            nan]],\n",
       "\n",
       "       [[9.63057992e-02, 4.71612180e+01],\n",
       "        [           nan,            nan],\n",
       "        [           nan,            nan],\n",
       "        [           nan,            nan],\n",
       "        [           nan,            nan],\n",
       "        [7.05987790e-02, 4.90789862e+01],\n",
       "        [           nan,            nan]],\n",
       "\n",
       "       [[7.65062057e-02, 3.21361467e+01],\n",
       "        [           nan,            nan],\n",
       "        [           nan,            nan],\n",
       "        [           nan,            nan],\n",
       "        [           nan,            nan],\n",
       "        [5.35286207e-02, 3.36924339e+01],\n",
       "        [           nan,            nan]],\n",
       "\n",
       "       [[6.06650578e-02, 2.17877255e+01],\n",
       "        [           nan,            nan],\n",
       "        [           nan,            nan],\n",
       "        [           nan,            nan],\n",
       "        [           nan,            nan],\n",
       "        [4.05017151e-02, 2.30258741e+01],\n",
       "        [           nan,            nan]],\n",
       "\n",
       "       [[4.80353462e-02, 1.47075552e+01],\n",
       "        [           nan,            nan],\n",
       "        [           nan,            nan],\n",
       "        [           nan,            nan],\n",
       "        [           nan,            nan],\n",
       "        [3.05910417e-02, 1.56776733e+01],\n",
       "        [           nan,            nan]],\n",
       "\n",
       "       [[3.79954070e-02, 9.89072951e+00],\n",
       "        [           nan,            nan],\n",
       "        [           nan,            nan],\n",
       "        [           nan,            nan],\n",
       "        [           nan,            nan],\n",
       "        [2.30717074e-02, 1.06417646e+01],\n",
       "        [           nan,            nan]],\n",
       "\n",
       "       [[3.01777591e-02, 6.69947154e+00],\n",
       "        [           nan,            nan],\n",
       "        [           nan,            nan],\n",
       "        [           nan,            nan],\n",
       "        [           nan,            nan],\n",
       "        [1.75073835e-02, 7.27795513e+00],\n",
       "        [           nan,            nan]],\n",
       "\n",
       "       [[2.98151111e-02, 6.56306373e+00],\n",
       "        [           nan,            nan],\n",
       "        [           nan,            nan],\n",
       "        [           nan,            nan],\n",
       "        [           nan,            nan],\n",
       "        [1.72546761e-02, 7.13358266e+00],\n",
       "        [           nan,            nan]],\n",
       "\n",
       "       [[2.43959509e-02, 4.70887660e+00],\n",
       "        [           nan,            nan],\n",
       "        [           nan,            nan],\n",
       "        [           nan,            nan],\n",
       "        [           nan,            nan],\n",
       "        [1.36428868e-02, 5.15940995e+00],\n",
       "        [           nan,            nan]],\n",
       "\n",
       "       [[1.96612867e-02, 3.28110906e+00],\n",
       "        [           nan,            nan],\n",
       "        [           nan,            nan],\n",
       "        [           nan,            nan],\n",
       "        [           nan,            nan],\n",
       "        [1.05765086e-02, 3.62961240e+00],\n",
       "        [           nan,            nan]],\n",
       "\n",
       "       [[1.63399082e-02, 2.44390782e+00],\n",
       "        [           nan,            nan],\n",
       "        [           nan,            nan],\n",
       "        [           nan,            nan],\n",
       "        [           nan,            nan],\n",
       "        [8.58964300e-03, 2.72166542e+00],\n",
       "        [           nan,            nan]],\n",
       "\n",
       "       [[5.73337555e-03, 2.12331743e-01],\n",
       "        [1.68960066e-03, 2.81507028e-01],\n",
       "        [           nan,            nan],\n",
       "        [           nan,            nan],\n",
       "        [           nan,            nan],\n",
       "        [2.88609374e-03, 2.52854277e-01],\n",
       "        [           nan,            nan]],\n",
       "\n",
       "       [[4.24205891e-03, 8.86190837e-02],\n",
       "        [9.74232409e-04, 1.29500323e-01],\n",
       "        [           nan,            nan],\n",
       "        [           nan,            nan],\n",
       "        [           nan,            nan],\n",
       "        [1.59742657e-03, 1.16493136e-01],\n",
       "        [           nan,            nan]],\n",
       "\n",
       "       [[3.72860064e-03, 6.08770038e-02],\n",
       "        [7.70902914e-04, 9.27450998e-02],\n",
       "        [           nan,            nan],\n",
       "        [           nan,            nan],\n",
       "        [           nan,            nan],\n",
       "        [1.18984470e-03, 8.43551709e-02],\n",
       "        [           nan,            nan]],\n",
       "\n",
       "       [[3.40224800e-03, 4.47337736e-02],\n",
       "        [6.37633436e-04, 7.05822844e-02],\n",
       "        [           nan,            nan],\n",
       "        [           nan,            nan],\n",
       "        [           nan,            nan],\n",
       "        [9.32517916e-04, 6.48687206e-02],\n",
       "        [           nan,            nan]],\n",
       "\n",
       "       [[3.27531354e-03, 3.75960858e-02],\n",
       "        [5.73835623e-04, 6.05736154e-02],\n",
       "        [           nan,            nan],\n",
       "        [           nan,            nan],\n",
       "        [           nan,            nan],\n",
       "        [8.13841869e-04, 5.60103739e-02],\n",
       "        [           nan,            nan]],\n",
       "\n",
       "       [[3.22191536e-03, 3.35712099e-02],\n",
       "        [5.36224174e-04, 5.48688927e-02],\n",
       "        [           nan,            nan],\n",
       "        [           nan,            nan],\n",
       "        [           nan,            nan],\n",
       "        [7.45522131e-04, 5.09389051e-02],\n",
       "        [           nan,            nan]],\n",
       "\n",
       "       [[3.21569075e-03, 3.29570380e-02],\n",
       "        [5.30369408e-04, 5.39944118e-02],\n",
       "        [           nan,            nan],\n",
       "        [           nan,            nan],\n",
       "        [           nan,            nan],\n",
       "        [7.35005369e-04, 5.01598432e-02],\n",
       "        [           nan,            nan]],\n",
       "\n",
       "       [[3.20612789e-03, 2.52665849e-02],\n",
       "        [4.54120658e-04, 4.29539820e-02],\n",
       "        [           nan,            nan],\n",
       "        [           nan,            nan],\n",
       "        [           nan,            nan],\n",
       "        [6.01194002e-04, 4.02798137e-02],\n",
       "        [           nan,            nan]],\n",
       "\n",
       "       [[3.30946683e-03, 1.88350175e-02],\n",
       "        [3.85431128e-04, 3.35983901e-02],\n",
       "        [           nan,            nan],\n",
       "        [           nan,            nan],\n",
       "        [           nan,            nan],\n",
       "        [4.86200063e-04, 3.18284967e-02],\n",
       "        [           nan,            nan]],\n",
       "\n",
       "       [[3.46135973e-03, 1.37133145e-02],\n",
       "        [3.26826316e-04, 2.61067769e-02],\n",
       "        [           nan,            nan],\n",
       "        [           nan,            nan],\n",
       "        [           nan,            nan],\n",
       "        [3.92873880e-04, 2.49907179e-02],\n",
       "        [           nan,            nan]],\n",
       "\n",
       "       [[3.62813233e-03, 1.05579138e-02],\n",
       "        [2.89050690e-04, 2.15449315e-02],\n",
       "        [           nan,            nan],\n",
       "        [           nan,            nan],\n",
       "        [           nan,            nan],\n",
       "        [3.35347137e-04, 2.07871950e-02],\n",
       "        [           nan,            nan]],\n",
       "\n",
       "       [[           nan,            nan],\n",
       "        [2.76217577e-04, 2.00474213e-02],\n",
       "        [           nan,            nan],\n",
       "        [           nan,            nan],\n",
       "        [           nan,            nan],\n",
       "        [3.16312683e-04, 1.93993835e-02],\n",
       "        [           nan,            nan]],\n",
       "\n",
       "       [[           nan,            nan],\n",
       "        [2.76217577e-04, 2.00474213e-02],\n",
       "        [           nan,            nan],\n",
       "        [           nan,            nan],\n",
       "        [           nan,            nan],\n",
       "        [3.16312683e-04, 1.93993835e-02],\n",
       "        [           nan,            nan]],\n",
       "\n",
       "       [[           nan,            nan],\n",
       "        [           nan,            nan],\n",
       "        [           nan,            nan],\n",
       "        [           nan,            nan],\n",
       "        [           nan,            nan],\n",
       "        [           nan,            nan],\n",
       "        [1.70863626e-05, 2.10506095e-04]],\n",
       "\n",
       "       [[           nan,            nan],\n",
       "        [           nan,            nan],\n",
       "        [           nan,            nan],\n",
       "        [           nan,            nan],\n",
       "        [           nan,            nan],\n",
       "        [           nan,            nan],\n",
       "        [1.57383381e-05, 1.27085713e-04]],\n",
       "\n",
       "       [[           nan,            nan],\n",
       "        [           nan,            nan],\n",
       "        [           nan,            nan],\n",
       "        [           nan,            nan],\n",
       "        [           nan,            nan],\n",
       "        [           nan,            nan],\n",
       "        [           nan,            nan]],\n",
       "\n",
       "       [[           nan,            nan],\n",
       "        [           nan,            nan],\n",
       "        [           nan,            nan],\n",
       "        [           nan,            nan],\n",
       "        [           nan,            nan],\n",
       "        [           nan,            nan],\n",
       "        [           nan,            nan]],\n",
       "\n",
       "       [[           nan,            nan],\n",
       "        [           nan,            nan],\n",
       "        [           nan,            nan],\n",
       "        [           nan,            nan],\n",
       "        [           nan,            nan],\n",
       "        [           nan,            nan],\n",
       "        [           nan,            nan]],\n",
       "\n",
       "       [[           nan,            nan],\n",
       "        [           nan,            nan],\n",
       "        [           nan,            nan],\n",
       "        [           nan,            nan],\n",
       "        [           nan,            nan],\n",
       "        [           nan,            nan],\n",
       "        [           nan,            nan]],\n",
       "\n",
       "       [[           nan,            nan],\n",
       "        [           nan,            nan],\n",
       "        [           nan,            nan],\n",
       "        [           nan,            nan],\n",
       "        [           nan,            nan],\n",
       "        [           nan,            nan],\n",
       "        [           nan,            nan]]])"
      ]
     },
     "execution_count": 113,
     "metadata": {},
     "output_type": "execute_result"
    }
   ],
   "source": [
    "arrayVisibleBoundBelleIIcffEqcWWEqcBB"
   ]
  },
  {
   "cell_type": "code",
   "execution_count": 114,
   "id": "english-confusion",
   "metadata": {},
   "outputs": [
    {
     "data": {
      "text/plain": [
       "[[[0.4659577946381072, 626.8647898574698],\n",
       "  [nan, nan],\n",
       "  [nan, nan],\n",
       "  [nan, nan],\n",
       "  [nan, nan],\n",
       "  [0.5337758597390725, 617.7099326649783],\n",
       "  [nan, nan]],\n",
       " [[0.38484809865476854, 466.05034344295757],\n",
       "  [nan, nan],\n",
       "  [nan, nan],\n",
       "  [nan, nan],\n",
       "  [nan, nan],\n",
       "  [0.40919439197361973, 462.9242769215577],\n",
       "  [nan, nan]],\n",
       " [[0.31712742144346756, 344.67624531732076],\n",
       "  [nan, nan],\n",
       "  [nan, nan],\n",
       "  [nan, nan],\n",
       "  [nan, nan],\n",
       "  [0.3186078182188146, 344.49729487667383],\n",
       "  [nan, nan]],\n",
       " [[0.2599573847024593, 252.00605570223007],\n",
       "  [nan, nan],\n",
       "  [nan, nan],\n",
       "  [nan, nan],\n",
       "  [nan, nan],\n",
       "  [0.2482976679754299, 253.3230831090265],\n",
       "  [nan, nan]],\n",
       " [[0.2118598416653347, 181.92573080443916],\n",
       "  [nan, nan],\n",
       "  [nan, nan],\n",
       "  [nan, nan],\n",
       "  [nan, nan],\n",
       "  [0.19293031665603158, 183.91107140007142],\n",
       "  [nan, nan]],\n",
       " [[0.17167821582359435, 129.6940529392911],\n",
       "  [nan, nan],\n",
       "  [nan, nan],\n",
       "  [nan, nan],\n",
       "  [nan, nan],\n",
       "  [0.14925930579324756, 131.86517307651062],\n",
       "  [nan, nan]],\n",
       " [[0.1383856181770438, 91.37994231442734],\n",
       "  [nan, nan],\n",
       "  [nan, nan],\n",
       "  [nan, nan],\n",
       "  [nan, nan],\n",
       "  [0.11493275598121078, 93.46714151609667],\n",
       "  [nan, nan]],\n",
       " [[0.11103114724046023, 63.710387932524476],\n",
       "  [nan, nan],\n",
       "  [nan, nan],\n",
       "  [nan, nan],\n",
       "  [nan, nan],\n",
       "  [0.08810095193718633, 65.57821265083852],\n",
       "  [nan, nan]],\n",
       " [[0.08873186506375018, 44.013582098794465],\n",
       "  [nan, nan],\n",
       "  [nan, nan],\n",
       "  [nan, nan],\n",
       "  [nan, nan],\n",
       "  [0.06725721612126828, 45.60945965870179],\n",
       "  [nan, nan]],\n",
       " [[0.07068056973749157, 30.16928037849955],\n",
       "  [nan, nan],\n",
       "  [nan, nan],\n",
       "  [nan, nan],\n",
       "  [nan, nan],\n",
       "  [0.05116290958641939, 31.48913480777933],\n",
       "  [nan, nan]],\n",
       " [[0.056155559840852236, 20.543817070280465],\n",
       "  [nan, nan],\n",
       "  [nan, nan],\n",
       "  [nan, nan],\n",
       "  [nan, nan],\n",
       "  [0.03880396477424557, 21.609426504678634],\n",
       "  [nan, nan]],\n",
       " [[0.044526280795144535, 13.91228555151313],\n",
       "  [nan, nan],\n",
       "  [nan, nan],\n",
       "  [nan, nan],\n",
       "  [nan, nan],\n",
       "  [0.02935856550573612, 14.756954229089846],\n",
       "  [nan, nan]],\n",
       " [[0.03548695144949646, 9.513609817760964],\n",
       "  [nan, nan],\n",
       "  [nan, nan],\n",
       "  [nan, nan],\n",
       "  [nan, nan],\n",
       "  [0.022393025997868674, 10.176938432161096],\n",
       "  [nan, nan]],\n",
       " [[0.035064446523297765, 9.323302755192236],\n",
       "  [nan, nan],\n",
       "  [nan, nan],\n",
       "  [nan, nan],\n",
       "  [nan, nan],\n",
       "  [0.022073682663831598, 9.978090878496717],\n",
       "  [nan, nan]],\n",
       " [[0.02898047874511772, 6.851533725851297],\n",
       "  [nan, nan],\n",
       "  [nan, nan],\n",
       "  [nan, nan],\n",
       "  [nan, nan],\n",
       "  [0.017726304139873212, 7.378444185062498],\n",
       "  [nan, nan]],\n",
       " [[0.02357044542712053, 4.88448591735366],\n",
       "  [nan, nan],\n",
       "  [nan, nan],\n",
       "  [nan, nan],\n",
       "  [nan, nan],\n",
       "  [0.013942646898881916, 5.299940874662868],\n",
       "  [nan, nan]],\n",
       " [[0.020076586184275668, 3.851252365748629],\n",
       "  [nan, nan],\n",
       "  [nan, nan],\n",
       "  [nan, nan],\n",
       "  [nan, nan],\n",
       "  [0.011765278726555504, 4.191975123038835],\n",
       "  [nan, nan]],\n",
       " [[0.005753219026985178, 0.21330218552100286],\n",
       "  [0.0016956947025299075, 0.2827603853548734],\n",
       "  [nan, nan],\n",
       "  [nan, nan],\n",
       "  [nan, nan],\n",
       "  [0.0032643075605159793, 0.24717726745879995],\n",
       "  [nan, nan]],\n",
       " [[0.004255445930408485, 0.08899991578056991],\n",
       "  [0.000977599915993179, 0.13003606540336762],\n",
       "  [nan, nan],\n",
       "  [nan, nan],\n",
       "  [nan, nan],\n",
       "  [0.0017129116619816755, 0.11513965193480667],\n",
       "  [nan, nan]],\n",
       " [[0.003740254359155054, 0.06130730360771403],\n",
       "  [0.0007743555863340035, 0.09334654255399057],\n",
       "  [nan, nan],\n",
       "  [nan, nan],\n",
       "  [nan, nan],\n",
       "  [0.0012699449627239542, 0.08367733237765174],\n",
       "  [nan, nan]],\n",
       " [[0.0034091279624848658, 0.045235814152293344],\n",
       "  [0.0006414141353844344, 0.07127844381049574],\n",
       "  [nan, nan],\n",
       "  [nan, nan],\n",
       "  [nan, nan],\n",
       "  [0.0009950205737860613, 0.06458843411701563],\n",
       "  [nan, nan]],\n",
       " [[0.0032758212959286236, 0.03814499236499598],\n",
       "  [0.0005778834753537151, 0.06133154048568077],\n",
       "  [nan, nan],\n",
       "  [nan, nan],\n",
       "  [nan, nan],\n",
       "  [0.0008690148344497425, 0.05591951809446296],\n",
       "  [nan, nan]],\n",
       " [[0.003215614291850606, 0.034152064243817185],\n",
       "  [0.0005404731574053681, 0.05566873197347223],\n",
       "  [nan, nan],\n",
       "  [nan, nan],\n",
       "  [nan, nan],\n",
       "  [0.0007966528044401263, 0.050961229490840705],\n",
       "  [nan, nan]],\n",
       " [[0.003208024522735838, 0.0335431721110336],\n",
       "  [0.0005346530117961077, 0.05480115409738676],\n",
       "  [nan, nan],\n",
       "  [nan, nan],\n",
       "  [nan, nan],\n",
       "  [0.0007855242435499075, 0.05019992997400598],\n",
       "  [nan, nan]],\n",
       " [[0.0031711180222342, 0.02592952151880364],\n",
       "  [0.0004589491026780115, 0.04385978522824607],\n",
       "  [nan, nan],\n",
       "  [nan, nan],\n",
       "  [nan, nan],\n",
       "  [0.0006441495584134097, 0.040555456846260926],\n",
       "  [nan, nan]],\n",
       " [[0.0032404445618620303, 0.019580978008270758],\n",
       "  [0.0003909242022111156, 0.0346052289603275],\n",
       "  [nan, nan],\n",
       "  [nan, nan],\n",
       "  [nan, nan],\n",
       "  [0.000522943077396365, 0.03232195952289219],\n",
       "  [nan, nan]],\n",
       " [[0.003349916756045355, 0.014544131787149769],\n",
       "  [0.0003330272448237941, 0.02719950497402464],\n",
       "  [nan, nan],\n",
       "  [nan, nan],\n",
       "  [nan, nan],\n",
       "  [0.0004247148002173423, 0.02566687462125131],\n",
       "  [nan, nan]],\n",
       " [[0.0034630159593136483, 0.011462563988309228],\n",
       "  [0.000295759565992104, 0.022683323847421784],\n",
       "  [nan, nan],\n",
       "  [nan, nan],\n",
       "  [nan, nan],\n",
       "  [0.00036418149098182344, 0.02157081958147168],\n",
       "  [nan, nan]],\n",
       " [[0.0035185927853755156, 0.010436024284741385],\n",
       "  [0.0002831016924859698, 0.021197520395011132],\n",
       "  [nan, nan],\n",
       "  [nan, nan],\n",
       "  [nan, nan],\n",
       "  [0.00034414369688118485, 0.020215696780342678],\n",
       "  [nan, nan]],\n",
       " [[0.0035185927853755156, 0.010436024284741385],\n",
       "  [0.0002831016924859698, 0.021197520395011132],\n",
       "  [nan, nan],\n",
       "  [nan, nan],\n",
       "  [nan, nan],\n",
       "  [0.00034414369688118485, 0.020215696780342678],\n",
       "  [nan, nan]],\n",
       " [[nan, nan],\n",
       "  [nan, nan],\n",
       "  [nan, nan],\n",
       "  [nan, nan],\n",
       "  [nan, nan],\n",
       "  [nan, nan],\n",
       "  [1.7148626983299357e-05, 0.00021019575116330044]],\n",
       " [[nan, nan],\n",
       "  [nan, nan],\n",
       "  [nan, nan],\n",
       "  [nan, nan],\n",
       "  [nan, nan],\n",
       "  [nan, nan],\n",
       "  [1.5827555905867714e-05, 0.0001268652783723677]],\n",
       " [[nan, nan],\n",
       "  [nan, nan],\n",
       "  [nan, nan],\n",
       "  [nan, nan],\n",
       "  [nan, nan],\n",
       "  [nan, nan],\n",
       "  [nan, nan]],\n",
       " [[nan, nan],\n",
       "  [nan, nan],\n",
       "  [nan, nan],\n",
       "  [nan, nan],\n",
       "  [nan, nan],\n",
       "  [nan, nan],\n",
       "  [nan, nan]],\n",
       " [[nan, nan],\n",
       "  [nan, nan],\n",
       "  [nan, nan],\n",
       "  [nan, nan],\n",
       "  [nan, nan],\n",
       "  [nan, nan],\n",
       "  [nan, nan]],\n",
       " [[nan, nan],\n",
       "  [nan, nan],\n",
       "  [nan, nan],\n",
       "  [nan, nan],\n",
       "  [nan, nan],\n",
       "  [nan, nan],\n",
       "  [nan, nan]],\n",
       " [[nan, nan],\n",
       "  [nan, nan],\n",
       "  [nan, nan],\n",
       "  [nan, nan],\n",
       "  [nan, nan],\n",
       "  [nan, nan],\n",
       "  [nan, nan]]]"
      ]
     },
     "execution_count": 114,
     "metadata": {},
     "output_type": "execute_result"
    }
   ],
   "source": [
    "listVisibleBoundBelleIIcff"
   ]
  },
  {
   "cell_type": "code",
   "execution_count": 144,
   "id": "dynamic-valley",
   "metadata": {},
   "outputs": [
    {
     "data": {
      "text/plain": [
       "[[[14.653675353493785, 814.1159220443234],\n",
       "  [nan, nan],\n",
       "  [nan, nan],\n",
       "  [nan, nan],\n",
       "  [nan, nan],\n",
       "  [2.730636431734552, 1120.0072212236569],\n",
       "  [nan, nan]],\n",
       " [[11.764599383601563, 531.0678816293151],\n",
       "  [nan, nan],\n",
       "  [nan, nan],\n",
       "  [nan, nan],\n",
       "  [nan, nan],\n",
       "  [2.0497344707002103, 752.6840014372358],\n",
       "  [nan, nan]],\n",
       " [[9.52357725195511, 344.72729483647464],\n",
       "  [nan, nan],\n",
       "  [nan, nan],\n",
       "  [nan, nan],\n",
       "  [nan, nan],\n",
       "  [1.5378063024848159, 505.609201759485],\n",
       "  [nan, nan]],\n",
       " [[7.807567144256682, 222.31400799839528],\n",
       "  [nan, nan],\n",
       "  [nan, nan],\n",
       "  [nan, nan],\n",
       "  [nan, nan],\n",
       "  [1.1538487731039027, 339.4998346681105],\n",
       "  [nan, nan]],\n",
       " [[6.535429532815657, 142.1845192979698],\n",
       "  [nan, nan],\n",
       "  [nan, nan],\n",
       "  [nan, nan],\n",
       "  [nan, nan],\n",
       "  [0.8658646966228285, 227.8376185479614],\n",
       "  [nan, nan]],\n",
       " [[5.690735166081582, 89.80542151474388],\n",
       "  [nan, nan],\n",
       "  [nan, nan],\n",
       "  [nan, nan],\n",
       "  [nan, nan],\n",
       "  [0.6498559632330398, 152.86398892380706],\n",
       "  [nan, nan]],\n",
       " [[5.463290222369208, 55.66233870169897],\n",
       "  [nan, nan],\n",
       "  [nan, nan],\n",
       "  [nan, nan],\n",
       "  [nan, nan],\n",
       "  [0.4878252290273423, 102.46883390256744],\n",
       "  [nan, nan]],\n",
       " [[6.36202984670874, 33.333699617937725],\n",
       "  [nan, nan],\n",
       "  [nan, nan],\n",
       "  [nan, nan],\n",
       "  [nan, nan],\n",
       "  [0.36627593010657516, 68.64713519485666],\n",
       "  [nan, nan]],\n",
       " [[nan, nan],\n",
       "  [nan, nan],\n",
       "  [nan, nan],\n",
       "  [nan, nan],\n",
       "  [nan, nan],\n",
       "  [0.2750806619021856, 45.95842954582706],\n",
       "  [nan, nan]],\n",
       " [[nan, nan],\n",
       "  [nan, nan],\n",
       "  [nan, nan],\n",
       "  [nan, nan],\n",
       "  [nan, nan],\n",
       "  [0.27102896661960635, 45.01127848199532],\n",
       "  [nan, nan]],\n",
       " [[nan, nan],\n",
       "  [nan, nan],\n",
       "  [nan, nan],\n",
       "  [nan, nan],\n",
       "  [nan, nan],\n",
       "  [0.2066436557534186, 30.744574141911873],\n",
       "  [nan, nan]],\n",
       " [[nan, nan],\n",
       "  [nan, nan],\n",
       "  [nan, nan],\n",
       "  [nan, nan],\n",
       "  [nan, nan],\n",
       "  [0.15529698459737337, 20.555584622171537],\n",
       "  [nan, nan]],\n",
       " [[nan, nan],\n",
       "  [nan, nan],\n",
       "  [nan, nan],\n",
       "  [nan, nan],\n",
       "  [nan, nan],\n",
       "  [0.11675210026077618, 13.725792765161282],\n",
       "  [nan, nan]],\n",
       " [[nan, nan],\n",
       "  [0.3132157025514787, 6.51705618482961],\n",
       "  [nan, nan],\n",
       "  [nan, nan],\n",
       "  [nan, nan],\n",
       "  [0.08778870362895078, 9.150799782238954],\n",
       "  [nan, nan]],\n",
       " [[nan, nan],\n",
       "  [0.21590631742104321, 4.427324754063586],\n",
       "  [nan, nan],\n",
       "  [nan, nan],\n",
       "  [nan, nan],\n",
       "  [0.06614603277146677, 6.105816743438934],\n",
       "  [nan, nan]],\n",
       " [[nan, nan],\n",
       "  [0.1793074666002793, 2.838691363067611],\n",
       "  [nan, nan],\n",
       "  [nan, nan],\n",
       "  [nan, nan],\n",
       "  [0.049870293891135994, 4.0678203740943575],\n",
       "  [nan, nan]],\n",
       " [[nan, nan],\n",
       "  [0.16458942990761077, 1.780053381273672],\n",
       "  [nan, nan],\n",
       "  [nan, nan],\n",
       "  [nan, nan],\n",
       "  [0.037632303873416505, 2.7053711820583146],\n",
       "  [nan, nan]],\n",
       " [[nan, nan],\n",
       "  [0.17123858898844635, 1.3246223960259853],\n",
       "  [nan, nan],\n",
       "  [nan, nan],\n",
       "  [nan, nan],\n",
       "  [0.03178574592977728, 2.116514642266185],\n",
       "  [nan, nan]],\n",
       " [[nan, nan],\n",
       "  [0.1820827976193746, 1.0798607190219671],\n",
       "  [nan, nan],\n",
       "  [nan, nan],\n",
       "  [nan, nan],\n",
       "  [0.028431142066322652, 1.7972359364337702],\n",
       "  [nan, nan]],\n",
       " [[nan, nan],\n",
       "  [0.1840921213404059, 1.0434724914041482],\n",
       "  [nan, nan],\n",
       "  [nan, nan],\n",
       "  [nan, nan],\n",
       "  [0.027917704155146005, 1.7497363477411911],\n",
       "  [nan, nan]],\n",
       " [[nan, nan],\n",
       "  [nan, nan],\n",
       "  [nan, nan],\n",
       "  [nan, nan],\n",
       "  [nan, nan],\n",
       "  [0.02151291429200417, 1.1902546820215028],\n",
       "  [nan, nan]],\n",
       " [[nan, nan],\n",
       "  [nan, nan],\n",
       "  [nan, nan],\n",
       "  [nan, nan],\n",
       "  [nan, nan],\n",
       "  [0.01631060244868075, 0.786130316099765],\n",
       "  [nan, nan]],\n",
       " [[nan, nan],\n",
       "  [nan, nan],\n",
       "  [nan, nan],\n",
       "  [nan, nan],\n",
       "  [nan, nan],\n",
       "  [0.012398336225580123, 0.5174464419998451],\n",
       "  [nan, nan]],\n",
       " [[nan, nan],\n",
       "  [nan, nan],\n",
       "  [nan, nan],\n",
       "  [nan, nan],\n",
       "  [nan, nan],\n",
       "  [0.010162788186838355, 0.3798370711255029],\n",
       "  [nan, nan]],\n",
       " [[nan, nan],\n",
       "  [nan, nan],\n",
       "  [nan, nan],\n",
       "  [nan, nan],\n",
       "  [nan, nan],\n",
       "  [0.00945678668506935, 0.33908459210026914],\n",
       "  [nan, nan]],\n",
       " [[nan, nan],\n",
       "  [nan, nan],\n",
       "  [nan, nan],\n",
       "  [nan, nan],\n",
       "  [nan, nan],\n",
       "  [0.00945678668506935, 0.33908459210026914],\n",
       "  [nan, nan]],\n",
       " [[nan, nan],\n",
       "  [nan, nan],\n",
       "  [nan, nan],\n",
       "  [nan, nan],\n",
       "  [nan, nan],\n",
       "  [0.005396452473549289, 0.13134807199814885],\n",
       "  [0.010918330984202985, 0.10709681473135753]],\n",
       " [[nan, nan],\n",
       "  [nan, nan],\n",
       "  [nan, nan],\n",
       "  [nan, nan],\n",
       "  [nan, nan],\n",
       "  [0.003771214243505383, 0.06678555167947137],\n",
       "  [0.013011710862719008, 0.04789223152978978]],\n",
       " [[nan, nan],\n",
       "  [nan, nan],\n",
       "  [nan, nan],\n",
       "  [nan, nan],\n",
       "  [nan, nan],\n",
       "  [0.003015860061652556, 0.0379704371882345],\n",
       "  [nan, nan]],\n",
       " [[nan, nan],\n",
       "  [nan, nan],\n",
       "  [nan, nan],\n",
       "  [nan, nan],\n",
       "  [nan, nan],\n",
       "  [0.00283897975662831, 0.02287630700466895],\n",
       "  [nan, nan]],\n",
       " [[nan, nan],\n",
       "  [nan, nan],\n",
       "  [nan, nan],\n",
       "  [nan, nan],\n",
       "  [nan, nan],\n",
       "  [0.0029076083096564375, 0.018815859474184096],\n",
       "  [nan, nan]],\n",
       " [[nan, nan],\n",
       "  [nan, nan],\n",
       "  [nan, nan],\n",
       "  [nan, nan],\n",
       "  [nan, nan],\n",
       "  [0.0030802423956387786, 0.014009826867546558],\n",
       "  [nan, nan]],\n",
       " [[nan, nan],\n",
       "  [nan, nan],\n",
       "  [nan, nan],\n",
       "  [nan, nan],\n",
       "  [nan, nan],\n",
       "  [0.003688042168461956, 0.008100345399113662],\n",
       "  [nan, nan]]]"
      ]
     },
     "execution_count": 144,
     "metadata": {},
     "output_type": "execute_result"
    }
   ],
   "source": [
    "listVisibleBoundBelleIIcWW"
   ]
  },
  {
   "cell_type": "markdown",
   "id": "limited-mitchell",
   "metadata": {},
   "source": [
    "### saving bounds to files"
   ]
  },
  {
   "cell_type": "code",
   "execution_count": 145,
   "id": "tested-oracle",
   "metadata": {},
   "outputs": [],
   "source": [
    "# with open('output/masslist.csv', 'w') as f:\n",
    "#    ww = csv.writer(f, delimiter=',')\n",
    "#    ww.writerows(masslist) \n",
    "    \n",
    "with open('output/visibleBoundBelleIIcffEqcWWEqcBB.csv', 'w') as f:\n",
    "   ww = csv.writer(f, delimiter=',')\n",
    "   ww.writerows(listVisibleBoundBelleIIcffEqcWWEqcBB) \n",
    "    \n",
    "with open('output/visibleBoundBelleIIcff.csv', 'w') as f:\n",
    "   ww = csv.writer(f, delimiter=',')\n",
    "   ww.writerows(listVisibleBoundBelleIIcff) \n",
    "    \n",
    "with open('output/visibleBoundBelleIIcWW.csv', 'w') as f:\n",
    "   ww = csv.writer(f, delimiter=',')\n",
    "   ww.writerows(listVisibleBoundBelleIIcWW) "
   ]
  },
  {
   "cell_type": "markdown",
   "id": "social-relevance",
   "metadata": {},
   "source": [
    "### plots"
   ]
  },
  {
   "cell_type": "markdown",
   "id": "legislative-letter",
   "metadata": {},
   "source": [
    "#### decays under consideration encoded as\n",
    "0: e\n",
    "1: mu\n",
    "2: tau\n",
    "3: charm\n",
    "4: bottom\n",
    "5: photon\n",
    "6: hadron"
   ]
  },
  {
   "cell_type": "code",
   "execution_count": 116,
   "id": "surprising-community",
   "metadata": {},
   "outputs": [],
   "source": [
    "def plotBounds(boundsArray, particleCode, upper=False):\n",
    "    if upper:\n",
    "        return np.vstack([np.array(masslist),boundsArray[:,particleCode,1]]).T\n",
    "    else:\n",
    "        return np.vstack([np.array(masslist),boundsArray[:,particleCode,0]]).T"
   ]
  },
  {
   "cell_type": "code",
   "execution_count": 159,
   "id": "inappropriate-graduate",
   "metadata": {},
   "outputs": [
    {
     "name": "stderr",
     "output_type": "stream",
     "text": [
      "<ipython-input-19-de56bdf3d9c0>:46: ComplexWarning: Casting complex values to real discards the imaginary part\n",
      "  return float(gamma)\n",
      "<ipython-input-19-de56bdf3d9c0>:109: ComplexWarning: Casting complex values to real discards the imaginary part\n",
      "  return float(gamma)\n"
     ]
    },
    {
     "data": {
      "image/png": "[encoded data removed]",
      "text/plain": [
       "<Figure size 648x504 with 1 Axes>"
      ]
     },
     "metadata": {
      "needs_background": "light"
     },
     "output_type": "display_data"
    },
    {
     "name": "stderr",
     "output_type": "stream",
     "text": [
      "<ipython-input-159-7527a81cdd2e>:10: MatplotlibDeprecationWarning: savefig() got unexpected keyword argument \"Xbbox_inches\" which is no longer supported as of 3.3 and will become an error two minor releases later\n",
      "  figBRcWW.savefig('plots/cWW={}'.format(cffPlot), dpi=300, Xbbox_inches='tight')\n"
     ]
    }
   ],
   "source": [
    "cffPlot=1\n",
    "cWWPlot=10\n",
    "\n",
    "\n",
    "# figBRcffEqcWWEqcBB=brsALP(cffPlot,-cffPlot,-cffPlot,cffPlot,-cffPlot,0,cffPlot,cffPlot,\\\n",
    "#                           'cff=cWW=cBB={}'.format(cffPlot),10**3)\n",
    "# figBRcffEqcWWEqcBB.savefig('plots/cff=cWW=cBB={}'.format(cffPlot), dpi=300, bbox_inches='tight')\n",
    "\n",
    "figBRcWW=brsALP(0,0,0,0,0,0,cWWPlot,0,'cWW={}'.format(cWWPlot),10**3)\n",
    "figBRcWW.savefig('plots/cWW={}'.format(cffPlot), dpi=300, Xbbox_inches='tight')\n",
    "\n",
    "# figBRcff=brsALP(cffPlot,-cffPlot,-cffPlot,cffPlot,-cffPlot,0,0,0,'cff={}'.format(cffPlot),10**3)\n",
    "# figBRcff.savefig('plotscff={}'.format(cffPlot), dpi=300, bbox_inches='tight')\n"
   ]
  },
  {
   "cell_type": "code",
   "execution_count": 146,
   "id": "searching-vulnerability",
   "metadata": {},
   "outputs": [
    {
     "data": {
      "image/png": "[encoded data removed]",
      "text/plain": [
       "<Figure size 648x504 with 1 Axes>"
      ]
     },
     "metadata": {
      "needs_background": "light"
     },
     "output_type": "display_data"
    }
   ],
   "source": [
    "fig, ax = plt.subplots(figsize=(9, 7))\n",
    "\n",
    "ax.plot(masslist,arrayVisibleBoundBelleIIcffEqcWWEqcBB[:,0,0],label='cff=cWW=cBB',c=\"darkblue\") \n",
    "ax.plot(masslist,arrayVisibleBoundBelleIIcffEqcWWEqcBB[:,0,1],c=\"darkblue\") \n",
    "\n",
    "ax.plot(masslist,arrayVisibleBoundBelleIIcff[:,0,0],label='just cff',c=\"teal\") \n",
    "ax.plot(masslist,arrayVisibleBoundBelleIIcff[:,0,1],c=\"teal\") \n",
    "\n",
    "ax.plot(masslist[4:],arrayVisibleBoundBelleIIcWW[:,0,0],label='just cWW',c=\"mediumseagreen\") \n",
    "ax.plot(masslist[4:],arrayVisibleBoundBelleIIcWW[:,0,1],c=\"mediumseagreen\") \n",
    "\n",
    "# ax.plot(masses,boundsCffZero,label='just cff', ls='--') \n",
    "# ax.plot(masses,boundsCWWZero,label='just cWW', ls=':') \n",
    "# ax.plot(masses,boundsCBBZero,label='just cBB', ls='-.') \n",
    "\n",
    "ax.set_title('$B\\\\rightarrow K e^+ e^-$')\n",
    "\n",
    "ax.set_xlabel('ALP mass ma [GeV]')\n",
    "ax.set_ylabel('Belle II bound on coupling')\n",
    "ax.set_xscale('log')\n",
    "ax.set_yscale('log')\n",
    "ax.legend()\n",
    "\n",
    "plt.savefig('plots/visibleBoundBelleII-electrons.png', dpi=300, bbox_inches='tight')"
   ]
  },
  {
   "cell_type": "code",
   "execution_count": 147,
   "id": "dressed-fundamentals",
   "metadata": {},
   "outputs": [
    {
     "name": "stderr",
     "output_type": "stream",
     "text": [
      "<ipython-input-140-d5f8338667dc>:38: FutureWarning: arrays to stack must be passed as a \"sequence\" type such as list or tuple. Support for non-sequence iterables such as generators is deprecated as of NumPy 1.16 and will raise an error in the future.\n",
      "  nsignalAt95CLBelleIIcWWEstimate=np.vstack(([coupling,nsignalAt95CLBelleIIcWW(coupling,ma,finalStateCode,\\\n",
      "<ipython-input-19-de56bdf3d9c0>:46: ComplexWarning: Casting complex values to real discards the imaginary part\n",
      "  return float(gamma)\n",
      "<ipython-input-36-1f1779c84ac1>:8: IntegrationWarning: The maximum number of subdivisions (50) has been achieved.\n",
      "  If increasing the limit yields no improvement it is advised to analyze \n",
      "  the integrand in order to determine the difficulties.  If the position of a \n",
      "  local difficulty can be determined (singularity, discontinuity) one will \n",
      "  probably gain from splitting up the interval and calling the integrator \n",
      "  on the subranges.  Perhaps a special-purpose integrator should be used.\n",
      "  return 1/(4 * (gammaBeta * ctau)**2) * integrate.quad(lambda theta: (1/np.sin(theta)) \\\n",
      "<ipython-input-36-1f1779c84ac1>:8: IntegrationWarning: The integral is probably divergent, or slowly convergent.\n",
      "  return 1/(4 * (gammaBeta * ctau)**2) * integrate.quad(lambda theta: (1/np.sin(theta)) \\\n"
     ]
    },
    {
     "data": {
      "text/plain": [
       "[nan, nan]"
      ]
     },
     "execution_count": 147,
     "metadata": {},
     "output_type": "execute_result"
    }
   ],
   "source": [
    "visibleBoundBelleIIcWW(0.101,0,10**3,3)"
   ]
  },
  {
   "cell_type": "code",
   "execution_count": 148,
   "id": "advanced-bailey",
   "metadata": {},
   "outputs": [
    {
     "name": "stderr",
     "output_type": "stream",
     "text": [
      "<ipython-input-140-d5f8338667dc>:3: FutureWarning: arrays to stack must be passed as a \"sequence\" type such as list or tuple. Support for non-sequence iterables such as generators is deprecated as of NumPy 1.16 and will raise an error in the future.\n",
      "  nsignalAt95CLBelleIIAllcEqualEstimate=np.vstack(([coupling,nsignalAt95CLBelleIIAllcEqual(\\\n",
      "<ipython-input-19-de56bdf3d9c0>:46: ComplexWarning: Casting complex values to real discards the imaginary part\n",
      "  return float(gamma)\n",
      "<ipython-input-36-1f1779c84ac1>:8: IntegrationWarning: The maximum number of subdivisions (50) has been achieved.\n",
      "  If increasing the limit yields no improvement it is advised to analyze \n",
      "  the integrand in order to determine the difficulties.  If the position of a \n",
      "  local difficulty can be determined (singularity, discontinuity) one will \n",
      "  probably gain from splitting up the interval and calling the integrator \n",
      "  on the subranges.  Perhaps a special-purpose integrator should be used.\n",
      "  return 1/(4 * (gammaBeta * ctau)**2) * integrate.quad(lambda theta: (1/np.sin(theta)) \\\n",
      "<ipython-input-36-1f1779c84ac1>:8: IntegrationWarning: The occurrence of roundoff error is detected, which prevents \n",
      "  the requested tolerance from being achieved.  The error may be \n",
      "  underestimated.\n",
      "  return 1/(4 * (gammaBeta * ctau)**2) * integrate.quad(lambda theta: (1/np.sin(theta)) \\\n"
     ]
    },
    {
     "data": {
      "text/plain": [
       "[0.0036281323287399463, 0.010557913762586135]"
      ]
     },
     "execution_count": 148,
     "metadata": {},
     "output_type": "execute_result"
    }
   ],
   "source": [
    "visibleBoundBelleIIcffEqcWWEqcBB(0.95,0,10**3,3)"
   ]
  },
  {
   "cell_type": "code",
   "execution_count": 149,
   "id": "pressed-basket",
   "metadata": {},
   "outputs": [
    {
     "data": {
      "image/png": "[encoded data removed]",
      "text/plain": [
       "<Figure size 648x504 with 1 Axes>"
      ]
     },
     "metadata": {
      "needs_background": "light"
     },
     "output_type": "display_data"
    }
   ],
   "source": [
    "fig, ax = plt.subplots(figsize=(9, 7))\n",
    "\n",
    "ax.plot(masslist,arrayVisibleBoundBelleIIcffEqcWWEqcBB[:,1,0],label='cff=cWW=cBB',c=\"darkblue\") \n",
    "ax.plot(masslist,arrayVisibleBoundBelleIIcffEqcWWEqcBB[:,1,1],c=\"darkblue\") \n",
    "\n",
    "ax.plot(masslist,arrayVisibleBoundBelleIIcff[:,1,0],label='just cff',c=\"teal\") \n",
    "ax.plot(masslist,arrayVisibleBoundBelleIIcff[:,1,1],c=\"teal\") \n",
    "\n",
    "ax.plot(masslist[4:],arrayVisibleBoundBelleIIcWW[:,1,0],label='just cWW',c=\"mediumseagreen\") \n",
    "ax.plot(masslist[4:],arrayVisibleBoundBelleIIcWW[:,1,1],c=\"mediumseagreen\") \n",
    "\n",
    "# ax.plot(masses,boundsCffZero,label='just cff', ls='--') \n",
    "# ax.plot(masses,boundsCWWZero,label='just cWW', ls=':') \n",
    "# ax.plot(masses,boundsCBBZero,label='just cBB', ls='-.') \n",
    "\n",
    "ax.set_title('$B\\\\rightarrow K \\\\mu^+ \\\\mu^-$')\n",
    "\n",
    "ax.set_xlabel('ALP mass ma [GeV]')\n",
    "ax.set_ylabel('Belle II bound on coupling')\n",
    "ax.set_xscale('log')\n",
    "ax.set_yscale('log')\n",
    "ax.legend()\n",
    "\n",
    "plt.savefig('plots/visibleBoundBelleII-muons.png', dpi=300, bbox_inches='tight')"
   ]
  },
  {
   "cell_type": "code",
   "execution_count": 80,
   "id": "aquatic-danger",
   "metadata": {},
   "outputs": [
    {
     "name": "stderr",
     "output_type": "stream",
     "text": [
      "<ipython-input-48-2b61bc1373f6>:23: FutureWarning: arrays to stack must be passed as a \"sequence\" type such as list or tuple. Support for non-sequence iterables such as generators is deprecated as of NumPy 1.16 and will raise an error in the future.\n",
      "  nsignalAt95CLBelleIIcffEstimate=np.vstack(([coupling,nsignalAt95CLBelleIIcff(coupling,ma,finalStateCode,\\\n",
      "<ipython-input-19-de56bdf3d9c0>:46: ComplexWarning: Casting complex values to real discards the imaginary part\n",
      "  return float(gamma)\n",
      "<ipython-input-19-de56bdf3d9c0>:109: ComplexWarning: Casting complex values to real discards the imaginary part\n",
      "  return float(gamma)\n"
     ]
    },
    {
     "data": {
      "text/plain": [
       "[nan, nan]"
      ]
     },
     "execution_count": 80,
     "metadata": {},
     "output_type": "execute_result"
    }
   ],
   "source": [
    "visibleBoundBelleIIcff(2,1,10**3,3)"
   ]
  },
  {
   "cell_type": "code",
   "execution_count": 83,
   "id": "freelance-percentage",
   "metadata": {},
   "outputs": [
    {
     "name": "stderr",
     "output_type": "stream",
     "text": [
      "<ipython-input-48-2b61bc1373f6>:38: FutureWarning: arrays to stack must be passed as a \"sequence\" type such as list or tuple. Support for non-sequence iterables such as generators is deprecated as of NumPy 1.16 and will raise an error in the future.\n",
      "  nsignalAt95CLBelleIIcWWEstimate=np.vstack(([coupling,nsignalAt95CLBelleIIcWW(coupling,ma,finalStateCode,\\\n",
      "<ipython-input-19-de56bdf3d9c0>:46: ComplexWarning: Casting complex values to real discards the imaginary part\n",
      "  return float(gamma)\n",
      "<ipython-input-36-1f1779c84ac1>:8: IntegrationWarning: The integral is probably divergent, or slowly convergent.\n",
      "  return 1/(4 * (gammaBeta * ctau)**2) * integrate.quad(lambda theta: (1/np.sin(theta)) \\\n",
      "<ipython-input-36-1f1779c84ac1>:8: IntegrationWarning: The maximum number of subdivisions (50) has been achieved.\n",
      "  If increasing the limit yields no improvement it is advised to analyze \n",
      "  the integrand in order to determine the difficulties.  If the position of a \n",
      "  local difficulty can be determined (singularity, discontinuity) one will \n",
      "  probably gain from splitting up the interval and calling the integrator \n",
      "  on the subranges.  Perhaps a special-purpose integrator should be used.\n",
      "  return 1/(4 * (gammaBeta * ctau)**2) * integrate.quad(lambda theta: (1/np.sin(theta)) \\\n",
      "<ipython-input-36-1f1779c84ac1>:8: IntegrationWarning: The occurrence of roundoff error is detected, which prevents \n",
      "  the requested tolerance from being achieved.  The error may be \n",
      "  underestimated.\n",
      "  return 1/(4 * (gammaBeta * ctau)**2) * integrate.quad(lambda theta: (1/np.sin(theta)) \\\n"
     ]
    },
    {
     "data": {
      "text/plain": [
       "[0.1840921213400842, 1.043472491404147]"
      ]
     },
     "execution_count": 83,
     "metadata": {},
     "output_type": "execute_result"
    }
   ],
   "source": [
    "visibleBoundBelleIIcWW(0.47,1,10**3,3)"
   ]
  },
  {
   "cell_type": "code",
   "execution_count": 150,
   "id": "judicial-cyprus",
   "metadata": {},
   "outputs": [
    {
     "data": {
      "image/png": "[encoded data removed]",
      "text/plain": [
       "<Figure size 648x504 with 1 Axes>"
      ]
     },
     "metadata": {
      "needs_background": "light"
     },
     "output_type": "display_data"
    }
   ],
   "source": [
    "fig, ax = plt.subplots(figsize=(9, 7))\n",
    "\n",
    "ax.plot(masslist,arrayVisibleBoundBelleIIcffEqcWWEqcBB[:,5,0],label='cff=cWW=cBB',c=\"darkblue\") \n",
    "ax.plot(masslist,arrayVisibleBoundBelleIIcffEqcWWEqcBB[:,5,1],c=\"darkblue\") \n",
    "\n",
    "ax.plot(masslist,arrayVisibleBoundBelleIIcff[:,5,0],label='just cff',c=\"teal\") \n",
    "ax.plot(masslist,arrayVisibleBoundBelleIIcff[:,5,1],c=\"teal\") \n",
    "\n",
    "ax.plot(masslist[4:],arrayVisibleBoundBelleIIcWW[:,5,0],label='just cWW',c=\"mediumseagreen\") \n",
    "ax.plot(masslist[4:],arrayVisibleBoundBelleIIcWW[:,5,1],c=\"mediumseagreen\") \n",
    "\n",
    "# ax.plot(masses,boundsCffZero,label='just cff', ls='--') \n",
    "# ax.plot(masses,boundsCWWZero,label='just cWW', ls=':') \n",
    "# ax.plot(masses,boundsCBBZero,label='just cBB', ls='-.') \n",
    "\n",
    "ax.set_title('$B\\\\rightarrow K \\\\gamma \\\\gamma$')\n",
    "\n",
    "ax.set_xlabel('ALP mass ma [GeV]')\n",
    "ax.set_ylabel('Belle II bound on coupling')\n",
    "ax.set_xscale('log')\n",
    "ax.set_yscale('log')\n",
    "ax.legend()\n",
    "\n",
    "plt.savefig('plots/visibleBoundBelleII-photons.png', dpi=300, bbox_inches='tight')"
   ]
  },
  {
   "cell_type": "code",
   "execution_count": 104,
   "id": "interim-headline",
   "metadata": {},
   "outputs": [
    {
     "name": "stderr",
     "output_type": "stream",
     "text": [
      "<ipython-input-48-2b61bc1373f6>:38: FutureWarning: arrays to stack must be passed as a \"sequence\" type such as list or tuple. Support for non-sequence iterables such as generators is deprecated as of NumPy 1.16 and will raise an error in the future.\n",
      "  nsignalAt95CLBelleIIcWWEstimate=np.vstack(([coupling,nsignalAt95CLBelleIIcWW(coupling,ma,finalStateCode,\\\n",
      "<ipython-input-19-de56bdf3d9c0>:46: ComplexWarning: Casting complex values to real discards the imaginary part\n",
      "  return float(gamma)\n",
      "<ipython-input-19-de56bdf3d9c0>:109: ComplexWarning: Casting complex values to real discards the imaginary part\n",
      "  return float(gamma)\n",
      "<ipython-input-36-1f1779c84ac1>:8: IntegrationWarning: The integral is probably divergent, or slowly convergent.\n",
      "  return 1/(4 * (gammaBeta * ctau)**2) * integrate.quad(lambda theta: (1/np.sin(theta)) \\\n",
      "<ipython-input-36-1f1779c84ac1>:8: IntegrationWarning: The occurrence of roundoff error is detected, which prevents \n",
      "  the requested tolerance from being achieved.  The error may be \n",
      "  underestimated.\n",
      "  return 1/(4 * (gammaBeta * ctau)**2) * integrate.quad(lambda theta: (1/np.sin(theta)) \\\n"
     ]
    },
    {
     "data": {
      "text/plain": [
       "[nan, nan]"
      ]
     },
     "execution_count": 104,
     "metadata": {},
     "output_type": "execute_result"
    }
   ],
   "source": [
    "visibleBoundBelleIIcWW(4,5,10**3,3)"
   ]
  },
  {
   "cell_type": "code",
   "execution_count": null,
   "id": "invalid-notice",
   "metadata": {},
   "outputs": [],
   "source": []
  }
 ],
 "metadata": {
  "kernelspec": {
   "display_name": "Python 3",
   "language": "python",
   "name": "python3"
  },
  "language_info": {
   "codemirror_mode": {
    "name": "ipython",
    "version": 3
   },
   "file_extension": ".py",
   "mimetype": "text/x-python",
   "name": "python",
   "nbconvert_exporter": "python",
   "pygments_lexer": "ipython3",
   "version": "3.8.6"
  }
 },
 "nbformat": 4,
 "nbformat_minor": 5
}
