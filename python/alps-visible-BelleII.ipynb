{
 "cells": [
  {
   "cell_type": "markdown",
   "id": "through-captain",
   "metadata": {},
   "source": [
    "Units used: GeV for masses, s for time, cm for distances"
   ]
  },
  {
   "cell_type": "code",
   "execution_count": 443,
   "id": "political-fault",
   "metadata": {},
   "outputs": [],
   "source": [
    "import glob\n",
    "import matplotlib as mlib\n",
    "import matplotlib.pyplot as plt\n",
    "import numpy as np\n",
    "from numpy import genfromtxt\n",
    "from numpy import loadtxt\n",
    "import re\n",
    "import csv\n",
    "import matplotlib.colors as mcolors\n",
    "import matplotlib.cm as cm\n",
    "import matplotlib.patches as mpatches\n",
    "\n",
    "import sys\n",
    "sys.path.insert(1, '/home/stasya/prj/alps-running/TdAlps-Internal/')\n",
    "import TdAlps\n",
    "from collections import OrderedDict\n",
    "\n",
    "import scipy.integrate as integrate\n",
    "import scipy.optimize as optimize\n",
    "\n",
    "import csv"
   ]
  },
  {
   "cell_type": "code",
   "execution_count": 444,
   "id": "foreign-nancy",
   "metadata": {},
   "outputs": [],
   "source": [
    "#Plotting settings\n",
    "\n",
    "font = {\n",
    "        'weight' : 'normal',\n",
    "        'size'   : 16}\n",
    "\n",
    "mlib.rc('font', **font)"
   ]
  },
  {
   "cell_type": "code",
   "execution_count": 445,
   "id": "spanish-explosion",
   "metadata": {},
   "outputs": [],
   "source": [
    "import os, sys\n",
    "\n",
    "class HiddenPrints:\n",
    "    def __enter__(self):\n",
    "        self._original_stdout = sys.stdout\n",
    "        sys.stdout = open(os.devnull, 'w')\n",
    "\n",
    "    def __exit__(self, exc_type, exc_val, exc_tb):\n",
    "        sys.stdout.close()\n",
    "        sys.stdout = self._original_stdout"
   ]
  },
  {
   "cell_type": "code",
   "execution_count": 446,
   "id": "developed-america",
   "metadata": {},
   "outputs": [],
   "source": [
    "constants={\n",
    "    'InvGeVtocm': 1/(5.06 * 10**(13))\n",
    "}"
   ]
  },
  {
   "cell_type": "code",
   "execution_count": 447,
   "id": "appropriate-ivory",
   "metadata": {},
   "outputs": [],
   "source": [
    "sm={\n",
    "    'GF': 1.166*10**(-5),\n",
    "    'sw': np.sqrt(0.231),\n",
    "    'hbar': 6.582*10**(-25),\n",
    "    'c': 3*10**10,\n",
    "    'alpha': 1/137,\n",
    "    'Vtb': 0.999,\n",
    "    'Vts': 0.0404,\n",
    "    'Xt': 1.469,\n",
    "    'BrBtoKnunu+': 4.5*10**(-6),\n",
    "    'NBBBaBar': 471*10**6,\n",
    "    'NBBBelleII': 5*10**10,\n",
    "    'me': 0.000511,\n",
    "    'mmu': 0.1056,\n",
    "    'mtau': 1.777,\n",
    "    'mu': 2.2/1000,\n",
    "    'md': 4.7/1000,\n",
    "    'ms': 95/1000,\n",
    "    'mc': 1.275,\n",
    "    'mb': 4.18,\n",
    "    'mt': 173,\n",
    "    'mZ': 91.19,\n",
    "    'mB+': 5.279,\n",
    "    'mK+': 0.494,\n",
    "    'tauB+': 1.638*10**(-12),\n",
    "    'ctauB+': 3 * 10**10 * 1.638*10**(-12),\n",
    "    'GammaB+': 6.582*10**(-25)/(10**(-12) * 1.638)\n",
    "}"
   ]
  },
  {
   "cell_type": "code",
   "execution_count": 448,
   "id": "controlling-newman",
   "metadata": {},
   "outputs": [],
   "source": [
    "BelleIIparams={\n",
    "    'gammaBoostB': 1.03029,\n",
    "    'RCDC': 60, #cm\n",
    "    'thetaCDCMin': np.deg2rad(17),\n",
    "    'thetaCDCMax': np.deg2rad(150),\n",
    "    'dres': 0.9,\n",
    "    'NBBelleII': 5*10**10\n",
    "}"
   ]
  },
  {
   "cell_type": "code",
   "execution_count": 449,
   "id": "final-router",
   "metadata": {},
   "outputs": [],
   "source": [
    "def f(Lambda):\n",
    "    return Lambda/(4 * np.pi)"
   ]
  },
  {
   "cell_type": "code",
   "execution_count": 450,
   "id": "virtual-hepatitis",
   "metadata": {},
   "outputs": [],
   "source": [
    "def fz(t):\n",
    "    tplus = (sm['mB+']+sm['mK+'])**2\n",
    "    tminus = (sm['mB+']-sm['mK+'])**2\n",
    "    tzero = tplus * (1-np.sqrt(1-tminus/tplus))\n",
    "    return (np.sqrt(tplus-t) - np.sqrt(tplus-tzero))/(np.sqrt(tplus-t) + np.sqrt(tplus-tzero))\n",
    "\n",
    "def formFactorFplusBplus(qsqr):\n",
    "    tmp = 0.329\n",
    "    tmp += -0.876 * (fz(qsqr) - fz(0))\n",
    "    tmp += 0.006 * (fz(qsqr) - fz(0))**2\n",
    "    tmp = tmp/(1-qsqr/5.325**2)\n",
    "    return tmp\n",
    "\n",
    "def formFactorFzeroBplus(qsqr):\n",
    "    tmp = 0.329\n",
    "    tmp += 0.195 * (fz(qsqr) - fz(0))\n",
    "    tmp += -0.446 * (fz(qsqr) - fz(0))**2\n",
    "    tmp = tmp/(1-qsqr/5.54**2)\n",
    "    return tmp"
   ]
  },
  {
   "cell_type": "markdown",
   "id": "attached-overhead",
   "metadata": {},
   "source": [
    "## based on https://github.com/rrschaefer/alps (formulas taken from 2012.12272 and 1708.00443)"
   ]
  },
  {
   "cell_type": "markdown",
   "id": "recorded-static",
   "metadata": {},
   "source": [
    "### Alps running implemented in https://github.com/TdAlps"
   ]
  },
  {
   "cell_type": "code",
   "execution_count": 451,
   "id": "systematic-gibraltar",
   "metadata": {},
   "outputs": [],
   "source": [
    "def getLScoefficients(cff, cww, cbb, Lambda, mu):\n",
    "    HC = OrderedDict()\n",
    "    HC['Q'] = np.array([[cff,0,0],[0,cff,0],[0,0,cff]])\n",
    "    HC['u'] = np.array([[-cff,0,0],[0,-cff,0],[0,0,-cff]])\n",
    "    HC['d'] = np.array([[-cff,0,0],[0,-cff,0],[0,0,-cff]])\n",
    "    HC['L'] = np.array([[cff,0,0],[0,cff,0],[0,0,cff]])\n",
    "    HC['e'] = np.array([[-cff,0,0],[0,-cff,0],[0,0,-cff]])\n",
    "    HC['GG'] = 0\n",
    "    HC['WW'] = cww\n",
    "    HC['BB'] = cbb\n",
    "    return TdAlps.RunRotateMatchRun(HC, Lambda, mu, 3)\n",
    "\n",
    "\n",
    "def getCuu(cff, cww, cbb, Lambda, mu):\n",
    "    coeffs = getLScoefficients(cff, cww, cbb, Lambda, mu)\n",
    "    return coeffs['U'][0][0]-coeffs['u'][0][0]\n",
    "\n",
    "def getCcc(cff, cww, cbb, Lambda, mu):\n",
    "    coeffs = getLScoefficients(cff, cww, cbb, Lambda, mu)\n",
    "    return coeffs['U'][1][1]-coeffs['u'][1][1]\n",
    "\n",
    "def getCtt(cff, cww, cbb, Lambda, mu):\n",
    "    coeffs = getLScoefficients(cff, cww, cbb, Lambda, mu)\n",
    "    return coeffs['U'][2][2]-coeffs['u'][2][2]\n",
    "\n",
    "def getCdd(cff, cww, cbb, Lambda, mu):\n",
    "    coeffs = getLScoefficients(cff, cww, cbb, Lambda, mu)\n",
    "    return coeffs['D'][0][0]-coeffs['d'][0][0]\n",
    "\n",
    "def getCss(cff, cww, cbb, Lambda, mu):\n",
    "    coeffs = getLScoefficients(cff, cww, cbb, Lambda, mu)\n",
    "    return coeffs['D'][1][1]-coeffs['d'][1][1]\n",
    "\n",
    "def getCbb(cff, cww, cbb, Lambda, mu):\n",
    "    coeffs = getLScoefficients(cff, cww, cbb, Lambda, mu)\n",
    "    return coeffs['D'][2][2]-coeffs['d'][2][2]\n",
    "\n",
    "def getCGG(cff, cww, cbb, Lambda, mu):\n",
    "    coeffs = getLScoefficients(cff, cww, cbb, Lambda, mu)\n",
    "    return coeffs['GG']\n",
    "\n",
    "def getCgg(cff, cww, cbb, Lambda, mu):\n",
    "    coeffs = getLScoefficients(cff, cww, cbb, Lambda, mu)\n",
    "    return coeffs['gamgam']\n",
    "\n",
    "def getCee(cff, cww, cbb, Lambda, mu):\n",
    "    coeffs = getLScoefficients(cff, cww, cbb, Lambda, mu)\n",
    "    return coeffs['E'][0][0]-coeffs['e'][0][0]\n",
    "\n",
    "def getCmumu(cff, cww, cbb, Lambda, mu):\n",
    "    coeffs = getLScoefficients(cff, cww, cbb, Lambda, mu)\n",
    "    return coeffs['E'][1][1]-coeffs['e'][1][1]\n",
    "\n",
    "def getCtautau(cff, cww, cbb, Lambda, mu):\n",
    "    coeffs = getLScoefficients(cff, cww, cbb, Lambda, mu)\n",
    "    return coeffs['E'][2][2]-coeffs['e'][2][2]\n",
    "\n",
    "def getCbs(cff, cww, cbb, Lambda, mu):\n",
    "    coeffs = getLScoefficients(cff, cww, cbb, Lambda, mu)\n",
    "    return coeffs['D'][2][1]-coeffs['d'][2][1]\n",
    "\n",
    "def getAlphaEM(cff, cww, cbb, Lambda, mu):\n",
    "    coeffs = getLScoefficients(cff, cww, cbb, Lambda, mu)\n",
    "    return coeffs['aEM']\n",
    "\n",
    "def getAlphaS(cff, cww, cbb, Lambda, mu):\n",
    "    coeffs = getLScoefficients(cff, cww, cbb, Lambda, mu)\n",
    "    return coeffs['a3']\n",
    "\n",
    "\n",
    "def readCuu(coeffs):\n",
    "    return coeffs['U'][0][0]-coeffs['u'][0][0]\n",
    "\n",
    "def readCcc(coeffs):\n",
    "    return coeffs['U'][1][1]-coeffs['u'][1][1]\n",
    "\n",
    "def readCtt(coeffs):\n",
    "    return coeffs['U'][2][2]-coeffs['u'][2][2]\n",
    "\n",
    "def readCdd(coeffs):\n",
    "    return coeffs['D'][0][0]-coeffs['d'][0][0]\n",
    "\n",
    "def readCss(coeffs):\n",
    "    return coeffs['D'][1][1]-coeffs['d'][1][1]\n",
    "\n",
    "def readCbb(coeffs):\n",
    "    return coeffs['D'][2][2]-coeffs['d'][2][2]\n",
    "\n",
    "def readCGG(coeffs):\n",
    "    return coeffs['GG']\n",
    "\n",
    "def readCgg(coeffs):\n",
    "    return coeffs['gamgam']\n",
    "\n",
    "def readCee(coeffs):\n",
    "    return coeffs['E'][0][0]-coeffs['e'][0][0]\n",
    "\n",
    "def readCmumu(coeffs):\n",
    "    return coeffs['E'][1][1]-coeffs['e'][1][1]\n",
    "\n",
    "def readCtautau(coeffs):\n",
    "    return coeffs['E'][2][2]-coeffs['e'][2][2]\n",
    "\n",
    "def readCbs(coeffs):\n",
    "    return coeffs['D'][2][1]-coeffs['d'][2][1]\n",
    "\n",
    "def readAlphaEM(coeffs):\n",
    "    return coeffs['aEM']\n",
    "\n",
    "def readAlphaS(coeffs):\n",
    "    return coeffs['a3']\n",
    "\n",
    "def printLowScaleCoef(coeffs):\n",
    "    print(\"readCuu = {0}\\n readCcc = {1}\\n readCdd = {2}\\n readCss = {3}\\n readCbb = {4}\\n\".format(readCuu(coeffs),readCcc(coeffs),readCdd(coeffs),readCss(coeffs),readCbb(coeffs)))  "
   ]
  },
  {
   "cell_type": "code",
   "execution_count": 452,
   "id": "sixth-worship",
   "metadata": {},
   "outputs": [],
   "source": [
    "testCoeff= getLScoefficients(1, 0.5, 0, 10**3, 5)#(cff, cww, cbb, Lambda, mu)"
   ]
  },
  {
   "cell_type": "code",
   "execution_count": 453,
   "id": "numerous-purpose",
   "metadata": {},
   "outputs": [
    {
     "data": {
      "text/plain": [
       "(0.0006075064977644085+1.1376652072672074e-05j)"
      ]
     },
     "execution_count": 453,
     "metadata": {},
     "output_type": "execute_result"
    }
   ],
   "source": [
    "readCbs(getLScoefficients(1, 0, 0, 10**3, 5))"
   ]
  },
  {
   "cell_type": "code",
   "execution_count": 454,
   "id": "unknown-degree",
   "metadata": {},
   "outputs": [
    {
     "data": {
      "text/plain": [
       "(0.0006093904735977875+1.141193290941793e-05j)"
      ]
     },
     "execution_count": 454,
     "metadata": {},
     "output_type": "execute_result"
    }
   ],
   "source": [
    "getCbs(1, 0.5, 0, 10**3, 5)"
   ]
  },
  {
   "cell_type": "code",
   "execution_count": 455,
   "id": "short-sport",
   "metadata": {},
   "outputs": [
    {
     "data": {
      "text/plain": [
       "(0.5+0j)"
      ]
     },
     "execution_count": 455,
     "metadata": {},
     "output_type": "execute_result"
    }
   ],
   "source": [
    "readCgg(testCoeff)"
   ]
  },
  {
   "cell_type": "code",
   "execution_count": 456,
   "id": "organic-execution",
   "metadata": {},
   "outputs": [
    {
     "data": {
      "text/plain": [
       "(0.009355856842486333+0j)"
      ]
     },
     "execution_count": 456,
     "metadata": {},
     "output_type": "execute_result"
    }
   ],
   "source": [
    "readAlphaEM(testCoeff)"
   ]
  },
  {
   "cell_type": "code",
   "execution_count": 457,
   "id": "protective-tournament",
   "metadata": {},
   "outputs": [
    {
     "name": "stdout",
     "output_type": "stream",
     "text": [
      "readCuu = (1.8074145610334433-1.236002685836065e-23j)\n",
      " readCcc = (1.8074145610334433-1.236002685836065e-23j)\n",
      " readCdd = (1.9849201641117094-1.6989130428214282e-21j)\n",
      " readCss = (1.9848961320794243+3.3757792145663177e-21j)\n",
      " readCbb = (1.9702061679936684-1.2352574450883817e-23j)\n",
      "\n"
     ]
    }
   ],
   "source": [
    "printLowScaleCoef(testCoeff)"
   ]
  },
  {
   "cell_type": "markdown",
   "id": "heavy-delight",
   "metadata": {},
   "source": [
    "### ALP and B-> Ka decay rates"
   ]
  },
  {
   "cell_type": "code",
   "execution_count": 458,
   "id": "manual-reproduction",
   "metadata": {},
   "outputs": [],
   "source": [
    "def nq(ma):\n",
    "    if ma>2*sm['mt']:\n",
    "        return 6\n",
    "    elif ma>=2*sm['mb']:\n",
    "        return 5\n",
    "    elif ma>=2*sm['mc']:\n",
    "        return 4\n",
    "    elif ma>=2*sm['ms']:\n",
    "        return 3\n",
    "    elif ma>=2*sm['md']:\n",
    "        return 2\n",
    "    elif ma>=2*sm['mu']:\n",
    "        return 1\n",
    "    else:\n",
    "        return 0\n",
    "\n",
    "def B2(tau):\n",
    "    return 1-(tau-1)*funcB(tau)**2\n",
    "\n",
    "# (14) in 2012.12272\n",
    "def B1(tau):\n",
    "    return 1-tau*funcB(tau)**2\n",
    "\n",
    "\n",
    "def funcB(tau):\n",
    "    if tau>=1:\n",
    "        return np.arcsin(1/np.sqrt(tau))\n",
    "    else:\n",
    "        return np.pi/2 + 1j/2 * np.log((1+np.sqrt(1-tau))/(1-np.sqrt(1-tau)))"
   ]
  },
  {
   "cell_type": "code",
   "execution_count": 462,
   "id": "concrete-matthew",
   "metadata": {},
   "outputs": [],
   "source": [
    "def Gammaatoll(ma, cll, ml, Lambda):\n",
    "    if ma <= 2 * ml:\n",
    "        return 0\n",
    "    gamma = ml**2 * abs(cll)**2 * np.sqrt(ma**2 - 4 * ml**2) / (8 * np.pi * Lambda**2) \n",
    "    if gamma.imag  != 0:\n",
    "        if gamma.imag/gamma.real > 10**-10:\n",
    "            print(\"The Decay rate to leptons with mass \" + str(ml) + \" is complex: \" + str(gamma))\n",
    "    return float(gamma)\n",
    "\n",
    "def Gammaatoqq(ma, cqq, mq, Lambda):\n",
    "    if ma <= 2 * mq:\n",
    "        return 0\n",
    "    gamma = 3 * mq**2 * abs(cqq)**2 * np.sqrt(ma**2 - 4 * mq**2) / (8 * np.pi * Lambda**2)\n",
    "    if gamma.imag  != 0:\n",
    "        if gamma.imag/gamma.real > 10**-10:\n",
    "            print(\"The Decay rate to quarks with mass \" + str(mq) + \" is complex: \" + str(gamma))\n",
    "    return float(gamma)\n",
    "\n",
    "def Gammaatogamgam(ma, coeffs, Lambda):\n",
    "    cgamgam = readCgg(coeffs)\n",
    "    alphaEM = readAlphaEM(coeffs)\n",
    "    effcgg = cgamgam\n",
    "    if ma >= sm['mZ']:\n",
    "        effcgg += 2 * alphaEM/np.pi * coeffs['WW']/sm['sw']**2 * B2(4*sm['mW']**2/ma**2)\n",
    "        effcgg += 3 * (2/3)**2 * readCtt(coeffs) * B1(4*sm['mt']**2/ma**2)\n",
    "    if ma >= sm['mc']:\n",
    "        effcgg += 3 * (2/3)**2 * readCcc(coeffs) * B1(4*sm['mc']**2/ma**2) \n",
    "    if ma >= sm['mu']:\n",
    "        effcgg += 3 * (2/3)**2 * readCuu(coeffs) * B1(4*sm['mu']**2/ma**2)\n",
    "    if ma >= sm['mb']:\n",
    "        effcgg += 3 * (-1/3)**2 * readCbb(coeffs) * B1(4*sm['mb']**2/ma**2)\n",
    "    if ma >= sm['ms']:\n",
    "        effcgg += 3 * (-1/3)**2 * readCss(coeffs) * B1(4*sm['ms']**2/ma**2)\n",
    "    if ma >= sm['md']:\n",
    "        effcgg += 3 * (-1/3)**2 * readCdd(coeffs) * B1(4*sm['md']**2/ma**2)\n",
    "    if ma >= sm['me']:\n",
    "        effcgg += readCee(coeffs) * B1(4*sm['me']**2/ma**2)\n",
    "    if ma >= sm['mmu']:\n",
    "        effcgg += readCmumu(coeffs) * B1(4*sm['mmu']**2/ma**2)\n",
    "    if ma >= sm['mtau']:\n",
    "        effcgg += readCtautau(coeffs) * B1(4*sm['mtau']**2/ma**2)\n",
    "    gamma = abs(effcgg)**2 * alphaEM**2 * ma**3 /(4 * np.pi * Lambda**2) \n",
    "    if gamma.imag  != 0:\n",
    "        if gamma.imag/gamma.real > 10**-10:\n",
    "            print(\"The Decay rate to photons is complex: \" + str(gamma))\n",
    "    return float(gamma)\n",
    "\n",
    "def GammaatogamgamMy(ma, coeffs, Lambda):\n",
    "    cgamgam = readCgg(coeffs)\n",
    "    alphaEM = readAlphaEM(coeffs)\n",
    "    effcgg = cgamgam\n",
    "    # eq. (47) in 2012.12272\n",
    "    if ma>sm['me']:\n",
    "        effcgg +=readCee(coeffs) * B1(4*sm['me']**2/ma**2) \n",
    "    if ma>sm['mmu']:\n",
    "        effcgg +=readCmumu(coeffs) * B1(4*sm['mmu']**2/ma**2) \n",
    "    if ma>sm['mtau']:\n",
    "        effcgg +=readCtautau(coeffs) * B1(4*sm['mtau']**2/ma**2)\n",
    "        \n",
    "    if ma>sm['mu']:\n",
    "        effcgg += 3 * (2/3)**2 * readCuu(coeffs) * B1(4*sm['mu']**2/ma**2) \n",
    "    if ma>sm['mc']:\n",
    "        effcgg += 3 * (2/3)**2 * readCdd(coeffs) * B1(4*sm['mc']**2/ma**2) \n",
    "    if ma>sm['mt']:\n",
    "        effcgg += 3 * (2/3)**2 * readCtt(coeffs) * B1(4*sm['mt']**2/ma**2) \n",
    "        \n",
    "    if ma>sm['md']:\n",
    "        effcgg += 3 * (1/3)**2 * readCdd(coeffs) * B1(4*sm['md']**2/ma**2) \n",
    "    if ma>sm['ms']:\n",
    "        effcgg += 3 * (1/3)**2 * readCss(coeffs) * B1(4*sm['ms']**2/ma**2) \n",
    "    if ma>sm['mb']:\n",
    "        effcgg += 3 * (1/3)**2 * readCbb(coeffs) * B1(4*sm['mb']**2/ma**2) \n",
    "        \n",
    "    if ma >= sm['mZ']:\n",
    "        effcgg += 2 * alphaEM/np.pi * coeffs['WW']/sm['sw']**2 * B2(4*sm['mW']**2/ma**2)\n",
    "        \n",
    "    # eq.(46) in 2012.12272\n",
    "    gamma = abs(effcgg)**2 * alphaEM**2 * ma**3 /(64 * np.pi * f(Lambda)**2) \n",
    "    if gamma.imag  != 0:\n",
    "        if gamma.imag/gamma.real > 10**-10:\n",
    "            print(\"The Decay rate to photons is complex: \" + str(gamma))\n",
    "    return float(gamma)\n",
    "    \n",
    "\n",
    "def Gammaatohad(ma, coeffs, Lambda):\n",
    "    if ma <= 1:\n",
    "        return 0\n",
    "    alphaS = readAlphaS(coeffs)\n",
    "    cGGeff = readCGG(coeffs)\n",
    "    cGGeff += 1/2 * readCuu(coeffs) * B1(4*sm['mu']**2/ma**2)\n",
    "    cGGeff += 1/2 * readCdd(coeffs) * B1(4*sm['md']**2/ma**2)\n",
    "    cGGeff += 1/2 * readCss(coeffs) * B1(4*sm['ms']**2/ma**2)\n",
    "#     if ma>2*sm['mc']:\n",
    "#         cGGeff += 1/2 * readCcc(coeffs) * B1(4*sm['mc']**2/ma**2)\n",
    "#     if ma>2*sm['mb']:\n",
    "#         cGGeff += 1/2 * readCbb(coeffs) * B1(4*sm['mb']**2/ma**2)\n",
    "#     if ma >= sm['mZ']:\n",
    "#         cGGeff += 1/2 * readCtt(coeffs) * B1(4*sm['mt']**2/ma**2)\n",
    "#     nQ = nq(ma)\n",
    "    nQ = 3\n",
    "#    gamma = abs(cGGeff)**2 * 32 * np.pi * alphaS**2 * ma**3 * (1 + (97/4-7*nQ/6) * alphaS/np.pi) /Lambda**2\n",
    "    gamma = abs(cGGeff)**2 * alphaS**2 * ma**3 * (1 + (97/4-7*nQ/6) * alphaS/np.pi) * 2/(np.pi * Lambda**2)\n",
    "    gamma += Gammaatoqq(ma, readCuu(coeffs), sm['mu'], Lambda)\n",
    "    gamma += Gammaatoqq(ma, readCdd(coeffs), sm['md'], Lambda)\n",
    "    gamma += Gammaatoqq(ma, readCss(coeffs), sm['ms'], Lambda)\n",
    "    if gamma.imag  != 0:\n",
    "        if gamma.imag/gamma.real > 10**-10:\n",
    "            print(\"The Decay rate to hadrons is complex: \" + str(gamma))\n",
    "    return float(gamma)\n",
    "\n",
    "#Old formula\n",
    "def GammaatohadMyCheck(ma, coeffs, Lambda):\n",
    "    if ma <= 1:\n",
    "        return 0\n",
    "    alphaS = readAlphaS(coeffs)\n",
    "    cGGeff = readCGG(coeffs)\n",
    "    \n",
    "    # eq.(13) in 2012.12272\n",
    "    \n",
    "    cGGeff += 1/2 * readCuu(coeffs) * B1(4*sm['mu']**2/ma**2) * np.heaviside(ma-sm['mu'],1)\\\n",
    "            + 1/2 * readCdd(coeffs) * B1(4*sm['md']**2/ma**2) * np.heaviside(ma-sm['md'],1)\\\n",
    "            + 1/2 * readCss(coeffs) * B1(4*sm['ms']**2/ma**2) * np.heaviside(ma-sm['ms'],1)\\\n",
    "            + 1/2 * readCcc(coeffs) * B1(4*sm['mc']**2/ma**2) * np.heaviside(ma-sm['mc'],1)\\\n",
    "            + 1/2 * readCbb(coeffs) * B1(4*sm['mb']**2/ma**2) * np.heaviside(ma-sm['mb'],1)\\\n",
    "            #+ 1/2 * readCtt(coeffs) * B1(4*sm['mt']**2/ma**2) * np.heaviside(ma-sm['mZ'],1)\\\n",
    "        \n",
    "    # eq.(29) in 1708.00443 with nq=3 light quarks\n",
    "    gamma = abs(cGGeff)**2 * 32 * np.pi * alphaS**2 * ma**3 * \\\n",
    "            (1 + (97/4-7*nq(ma)/6) * alphaS/np.pi)/Lambda**2\n",
    "    if gamma.imag  != 0:\n",
    "        if gamma.imag/gamma.real > 10**-10:\n",
    "            print(\"The Decay rate to hadrons is complex: \" + str(gamma))\n",
    "    return float(gamma)"
   ]
  },
  {
   "cell_type": "code",
   "execution_count": 463,
   "id": "auburn-console",
   "metadata": {},
   "outputs": [
    {
     "name": "stdout",
     "output_type": "stream",
     "text": [
      "6.52695168444915e-11 6.44184310705369e-10\n"
     ]
    },
    {
     "name": "stderr",
     "output_type": "stream",
     "text": [
      "<ipython-input-462-de56bdf3d9c0>:46: ComplexWarning: Casting complex values to real discards the imaginary part\n",
      "  return float(gamma)\n",
      "<ipython-input-462-de56bdf3d9c0>:82: ComplexWarning: Casting complex values to real discards the imaginary part\n",
      "  return float(gamma)\n"
     ]
    }
   ],
   "source": [
    "print(Gammaatogamgam(0.5, testCoeff, 10**3),GammaatogamgamMy(0.5, testCoeff, 10**3))"
   ]
  },
  {
   "cell_type": "code",
   "execution_count": 464,
   "id": "stretch-chester",
   "metadata": {},
   "outputs": [
    {
     "name": "stdout",
     "output_type": "stream",
     "text": [
      "1.2363309318937695e-07 1.2788374334017266e-06\n"
     ]
    },
    {
     "name": "stderr",
     "output_type": "stream",
     "text": [
      "<ipython-input-462-de56bdf3d9c0>:46: ComplexWarning: Casting complex values to real discards the imaginary part\n",
      "  return float(gamma)\n",
      "<ipython-input-462-de56bdf3d9c0>:82: ComplexWarning: Casting complex values to real discards the imaginary part\n",
      "  return float(gamma)\n"
     ]
    }
   ],
   "source": [
    "print(Gammaatogamgam(5, testCoeff, 10**3),GammaatogamgamMy(5, testCoeff, 10**3))"
   ]
  },
  {
   "cell_type": "code",
   "execution_count": 465,
   "id": "psychological-allah",
   "metadata": {},
   "outputs": [
    {
     "name": "stdout",
     "output_type": "stream",
     "text": [
      "1.6073220855935154e-05 0.0021527755294098645\n"
     ]
    },
    {
     "name": "stderr",
     "output_type": "stream",
     "text": [
      "<ipython-input-462-de56bdf3d9c0>:109: ComplexWarning: Casting complex values to real discards the imaginary part\n",
      "  return float(gamma)\n",
      "<ipython-input-462-de56bdf3d9c0>:133: ComplexWarning: Casting complex values to real discards the imaginary part\n",
      "  return float(gamma)\n"
     ]
    }
   ],
   "source": [
    "print(Gammaatohad(3, testCoeff, 10**3),GammaatohadMyCheck(3, testCoeff, 10**3))"
   ]
  },
  {
   "cell_type": "code",
   "execution_count": 466,
   "id": "heard-scenario",
   "metadata": {},
   "outputs": [],
   "source": [
    "def Gammaa(ma, cff, cww, cbb, Lambda):\n",
    "    lscs = getLScoefficients(cff, cww, cbb, Lambda, ma)\n",
    "    GammaTot = 0\n",
    "    if ma>2*sm['me']:\n",
    "        GammaTot += Gammaatoll(ma,readCee(lscs),sm['me'],Lambda)\n",
    "    if ma>2*sm['mmu']:\n",
    "        GammaTot += Gammaatoll(ma,readCmumu(lscs),sm['mmu'],Lambda)\n",
    "    if ma>2*sm['mtau']:\n",
    "        GammaTot += Gammaatoll(ma,readCtautau(lscs),sm['mtau'],Lambda)\n",
    "    if ma>2*sm['mc']:\n",
    "        GammaTot += Gammaatoqq(ma,readCcc(lscs),sm['mc'],Lambda)\n",
    "    if ma>2*sm['mb']:\n",
    "        GammaTot += Gammaatoqq(ma,readCbb(lscs),sm['mb'],Lambda)\n",
    "    if ma>1:\n",
    "        GammaTot += Gammaatohad(ma,lscs,Lambda)\n",
    "    GammaTot += Gammaatogamgam(ma,lscs,Lambda)\n",
    "    if GammaTot.imag  != 0:\n",
    "        print(\"The Decay rate to hadrons is complex: \" + str(GammaTot))\n",
    "    return float(GammaTot)"
   ]
  },
  {
   "cell_type": "code",
   "execution_count": 467,
   "id": "sweet-branch",
   "metadata": {},
   "outputs": [],
   "source": [
    "def BrBtoKaplus(ma, cbs, Lambda):\n",
    "    return abs(cbs)**2/(16 * np.pi * Lambda**2) * abs(formFactorFzeroBplus(ma))**2* (sm['mB+']**2\\\n",
    "    -sm['mK+'])**2/sm['mB+']**3 * np.sqrt(sm['mB+']**4+sm['mK+']**4+ma**4-2*(sm['mB+']**2 * sm['mK+']**2 \\\n",
    "                                    + sm['mK+']**2 * ma**2 + ma**2 * sm['mB+']**2))/sm['hbar']*sm['tauB+']\n",
    "\n",
    "def BrBtoKaplusMyCheck(ma, cbs, Lambda):\n",
    "    return abs(cbs)**2/(16 * np.pi * Lambda**2) * abs(formFactorFzeroBplus(ma))**2* (sm['mB+']**2\\\n",
    "    -sm['mK+'])**2/sm['mB+']**3 * np.sqrt(sm['mB+']**4+sm['mK+']**4+ma**4-2*(sm['mB+']**2 * sm['mK+']**2 \\\n",
    "                                    + sm['mK+']**2 * ma**2 + ma**2 * sm['mB+']**2))/sm['GammaB+']"
   ]
  },
  {
   "cell_type": "code",
   "execution_count": 468,
   "id": "pretty-grounds",
   "metadata": {},
   "outputs": [],
   "source": [
    "def ctaua(ma, cff, cww, cbb, Lambda):\n",
    "    gamma = Gammaa(ma,cff,cww,cbb,Lambda)\n",
    "    if gamma == 0:\n",
    "        print(\"The decay width of a with ma=\" + str(ma) + \"GeV and cff=\" + str(cff) + \", cWW=\"+ str(cww)+ \", cBB=\" + str(cbb) + \" is zero.\")\n",
    "        return 0\n",
    "    return sm['c']*sm['hbar']/gamma"
   ]
  },
  {
   "cell_type": "code",
   "execution_count": 469,
   "id": "middle-qatar",
   "metadata": {},
   "outputs": [
    {
     "data": {
      "text/plain": [
       "721645.0581140692"
      ]
     },
     "execution_count": 469,
     "metadata": {},
     "output_type": "execute_result"
    }
   ],
   "source": [
    "BrBtoKaplus(2, 1, 10**3)"
   ]
  },
  {
   "cell_type": "code",
   "execution_count": 470,
   "id": "blond-stanley",
   "metadata": {},
   "outputs": [
    {
     "data": {
      "text/plain": [
       "764400.4958397369"
      ]
     },
     "execution_count": 470,
     "metadata": {},
     "output_type": "execute_result"
    }
   ],
   "source": [
    "BrBtoKaplusMyCheck(0.3, 1, 10**3)"
   ]
  },
  {
   "cell_type": "code",
   "execution_count": 471,
   "id": "decreased-proceeding",
   "metadata": {},
   "outputs": [
    {
     "name": "stderr",
     "output_type": "stream",
     "text": [
      "<ipython-input-462-de56bdf3d9c0>:109: ComplexWarning: Casting complex values to real discards the imaginary part\n",
      "  return float(gamma)\n",
      "<ipython-input-462-de56bdf3d9c0>:46: ComplexWarning: Casting complex values to real discards the imaginary part\n",
      "  return float(gamma)\n"
     ]
    },
    {
     "data": {
      "text/plain": [
       "2.5384445624301206e-05"
      ]
     },
     "execution_count": 471,
     "metadata": {},
     "output_type": "execute_result"
    }
   ],
   "source": [
    "Gammaa(3, 1, 0, 0, 10**3)"
   ]
  },
  {
   "cell_type": "markdown",
   "id": "subjective-institution",
   "metadata": {},
   "source": [
    "### ALP branching ratios"
   ]
  },
  {
   "cell_type": "code",
   "execution_count": 472,
   "id": "cordless-access",
   "metadata": {},
   "outputs": [],
   "source": [
    "# def brsALP(cQ,cu,cd,cL,ce,cGG,cWW,cBB,title,Lambda,br=True):\n",
    "#     with HiddenPrints():\n",
    "#         HC = OrderedDict()\n",
    "#         HC['Q'] = np.array([[cQ,0,0],[0,cQ,0],[0,0,cQ]])\n",
    "#         HC['u'] = np.array([[cu,0,0],[0,cu,0],[0,0,cu]])\n",
    "#         HC['d'] = np.array([[cd,0,0],[0,cd,0],[0,0,cd]])\n",
    "#         HC['L'] = np.array([[cL,0,0],[0,cL,0],[0,0,cL]])\n",
    "#         HC['e'] = np.array([[ce,0,0],[0,ce,0],[0,0,ce]])\n",
    "#         HC['GG'] = cGG\n",
    "#         HC['WW'] = cWW\n",
    "#         HC['BB'] = cBB\n",
    "\n",
    "#         maList = list((i*10**(exp-2) for exp in range(-3, 2) for i in range(10, 100)))\n",
    "#         brs = [[],[],[],[],[],[],[],[]]\n",
    "#         for ma in maList:\n",
    "#             lscs = TdAlps.RunRotateMatchRun(HC, Lambda, ma, 3)\n",
    "#             brs[0].append(Gammaatoll(ma,readCee(lscs),sm['me'],Lambda))\n",
    "#             brs[1].append(Gammaatoll(ma,readCmumu(lscs),sm['mmu'],Lambda))\n",
    "#             try:\n",
    "#                 ctautau = readCtautau(lscs)\n",
    "#             except IndexError:\n",
    "#                 ctautau = 0\n",
    "#             brs[2].append(Gammaatoll(ma,ctautau,sm['mtau'],Lambda))\n",
    "#             try:\n",
    "#                 ccc = readCcc(lscs)\n",
    "#             except IndexError:\n",
    "#                 ccc = 0\n",
    "#             brs[3].append(Gammaatoqq(ma,ccc,sm['mc'],Lambda))\n",
    "#             try:\n",
    "#                 cbb = readCbb(lscs)\n",
    "#             except IndexError:\n",
    "#                 cbb = 0\n",
    "#             brs[4].append(Gammaatoqq(ma,cbb,sm['mb'],Lambda))\n",
    "#             brs[5].append(Gammaatogamgam(ma,lscs,Lambda))\n",
    "#             brs[6].append(Gammaatohad(ma,lscs,Lambda))\n",
    "#             brs[7].append(brs[0][-1]+brs[1][-1]+brs[2][-1]+brs[3][-1]+brs[4][-1]+brs[5][-1]+brs[6][-1])\n",
    "#             if (br):\n",
    "#                 brs[0][-1] = brs[0][-1]/brs[7][-1]\n",
    "#                 brs[1][-1] = brs[1][-1]/brs[7][-1]\n",
    "#                 brs[2][-1] = brs[2][-1]/brs[7][-1]\n",
    "#                 brs[3][-1] = brs[3][-1]/brs[7][-1]\n",
    "#                 brs[4][-1] = brs[4][-1]/brs[7][-1]\n",
    "#                 brs[5][-1] = brs[5][-1]/brs[7][-1]\n",
    "#                 brs[6][-1] = brs[6][-1]/brs[7][-1]\n",
    "\n",
    "#         fig, ax = plt.subplots() \n",
    "#         ax.set_xscale('log')\n",
    "#         ax.set_yscale('log')\n",
    "#         ax.set_xlabel('ma [GeV]')\n",
    "#         if (br):\n",
    "#             ax.set_ylim([2*10**-4,2.5])\n",
    "#             ax.set_xlim([5*10**-4,11])\n",
    "#             ax.set_ylabel('Branching ratio Br(a->X)')\n",
    "#             ax.plot([maList[0],maList[-1]],[1,1],label='all',ls=':') \n",
    "#         else:\n",
    "#             ax.plot(maList,brs[7],label='total') \n",
    "#             ax.set_ylabel('Decay rate Gamma(a->X)')\n",
    "#         ax.plot(maList,brs[0],label='electrons') \n",
    "#         ax.plot(maList,brs[1],label='muons') \n",
    "#         ax.plot(maList,brs[2],label='taus') \n",
    "#         ax.plot(maList,brs[3],label='charms') \n",
    "#         ax.plot(maList,brs[4],label='bottoms') \n",
    "#         ax.plot(maList,brs[5],label='photons') \n",
    "#         ax.plot(maList,brs[6],label='hadrons') \n",
    "#         ax.legend()\n",
    "#         plt.title(title)\n",
    "#     plt.show()"
   ]
  },
  {
   "cell_type": "code",
   "execution_count": 477,
   "id": "endless-christopher",
   "metadata": {},
   "outputs": [],
   "source": [
    "def brsALP(cQ,cu,cd,cL,ce,cGG,cWW,cBB,title,Lambda,br=True):\n",
    "    with HiddenPrints():\n",
    "        HC = OrderedDict()\n",
    "        HC['Q'] = np.array([[cQ,0,0],[0,cQ,0],[0,0,cQ]])\n",
    "        HC['u'] = np.array([[cu,0,0],[0,cu,0],[0,0,cu]])\n",
    "        HC['d'] = np.array([[cd,0,0],[0,cd,0],[0,0,cd]])\n",
    "        HC['L'] = np.array([[cL,0,0],[0,cL,0],[0,0,cL]])\n",
    "        HC['e'] = np.array([[ce,0,0],[0,ce,0],[0,0,ce]])\n",
    "        HC['GG'] = cGG\n",
    "        HC['WW'] = cWW\n",
    "        HC['BB'] = cBB\n",
    "\n",
    "        maList = list((i*10**(exp-2) for exp in range(-3, 2) for i in range(10, 100)))\n",
    "        brs = [[],[],[],[],[],[],[],[]]\n",
    "        for ma in maList:\n",
    "            lscs = TdAlps.RunRotateMatchRun(HC, Lambda, ma, 3)\n",
    "            brs[0].append(Gammaatoll(ma,readCee(lscs),sm['me'],Lambda))\n",
    "            brs[1].append(Gammaatoll(ma,readCmumu(lscs),sm['mmu'],Lambda))\n",
    "            try:\n",
    "                ctautau = readCtautau(lscs)\n",
    "            except IndexError:\n",
    "                ctautau = 0\n",
    "            brs[2].append(Gammaatoll(ma,ctautau,sm['mtau'],Lambda))\n",
    "            try:\n",
    "                ccc = readCcc(lscs)\n",
    "            except IndexError:\n",
    "                ccc = 0\n",
    "            brs[3].append(Gammaatoqq(ma,ccc,sm['mc'],Lambda))\n",
    "            try:\n",
    "                cbb = readCbb(lscs)\n",
    "            except IndexError:\n",
    "                cbb = 0\n",
    "            brs[4].append(Gammaatoqq(ma,cbb,sm['mb'],Lambda))\n",
    "            brs[5].append(Gammaatogamgam(ma,lscs,Lambda))\n",
    "            brs[6].append(Gammaatohad(ma,lscs,Lambda))\n",
    "            brs[7].append(brs[0][-1]+brs[1][-1]+brs[2][-1]+brs[3][-1]+brs[4][-1]+brs[5][-1]+brs[6][-1])\n",
    "            if (br and brs[7][-1] != 0):\n",
    "                brs[0][-1] = brs[0][-1]/brs[7][-1]\n",
    "                brs[1][-1] = brs[1][-1]/brs[7][-1]\n",
    "                brs[2][-1] = brs[2][-1]/brs[7][-1]\n",
    "                brs[3][-1] = brs[3][-1]/brs[7][-1]\n",
    "                brs[4][-1] = brs[4][-1]/brs[7][-1]\n",
    "                brs[5][-1] = brs[5][-1]/brs[7][-1]\n",
    "                brs[6][-1] = brs[6][-1]/brs[7][-1]\n",
    "\n",
    "        fig, ax = plt.subplots() \n",
    "        ax.set_xscale('log')\n",
    "        ax.set_yscale('log')\n",
    "        ax.set_xlabel('ma [GeV]')\n",
    "        if (br):\n",
    "            ax.set_ylim([2*10**-4,2.5])\n",
    "            ax.set_xlim([5*10**-4,11])\n",
    "            ax.set_ylabel('Branching ratio Br(a->X)')\n",
    "            ax.plot([maList[0],maList[-1]],[1,1],label='all',ls=':') \n",
    "        else:\n",
    "            ax.plot(maList,brs[7],label='total') \n",
    "            ax.set_ylabel('Decay rate Gamma(a->X)')\n",
    "        ax.plot(maList,brs[0],label='electrons') \n",
    "        ax.plot(maList,brs[1],label='muons') \n",
    "        ax.plot(maList,brs[2],label='taus') \n",
    "        ax.plot(maList,brs[3],label='charms') \n",
    "        ax.plot(maList,brs[4],label='bottoms') \n",
    "        ax.plot(maList,brs[5],label='photons') \n",
    "        ax.plot(maList,brs[6],label='hadrons') \n",
    "        ax.legend()\n",
    "        plt.title(title)\n",
    "    plt.show()"
   ]
  },
  {
   "cell_type": "markdown",
   "id": "equivalent-denial",
   "metadata": {},
   "source": [
    "decays under consideration encoded as\n",
    "0: e\n",
    "1: mu\n",
    "2: tau\n",
    "3: charm\n",
    "4: bottom\n",
    "5: photon\n",
    "6: hadron"
   ]
  },
  {
   "cell_type": "code",
   "execution_count": 478,
   "id": "abroad-textbook",
   "metadata": {},
   "outputs": [],
   "source": [
    "def brALPtoOneFinalState(ma,finalStateCode,cQ,cu,cd,cL,ce,cGG,cWW,cBB,Lambda,lscsPassed=None):\n",
    "    with HiddenPrints():\n",
    "        HC = OrderedDict()\n",
    "        HC['Q'] = np.array([[cQ,0,0],[0,cQ,0],[0,0,cQ]])\n",
    "        HC['u'] = np.array([[cu,0,0],[0,cu,0],[0,0,cu]])\n",
    "        HC['d'] = np.array([[cd,0,0],[0,cd,0],[0,0,cd]])\n",
    "        HC['L'] = np.array([[cL,0,0],[0,cL,0],[0,0,cL]])\n",
    "        HC['e'] = np.array([[ce,0,0],[0,ce,0],[0,0,ce]])\n",
    "        HC['GG'] = cGG\n",
    "        HC['WW'] = cWW\n",
    "        HC['BB'] = cBB\n",
    "\n",
    "        brs = [[],[],[],[],[],[],[],[]]\n",
    "        \n",
    "        if (lscsPassed is not None):\n",
    "            lscs=lscsPassed\n",
    "        else:\n",
    "            lscs = TdAlps.RunRotateMatchRun(HC, Lambda, ma, 3)\n",
    "        \n",
    "        brs[0].append(Gammaatoll(ma,readCee(lscs),sm['me'],Lambda))\n",
    "        brs[1].append(Gammaatoll(ma,readCmumu(lscs),sm['mmu'],Lambda))\n",
    "        try:\n",
    "            ctautau = readCtautau(lscs)\n",
    "        except IndexError:\n",
    "            ctautau = 0\n",
    "        brs[2].append(Gammaatoll(ma,ctautau,sm['mtau'],Lambda))\n",
    "        try:\n",
    "            ccc = readCcc(lscs)\n",
    "        except IndexError:\n",
    "            ccc = 0\n",
    "        brs[3].append(Gammaatoqq(ma,ccc,sm['mc'],Lambda))\n",
    "        try:\n",
    "            cbb = readCbb(lscs)\n",
    "        except IndexError:\n",
    "            cbb = 0\n",
    "        brs[4].append(Gammaatoqq(ma,cbb,sm['mb'],Lambda))\n",
    "        brs[5].append(Gammaatogamgam(ma,lscs,Lambda))\n",
    "        brs[6].append(Gammaatohad(ma,lscs,Lambda))\n",
    "        brs[7].append(brs[0][-1]+brs[1][-1]+brs[2][-1]+brs[3][-1]+brs[4][-1]+brs[5][-1]+brs[6][-1])\n",
    "        \n",
    "    #print(lscs)\n",
    "    ctauAlp=constants['InvGeVtocm']/brs[7][-1]\n",
    "\n",
    "    return [brs[finalStateCode][-1]/brs[7][-1],ctauAlp]"
   ]
  },
  {
   "cell_type": "code",
   "execution_count": 479,
   "id": "binary-wallet",
   "metadata": {},
   "outputs": [
    {
     "name": "stderr",
     "output_type": "stream",
     "text": [
      "<ipython-input-462-de56bdf3d9c0>:46: ComplexWarning: Casting complex values to real discards the imaginary part\n",
      "  return float(gamma)\n"
     ]
    },
    {
     "data": {
      "text/plain": [
       "[0.19259441829593593, 8.448783165873305e-06]"
      ]
     },
     "execution_count": 479,
     "metadata": {},
     "output_type": "execute_result"
    }
   ],
   "source": [
    "brALPtoOneFinalState(1,5,1,-1,-1,1,-1,0,0,0,1000)"
   ]
  },
  {
   "cell_type": "code",
   "execution_count": 480,
   "id": "involved-rescue",
   "metadata": {},
   "outputs": [
    {
     "name": "stderr",
     "output_type": "stream",
     "text": [
      "<ipython-input-462-de56bdf3d9c0>:46: ComplexWarning: Casting complex values to real discards the imaginary part\n",
      "  return float(gamma)\n",
      "<ipython-input-462-de56bdf3d9c0>:109: ComplexWarning: Casting complex values to real discards the imaginary part\n",
      "  return float(gamma)\n"
     ]
    },
    {
     "data": {
      "image/png": "[encoded data removed]",
      "text/plain": [
       "<Figure size 432x288 with 1 Axes>"
      ]
     },
     "metadata": {
      "needs_background": "light"
     },
     "output_type": "display_data"
    },
    {
     "data": {
      "image/png": "[encoded data removed]",
      "text/plain": [
       "<Figure size 432x288 with 1 Axes>"
      ]
     },
     "metadata": {
      "needs_background": "light"
     },
     "output_type": "display_data"
    }
   ],
   "source": [
    "brsALP(1,-1,-1,1,-1,0,0,0,\"cQ=cL=1, ce=cd=cu=-1, all other UV-couplings=0, \\u039B=1TeV\",1000)\n",
    "brsALP(1,-1,-1,1,-1,0,0,0,\"cQ=cL=1, ce=cd=cu=-1, all other UV-couplings=0, \\u039B=1TeV\",1000,br=False)"
   ]
  },
  {
   "cell_type": "code",
   "execution_count": 481,
   "id": "running-allowance",
   "metadata": {},
   "outputs": [
    {
     "name": "stderr",
     "output_type": "stream",
     "text": [
      "<ipython-input-462-de56bdf3d9c0>:46: ComplexWarning: Casting complex values to real discards the imaginary part\n",
      "  return float(gamma)\n",
      "<ipython-input-462-de56bdf3d9c0>:109: ComplexWarning: Casting complex values to real discards the imaginary part\n",
      "  return float(gamma)\n"
     ]
    },
    {
     "data": {
      "image/png": "[encoded data removed]",
      "text/plain": [
       "<Figure size 432x288 with 1 Axes>"
      ]
     },
     "metadata": {
      "needs_background": "light"
     },
     "output_type": "display_data"
    },
    {
     "data": {
      "image/png": "[encoded data removed]",
      "text/plain": [
       "<Figure size 432x288 with 1 Axes>"
      ]
     },
     "metadata": {
      "needs_background": "light"
     },
     "output_type": "display_data"
    }
   ],
   "source": [
    "brsALP(1,-1,-1,0,0,0,0,0,\"cQ=1, cd=-1=cu, all other UV-couplings=0, \\u039B=1TeV\",1000)\n",
    "brsALP(1,-1,-1,0,0,0,0,0,\"cQ=1, cd=-1=cu, all other UV-couplings=0, \\u039B=1TeV\",1000,br=False)"
   ]
  },
  {
   "cell_type": "markdown",
   "id": "greater-fusion",
   "metadata": {},
   "source": [
    "## Integral over detector"
   ]
  },
  {
   "cell_type": "code",
   "execution_count": 482,
   "id": "checked-meditation",
   "metadata": {},
   "outputs": [],
   "source": [
    "def gammaBeta(gammaParent,mParent,ma):\n",
    "    return np.sqrt(gammaParent**2 * (sm['mB+']**2-sm['mK+']**2+ma**2)**2/(4*sm['mB+']**2*ma**2)-1)\n",
    "    \n",
    "def gammaBetaAlp(ma):\n",
    "    return gammaBeta(BelleIIparams['gammaBoostB'],sm['mB+'],ma)"
   ]
  },
  {
   "cell_type": "code",
   "execution_count": 483,
   "id": "resident-netherlands",
   "metadata": {},
   "outputs": [],
   "source": [
    "def thetaMinBoost(thetaMin,r,ctau,gammaBeta):\n",
    "    return np.arctan(r/(r/np.tan(thetaMin) - gammaBeta * ctau))\n",
    "\n",
    "def thetaMaxBoost(thetaMin,r,ctau,gammaBeta):\n",
    "    return np.pi+np.arctan(-r/(-r/np.tan(thetaMin) + gammaBeta * ctau))\n",
    "\n",
    "def geomInt(thetaMin,thetaMax,dmin,dmax,ctau,gammaBeta):\n",
    "    return 1/(4 * (gammaBeta * ctau)**2) * integrate.quad(lambda theta: (1/np.sin(theta)) \\\n",
    "            * (np.exp(-dmin/(np.sin(theta) * gammaBeta * ctau)) * (dmin**2 + 2 * gammaBeta * ctau * np.sin(theta) \\\n",
    "            * (dmin + gammaBeta * ctau * np.sin(theta)))\\\n",
    "            - np.exp(-dmax/(np.sin(theta) * gammaBeta * ctau)) * (dmax**2 + 2 * gammaBeta * ctau * np.sin(theta) \\\n",
    "            * (dmax + gammaBeta * ctau * np.sin(theta))))\\\n",
    "            , thetaMin, thetaMax)[0]\n",
    "    \n",
    "def geomIntBelleIICDC(thetaMin,thetaMax,dmin,dmax,ctau,gammaBeta):\n",
    "    return np.heaviside(np.real(BelleIIparams['RCDC']/np.tan(thetaMin)-BelleIIparams['gammaBoostB'] * sm['ctauB+']),1)\\\n",
    "            * geomInt(thetaMin,thetaMax,dmin,dmax,ctau,gammaBeta)\n",
    "                                                "
   ]
  },
  {
   "cell_type": "code",
   "execution_count": 484,
   "id": "collectible-optimization",
   "metadata": {},
   "outputs": [
    {
     "data": {
      "text/plain": [
       "0.06484569710142005"
      ]
     },
     "execution_count": 484,
     "metadata": {},
     "output_type": "execute_result"
    }
   ],
   "source": [
    "geomInt(np.deg2rad(17),np.deg2rad(150),0.9,1.1,0.5,1.7)"
   ]
  },
  {
   "cell_type": "code",
   "execution_count": 485,
   "id": "cooked-bennett",
   "metadata": {},
   "outputs": [
    {
     "data": {
      "text/plain": [
       "0.7661607320676481"
      ]
     },
     "execution_count": 485,
     "metadata": {},
     "output_type": "execute_result"
    }
   ],
   "source": [
    "geomIntBelleIICDC(np.deg2rad(17),np.deg2rad(150),0.9,60,0.5,1.7)"
   ]
  },
  {
   "cell_type": "code",
   "execution_count": 486,
   "id": "modern-missile",
   "metadata": {},
   "outputs": [
    {
     "data": {
      "text/plain": [
       "0.40596908074511884"
      ]
     },
     "execution_count": 486,
     "metadata": {},
     "output_type": "execute_result"
    }
   ],
   "source": [
    "thetaMinBoost(np.deg2rad(17),0.9,0.5,1.7)"
   ]
  },
  {
   "cell_type": "code",
   "execution_count": 487,
   "id": "excessive-detective",
   "metadata": {},
   "outputs": [
    {
     "data": {
      "text/plain": [
       "3.547561734334912"
      ]
     },
     "execution_count": 487,
     "metadata": {},
     "output_type": "execute_result"
    }
   ],
   "source": [
    "thetaMaxBoost(np.deg2rad(17),0.9,0.5,1.7)"
   ]
  },
  {
   "cell_type": "markdown",
   "id": "educated-alabama",
   "metadata": {},
   "source": [
    "# Number of signal events"
   ]
  },
  {
   "cell_type": "code",
   "execution_count": 488,
   "id": "latin-volume",
   "metadata": {},
   "outputs": [],
   "source": [
    "BelleIIparams={\n",
    "    'gammaBoostB': 1.03029,\n",
    "    'RCDC': 60, #cm\n",
    "    'thetaCDCMin': np.deg2rad(17),\n",
    "    'thetaCDCMax': np.deg2rad(150),\n",
    "    'dres': 0.9,\n",
    "    'NBBelleII': 5*10**10\n",
    "}"
   ]
  },
  {
   "cell_type": "code",
   "execution_count": 489,
   "id": "forty-representative",
   "metadata": {},
   "outputs": [],
   "source": [
    "def nsignalBelleII(ma,finalStateCode,cQ,cu,cd,cL,ce,cGG,cWW,cBB,Lambda):\n",
    "    with HiddenPrints():\n",
    "        HC = OrderedDict()\n",
    "        HC['Q'] = np.array([[cQ,0,0],[0,cQ,0],[0,0,cQ]])\n",
    "        HC['u'] = np.array([[cu,0,0],[0,cu,0],[0,0,cu]])\n",
    "        HC['d'] = np.array([[cd,0,0],[0,cd,0],[0,0,cd]])\n",
    "        HC['L'] = np.array([[cL,0,0],[0,cL,0],[0,0,cL]])\n",
    "        HC['e'] = np.array([[ce,0,0],[0,ce,0],[0,0,ce]])\n",
    "        HC['GG'] = cGG\n",
    "        HC['WW'] = cWW\n",
    "        HC['BB'] = cBB\n",
    "        \n",
    "        lscsTmp = TdAlps.RunRotateMatchRun(HC, Lambda, sm['mB+'], 3)\n",
    "        \n",
    "        cbs=readCbs(lscsTmp)#getCbs(cff, cWW, cBB, Lambda, sm['mB+'])\n",
    "        \n",
    "#     print(\"BR(B-> K+ a)= \",BrBtoKaplus(ma, cbs, Lambda))    \n",
    "    \n",
    "#     #rewrite brALPtoOneFinalState such that last agr can be not a None \n",
    "#     print(\"BR(a->final)= \",brALPtoOneFinalState(ma,finalStateCode,cQ,cu,cd,cL,ce,cGG,cWW,cBB,Lambda,None)[0])\n",
    "    \n",
    "#     print([thetaMinBoost(BelleIIparams['thetaCDCMin'],BelleIIparams['RCDC'],sm['ctauB+']\\\n",
    "#     ,gammaBetaAlp(ma)),thetaMaxBoost(BelleIIparams['thetaCDCMax'],BelleIIparams['RCDC'],sm['ctauB+']\\\n",
    "#     ,gammaBetaAlp(ma)),BelleIIparams['dres'],BelleIIparams['RCDC']\\\n",
    "#     ,brALPtoOneFinalState(ma,finalStateCode,cQ,cu,cd,cL,ce,cGG,cWW,cBB,Lambda,None)[1],gammaBetaAlp(ma)])\n",
    "    \n",
    "#     print(geomIntBelleIICDC(thetaMinBoost(BelleIIparams['thetaCDCMin'],BelleIIparams['RCDC'],sm['ctauB+']\\\n",
    "#     ,gammaBetaAlp(ma)),thetaMaxBoost(BelleIIparams['thetaCDCMax'],BelleIIparams['RCDC'],sm['ctauB+']\\\n",
    "#     ,gammaBetaAlp(ma)),BelleIIparams['dres'],BelleIIparams['RCDC']\\\n",
    "#     ,brALPtoOneFinalState(ma,finalStateCode,cQ,cu,cd,cL,ce,cGG,cWW,cBB,Lambda,None)[1],gammaBetaAlp(ma)))\n",
    "    \n",
    "    return BelleIIparams['NBBelleII'] * BrBtoKaplus(ma, cbs, Lambda) \\\n",
    "    * brALPtoOneFinalState(ma,finalStateCode,cQ,cu,cd,cL,ce,cGG,cWW,cBB,Lambda,None)[0]\\\n",
    "    * geomIntBelleIICDC(thetaMinBoost(BelleIIparams['thetaCDCMin'],BelleIIparams['RCDC'],sm['ctauB+']\\\n",
    "    ,gammaBetaAlp(ma)),thetaMaxBoost(BelleIIparams['thetaCDCMax'],BelleIIparams['RCDC'],sm['ctauB+']\\\n",
    "    ,gammaBetaAlp(ma)),BelleIIparams['dres'],BelleIIparams['RCDC']\\\n",
    "    ,brALPtoOneFinalState(ma,finalStateCode,cQ,cu,cd,cL,ce,cGG,cWW,cBB,Lambda,None)[1],gammaBetaAlp(ma))"
   ]
  },
  {
   "cell_type": "code",
   "execution_count": 490,
   "id": "successful-terminology",
   "metadata": {},
   "outputs": [
    {
     "name": "stderr",
     "output_type": "stream",
     "text": [
      "<ipython-input-462-de56bdf3d9c0>:46: ComplexWarning: Casting complex values to real discards the imaginary part\n",
      "  return float(gamma)\n"
     ]
    },
    {
     "data": {
      "text/plain": [
       "8422533143.760596"
      ]
     },
     "execution_count": 490,
     "metadata": {},
     "output_type": "execute_result"
    }
   ],
   "source": [
    "nsignalBelleII(0.2,5,1,-1,-1,1,-1,0,0,0,1000)"
   ]
  },
  {
   "cell_type": "code",
   "execution_count": 491,
   "id": "fabulous-infrastructure",
   "metadata": {},
   "outputs": [
    {
     "data": {
      "text/plain": [
       "0.0"
      ]
     },
     "execution_count": 491,
     "metadata": {},
     "output_type": "execute_result"
    }
   ],
   "source": [
    "geomIntBelleIICDC(0.2968886712976968, 2.6185273888027787, 0.9, 60, 8.981305682648816e-06, 2.6080796979823226)"
   ]
  },
  {
   "cell_type": "code",
   "execution_count": 492,
   "id": "played-magic",
   "metadata": {},
   "outputs": [],
   "source": [
    "\n",
    "def nsignalAt95CLBelleIIAllcEqual(cff,ma,finalStateCode,Lambda,nOfEventsAt95CL):\n",
    "    cQ=cL=cWW=cBB=cff\n",
    "    ce=cd=cu=-cff\n",
    "    cGG=0\n",
    "    return nsignalBelleII(ma,finalStateCode,cQ,cu,cd,cL,ce,cGG,cWW,cBB,Lambda)-nOfEventsAt95CL\n",
    "\n",
    "def nsignalAt95CLBelleIIcff(cff,ma,finalStateCode,Lambda,nOfEventsAt95CL):\n",
    "    cGG=cWW=cBB=0\n",
    "    cQ=cL=cff\n",
    "    ce=cd=cu=-cff\n",
    "    return nsignalBelleII(ma,finalStateCode,cQ,cu,cd,cL,ce,cGG,cWW,cBB,Lambda)-nOfEventsAt95CL\n",
    "\n",
    "\n",
    "# def nsignalAt95CLBelleIIcWW(cWW,ma,finalStateCode,Lambda,nOfEventsAt95CL):\n",
    "#     cQ=cL=cu=cd=ce=cGG=cBB=0\n",
    "#     res = []\n",
    "#     for i in np.asarray(cWW):\n",
    "#         res_i = nsignalBelleII(ma,finalStateCode,cQ,cu,cd,cL,ce,cGG,i,cBB,Lambda)-nOfEventsAt95CL\n",
    "#         res.append(res_i)\n",
    "#     return np.array(res)\n",
    "\n",
    "def nsignalAt95CLBelleIIcWW(cWW,ma,finalStateCode,Lambda,nOfEventsAt95CL):\n",
    "    cQ=cL=cu=cd=ce=cGG=cBB=0\n",
    "    return nsignalBelleII(ma,finalStateCode,cQ,cu,cd,cL,ce,cGG,cWW,cBB,Lambda)-nOfEventsAt95CL"
   ]
  },
  {
   "cell_type": "code",
   "execution_count": 493,
   "id": "naked-divide",
   "metadata": {},
   "outputs": [
    {
     "name": "stderr",
     "output_type": "stream",
     "text": [
      "<ipython-input-462-de56bdf3d9c0>:46: ComplexWarning: Casting complex values to real discards the imaginary part\n",
      "  return float(gamma)\n"
     ]
    },
    {
     "data": {
      "text/plain": [
       "12186351608.862116"
      ]
     },
     "execution_count": 493,
     "metadata": {},
     "output_type": "execute_result"
    }
   ],
   "source": [
    "nsignalAt95CLBelleIIAllcEqual(1,0.1,5,10**3,3)"
   ]
  },
  {
   "cell_type": "code",
   "execution_count": 494,
   "id": "controversial-choice",
   "metadata": {},
   "outputs": [
    {
     "name": "stderr",
     "output_type": "stream",
     "text": [
      "<ipython-input-462-de56bdf3d9c0>:46: ComplexWarning: Casting complex values to real discards the imaginary part\n",
      "  return float(gamma)\n"
     ]
    },
    {
     "data": {
      "text/plain": [
       "12186351611.862116"
      ]
     },
     "execution_count": 494,
     "metadata": {},
     "output_type": "execute_result"
    }
   ],
   "source": [
    "nsignalBelleII(0.1,5,1,-1,-1,1,-1,0,1,1,10**3)"
   ]
  },
  {
   "cell_type": "markdown",
   "id": "motivated-principal",
   "metadata": {},
   "source": [
    "#### decays under consideration encoded as\n",
    "0: e\n",
    "1: mu\n",
    "2: tau\n",
    "3: charm\n",
    "4: bottom\n",
    "5: photon\n",
    "6: hadron"
   ]
  },
  {
   "cell_type": "code",
   "execution_count": 495,
   "id": "varying-musician",
   "metadata": {},
   "outputs": [],
   "source": [
    "couplingList=np.logspace(-6, 3, 10)\n",
    "def visibleBoundBelleIIcffEqcWWEqcBB(ma,finalStateCode,Lambda,nOfEventsAt95CL):\n",
    "    nsignalAt95CLBelleIIAllcEqualEstimate=np.vstack(([coupling,nsignalAt95CLBelleIIAllcEqual(\\\n",
    "                    coupling,ma,finalStateCode,Lambda,nOfEventsAt95CL)] for coupling in couplingList))\n",
    "    \n",
    "#     print([nsignalAt95CLBelleIIAllcEqual(couplingList[0],ma,finalStateCode,Lambda,nOfEventsAt95CL),\\\n",
    "#           nsignalAt95CLBelleIIAllcEqual(nsignalAt95CLBelleIIAllcEqualEstimate[\\\n",
    "#         np.argmax(nsignalAt95CLBelleIIAllcEqualEstimate[:,1]>0),0],ma,finalStateCode,Lambda,nOfEventsAt95CL)])\n",
    "    \n",
    "    if (np.argmax(nsignalAt95CLBelleIIAllcEqualEstimate[:,1]>0)==0):\n",
    "        root1=root2=np.nan\n",
    "    else:\n",
    "        root1=optimize.brentq(nsignalAt95CLBelleIIAllcEqual, couplingList[0],\\\n",
    "            nsignalAt95CLBelleIIAllcEqualEstimate[np.argmax(nsignalAt95CLBelleIIAllcEqualEstimate[:,1]>0),0],\\\n",
    "                          args = (ma,finalStateCode,Lambda,nOfEventsAt95CL))\n",
    "\n",
    "        root2=optimize.brentq(nsignalAt95CLBelleIIAllcEqual,\\\n",
    "            nsignalAt95CLBelleIIAllcEqualEstimate[np.argmax(nsignalAt95CLBelleIIAllcEqualEstimate[:,1]>0),0],\\\n",
    "                              couplingList[-1], args = (ma,finalStateCode,Lambda,nOfEventsAt95CL))\n",
    "    return [root1,root2]\n",
    "\n",
    "def visibleBoundBelleIIcff(ma,finalStateCode,Lambda,nOfEventsAt95CL):\n",
    "    nsignalAt95CLBelleIIcffEstimate=np.vstack(([coupling,nsignalAt95CLBelleIIcff(coupling,ma,finalStateCode,\\\n",
    "                                                Lambda,nOfEventsAt95CL)] for coupling in couplingList))\n",
    "    if (np.argmax(nsignalAt95CLBelleIIcffEstimate[:,1]>0)==0):\n",
    "        root1=root2=np.nan\n",
    "    else:\n",
    "        root1=optimize.brentq(nsignalAt95CLBelleIIcff, couplingList[0],\\\n",
    "            nsignalAt95CLBelleIIcffEstimate[np.argmax(nsignalAt95CLBelleIIcffEstimate[:,1]>0),0],\\\n",
    "                          args = (ma,finalStateCode,Lambda,nOfEventsAt95CL))\n",
    "\n",
    "        root2=optimize.brentq(nsignalAt95CLBelleIIcff,\\\n",
    "            nsignalAt95CLBelleIIcffEstimate[np.argmax(nsignalAt95CLBelleIIcffEstimate[:,1]>0),0],\\\n",
    "                              couplingList[-1], args = (ma,finalStateCode,Lambda,nOfEventsAt95CL))\n",
    "    return [root1,root2]\n",
    "\n",
    "def visibleBoundBelleIIcWW(ma,finalStateCode,Lambda,nOfEventsAt95CL):\n",
    "    nsignalAt95CLBelleIIcWWEstimate=np.vstack(([coupling,nsignalAt95CLBelleIIcWW(coupling,ma,finalStateCode,\\\n",
    "                                                Lambda,nOfEventsAt95CL)] for coupling in couplingList))\n",
    "    if (np.argmax(nsignalAt95CLBelleIIcWWEstimate[:,1]>0)==0):\n",
    "        root1=root2=np.nan\n",
    "    else:\n",
    "        root1=optimize.brentq(nsignalAt95CLBelleIIcWW, couplingList[0],\\\n",
    "            nsignalAt95CLBelleIIcWWEstimate[np.argmax(nsignalAt95CLBelleIIcWWEstimate[:,1]>0),0],\\\n",
    "                          args = (ma,finalStateCode,Lambda,nOfEventsAt95CL))\n",
    "\n",
    "        root2=optimize.brentq(nsignalAt95CLBelleIIcWW,\\\n",
    "            nsignalAt95CLBelleIIcWWEstimate[np.argmax(nsignalAt95CLBelleIIcWWEstimate[:,1]>0),0],\\\n",
    "                              couplingList[-1], args = (ma,finalStateCode,Lambda,nOfEventsAt95CL))\n",
    "    return [root1,root2]\n",
    "    "
   ]
  },
  {
   "cell_type": "code",
   "execution_count": 496,
   "id": "contained-kinase",
   "metadata": {},
   "outputs": [
    {
     "name": "stderr",
     "output_type": "stream",
     "text": [
      "<ipython-input-495-2b61bc1373f6>:38: FutureWarning: arrays to stack must be passed as a \"sequence\" type such as list or tuple. Support for non-sequence iterables such as generators is deprecated as of NumPy 1.16 and will raise an error in the future.\n",
      "  nsignalAt95CLBelleIIcWWEstimate=np.vstack(([coupling,nsignalAt95CLBelleIIcWW(coupling,ma,finalStateCode,\\\n",
      "<ipython-input-462-de56bdf3d9c0>:46: ComplexWarning: Casting complex values to real discards the imaginary part\n",
      "  return float(gamma)\n",
      "<ipython-input-483-1f1779c84ac1>:8: IntegrationWarning: The integral is probably divergent, or slowly convergent.\n",
      "  return 1/(4 * (gammaBeta * ctau)**2) * integrate.quad(lambda theta: (1/np.sin(theta)) \\\n",
      "<ipython-input-483-1f1779c84ac1>:8: IntegrationWarning: The maximum number of subdivisions (50) has been achieved.\n",
      "  If increasing the limit yields no improvement it is advised to analyze \n",
      "  the integrand in order to determine the difficulties.  If the position of a \n",
      "  local difficulty can be determined (singularity, discontinuity) one will \n",
      "  probably gain from splitting up the interval and calling the integrator \n",
      "  on the subranges.  Perhaps a special-purpose integrator should be used.\n",
      "  return 1/(4 * (gammaBeta * ctau)**2) * integrate.quad(lambda theta: (1/np.sin(theta)) \\\n",
      "<ipython-input-483-1f1779c84ac1>:8: IntegrationWarning: The occurrence of roundoff error is detected, which prevents \n",
      "  the requested tolerance from being achieved.  The error may be \n",
      "  underestimated.\n",
      "  return 1/(4 * (gammaBeta * ctau)**2) * integrate.quad(lambda theta: (1/np.sin(theta)) \\\n"
     ]
    },
    {
     "data": {
      "text/plain": [
       "[0.7746914643420324, 195.1744103871165]"
      ]
     },
     "execution_count": 496,
     "metadata": {},
     "output_type": "execute_result"
    }
   ],
   "source": [
    "visibleBoundBelleIIcWW(0.05,5,10**3,3)"
   ]
  },
  {
   "cell_type": "markdown",
   "id": "norwegian-hanging",
   "metadata": {},
   "source": [
    "# visibleBoundBelleIIcffEqcWWEqcBB(0.05,5,10**3,3)"
   ]
  },
  {
   "cell_type": "code",
   "execution_count": 497,
   "id": "surface-treaty",
   "metadata": {},
   "outputs": [
    {
     "name": "stderr",
     "output_type": "stream",
     "text": [
      "<ipython-input-495-2b61bc1373f6>:23: FutureWarning: arrays to stack must be passed as a \"sequence\" type such as list or tuple. Support for non-sequence iterables such as generators is deprecated as of NumPy 1.16 and will raise an error in the future.\n",
      "  nsignalAt95CLBelleIIcffEstimate=np.vstack(([coupling,nsignalAt95CLBelleIIcff(coupling,ma,finalStateCode,\\\n",
      "<ipython-input-462-de56bdf3d9c0>:46: ComplexWarning: Casting complex values to real discards the imaginary part\n",
      "  return float(gamma)\n",
      "<ipython-input-483-1f1779c84ac1>:8: IntegrationWarning: The integral is probably divergent, or slowly convergent.\n",
      "  return 1/(4 * (gammaBeta * ctau)**2) * integrate.quad(lambda theta: (1/np.sin(theta)) \\\n",
      "<ipython-input-483-1f1779c84ac1>:8: IntegrationWarning: The maximum number of subdivisions (50) has been achieved.\n",
      "  If increasing the limit yields no improvement it is advised to analyze \n",
      "  the integrand in order to determine the difficulties.  If the position of a \n",
      "  local difficulty can be determined (singularity, discontinuity) one will \n",
      "  probably gain from splitting up the interval and calling the integrator \n",
      "  on the subranges.  Perhaps a special-purpose integrator should be used.\n",
      "  return 1/(4 * (gammaBeta * ctau)**2) * integrate.quad(lambda theta: (1/np.sin(theta)) \\\n"
     ]
    },
    {
     "data": {
      "text/plain": [
       "[0.5337758597390725, 617.7099326649783]"
      ]
     },
     "execution_count": 497,
     "metadata": {},
     "output_type": "execute_result"
    }
   ],
   "source": [
    "visibleBoundBelleIIcff(0.01,5,10**3,3)"
   ]
  },
  {
   "cell_type": "code",
   "execution_count": 498,
   "id": "ordered-mattress",
   "metadata": {},
   "outputs": [],
   "source": [
    "#masslist= [0.05, 0.05, 0.1, 0.2, 0.3, 0.5, 1., 2., 4.]\n",
    "masslist=np.logspace(-2, 1, 25)\n",
    "particleCodes=[*range(0,7,1)]"
   ]
  },
  {
   "cell_type": "code",
   "execution_count": 499,
   "id": "exterior-participation",
   "metadata": {},
   "outputs": [
    {
     "data": {
      "text/plain": [
       "array([ 0.05623413,  0.07498942,  0.1       ,  0.13335214,  0.17782794,\n",
       "        0.23713737,  0.31622777,  0.4216965 ,  0.56234133,  0.74989421,\n",
       "        1.        ,  1.33352143,  1.77827941,  2.37137371,  3.16227766,\n",
       "        4.21696503,  5.62341325,  7.49894209, 10.        ])"
      ]
     },
     "execution_count": 499,
     "metadata": {},
     "output_type": "execute_result"
    }
   ],
   "source": [
    "masslist[6:]"
   ]
  },
  {
   "cell_type": "markdown",
   "id": "collected-civilian",
   "metadata": {},
   "source": [
    "### mapping bounds over masses and final states"
   ]
  },
  {
   "cell_type": "code",
   "execution_count": 500,
   "id": "preliminary-newspaper",
   "metadata": {},
   "outputs": [
    {
     "name": "stderr",
     "output_type": "stream",
     "text": [
      "<ipython-input-495-2b61bc1373f6>:3: FutureWarning: arrays to stack must be passed as a \"sequence\" type such as list or tuple. Support for non-sequence iterables such as generators is deprecated as of NumPy 1.16 and will raise an error in the future.\n",
      "  nsignalAt95CLBelleIIAllcEqualEstimate=np.vstack(([coupling,nsignalAt95CLBelleIIAllcEqual(\\\n",
      "<ipython-input-462-de56bdf3d9c0>:46: ComplexWarning: Casting complex values to real discards the imaginary part\n",
      "  return float(gamma)\n",
      "<ipython-input-483-1f1779c84ac1>:8: IntegrationWarning: The maximum number of subdivisions (50) has been achieved.\n",
      "  If increasing the limit yields no improvement it is advised to analyze \n",
      "  the integrand in order to determine the difficulties.  If the position of a \n",
      "  local difficulty can be determined (singularity, discontinuity) one will \n",
      "  probably gain from splitting up the interval and calling the integrator \n",
      "  on the subranges.  Perhaps a special-purpose integrator should be used.\n",
      "  return 1/(4 * (gammaBeta * ctau)**2) * integrate.quad(lambda theta: (1/np.sin(theta)) \\\n",
      "<ipython-input-483-1f1779c84ac1>:8: IntegrationWarning: The integral is probably divergent, or slowly convergent.\n",
      "  return 1/(4 * (gammaBeta * ctau)**2) * integrate.quad(lambda theta: (1/np.sin(theta)) \\\n",
      "<ipython-input-483-1f1779c84ac1>:8: IntegrationWarning: The occurrence of roundoff error is detected, which prevents \n",
      "  the requested tolerance from being achieved.  The error may be \n",
      "  underestimated.\n",
      "  return 1/(4 * (gammaBeta * ctau)**2) * integrate.quad(lambda theta: (1/np.sin(theta)) \\\n",
      "<ipython-input-462-de56bdf3d9c0>:109: ComplexWarning: Casting complex values to real discards the imaginary part\n",
      "  return float(gamma)\n",
      "<ipython-input-467-52bf55d99166>:3: RuntimeWarning: invalid value encountered in sqrt\n",
      "  -sm['mK+'])**2/sm['mB+']**3 * np.sqrt(sm['mB+']**4+sm['mK+']**4+ma**4-2*(sm['mB+']**2 * sm['mK+']**2 \\\n"
     ]
    }
   ],
   "source": [
    "listVisibleBoundBelleIIcffEqcWWEqcBB=[]\n",
    "for mass in masslist:\n",
    "    listForFixedMass=[]\n",
    "    for particle in particleCodes:\n",
    "        listForFixedMass.append(visibleBoundBelleIIcffEqcWWEqcBB(mass,particle,10**3,3))\n",
    "    listVisibleBoundBelleIIcffEqcWWEqcBB.append(listForFixedMass)\n",
    "arrayVisibleBoundBelleIIcffEqcWWEqcBB=np.array(listVisibleBoundBelleIIcffEqcWWEqcBB)"
   ]
  },
  {
   "cell_type": "code",
   "execution_count": 501,
   "id": "numeric-asian",
   "metadata": {},
   "outputs": [
    {
     "name": "stderr",
     "output_type": "stream",
     "text": [
      "<ipython-input-495-2b61bc1373f6>:23: FutureWarning: arrays to stack must be passed as a \"sequence\" type such as list or tuple. Support for non-sequence iterables such as generators is deprecated as of NumPy 1.16 and will raise an error in the future.\n",
      "  nsignalAt95CLBelleIIcffEstimate=np.vstack(([coupling,nsignalAt95CLBelleIIcff(coupling,ma,finalStateCode,\\\n",
      "<ipython-input-462-de56bdf3d9c0>:46: ComplexWarning: Casting complex values to real discards the imaginary part\n",
      "  return float(gamma)\n",
      "<ipython-input-483-1f1779c84ac1>:8: IntegrationWarning: The integral is probably divergent, or slowly convergent.\n",
      "  return 1/(4 * (gammaBeta * ctau)**2) * integrate.quad(lambda theta: (1/np.sin(theta)) \\\n",
      "<ipython-input-483-1f1779c84ac1>:8: IntegrationWarning: The maximum number of subdivisions (50) has been achieved.\n",
      "  If increasing the limit yields no improvement it is advised to analyze \n",
      "  the integrand in order to determine the difficulties.  If the position of a \n",
      "  local difficulty can be determined (singularity, discontinuity) one will \n",
      "  probably gain from splitting up the interval and calling the integrator \n",
      "  on the subranges.  Perhaps a special-purpose integrator should be used.\n",
      "  return 1/(4 * (gammaBeta * ctau)**2) * integrate.quad(lambda theta: (1/np.sin(theta)) \\\n",
      "<ipython-input-483-1f1779c84ac1>:8: IntegrationWarning: The occurrence of roundoff error is detected, which prevents \n",
      "  the requested tolerance from being achieved.  The error may be \n",
      "  underestimated.\n",
      "  return 1/(4 * (gammaBeta * ctau)**2) * integrate.quad(lambda theta: (1/np.sin(theta)) \\\n",
      "<ipython-input-462-de56bdf3d9c0>:109: ComplexWarning: Casting complex values to real discards the imaginary part\n",
      "  return float(gamma)\n",
      "<ipython-input-467-52bf55d99166>:3: RuntimeWarning: invalid value encountered in sqrt\n",
      "  -sm['mK+'])**2/sm['mB+']**3 * np.sqrt(sm['mB+']**4+sm['mK+']**4+ma**4-2*(sm['mB+']**2 * sm['mK+']**2 \\\n"
     ]
    }
   ],
   "source": [
    "listVisibleBoundBelleIIcff=[]\n",
    "for mass in masslist:\n",
    "    listForFixedMass=[]\n",
    "    for particle in particleCodes:\n",
    "        listForFixedMass.append(visibleBoundBelleIIcff(mass,particle,10**3,3))\n",
    "    listVisibleBoundBelleIIcff.append(listForFixedMass)\n",
    "arrayVisibleBoundBelleIIcff=np.array(listVisibleBoundBelleIIcff)"
   ]
  },
  {
   "cell_type": "code",
   "execution_count": 502,
   "id": "numeric-brain",
   "metadata": {},
   "outputs": [
    {
     "name": "stderr",
     "output_type": "stream",
     "text": [
      "<ipython-input-495-2b61bc1373f6>:38: FutureWarning: arrays to stack must be passed as a \"sequence\" type such as list or tuple. Support for non-sequence iterables such as generators is deprecated as of NumPy 1.16 and will raise an error in the future.\n",
      "  nsignalAt95CLBelleIIcWWEstimate=np.vstack(([coupling,nsignalAt95CLBelleIIcWW(coupling,ma,finalStateCode,\\\n",
      "<ipython-input-462-de56bdf3d9c0>:46: ComplexWarning: Casting complex values to real discards the imaginary part\n",
      "  return float(gamma)\n",
      "<ipython-input-483-1f1779c84ac1>:8: IntegrationWarning: The maximum number of subdivisions (50) has been achieved.\n",
      "  If increasing the limit yields no improvement it is advised to analyze \n",
      "  the integrand in order to determine the difficulties.  If the position of a \n",
      "  local difficulty can be determined (singularity, discontinuity) one will \n",
      "  probably gain from splitting up the interval and calling the integrator \n",
      "  on the subranges.  Perhaps a special-purpose integrator should be used.\n",
      "  return 1/(4 * (gammaBeta * ctau)**2) * integrate.quad(lambda theta: (1/np.sin(theta)) \\\n",
      "<ipython-input-483-1f1779c84ac1>:8: IntegrationWarning: The integral is probably divergent, or slowly convergent.\n",
      "  return 1/(4 * (gammaBeta * ctau)**2) * integrate.quad(lambda theta: (1/np.sin(theta)) \\\n",
      "<ipython-input-483-1f1779c84ac1>:8: IntegrationWarning: The occurrence of roundoff error is detected, which prevents \n",
      "  the requested tolerance from being achieved.  The error may be \n",
      "  underestimated.\n",
      "  return 1/(4 * (gammaBeta * ctau)**2) * integrate.quad(lambda theta: (1/np.sin(theta)) \\\n",
      "<ipython-input-462-de56bdf3d9c0>:109: ComplexWarning: Casting complex values to real discards the imaginary part\n",
      "  return float(gamma)\n",
      "<ipython-input-467-52bf55d99166>:3: RuntimeWarning: invalid value encountered in sqrt\n",
      "  -sm['mK+'])**2/sm['mB+']**3 * np.sqrt(sm['mB+']**4+sm['mK+']**4+ma**4-2*(sm['mB+']**2 * sm['mK+']**2 \\\n"
     ]
    }
   ],
   "source": [
    "listVisibleBoundBelleIIcWW=[]\n",
    "for mass in masslist[4:]:\n",
    "    listForFixedMass=[]\n",
    "    for particle in particleCodes:\n",
    "        listForFixedMass.append(visibleBoundBelleIIcWW(mass,particle,10**3,3))\n",
    "    listVisibleBoundBelleIIcWW.append(listForFixedMass)\n",
    "arrayVisibleBoundBelleIIcWW=np.array(listVisibleBoundBelleIIcWW)"
   ]
  },
  {
   "cell_type": "code",
   "execution_count": 503,
   "id": "peripheral-spokesman",
   "metadata": {},
   "outputs": [
    {
     "data": {
      "text/plain": [
       "array([[[4.43439932e-01, 5.66531157e+02],\n",
       "        [           nan,            nan],\n",
       "        [           nan,            nan],\n",
       "        [           nan,            nan],\n",
       "        [           nan,            nan],\n",
       "        [4.70542927e-01, 5.62897183e+02],\n",
       "        [           nan,            nan]],\n",
       "\n",
       "       [[3.23909433e-01, 3.42748716e+02],\n",
       "        [           nan,            nan],\n",
       "        [           nan,            nan],\n",
       "        [           nan,            nan],\n",
       "        [           nan,            nan],\n",
       "        [3.10680589e-01, 3.44346446e+02],\n",
       "        [           nan,            nan]],\n",
       "\n",
       "       [[2.35208015e-01, 2.04554790e+02],\n",
       "        [           nan,            nan],\n",
       "        [           nan,            nan],\n",
       "        [           nan,            nan],\n",
       "        [           nan,            nan],\n",
       "        [2.08423280e-01, 2.07425153e+02],\n",
       "        [           nan,            nan]],\n",
       "\n",
       "       [[1.69323686e-01, 1.19709244e+02],\n",
       "        [           nan,            nan],\n",
       "        [           nan,            nan],\n",
       "        [           nan,            nan],\n",
       "        [           nan,            nan],\n",
       "        [1.39526242e-01, 1.22513327e+02],\n",
       "        [           nan,            nan]],\n",
       "\n",
       "       [[1.20950811e-01, 6.88078808e+01],\n",
       "        [           nan,            nan],\n",
       "        [           nan,            nan],\n",
       "        [           nan,            nan],\n",
       "        [           nan,            nan],\n",
       "        [9.28927550e-02, 7.11090894e+01],\n",
       "        [           nan,            nan]],\n",
       "\n",
       "       [[8.58592027e-02, 3.89568642e+01],\n",
       "        [           nan,            nan],\n",
       "        [           nan,            nan],\n",
       "        [           nan,            nan],\n",
       "        [           nan,            nan],\n",
       "        [6.14911445e-02, 4.06893661e+01],\n",
       "        [           nan,            nan]],\n",
       "\n",
       "       [[6.06650578e-02, 2.17877255e+01],\n",
       "        [           nan,            nan],\n",
       "        [           nan,            nan],\n",
       "        [           nan,            nan],\n",
       "        [           nan,            nan],\n",
       "        [4.05017151e-02, 2.30258741e+01],\n",
       "        [           nan,            nan]],\n",
       "\n",
       "       [[4.27260355e-02, 1.20663541e+01],\n",
       "        [           nan,            nan],\n",
       "        [           nan,            nan],\n",
       "        [           nan,            nan],\n",
       "        [           nan,            nan],\n",
       "        [2.65710436e-02, 1.29210697e+01],\n",
       "        [           nan,            nan]],\n",
       "\n",
       "       [[3.01777591e-02, 6.69947154e+00],\n",
       "        [           nan,            nan],\n",
       "        [           nan,            nan],\n",
       "        [           nan,            nan],\n",
       "        [           nan,            nan],\n",
       "        [1.75073835e-02, 7.27795513e+00],\n",
       "        [           nan,            nan]],\n",
       "\n",
       "       [[2.18625393e-02, 3.91641897e+00],\n",
       "        [           nan,            nan],\n",
       "        [           nan,            nan],\n",
       "        [           nan,            nan],\n",
       "        [           nan,            nan],\n",
       "        [1.19808803e-02, 4.31213627e+00],\n",
       "        [           nan,            nan]],\n",
       "\n",
       "       [[1.63399082e-02, 2.44390782e+00],\n",
       "        [           nan,            nan],\n",
       "        [           nan,            nan],\n",
       "        [           nan,            nan],\n",
       "        [           nan,            nan],\n",
       "        [8.58964300e-03, 2.72166542e+00],\n",
       "        [           nan,            nan]],\n",
       "\n",
       "       [[4.65715071e-03, 1.15904759e-01],\n",
       "        [1.15261100e-03, 1.64340871e-01],\n",
       "        [           nan,            nan],\n",
       "        [           nan,            nan],\n",
       "        [           nan,            nan],\n",
       "        [1.95453649e-03, 1.47039954e-01],\n",
       "        [           nan,            nan]],\n",
       "\n",
       "       [[3.72860064e-03, 6.08770038e-02],\n",
       "        [7.70902914e-04, 9.27450998e-02],\n",
       "        [           nan,            nan],\n",
       "        [           nan,            nan],\n",
       "        [           nan,            nan],\n",
       "        [1.18984470e-03, 8.43551709e-02],\n",
       "        [           nan,            nan]],\n",
       "\n",
       "       [[3.29298302e-03, 3.87044155e-02],\n",
       "        [5.83974294e-04, 6.21366903e-02],\n",
       "        [           nan,            nan],\n",
       "        [           nan,            nan],\n",
       "        [           nan,            nan],\n",
       "        [8.32475107e-04, 5.73968960e-02],\n",
       "        [           nan,            nan]],\n",
       "\n",
       "       [[3.20612789e-03, 2.52665849e-02],\n",
       "        [4.54120658e-04, 4.29539820e-02],\n",
       "        [           nan,            nan],\n",
       "        [           nan,            nan],\n",
       "        [           nan,            nan],\n",
       "        [6.01194002e-04, 4.02798137e-02],\n",
       "        [           nan,            nan]],\n",
       "\n",
       "       [[3.37887805e-03, 1.61371521e-02],\n",
       "        [3.55019526e-04, 2.96509788e-02],\n",
       "        [           nan,            nan],\n",
       "        [           nan,            nan],\n",
       "        [           nan,            nan],\n",
       "        [4.37181101e-04, 2.82346653e-02],\n",
       "        [           nan,            nan]],\n",
       "\n",
       "       [[           nan,            nan],\n",
       "        [2.76217577e-04, 2.00474213e-02],\n",
       "        [           nan,            nan],\n",
       "        [           nan,            nan],\n",
       "        [           nan,            nan],\n",
       "        [3.16312683e-04, 1.93993835e-02],\n",
       "        [           nan,            nan]],\n",
       "\n",
       "       [[           nan,            nan],\n",
       "        [           nan,            nan],\n",
       "        [           nan,            nan],\n",
       "        [           nan,            nan],\n",
       "        [           nan,            nan],\n",
       "        [           nan,            nan],\n",
       "        [1.82191415e-05, 2.53146243e-04]],\n",
       "\n",
       "       [[           nan,            nan],\n",
       "        [           nan,            nan],\n",
       "        [           nan,            nan],\n",
       "        [           nan,            nan],\n",
       "        [           nan,            nan],\n",
       "        [           nan,            nan],\n",
       "        [1.59807242e-05, 1.57743548e-04]],\n",
       "\n",
       "       [[           nan,            nan],\n",
       "        [           nan,            nan],\n",
       "        [           nan,            nan],\n",
       "        [           nan,            nan],\n",
       "        [           nan,            nan],\n",
       "        [           nan,            nan],\n",
       "        [           nan,            nan]],\n",
       "\n",
       "       [[           nan,            nan],\n",
       "        [           nan,            nan],\n",
       "        [           nan,            nan],\n",
       "        [           nan,            nan],\n",
       "        [           nan,            nan],\n",
       "        [           nan,            nan],\n",
       "        [           nan,            nan]],\n",
       "\n",
       "       [[           nan,            nan],\n",
       "        [           nan,            nan],\n",
       "        [           nan,            nan],\n",
       "        [           nan,            nan],\n",
       "        [           nan,            nan],\n",
       "        [           nan,            nan],\n",
       "        [           nan,            nan]],\n",
       "\n",
       "       [[           nan,            nan],\n",
       "        [           nan,            nan],\n",
       "        [           nan,            nan],\n",
       "        [           nan,            nan],\n",
       "        [           nan,            nan],\n",
       "        [           nan,            nan],\n",
       "        [           nan,            nan]],\n",
       "\n",
       "       [[           nan,            nan],\n",
       "        [           nan,            nan],\n",
       "        [           nan,            nan],\n",
       "        [           nan,            nan],\n",
       "        [           nan,            nan],\n",
       "        [           nan,            nan],\n",
       "        [           nan,            nan]],\n",
       "\n",
       "       [[           nan,            nan],\n",
       "        [           nan,            nan],\n",
       "        [           nan,            nan],\n",
       "        [           nan,            nan],\n",
       "        [           nan,            nan],\n",
       "        [           nan,            nan],\n",
       "        [           nan,            nan]]])"
      ]
     },
     "execution_count": 503,
     "metadata": {},
     "output_type": "execute_result"
    }
   ],
   "source": [
    "arrayVisibleBoundBelleIIcffEqcWWEqcBB"
   ]
  },
  {
   "cell_type": "code",
   "execution_count": 504,
   "id": "english-confusion",
   "metadata": {},
   "outputs": [
    {
     "data": {
      "text/plain": [
       "[[[0.4659577946381072, 626.8647898574698],\n",
       "  [nan, nan],\n",
       "  [nan, nan],\n",
       "  [nan, nan],\n",
       "  [nan, nan],\n",
       "  [0.5337758597390725, 617.7099326649783],\n",
       "  [nan, nan]],\n",
       " [[0.3495513863843061, 401.3006120062808],\n",
       "  [nan, nan],\n",
       "  [nan, nan],\n",
       "  [nan, nan],\n",
       "  [nan, nan],\n",
       "  [0.360873861013581, 399.88857489394644],\n",
       "  [nan, nan]],\n",
       " [[0.2599573847024593, 252.00605570223007],\n",
       "  [nan, nan],\n",
       "  [nan, nan],\n",
       "  [nan, nan],\n",
       "  [nan, nan],\n",
       "  [0.2482976679754299, 253.3230831090265],\n",
       "  [nan, nan]],\n",
       " [[0.19084579746373578, 153.84088055199337],\n",
       "  [nan, nan],\n",
       "  [nan, nan],\n",
       "  [nan, nan],\n",
       "  [nan, nan],\n",
       "  [0.1697943837682089, 155.963852352328],\n",
       "  [nan, nan]],\n",
       " [[0.1383856181770438, 91.37994231442734],\n",
       "  [nan, nan],\n",
       "  [nan, nan],\n",
       "  [nan, nan],\n",
       "  [nan, nan],\n",
       "  [0.11493275598121078, 93.46714151609667],\n",
       "  [nan, nan]],\n",
       " [[0.09930195853958103, 53.010155718998135],\n",
       "  [nan, nan],\n",
       "  [nan, nan],\n",
       "  [nan, nan],\n",
       "  [nan, nan],\n",
       "  [0.07701367891948073, 54.744898679688276],\n",
       "  [nan, nan]],\n",
       " [[0.07068056973749157, 30.16928037849955],\n",
       "  [nan, nan],\n",
       "  [nan, nan],\n",
       "  [nan, nan],\n",
       "  [nan, nan],\n",
       "  [0.05116290958641939, 31.48913480777933],\n",
       "  [nan, nan]],\n",
       " [[0.050014767270209703, 16.916632217270617],\n",
       "  [nan, nan],\n",
       "  [nan, nan],\n",
       "  [nan, nan],\n",
       "  [nan, nan],\n",
       "  [0.03376171852089667, 17.86727517776958],\n",
       "  [nan, nan]],\n",
       " [[0.03548695144949646, 9.513609817760964],\n",
       "  [nan, nan],\n",
       "  [nan, nan],\n",
       "  [nan, nan],\n",
       "  [nan, nan],\n",
       "  [0.022393025997868674, 10.176938432161096],\n",
       "  [nan, nan]],\n",
       " [[0.026069861717433054, 5.7539725316614625],\n",
       "  [nan, nan],\n",
       "  [nan, nan],\n",
       "  [nan, nan],\n",
       "  [nan, nan],\n",
       "  [0.015661018555845306, 6.221060229516058],\n",
       "  [nan, nan]],\n",
       " [[0.020076586184275668, 3.851252365748629],\n",
       "  [nan, nan],\n",
       "  [nan, nan],\n",
       "  [nan, nan],\n",
       "  [nan, nan],\n",
       "  [0.011765278726555504, 4.191975123038835],\n",
       "  [nan, nan]],\n",
       " [[0.004671316324077737, 0.11630403577989361],\n",
       "  [0.0011562171829025858, 0.1648982805484767],\n",
       "  [nan, nan],\n",
       "  [nan, nan],\n",
       "  [nan, nan],\n",
       "  [0.0021140682268500754, 0.14493137144267842],\n",
       "  [nan, nan]],\n",
       " [[0.003740254359155054, 0.06130730360771403],\n",
       "  [0.0007743555863340035, 0.09334654255399057],\n",
       "  [nan, nan],\n",
       "  [nan, nan],\n",
       "  [nan, nan],\n",
       "  [0.0012699449627239542, 0.08367733237765174],\n",
       "  [nan, nan]],\n",
       " [[0.0032948529391882784, 0.039245275625002976],\n",
       "  [0.000587973829168056, 0.06288402831191213],\n",
       "  [nan, nan],\n",
       "  [nan, nan],\n",
       "  [nan, nan],\n",
       "  [0.0008887719275542075, 0.05727576679961789],\n",
       "  [nan, nan]],\n",
       " [[0.0031711180222342, 0.02592952151880364],\n",
       "  [0.0004589491026780115, 0.04385978522824607],\n",
       "  [nan, nan],\n",
       "  [nan, nan],\n",
       "  [nan, nan],\n",
       "  [0.0006441495584134097, 0.040555456846260926],\n",
       "  [nan, nan]],\n",
       " [[0.0032910910138690954, 0.016924890506877798],\n",
       "  [0.00036086468518126716, 0.03070342872212207],\n",
       "  [nan, nan],\n",
       "  [nan, nan],\n",
       "  [nan, nan],\n",
       "  [0.0004713388660493941, 0.028824190210180064],\n",
       "  [nan, nan]],\n",
       " [[0.0035185927853755156, 0.010436024284741385],\n",
       "  [0.0002831016924859698, 0.021197520395011132],\n",
       "  [nan, nan],\n",
       "  [nan, nan],\n",
       "  [nan, nan],\n",
       "  [0.00034414369688118485, 0.020215696780342678],\n",
       "  [nan, nan]],\n",
       " [[nan, nan],\n",
       "  [nan, nan],\n",
       "  [nan, nan],\n",
       "  [nan, nan],\n",
       "  [nan, nan],\n",
       "  [nan, nan],\n",
       "  [1.827683469693562e-05, 0.0002527892309205509]],\n",
       " [[nan, nan],\n",
       "  [nan, nan],\n",
       "  [nan, nan],\n",
       "  [nan, nan],\n",
       "  [nan, nan],\n",
       "  [nan, nan],\n",
       "  [1.6056680629615453e-05, 0.00015749042972456253]],\n",
       " [[nan, nan],\n",
       "  [nan, nan],\n",
       "  [nan, nan],\n",
       "  [nan, nan],\n",
       "  [nan, nan],\n",
       "  [nan, nan],\n",
       "  [nan, nan]],\n",
       " [[nan, nan],\n",
       "  [nan, nan],\n",
       "  [nan, nan],\n",
       "  [nan, nan],\n",
       "  [nan, nan],\n",
       "  [nan, nan],\n",
       "  [nan, nan]],\n",
       " [[nan, nan],\n",
       "  [nan, nan],\n",
       "  [nan, nan],\n",
       "  [nan, nan],\n",
       "  [nan, nan],\n",
       "  [nan, nan],\n",
       "  [nan, nan]],\n",
       " [[nan, nan],\n",
       "  [nan, nan],\n",
       "  [nan, nan],\n",
       "  [nan, nan],\n",
       "  [nan, nan],\n",
       "  [nan, nan],\n",
       "  [nan, nan]],\n",
       " [[nan, nan],\n",
       "  [nan, nan],\n",
       "  [nan, nan],\n",
       "  [nan, nan],\n",
       "  [nan, nan],\n",
       "  [nan, nan],\n",
       "  [nan, nan]],\n",
       " [[nan, nan],\n",
       "  [nan, nan],\n",
       "  [nan, nan],\n",
       "  [nan, nan],\n",
       "  [nan, nan],\n",
       "  [nan, nan],\n",
       "  [nan, nan]]]"
      ]
     },
     "execution_count": 504,
     "metadata": {},
     "output_type": "execute_result"
    }
   ],
   "source": [
    "listVisibleBoundBelleIIcff"
   ]
  },
  {
   "cell_type": "code",
   "execution_count": 505,
   "id": "dynamic-valley",
   "metadata": {},
   "outputs": [
    {
     "data": {
      "text/plain": [
       "[[[9.523577251955164, 344.7272948364743],\n",
       "  [nan, nan],\n",
       "  [nan, nan],\n",
       "  [nan, nan],\n",
       "  [nan, nan],\n",
       "  [1.537806302482934, 505.609201759485],\n",
       "  [nan, nan]],\n",
       " [[7.11914908103726, 177.99058988074233],\n",
       "  [nan, nan],\n",
       "  [nan, nan],\n",
       "  [nan, nan],\n",
       "  [nan, nan],\n",
       "  [0.9995212115246418, 278.1371454213251],\n",
       "  [nan, nan]],\n",
       " [[5.690735166081588, 89.80542151474368],\n",
       "  [nan, nan],\n",
       "  [nan, nan],\n",
       "  [nan, nan],\n",
       "  [nan, nan],\n",
       "  [0.6498559632334857, 152.8639889238069],\n",
       "  [nan, nan]],\n",
       " [[5.79075691229766, 43.334521548138596],\n",
       "  [nan, nan],\n",
       "  [nan, nan],\n",
       "  [nan, nan],\n",
       "  [nan, nan],\n",
       "  [0.42269101181127355, 83.87647648404057],\n",
       "  [nan, nan]],\n",
       " [[7.9909948339041215, 18.180406989015673],\n",
       "  [nan, nan],\n",
       "  [nan, nan],\n",
       "  [nan, nan],\n",
       "  [nan, nan],\n",
       "  [0.2750806619021741, 45.95842954582705],\n",
       "  [nan, nan]],\n",
       " [[nan, nan],\n",
       "  [nan, nan],\n",
       "  [nan, nan],\n",
       "  [nan, nan],\n",
       "  [nan, nan],\n",
       "  [0.17913144154773597, 25.139806534431585],\n",
       "  [nan, nan]],\n",
       " [[nan, nan],\n",
       "  [nan, nan],\n",
       "  [nan, nan],\n",
       "  [nan, nan],\n",
       "  [nan, nan],\n",
       "  [0.11675210026077386, 13.72579276516128],\n",
       "  [nan, nan]],\n",
       " [[nan, nan],\n",
       "  [0.24591792796532475, 5.465997409790222],\n",
       "  [nan, nan],\n",
       "  [nan, nan],\n",
       "  [nan, nan],\n",
       "  [0.07619754185042545, 7.476089893369588],\n",
       "  [nan, nan]],\n",
       " [[nan, nan],\n",
       "  [0.17930746660030142, 2.8386913630676296],\n",
       "  [nan, nan],\n",
       "  [nan, nan],\n",
       "  [nan, nan],\n",
       "  [0.04987029389088998, 4.067820374094357],\n",
       "  [nan, nan]],\n",
       " [[nan, nan],\n",
       "  [0.16911119989828438, 1.3937689393915482],\n",
       "  [nan, nan],\n",
       "  [nan, nan],\n",
       "  [nan, nan],\n",
       "  [0.03270424266914023, 2.206547725019074],\n",
       "  [nan, nan]],\n",
       " [[nan, nan],\n",
       "  [nan, nan],\n",
       "  [nan, nan],\n",
       "  [nan, nan],\n",
       "  [nan, nan],\n",
       "  [0.021512914292000012, 1.1902546820215072],\n",
       "  [nan, nan]],\n",
       " [[nan, nan],\n",
       "  [nan, nan],\n",
       "  [nan, nan],\n",
       "  [nan, nan],\n",
       "  [nan, nan],\n",
       "  [0.014215327461821196, 0.6381006993043973],\n",
       "  [nan, nan]],\n",
       " [[nan, nan],\n",
       "  [nan, nan],\n",
       "  [nan, nan],\n",
       "  [nan, nan],\n",
       "  [nan, nan],\n",
       "  [0.009456786685087402, 0.33908459210026265],\n",
       "  [nan, nan]],\n",
       " [[nan, nan],\n",
       "  [nan, nan],\n",
       "  [nan, nan],\n",
       "  [nan, nan],\n",
       "  [nan, nan],\n",
       "  [0.0063041248932602855, 0.1712576694052699],\n",
       "  [0.011131376608231054, 0.14410066607900965]],\n",
       " [[nan, nan],\n",
       "  [nan, nan],\n",
       "  [nan, nan],\n",
       "  [nan, nan],\n",
       "  [nan, nan],\n",
       "  [0.004342979127044579, 0.08852075474812739],\n",
       "  [nan, nan]],\n",
       " [[nan, nan],\n",
       "  [nan, nan],\n",
       "  [nan, nan],\n",
       "  [nan, nan],\n",
       "  [nan, nan],\n",
       "  [0.0031529791851672958, 0.04359709890866974],\n",
       "  [nan, nan]],\n",
       " [[nan, nan],\n",
       "  [nan, nan],\n",
       "  [nan, nan],\n",
       "  [nan, nan],\n",
       "  [nan, nan],\n",
       "  [0.0028910474199275314, 0.019520821523056692],\n",
       "  [nan, nan]],\n",
       " [[nan, nan],\n",
       "  [nan, nan],\n",
       "  [nan, nan],\n",
       "  [nan, nan],\n",
       "  [nan, nan],\n",
       "  [nan, nan],\n",
       "  [nan, nan]],\n",
       " [[nan, nan],\n",
       "  [nan, nan],\n",
       "  [nan, nan],\n",
       "  [nan, nan],\n",
       "  [nan, nan],\n",
       "  [nan, nan],\n",
       "  [nan, nan]],\n",
       " [[nan, nan],\n",
       "  [nan, nan],\n",
       "  [nan, nan],\n",
       "  [nan, nan],\n",
       "  [nan, nan],\n",
       "  [nan, nan],\n",
       "  [nan, nan]],\n",
       " [[nan, nan],\n",
       "  [nan, nan],\n",
       "  [nan, nan],\n",
       "  [nan, nan],\n",
       "  [nan, nan],\n",
       "  [nan, nan],\n",
       "  [nan, nan]]]"
      ]
     },
     "execution_count": 505,
     "metadata": {},
     "output_type": "execute_result"
    }
   ],
   "source": [
    "listVisibleBoundBelleIIcWW"
   ]
  },
  {
   "cell_type": "markdown",
   "id": "limited-mitchell",
   "metadata": {},
   "source": [
    "### saving bounds to files"
   ]
  },
  {
   "cell_type": "code",
   "execution_count": 506,
   "id": "tested-oracle",
   "metadata": {},
   "outputs": [],
   "source": [
    "# with open('output/masslist.csv', 'w') as f:\n",
    "#    ww = csv.writer(f, delimiter=',')\n",
    "#    ww.writerows(masslist) \n",
    "    \n",
    "with open('output/visibleBoundBelleIIcffEqcWWEqcBB.csv', 'w') as f:\n",
    "   ww = csv.writer(f, delimiter=',')\n",
    "   ww.writerows(listVisibleBoundBelleIIcffEqcWWEqcBB) \n",
    "    \n",
    "with open('output/visibleBoundBelleIIcff.csv', 'w') as f:\n",
    "   ww = csv.writer(f, delimiter=',')\n",
    "   ww.writerows(listVisibleBoundBelleIIcff) \n",
    "    \n",
    "with open('output/visibleBoundBelleIIcWW.csv', 'w') as f:\n",
    "   ww = csv.writer(f, delimiter=',')\n",
    "   ww.writerows(listVisibleBoundBelleIIcWW) "
   ]
  },
  {
   "cell_type": "markdown",
   "id": "social-relevance",
   "metadata": {},
   "source": [
    "### plots"
   ]
  },
  {
   "cell_type": "markdown",
   "id": "legislative-letter",
   "metadata": {},
   "source": [
    "#### decays under consideration encoded as\n",
    "0: e\n",
    "1: mu\n",
    "2: tau\n",
    "3: charm\n",
    "4: bottom\n",
    "5: photon\n",
    "6: hadron"
   ]
  },
  {
   "cell_type": "code",
   "execution_count": 507,
   "id": "surprising-community",
   "metadata": {},
   "outputs": [],
   "source": [
    "def plotBounds(boundsArray, particleCode, upper=False):\n",
    "    if upper:\n",
    "        return np.vstack([np.array(masslist),boundsArray[:,particleCode,1]]).T\n",
    "    else:\n",
    "        return np.vstack([np.array(masslist),boundsArray[:,particleCode,0]]).T"
   ]
  },
  {
   "cell_type": "code",
   "execution_count": 508,
   "id": "searching-vulnerability",
   "metadata": {},
   "outputs": [
    {
     "data": {
      "image/png": "[encoded data removed]",
      "text/plain": [
       "<Figure size 648x504 with 1 Axes>"
      ]
     },
     "metadata": {
      "needs_background": "light"
     },
     "output_type": "display_data"
    }
   ],
   "source": [
    "fig, ax = plt.subplots(figsize=(9, 7))\n",
    "\n",
    "ax.plot(masslist,arrayVisibleBoundBelleIIcffEqcWWEqcBB[:,0,0],label='cff=cWW=cBB',c=\"darkblue\") \n",
    "ax.plot(masslist,arrayVisibleBoundBelleIIcffEqcWWEqcBB[:,0,1],c=\"darkblue\") \n",
    "\n",
    "ax.plot(masslist,arrayVisibleBoundBelleIIcff[:,0,0],label='just cff',c=\"teal\") \n",
    "ax.plot(masslist,arrayVisibleBoundBelleIIcff[:,0,1],c=\"teal\") \n",
    "\n",
    "ax.plot(masslist[4:],arrayVisibleBoundBelleIIcWW[:,0,0],label='just cWW',c=\"mediumseagreen\") \n",
    "ax.plot(masslist[4:],arrayVisibleBoundBelleIIcWW[:,0,1],c=\"mediumseagreen\") \n",
    "\n",
    "# ax.plot(masses,boundsCffZero,label='just cff', ls='--') \n",
    "# ax.plot(masses,boundsCWWZero,label='just cWW', ls=':') \n",
    "# ax.plot(masses,boundsCBBZero,label='just cBB', ls='-.') \n",
    "\n",
    "ax.set_title('$B\\\\rightarrow K e^+ e^-$')\n",
    "\n",
    "ax.set_xlabel('ALP mass ma [GeV]')\n",
    "ax.set_ylabel('Belle II bound on coupling')\n",
    "ax.set_xscale('log')\n",
    "ax.set_yscale('log')\n",
    "ax.legend()\n",
    "\n",
    "plt.savefig('plots/visibleBoundBelleII-electrons.png', dpi=300, bbox_inches='tight')"
   ]
  },
  {
   "cell_type": "code",
   "execution_count": 509,
   "id": "pressed-basket",
   "metadata": {},
   "outputs": [
    {
     "data": {
      "image/png": "[encoded data removed]",
      "text/plain": [
       "<Figure size 648x504 with 1 Axes>"
      ]
     },
     "metadata": {
      "needs_background": "light"
     },
     "output_type": "display_data"
    }
   ],
   "source": [
    "fig, ax = plt.subplots(figsize=(9, 7))\n",
    "\n",
    "ax.plot(masslist,arrayVisibleBoundBelleIIcffEqcWWEqcBB[:,1,0],label='cff=cWW=cBB',c=\"darkblue\") \n",
    "ax.plot(masslist,arrayVisibleBoundBelleIIcffEqcWWEqcBB[:,1,1],c=\"darkblue\") \n",
    "\n",
    "ax.plot(masslist,arrayVisibleBoundBelleIIcff[:,1,0],label='just cff',c=\"teal\") \n",
    "ax.plot(masslist,arrayVisibleBoundBelleIIcff[:,1,1],c=\"teal\") \n",
    "\n",
    "ax.plot(masslist[4:],arrayVisibleBoundBelleIIcWW[:,1,0],label='just cWW',c=\"mediumseagreen\") \n",
    "ax.plot(masslist[4:],arrayVisibleBoundBelleIIcWW[:,1,1],c=\"mediumseagreen\") \n",
    "\n",
    "# ax.plot(masses,boundsCffZero,label='just cff', ls='--') \n",
    "# ax.plot(masses,boundsCWWZero,label='just cWW', ls=':') \n",
    "# ax.plot(masses,boundsCBBZero,label='just cBB', ls='-.') \n",
    "\n",
    "ax.set_title('$B\\\\rightarrow K \\\\mu^+ \\\\mu^-$')\n",
    "\n",
    "ax.set_xlabel('ALP mass ma [GeV]')\n",
    "ax.set_ylabel('Belle II bound on coupling')\n",
    "ax.set_xscale('log')\n",
    "ax.set_yscale('log')\n",
    "ax.legend()\n",
    "\n",
    "plt.savefig('plots/visibleBoundBelleII-muons.png', dpi=300, bbox_inches='tight')"
   ]
  },
  {
   "cell_type": "code",
   "execution_count": 510,
   "id": "judicial-cyprus",
   "metadata": {},
   "outputs": [
    {
     "data": {
      "image/png": "[encoded data removed]",
      "text/plain": [
       "<Figure size 648x504 with 1 Axes>"
      ]
     },
     "metadata": {
      "needs_background": "light"
     },
     "output_type": "display_data"
    }
   ],
   "source": [
    "fig, ax = plt.subplots(figsize=(9, 7))\n",
    "\n",
    "ax.plot(masslist,arrayVisibleBoundBelleIIcffEqcWWEqcBB[:,5,0],label='cff=cWW=cBB',c=\"darkblue\") \n",
    "ax.plot(masslist,arrayVisibleBoundBelleIIcffEqcWWEqcBB[:,5,1],c=\"darkblue\") \n",
    "\n",
    "ax.plot(masslist,arrayVisibleBoundBelleIIcff[:,5,0],label='just cff',c=\"teal\") \n",
    "ax.plot(masslist,arrayVisibleBoundBelleIIcff[:,5,1],c=\"teal\") \n",
    "\n",
    "ax.plot(masslist[4:],arrayVisibleBoundBelleIIcWW[:,5,0],label='just cWW',c=\"mediumseagreen\") \n",
    "ax.plot(masslist[4:],arrayVisibleBoundBelleIIcWW[:,5,1],c=\"mediumseagreen\") \n",
    "\n",
    "# ax.plot(masses,boundsCffZero,label='just cff', ls='--') \n",
    "# ax.plot(masses,boundsCWWZero,label='just cWW', ls=':') \n",
    "# ax.plot(masses,boundsCBBZero,label='just cBB', ls='-.') \n",
    "\n",
    "ax.set_title('$B\\\\rightarrow K \\\\gamma \\\\gamma$')\n",
    "\n",
    "ax.set_xlabel('ALP mass ma [GeV]')\n",
    "ax.set_ylabel('Belle II bound on coupling')\n",
    "ax.set_xscale('log')\n",
    "ax.set_yscale('log')\n",
    "ax.legend()\n",
    "\n",
    "plt.savefig('plots/visibleBoundBelleIIcffEqcWWEqcBB.png', dpi=300, bbox_inches='tight')"
   ]
  },
  {
   "cell_type": "code",
   "execution_count": null,
   "id": "interim-headline",
   "metadata": {},
   "outputs": [],
   "source": []
  },
  {
   "cell_type": "code",
   "execution_count": null,
   "id": "subject-intervention",
   "metadata": {},
   "outputs": [],
   "source": []
  }
 ],
 "metadata": {
  "kernelspec": {
   "display_name": "Python 3",
   "language": "python",
   "name": "python3"
  },
  "language_info": {
   "codemirror_mode": {
    "name": "ipython",
    "version": 3
   },
   "file_extension": ".py",
   "mimetype": "text/x-python",
   "name": "python",
   "nbconvert_exporter": "python",
   "pygments_lexer": "ipython3",
   "version": "3.8.6"
  }
 },
 "nbformat": 4,
 "nbformat_minor": 5
}
