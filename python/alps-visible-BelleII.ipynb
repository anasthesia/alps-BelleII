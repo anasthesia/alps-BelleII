{
 "cells": [
  {
   "cell_type": "code",
   "execution_count": 1,
   "id": "political-fault",
   "metadata": {},
   "outputs": [],
   "source": [
    "import glob\n",
    "import matplotlib as mlib\n",
    "import matplotlib.pyplot as plt\n",
    "import numpy as np\n",
    "from numpy import genfromtxt\n",
    "from numpy import loadtxt\n",
    "import re\n",
    "import csv\n",
    "import matplotlib.colors as mcolors\n",
    "import matplotlib.cm as cm\n",
    "import matplotlib.patches as mpatches\n",
    "\n",
    "import sys\n",
    "sys.path.insert(1, '/home/stasya/prj/alps-running/TdAlps-Internal/')\n",
    "import TdAlps\n",
    "from collections import OrderedDict"
   ]
  },
  {
   "cell_type": "code",
   "execution_count": 2,
   "id": "foreign-nancy",
   "metadata": {},
   "outputs": [],
   "source": [
    "#Plotting settings\n",
    "font = {\n",
    "        'weight' : 'normal',\n",
    "        'size'   : 16}\n",
    "\n",
    "mlib.rc('font', **font)"
   ]
  },
  {
   "cell_type": "code",
   "execution_count": 3,
   "id": "appropriate-ivory",
   "metadata": {},
   "outputs": [],
   "source": [
    "sm={\n",
    "    'GF': 1.166*10**(-5),\n",
    "    'sw': np.sqrt(0.231),\n",
    "    'hbar': 6.582*10**(-25),\n",
    "    'c': 3*10**10,\n",
    "    'alpha': 1/137,\n",
    "    'Vtb': 0.999,\n",
    "    'Vts': 0.0404,\n",
    "    'Xt': 1.469,\n",
    "    'BrBtoKnunu+': 4.5*10**(-6),\n",
    "    'NBBBaBar': 471*10**6,\n",
    "    'NBBBelleII': 5*10**10,\n",
    "    'me': 0.000511,\n",
    "    'mmu': 0.1056,\n",
    "    'mtau': 1.777,\n",
    "    'mu': 2.2/1000,\n",
    "    'md': 4.7/1000,\n",
    "    'ms': 95/1000,\n",
    "    'mc': 1.275,\n",
    "    'mb': 4.18,\n",
    "    'mt': 173,\n",
    "    'mZ': 91.19,\n",
    "    'mB+': 5.279,\n",
    "    'mK+': 0.494,\n",
    "    'tauB+': 1.638*10**(-12)\n",
    "}"
   ]
  },
  {
   "cell_type": "code",
   "execution_count": 4,
   "id": "final-router",
   "metadata": {},
   "outputs": [],
   "source": [
    "def f(Lambda):\n",
    "    return Lambda/(4 * np.pi)"
   ]
  },
  {
   "cell_type": "markdown",
   "id": "attached-overhead",
   "metadata": {},
   "source": [
    "## based on https://github.com/rrschaefer/alps (formulas taken from 2012.12272 and 1708.00443)"
   ]
  },
  {
   "cell_type": "markdown",
   "id": "recorded-static",
   "metadata": {},
   "source": [
    "### Alps running implemented in https://github.com/TdAlps"
   ]
  },
  {
   "cell_type": "code",
   "execution_count": 5,
   "id": "systematic-gibraltar",
   "metadata": {},
   "outputs": [],
   "source": [
    "def getLScoefficients(cff, cww, cbb, Lambda, mu):\n",
    "    HC = OrderedDict()\n",
    "    HC['Q'] = np.array([[cff,0,0],[0,cff,0],[0,0,cff]])\n",
    "    HC['u'] = np.array([[-cff,0,0],[0,-cff,0],[0,0,-cff]])\n",
    "    HC['d'] = np.array([[-cff,0,0],[0,-cff,0],[0,0,-cff]])\n",
    "    HC['L'] = np.array([[cff,0,0],[0,cff,0],[0,0,cff]])\n",
    "    HC['e'] = np.array([[-cff,0,0],[0,-cff,0],[0,0,-cff]])\n",
    "    HC['GG'] = 0\n",
    "    HC['WW'] = cww\n",
    "    HC['BB'] = cbb\n",
    "    return TdAlps.RunRotateMatchRun(HC, Lambda, mu, 3)\n",
    "\n",
    "\n",
    "def getCuu(cff, cww, cbb, Lambda, mu):\n",
    "    coeffs = getLScoefficients(cff, cww, cbb, Lambda, mu)\n",
    "    return coeffs['U'][0][0]-coeffs['u'][0][0]\n",
    "\n",
    "def getCcc(cff, cww, cbb, Lambda, mu):\n",
    "    coeffs = getLScoefficients(cff, cww, cbb, Lambda, mu)\n",
    "    return coeffs['U'][1][1]-coeffs['u'][1][1]\n",
    "\n",
    "def getCtt(cff, cww, cbb, Lambda, mu):\n",
    "    coeffs = getLScoefficients(cff, cww, cbb, Lambda, mu)\n",
    "    return coeffs['U'][2][2]-coeffs['u'][2][2]\n",
    "\n",
    "def getCdd(cff, cww, cbb, Lambda, mu):\n",
    "    coeffs = getLScoefficients(cff, cww, cbb, Lambda, mu)\n",
    "    return coeffs['D'][0][0]-coeffs['d'][0][0]\n",
    "\n",
    "def getCss(cff, cww, cbb, Lambda, mu):\n",
    "    coeffs = getLScoefficients(cff, cww, cbb, Lambda, mu)\n",
    "    return coeffs['D'][1][1]-coeffs['d'][1][1]\n",
    "\n",
    "def getCbb(cff, cww, cbb, Lambda, mu):\n",
    "    coeffs = getLScoefficients(cff, cww, cbb, Lambda, mu)\n",
    "    return coeffs['D'][2][2]-coeffs['d'][2][2]\n",
    "\n",
    "def getCGG(cff, cww, cbb, Lambda, mu):\n",
    "    coeffs = getLScoefficients(cff, cww, cbb, Lambda, mu)\n",
    "    return coeffs['GG']\n",
    "\n",
    "def getCgg(cff, cww, cbb, Lambda, mu):\n",
    "    coeffs = getLScoefficients(cff, cww, cbb, Lambda, mu)\n",
    "    return coeffs['gamgam']\n",
    "\n",
    "def getCee(cff, cww, cbb, Lambda, mu):\n",
    "    coeffs = getLScoefficients(cff, cww, cbb, Lambda, mu)\n",
    "    return coeffs['E'][0][0]-coeffs['e'][0][0]\n",
    "\n",
    "def getCmumu(cff, cww, cbb, Lambda, mu):\n",
    "    coeffs = getLScoefficients(cff, cww, cbb, Lambda, mu)\n",
    "    return coeffs['E'][1][1]-coeffs['e'][1][1]\n",
    "\n",
    "def getCtautau(cff, cww, cbb, Lambda, mu):\n",
    "    coeffs = getLScoefficients(cff, cww, cbb, Lambda, mu)\n",
    "    return coeffs['E'][2][2]-coeffs['e'][2][2]\n",
    "\n",
    "def getCbs(cff, cww, cbb, Lambda, mu):\n",
    "    coeffs = getLScoefficients(cff, cww, cbb, Lambda, mu)\n",
    "    return coeffs['D'][2][1]-coeffs['d'][2][1]\n",
    "\n",
    "def getAlphaEM(cff, cww, cbb, Lambda, mu):\n",
    "    coeffs = getLScoefficients(cff, cww, cbb, Lambda, mu)\n",
    "    return coeffs['aEM']\n",
    "\n",
    "def getAlphaS(cff, cww, cbb, Lambda, mu):\n",
    "    coeffs = getLScoefficients(cff, cww, cbb, Lambda, mu)\n",
    "    return coeffs['a3']\n",
    "\n",
    "\n",
    "def readCuu(coeffs):\n",
    "    return coeffs['U'][0][0]-coeffs['u'][0][0]\n",
    "\n",
    "def readCcc(coeffs):\n",
    "    return coeffs['U'][1][1]-coeffs['u'][1][1]\n",
    "\n",
    "def readCtt(coeffs):\n",
    "    return coeffs['U'][2][2]-coeffs['u'][2][2]\n",
    "\n",
    "def readCdd(coeffs):\n",
    "    return coeffs['D'][0][0]-coeffs['d'][0][0]\n",
    "\n",
    "def readCss(coeffs):\n",
    "    return coeffs['D'][1][1]-coeffs['d'][1][1]\n",
    "\n",
    "def readCbb(coeffs):\n",
    "    return coeffs['D'][2][2]-coeffs['d'][2][2]\n",
    "\n",
    "def readCGG(coeffs):\n",
    "    return coeffs['GG']\n",
    "\n",
    "def readCgg(coeffs):\n",
    "    return coeffs['gamgam']\n",
    "\n",
    "def readCee(coeffs):\n",
    "    return coeffs['E'][0][0]-coeffs['e'][0][0]\n",
    "\n",
    "def readCmumu(coeffs):\n",
    "    return coeffs['E'][1][1]-coeffs['e'][1][1]\n",
    "\n",
    "def readCtautau(coeffs):\n",
    "    return coeffs['E'][2][2]-coeffs['e'][2][2]\n",
    "\n",
    "def readCbs(coeffs):\n",
    "    return coeffs['D'][2][1]-coeffs['d'][2][1]\n",
    "\n",
    "def readAlphaEM(coeffs):\n",
    "    return coeffs['aEM']\n",
    "\n",
    "def readAlphaS(coeffs):\n",
    "    return coeffs['a3']\n",
    "\n",
    "def printLowScaleCoef(coeffs):\n",
    "    print(\"readCuu = {0}\\n readCcc = {1}\\n readCdd = {2}\\n readCss = {3}\\n readCbb = {4}\\n\".format(readCuu(coeffs),readCcc(coeffs),readCdd(coeffs),readCss(coeffs),readCbb(coeffs)))  "
   ]
  },
  {
   "cell_type": "code",
   "execution_count": 6,
   "id": "sixth-worship",
   "metadata": {},
   "outputs": [],
   "source": [
    "testCoeff= getLScoefficients(1, 0.5, 0, 10**3, 50)"
   ]
  },
  {
   "cell_type": "code",
   "execution_count": 7,
   "id": "numerous-purpose",
   "metadata": {},
   "outputs": [
    {
     "data": {
      "text/plain": [
       "(1.9706808739558992+4.357055911013798e-22j)"
      ]
     },
     "execution_count": 7,
     "metadata": {},
     "output_type": "execute_result"
    }
   ],
   "source": [
    "readCbb(getLScoefficients(1, 0, 0, 10**3, 5))"
   ]
  },
  {
   "cell_type": "code",
   "execution_count": 8,
   "id": "short-sport",
   "metadata": {},
   "outputs": [
    {
     "data": {
      "text/plain": [
       "(0.5+0j)"
      ]
     },
     "execution_count": 8,
     "metadata": {},
     "output_type": "execute_result"
    }
   ],
   "source": [
    "readCgg(testCoeff)"
   ]
  },
  {
   "cell_type": "code",
   "execution_count": 9,
   "id": "organic-execution",
   "metadata": {},
   "outputs": [
    {
     "data": {
      "text/plain": [
       "(0.00965486945987901+0j)"
      ]
     },
     "execution_count": 9,
     "metadata": {},
     "output_type": "execute_result"
    }
   ],
   "source": [
    "readAlphaEM(testCoeff)"
   ]
  },
  {
   "cell_type": "code",
   "execution_count": 10,
   "id": "protective-tournament",
   "metadata": {},
   "outputs": [
    {
     "name": "stdout",
     "output_type": "stream",
     "text": [
      "readCuu = (1.8703162199567827-1.588421225203518e-24j)\n",
      " readCcc = (1.8703162199567827-1.588421225203518e-24j)\n",
      " readCdd = (2.0476858760465784-1.688147274833831e-21j)\n",
      " readCss = (2.0476618440142937+3.3865449825539148e-21j)\n",
      " readCbb = (2.0329718799285375-1.5868064632864805e-24j)\n",
      "\n"
     ]
    }
   ],
   "source": [
    "printLowScaleCoef(testCoeff)"
   ]
  },
  {
   "cell_type": "code",
   "execution_count": 11,
   "id": "veterinary-handbook",
   "metadata": {},
   "outputs": [
    {
     "name": "stdout",
     "output_type": "stream",
     "text": [
      "(0.5+0j) 0j\n"
     ]
    }
   ],
   "source": [
    "print(readCgg(testCoeff),readCGG(testCoeff))"
   ]
  },
  {
   "cell_type": "code",
   "execution_count": 12,
   "id": "manual-reproduction",
   "metadata": {},
   "outputs": [],
   "source": [
    "def nq(ma):\n",
    "    if ma>2*sm['mt']:\n",
    "        return 6\n",
    "    elif ma>=2*sm['mb']:\n",
    "        return 5\n",
    "    elif ma>=2*sm['mc']:\n",
    "        return 4\n",
    "    elif ma>=2*sm['ms']:\n",
    "        return 3\n",
    "    elif ma>=2*sm['md']:\n",
    "        return 2\n",
    "    elif ma>=2*sm['mu']:\n",
    "        return 1\n",
    "    else:\n",
    "        return 0\n",
    "\n",
    "def B2(tau):\n",
    "    return 1-(tau-1)*funcB(tau)**2\n",
    "\n",
    "# (14) in 2012.12272\n",
    "def B1(tau):\n",
    "    return 1-tau*funcB(tau)**2\n",
    "\n",
    "\n",
    "def funcB(tau):\n",
    "    if tau>=1:\n",
    "        return np.arcsin(1/np.sqrt(tau))\n",
    "    else:\n",
    "        return np.pi/2 + 1j/2 * np.log((1+np.sqrt(1-tau))/(1-np.sqrt(1-tau)))"
   ]
  },
  {
   "cell_type": "code",
   "execution_count": 25,
   "id": "concrete-matthew",
   "metadata": {},
   "outputs": [],
   "source": [
    "def Gammaatoll(ma, cll, ml, Lambda):\n",
    "    if ma <= 2 * ml:\n",
    "        return 0\n",
    "    gamma = ml**2 * abs(cll)**2 * np.sqrt(ma**2 - 4 * ml**2) / (8 * np.pi * Lambda**2) \n",
    "    if gamma.imag  != 0:\n",
    "        if gamma.imag/gamma.real > 10**-10:\n",
    "            print(\"The Decay rate to leptons with mass \" + str(ml) + \" is complex: \" + str(gamma))\n",
    "    return float(gamma)\n",
    "\n",
    "#quark masses depend on scale, not included here\n",
    "def Gammaatoqq(ma, cqq, mq, Lambda):\n",
    "    if ma <= 2 * mq:\n",
    "        return 0\n",
    "    gamma = 3 * mq**2 * abs(cqq)**2 * np.sqrt(ma**2 - 4 * mq**2) / (8 * np.pi * Lambda**2)\n",
    "    if gamma.imag  != 0:\n",
    "        if gamma.imag/gamma.real > 10**-10:\n",
    "            print(\"The Decay rate to quarks with mass \" + str(mq) + \" is complex: \" + str(gamma))\n",
    "    return float(gamma)\n",
    "\n",
    "def GammaatogamgamRuth(ma, coeffs, Lambda):\n",
    "    cgamgam = readCgg(coeffs)\n",
    "    alphaEM = readAlphaEM(coeffs)\n",
    "    effcgg = cgamgam\n",
    "    if ma >= sm['mZ']:\n",
    "        effcgg += 2 * alphaEM/np.pi * coeffs['WW']/sm['sw']**2 * B2(4*sm['mW']**2/ma**2)\n",
    "        effcgg += 3 * (2/3)**2 * readCtt(coeffs) * B1(4*sm['mt']**2/ma**2)\n",
    "    if ma>2*sm['mc']:\n",
    "        effcgg += 3 * (2/3)**2 * readCcc(coeffs) * B1(4*sm['mc']**2/ma**2) \n",
    "        \n",
    "    effcgg += 3 * (2/3)**2 * readCuu(coeffs) * B1(4*sm['mu']**2/ma**2)\n",
    "    if ma>2*sm['mb']:\n",
    "        effcgg += 3 * (-1/3)**2 * readCbb(coeffs) * B1(4*sm['mb']**2/ma**2)\n",
    "        effcgg += 3 * (-1/3)**2 * (readCss(coeffs) * B1(4*sm['ms']**2/ma**2) + readCdd(coeffs) \\\n",
    "                               * B1(4*sm['md']**2/ma**2))\n",
    "    effcgg += readCee(coeffs) * B1(4*sm['me']**2/ma**2) + readCmumu(coeffs) * B1(4*sm['mmu']**2/ma**2)\n",
    "    if ma>2*sm['mb']:\n",
    "        effcgg += readCtautau(coeffs) * B1(4*sm['mtau']**2/ma**2)\n",
    "    gamma = abs(effcgg)**2 * alphaEM**2 * ma**3 /(4 * np.pi * Lambda**2) \n",
    "    if gamma.imag  != 0:\n",
    "        if gamma.imag/gamma.real > 10**-10:\n",
    "            print(\"The Decay rate to photons is complex: \" + str(gamma))\n",
    "    return float(gamma)\n",
    "\n",
    "def Gammaatogamgam(ma, coeffs, Lambda):\n",
    "    cgamgam = readCgg(coeffs)\n",
    "    alphaEM = readAlphaEM(coeffs)\n",
    "    effcgg = cgamgam\n",
    "    # eq. (47) in 2012.12272\n",
    "    if ma>sm['me']:\n",
    "        effcgg +=B1(4*sm['me']**2/ma**2) \n",
    "    if ma>sm['mmu']:\n",
    "        effcgg +=B1(4*sm['mmu']**2/ma**2) \n",
    "    if ma>sm['mtau']:\n",
    "        effcgg +=B1(4*sm['mtau']**2/ma**2)\n",
    "        \n",
    "    if ma>sm['mu']:\n",
    "        effcgg += 3 * (2/3)**2 * B1(4*sm['mu']**2/ma**2) \n",
    "    if ma>sm['mc']:\n",
    "        effcgg += 3 * (2/3)**2 * B1(4*sm['mc']**2/ma**2) \n",
    "    if ma>sm['mt']:\n",
    "        effcgg += 3 * (2/3)**2 * B1(4*sm['mt']**2/ma**2) \n",
    "        \n",
    "    if ma>sm['md']:\n",
    "        effcgg += 3 * (1/3)**2 * B1(4*sm['md']**2/ma**2) \n",
    "    if ma>sm['ms']:\n",
    "        effcgg += 3 * (1/3)**2 * B1(4*sm['ms']**2/ma**2) \n",
    "    if ma>sm['mb']:\n",
    "        effcgg += 3 * (1/3)**2 * B1(4*sm['mb']**2/ma**2) \n",
    "        \n",
    "    if ma >= sm['mZ']:\n",
    "        effcgg += 2 * alphaEM/np.pi * coeffs['WW']/sm['sw']**2 * B2(4*sm['mW']**2/ma**2)\n",
    "        \n",
    "    # eq.(46) in 2012.12272\n",
    "    gamma = abs(effcgg)**2 * alphaEM**2 * ma**3 /(64 * np.pi * f(Lambda)**2) \n",
    "    if gamma.imag  != 0:\n",
    "        if gamma.imag/gamma.real > 10**-10:\n",
    "            print(\"The Decay rate to photons is complex: \" + str(gamma))\n",
    "    return float(gamma)\n",
    "    \n",
    "\n",
    "def GammaatogamgamMyCheck2(ma, coeffs, Lambda):\n",
    "    cgamgam = readCgg(coeffs)\n",
    "    alphaEM = readAlphaEM(coeffs)\n",
    "    effcgg = cgamgam\n",
    "    # eq. (47) in 2012.12272\n",
    "    #effcgg += 2 * alphaEM/np.pi * 1/sm['sw']**2 * B2(4*sm['mW']**2/ma**2) * np.heaviside(ma-sm['mZ'],1)\n",
    "    effcgg += 3 * (2/3)**2 * (np.heaviside(ma-sm['mu'],1) * B1(4*sm['mu']**2/ma**2) \n",
    "                              + np.heaviside(ma-sm['mc'],1) * B1(4*sm['mc']**2/ma**2) \\\n",
    "                              + np.heaviside(ma-sm['mt'],1) * B1(4*sm['mt']**2/ma**2))\\\n",
    "            + 3 * (1/3)**2 * (np.heaviside(ma-sm['md'],1) * B1(4*sm['md']**2/ma**2) \n",
    "                              + np.heaviside(ma-sm['ms'],1) * B1(4*sm['ms']**2/ma**2) \\\n",
    "                              + np.heaviside(ma-sm['mb'],1) * B1(4*sm['mb']**2/ma**2))\\\n",
    "            +  (np.heaviside(ma-sm['me'],1) * B1(4*sm['me']**2/ma**2) \n",
    "                              + np.heaviside(ma-sm['mmu'],1) * B1(4*sm['mmu']**2/ma**2) \\\n",
    "                              + np.heaviside(ma-sm['mtau'],1) * B1(4*sm['mtau']**2/ma**2))\n",
    "    # eq.(46) in 2012.12272\n",
    "    gamma = abs(effcgg)**2 * alphaEM**2 * ma**3 /(64 * np.pi * f(Lambda)**2) \n",
    "    if gamma.imag  != 0:\n",
    "        if gamma.imag/gamma.real > 10**-10:\n",
    "            print(\"The Decay rate to photons is complex: \" + str(gamma))\n",
    "    return float(gamma)\n",
    "    \n",
    "def Gammaatohad(ma, coeffs, Lambda):\n",
    "    if ma <= 1:\n",
    "        return 0\n",
    "    alphaS = readAlphaS(coeffs)\n",
    "    cGGeff = readCGG(coeffs)\n",
    "    cGGeff += 1/2 * readCuu(coeffs) * B1(4*sm['mu']**2/ma**2)\n",
    "    cGGeff += 1/2 * readCdd(coeffs) * B1(4*sm['md']**2/ma**2)\n",
    "    cGGeff += 1/2 * readCss(coeffs) * B1(4*sm['ms']**2/ma**2)\n",
    "    if ma>2*sm['mc']:\n",
    "        cGGeff += 1/2 * readCcc(coeffs) * B1(4*sm['mc']**2/ma**2)\n",
    "    if ma>2*sm['mb']:\n",
    "        cGGeff += 1/2 * readCbb(coeffs) * B1(4*sm['mb']**2/ma**2)\n",
    "    if ma >= sm['mZ']:\n",
    "        cGGeff += 1/2 * readCtt(coeffs) * B1(4*sm['mt']**2/ma**2)\n",
    "    gamma = abs(cGGeff)**2 * 32 * np.pi * alphaS**2 * ma**3 * \\\n",
    "            (1 + (97/4-7*nq(ma)/6) * alphaS/np.pi)/Lambda**2\n",
    "    if gamma.imag  != 0:\n",
    "        if gamma.imag/gamma.real > 10**-10:\n",
    "            print(\"The Decay rate to hadrons is complex: \" + str(gamma))\n",
    "    return float(gamma)\n",
    "\n",
    "def GammaatohadMyCheck(ma, coeffs, Lambda):\n",
    "    if ma <= 1:\n",
    "        return 0\n",
    "    alphaS = readAlphaS(coeffs)\n",
    "    cGGeff = readCGG(coeffs)\n",
    "    \n",
    "    # eq.(13) in 2012.12272\n",
    "    \n",
    "    cGGeff += 1/2 * readCuu(coeffs) * B1(4*sm['mu']**2/ma**2) * np.heaviside(ma-sm['mu'],1)\\\n",
    "            + 1/2 * readCdd(coeffs) * B1(4*sm['md']**2/ma**2) * np.heaviside(ma-sm['md'],1)\\\n",
    "            + 1/2 * readCss(coeffs) * B1(4*sm['ms']**2/ma**2) * np.heaviside(ma-sm['ms'],1)\\\n",
    "            + 1/2 * readCcc(coeffs) * B1(4*sm['mc']**2/ma**2) * np.heaviside(ma-sm['mc'],1)\\\n",
    "            + 1/2 * readCbb(coeffs) * B1(4*sm['mb']**2/ma**2) * np.heaviside(ma-sm['mb'],1)\\\n",
    "            #+ 1/2 * readCtt(coeffs) * B1(4*sm['mt']**2/ma**2) * np.heaviside(ma-sm['mZ'],1)\\\n",
    "        \n",
    "    # eq.(29) in 1708.00443 with nq=3 light quarks\n",
    "    gamma = abs(cGGeff)**2 * 32 * np.pi * alphaS**2 * ma**3 * \\\n",
    "            (1 + (97/4-7*nq(ma)/6) * alphaS/np.pi)/Lambda**2\n",
    "    if gamma.imag  != 0:\n",
    "        if gamma.imag/gamma.real > 10**-10:\n",
    "            print(\"The Decay rate to hadrons is complex: \" + str(gamma))\n",
    "    return float(gamma)"
   ]
  },
  {
   "cell_type": "code",
   "execution_count": 27,
   "id": "auburn-console",
   "metadata": {},
   "outputs": [
    {
     "name": "stdout",
     "output_type": "stream",
     "text": [
      "4.9637770073871695e-11 1.9447082151266876e-10 1.9447082151266876e-10\n"
     ]
    },
    {
     "name": "stderr",
     "output_type": "stream",
     "text": [
      "<ipython-input-25-892e15c362aa>:42: ComplexWarning: Casting complex values to real discards the imaginary part\n",
      "  return float(gamma)\n",
      "<ipython-input-25-892e15c362aa>:78: ComplexWarning: Casting complex values to real discards the imaginary part\n",
      "  return float(gamma)\n",
      "<ipython-input-25-892e15c362aa>:101: ComplexWarning: Casting complex values to real discards the imaginary part\n",
      "  return float(gamma)\n"
     ]
    }
   ],
   "source": [
    "print(GammaatogamgamRuth(0.5, testCoeff, 10**3),Gammaatogamgam(0.5, testCoeff, 10**3),GammaatogamgamMyCheck2(0.5, testCoeff, 10**3))"
   ]
  },
  {
   "cell_type": "code",
   "execution_count": 29,
   "id": "recovered-worthy",
   "metadata": {},
   "outputs": [
    {
     "name": "stdout",
     "output_type": "stream",
     "text": [
      "8.503955864875954e-08 3.679170989178841e-07 3.679170989178841e-07\n"
     ]
    },
    {
     "name": "stderr",
     "output_type": "stream",
     "text": [
      "<ipython-input-25-892e15c362aa>:42: ComplexWarning: Casting complex values to real discards the imaginary part\n",
      "  return float(gamma)\n",
      "<ipython-input-25-892e15c362aa>:78: ComplexWarning: Casting complex values to real discards the imaginary part\n",
      "  return float(gamma)\n",
      "<ipython-input-25-892e15c362aa>:101: ComplexWarning: Casting complex values to real discards the imaginary part\n",
      "  return float(gamma)\n"
     ]
    }
   ],
   "source": [
    "print(GammaatogamgamRuth(5, testCoeff, 10**3),Gammaatogamgam(5, testCoeff, 10**3),GammaatogamgamMyCheck2(5, testCoeff, 10**3))"
   ]
  },
  {
   "cell_type": "code",
   "execution_count": 15,
   "id": "psychological-allah",
   "metadata": {},
   "outputs": [
    {
     "name": "stdout",
     "output_type": "stream",
     "text": [
      "0.0006651550006344234 0.0006651550006344234\n"
     ]
    },
    {
     "name": "stderr",
     "output_type": "stream",
     "text": [
      "<ipython-input-13-180f5a4b9bb1>:111: ComplexWarning: Casting complex values to real discards the imaginary part\n",
      "  return float(gamma)\n",
      "<ipython-input-13-180f5a4b9bb1>:134: ComplexWarning: Casting complex values to real discards the imaginary part\n",
      "  return float(gamma)\n"
     ]
    }
   ],
   "source": [
    "print(Gammaatohad(3, testCoeff, 10**3),GammaatohadMyCheck(3, testCoeff, 10**3))"
   ]
  },
  {
   "cell_type": "code",
   "execution_count": 30,
   "id": "heard-scenario",
   "metadata": {},
   "outputs": [],
   "source": [
    "def Gammaa(ma, cff, cww, cbb, Lambda):\n",
    "    lscs = getLScoefficients(cff, cww, cbb, Lambda, ma)\n",
    "    GammaTot = 0\n",
    "    if ma>2*sm['me']:\n",
    "        GammaTot += Gammaatoll(ma,readCee(lscs),sm['me'],Lambda)\n",
    "    if ma>2*sm['mmu']:\n",
    "        GammaTot += Gammaatoll(ma,readCmumu(lscs),sm['mmu'],Lambda)\n",
    "    if ma>2*sm['mtau']:\n",
    "        GammaTot += Gammaatoll(ma,readCtautau(lscs),sm['mtau'],Lambda)\n",
    "    if ma>2*sm['mc']:\n",
    "        GammaTot += Gammaatoqq(ma,readCcc(lscs),sm['mc'],Lambda)\n",
    "    if ma>2*sm['mb']:\n",
    "        GammaTot += Gammaatoqq(ma,readCbb(lscs),sm['mb'],Lambda)\n",
    "    if ma>1:\n",
    "        GammaTot += Gammaatohad(ma,lscs,Lambda)\n",
    "    GammaTot += Gammaatogamgam(ma,lscs,Lambda)\n",
    "    if GammaTot.imag  != 0:\n",
    "        print(\"The Decay rate to hadrons is complex: \" + str(GammaTot))\n",
    "    return float(GammaTot)"
   ]
  },
  {
   "cell_type": "code",
   "execution_count": 24,
   "id": "sweet-branch",
   "metadata": {},
   "outputs": [],
   "source": [
    "def BrBtoKaplus(ma, cbs, Lambda):\n",
    "    return abs(cbs)**2/(16 * np.pi * Lambda**2) * abs(formFactorFzeroBplus(ma))**2* (sm['mB+']**2\\\n",
    "    -sm['mK+'])**2/sm['mB+']**3 * np.sqrt(sm['mB+']**4+sm['mK+']**4+ma**4-2*(sm['mB+']**2 * sm['mK+']**2 \\\n",
    "                                    + sm['mK+']**2 * ma**2 + ma**2 * sm['mB+']**2))/sm['hbar']*sm['tauB+']\n",
    "\n",
    "def BrBtoKaplusMyCheck(ma, cbs, Lambda):\n",
    "    return abs(cbs)**2/(16 * np.pi * Lambda**2) * abs(formFactorFzeroBplus(ma))**2* (sm['mB+']**2\\\n",
    "    -sm['mK+'])**2/sm['mB+']**3 * np.sqrt((sm['mB+']**2-(sm['mK+']+ma)**2)(sm['mB+']**2-(sm['mK+']-ma)**2))/sm['hbar']*sm['tauB+']"
   ]
  },
  {
   "cell_type": "code",
   "execution_count": null,
   "id": "automatic-botswana",
   "metadata": {},
   "outputs": [],
   "source": [
    "BrBtoKaplus(ma, cbs, Lambda)"
   ]
  },
  {
   "cell_type": "code",
   "execution_count": 169,
   "id": "decreased-proceeding",
   "metadata": {},
   "outputs": [
    {
     "name": "stderr",
     "output_type": "stream",
     "text": [
      "<ipython-input-164-0e5cfdde1471>:85: ComplexWarning: Casting complex values to real discards the imaginary part\n",
      "  return float(gamma)\n",
      "<ipython-input-164-0e5cfdde1471>:41: ComplexWarning: Casting complex values to real discards the imaginary part\n",
      "  return float(gamma)\n"
     ]
    },
    {
     "data": {
      "text/plain": [
       "0.003261155304571763"
      ]
     },
     "execution_count": 169,
     "metadata": {},
     "output_type": "execute_result"
    }
   ],
   "source": [
    "Gammaa(3, 1, 0, 0, 10**3)"
   ]
  },
  {
   "cell_type": "code",
   "execution_count": 36,
   "id": "cordless-access",
   "metadata": {},
   "outputs": [
    {
     "name": "stdout",
     "output_type": "stream",
     "text": [
      "no valid value for the low scale chosen. Has do be higher than the QCD confinement scale!\n",
      "Returning the value of the coefficients at mtau/\n",
      "no valid value for the low scale chosen. Has do be higher than the QCD confinement scale!\n",
      "Returning the value of the coefficients at mtau/\n",
      "no valid value for the low scale chosen. Has do be higher than the QCD confinement scale!\n",
      "Returning the value of the coefficients at mtau/\n",
      "no valid value for the low scale chosen. Has do be higher than the QCD confinement scale!\n",
      "Returning the value of the coefficients at mtau/\n",
      "no valid value for the low scale chosen. Has do be higher than the QCD confinement scale!\n",
      "Returning the value of the coefficients at mtau/\n",
      "no valid value for the low scale chosen. Has do be higher than the QCD confinement scale!\n",
      "Returning the value of the coefficients at mtau/\n"
     ]
    },
    {
     "name": "stderr",
     "output_type": "stream",
     "text": [
      "<ipython-input-25-892e15c362aa>:78: ComplexWarning: Casting complex values to real discards the imaginary part\n",
      "  return float(gamma)\n",
      "<ipython-input-25-892e15c362aa>:122: ComplexWarning: Casting complex values to real discards the imaginary part\n",
      "  return float(gamma)\n"
     ]
    },
    {
     "name": "stdout",
     "output_type": "stream",
     "text": [
      "[[1.4820486295331405e-05, 1.42874199966337e-10, 1.2069981503105294e-10, 6.817820316688799e-11, 6.566893348998494e-11, 6.312556467279634e-11, 6.061095502323451e-11, 5.8163418012679656e-11, 5.580412095540652e-11, 5.354410039514002e-11, 5.1393137129713046e-11, 4.935141629751038e-11, 4.741680700847512e-11, 4.558570701077632e-11, 4.385363145414836e-11, 4.221562259309875e-11, 1.0871019160738421e-10, 7.583025525846137e-11, 5.897369826063635e-11, 4.863953355434493e-11, 4.162386102897566e-11, 3.6531197614607075e-11, 3.2654340241358685e-11, 2.959605695416694e-11, 2.7115823955784656e-11, 2.505939126351994e-11, 2.3322155620244894e-11, 2.1833538335845427e-11, 2.054164877626601e-11, 1.94080928639893e-11, 1.8404037795716946e-11, 1.7507356513790663e-11, 1.669396528868214e-11, 1.5932295601150735e-11, 1.5239816079426552e-11, 1.4607041084779644e-11, 1.402617781717726e-11, 1.349076216923848e-11, 1.2995384947706041e-11, 1.253548330329458e-11, 1.2107179917184399e-11, 1.1707157638439088e-11, 1.133256076475927e-11, 1.0980916576017344e-11, 1.0650072425146135e-11, 1.0338144896192864e-11, 1.0043478407195205e-11, 9.764611267808665e-12, 9.500247667314081e-12, 9.249234415150184e-12, 9.010541516417208e-12, 8.78324586208173e-12, 8.566517464396583e-12, 8.359607784202402e-12, 8.161839786921403e-12, 7.972599434505189e-12, 7.791328376026287e-12, 7.617517643486048e-12, 7.45070219436291e-12, 7.290456170420837e-12, 7.136388764844629e-12, 6.9881406080203675e-12, 6.84538059712915e-12, 6.7078031068607405e-12, 6.575125528525836e-12, 6.447086093077504e-12, 6.323441940388749e-12, 6.2039674028621035e-12, 6.088452476332621e-12, 5.976701455594988e-12, 5.868531716382169e-12, 5.763772632412511e-12, 5.662264636625436e-12, 5.563858586100166e-12, 1.2844247660954777e-11, 1.1228353713593299e-11, 1.0087416041737713e-11, 9.197417776224973e-12, 8.473198564496662e-12, 7.868050913842947e-12, 7.352644725392366e-12, 6.907132141624082e-12, 6.517405436345508e-12, 6.173073084886717e-12, 5.866267423067984e-12, 5.590898361682126e-12, 5.342164479565785e-12, 5.116221006925866e-12, 4.9099476537328936e-12, 4.720782237669615e-12], [0.6186429941283157, 5.988028286416735e-06, 5.074112184659053e-06, 2.8729191077407998e-06, 2.772344551201475e-06, 2.668967610318713e-06, 2.565785389689956e-06, 2.4646676334384815e-06, 2.3666940456806037e-06, 2.2724687675179595e-06, 2.1825094444842803e-06, 2.096902149751612e-06, 2.015616389459858e-06, 1.9385455880669003e-06, 1.865535444185626e-06, 1.796403790019466e-06, 4.627205102501108e-06, 3.2284632067376554e-06, 2.511339617777658e-06, 2.0716704981125774e-06, 1.7731665582735087e-06, 1.5564662943410095e-06, 1.3914865482817573e-06, 1.2613297804495686e-06, 1.1557645138473232e-06, 1.0682291845743836e-06, 9.94273995442988e-07, 9.30896721157714e-07, 8.758899453817089e-07, 8.276203532278095e-07, 7.848613618580434e-07, 7.466716426959413e-07, 7.120258643809111e-07, 6.795789578241349e-07, 6.500771322535312e-07, 6.231167879198274e-07, 5.983663412985447e-07, 5.75550734650729e-07, 5.544397896541457e-07, 5.348393348856674e-07, 5.16584364794093e-07, 4.995337067033881e-07, 4.835658211895279e-07, 4.6857546398943373e-07, 4.544710097075173e-07, 4.411722888535226e-07, 4.2860882666161124e-07, 4.1671839903612194e-07, 4.054458407793284e-07, 3.947420559965991e-07, 3.8456319164706073e-07, 3.748699435999735e-07, 3.6562697097110066e-07, 3.5680239945430473e-07, 3.483673981982069e-07, 3.4029581777464304e-07, 3.325638791435073e-07, 3.2514990538530305e-07, 3.1803408945954614e-07, 3.111982924380869e-07, 3.046258676215686e-07, 2.98301506723663e-07, 2.922111049394477e-07, 2.8634164223067543e-07, 2.806810785849083e-07, 2.7521826135569327e-07, 2.699428430817925e-07, 2.6484520842722195e-07, 2.5991640909171436e-07, 2.5514810572717875e-07, 2.505325160872038e-07, 2.4606236892610806e-07, 2.417308640390147e-07, 2.3753164525396543e-07, 5.483494275243467e-07, 4.793668763640341e-07, 4.3066043108434044e-07, 3.9266658618515387e-07, 3.6174980873800097e-07, 3.3591615007209067e-07, 3.1391351077962147e-07, 2.948945905583035e-07, 2.7825713560688035e-07, 2.635575364254694e-07, 2.5045992659333486e-07, 2.3870432382326626e-07, 2.2808575856747477e-07, 2.1844010028592903e-07, 2.0963414610141391e-07, 2.0155851843225225e-07], [0.0, 0.0, 0.0, 0.0, 0.0, 0.0, 0.0, 0.0, 0.0, 0.0, 0.0, 0.0, 0.0, 0.0, 0.0, 0.0, 0.0, 0.0, 0.0, 0.0, 0.0, 0.0, 0.0, 0.0, 0.0, 0.0, 4.4942025801856654e-05, 7.343797185298133e-05, 8.79253569456783e-05, 9.664604101046248e-05, 0.00010212736206273295, 0.00010556266313520233, 0.00010757774617473045, 0.00010845706053480161, 0.0001086520916262807, 0.00010835131448034034, 0.00010768761797562496, 0.00010675696897266546, 0.0001056299886394871, 0.00010435943500945765, 0.0001029852021369546, 0.00010153775207513563, 0.0001000405252053493, 9.851166615289224e-05, 9.696528043852814e-05, 9.541236286847852e-05, 9.38614922441289e-05, 9.231935713508405e-05, 9.079115783505017e-05, 8.928091644875832e-05, 8.779171805694076e-05, 8.632589965463593e-05, 8.488519915219635e-05, 8.347087358191999e-05, 8.208379337891802e-05, 8.072451794263439e-05, 7.939335645818529e-05, 7.80904170420132e-05, 7.681564658869284e-05, 7.556886317453693e-05, 7.434978247565597e-05, 7.315803935205892e-05, 7.199320551247904e-05, 7.085480399010925e-05, 6.974232101496156e-05, 6.865521575488214e-05, 6.759292830748291e-05, 6.655488625436047e-05, 6.554051003350467e-05, 6.454921734440317e-05, 6.358042677620614e-05, 6.26335608631418e-05, 6.17080489460397e-05, 6.0803331825861067e-05, 0.00014073780525909036, 0.00012334537440693785, 0.00011108304583230215, 0.00010152045338701461, 9.373800616553999e-05, 8.723266107051413e-05, 8.168908114129972e-05, 7.68941460263943e-05, 7.269651847082065e-05, 6.898481226857804e-05, 6.567474773386232e-05, 6.270112113625482e-05, 6.001254854741583e-05, 5.7567899187590664e-05, 5.5333803044410266e-05, 5.328286592440048e-05], [0.0, 0.0, 0.0, 0.0, 0.0, 0.0, 0.0, 0.0, 0.0, 0.0, 0.0, 0.0, 0.0, 0.0, 0.0, 0.0, 0.0002875632602242087, 0.0003385531241684953, 0.00033157549064828445, 0.00031594767558268584, 0.00029962018125708346, 0.0002843576618320359, 0.00027049363210802853, 0.0002579790503563139, 0.00024666843266220654, 0.00023640555404633146, 0.00022703813998348527, 0.0002184587643149519, 0.0002105641722892361, 0.00020326636787836914, 0.00019649270904292587, 0.0001901823373848106, 0.00018421990568013216, 0.00017838847215545314, 0.0001729166439248715, 0.0001677691608049137, 0.0001629154978302364, 0.00015832907896251903, 0.00015398664187317766, 0.0001498677217187087, 0.00014595422908248717, 0.00014223010283002507, 0.00013868102289498355, 0.00013529417128523136, 0.00013205803211022643, 0.00012896222336579333, 0.00012599735470886136, 0.00012315490661763673, 0.0001204271272409605, 0.00011780694395368853, 0.0001152878871977543, 0.00011286402463511458, 0.00011052990399493144, 0.00010828050328284289, 0.0001061111872501891, 0.00010401766920726422, 0.00010199597741613047, 0.00010004242542228368, 9.815358578604224e-05, 9.632626675825248e-05, 9.455749151421454e-05, 9.284447961733204e-05, 9.118463043207024e-05, 8.957550824609588e-05, 8.801482889541295e-05, 8.650044771506718e-05, 8.503034866261003e-05, 8.360263448304045e-05, 8.221551780370327e-05, 8.086731306827155e-05, 7.955642924781571e-05, 7.828136333250108e-05, 7.704069486474918e-05, 7.583308380938492e-05, 0.00017535545754522263, 0.0001535434300661232, 0.00013815839680393765, 0.00012616072203646347, 0.0001163981864101733, 0.00010823984608166966, 0.000101289918869425, 9.52807838641881e-05, 9.002233171896622e-05, 8.53745983775924e-05, 8.123165605518822e-05, 7.751153728708923e-05, 7.414963762120534e-05, 7.109423750161593e-05, 6.830337210680617e-05, 6.57425891120582e-05], [0.0, 0.0, 0.0, 0.0, 0.0, 0.0, 0.0, 0.0, 0.0, 0.0, 0.0, 0.0, 0.0, 0.0, 0.0, 0.0, 0.0, 0.0, 0.0, 0.0, 0.0, 0.0, 0.0, 0.0, 0.0, 0.0, 0.0, 0.0, 0.0, 0.0, 0.0, 0.0, 0.0, 0.0, 0.0, 0.0, 0.0, 0.0, 0.0, 0.0, 0.0, 0.0, 0.0, 0.0, 0.0, 0.0, 0.0, 0.0, 0.0, 0.0, 0.0, 0.0, 0.0, 0.0, 0.0, 0.0, 0.0, 0.0, 0.0, 0.0, 0.0, 0.0, 0.0, 0.0, 0.0, 0.0, 0.0, 0.0, 0.0, 0.0, 0.0, 0.0, 0.0, 0.0, 0.00022868659085812428, 0.00037085824501955993, 0.0004326021006821757, 0.0004656202939764198, 0.000484028312764613, 0.0004939437930249445, 0.0004985495753786384, 0.0004996817535417811, 0.0004984735402338681, 0.0004956586986890492, 0.0004917296750192264, 0.0004870262234814352, 0.00048178790301721516, 0.0004761865632915555, 0.00047034717507571253, 0.00046436158695983745], [0.381342185385389, 4.426563923531139e-06, 4.428893231961685e-06, 2.7180456798553926e-06, 2.9881129164234873e-06, 3.2392130124727325e-06, 3.468664948513085e-06, 3.67331172535554e-06, 3.650054016303057e-06, 3.7536803203782366e-06, 3.8121453343650723e-06, 3.815116189942623e-06, 3.7466231868102835e-06, 3.5789959711961494e-06, 3.254150872790552e-06, 2.582894355705987e-06, 5.36332167766413e-06, 5.9306070875635806e-06, 6.280783942719541e-06, 6.527399245654165e-06, 6.70377503703277e-06, 6.81851709746966e-06, 6.866985467518662e-06, 6.830412771586769e-06, 6.660732329811266e-06, 6.190658208542543e-06, 6.32771363957868e-06, 7.734810247389025e-06, 8.827399695013437e-06, 9.765156888921743e-06, 1.0600640468734857e-05, 1.136085309389386e-05, 1.1936008459855475e-05, 1.2554477835725129e-05, 1.313148476225004e-05, 1.367325414664516e-05, 1.4184593033743084e-05, 1.4669301345402541e-05, 1.513043928258394e-05, 1.5570508982557437e-05, 1.599158214286264e-05, 1.639539214719311e-05, 1.678340206038814e-05, 1.7156855743476646e-05, 1.7516816867199594e-05, 1.786419905968689e-05, 1.8199789429297956e-05, 1.852426704351441e-05, 1.883821749493055e-05, 1.9142144370882972e-05, 1.9436478217400343e-05, 1.9721583420814907e-05, 1.9997763301376178e-05, 2.0265263608245695e-05, 2.0524274513378533e-05, 2.0774931113536623e-05, 2.1017312355470193e-05, 2.1251438187764208e-05, 2.1477264598458542e-05, 2.1694675996966648e-05, 2.1903474104504194e-05, 2.2103362065741492e-05, 2.229392177376505e-05, 2.247458120453819e-05, 2.2644566488616956e-05, 2.2802829700451257e-05, 2.2947936180150565e-05, 2.3077880588145604e-05, 2.3189768622731415e-05, 2.3279222512716408e-05, 2.3339148385890667e-05, 2.335676236757931e-05, 2.330442028950125e-05, 2.3092525251233104e-05, 5.347847706588698e-05, 4.868730484503002e-05, 4.5385813506362914e-05, 4.2855380696206996e-05, 4.082903099565326e-05, 3.9162185926168425e-05, 3.776481674099242e-05, 3.657637199399887e-05, 3.55540161077164e-05, 3.466631885958681e-05, 3.388956119835255e-05, 3.320543490622745e-05, 3.259954200670223e-05, 3.206037937662103e-05, 3.15786309055212e-05, 3.114666163399186e-05], [0.0, 0.9999895852649159, 0.9999904968738836, 0.9999944089670342, 0.9999942394768634, 0.9999940917562518, 0.999993965489051, 0.9999938619624776, 0.999993983196134, 0.9999939737973681, 0.999994005293828, 0.999994087932309, 0.9999942377130069, 0.9999944824128552, 0.9999948802698294, 0.9999956206596387, 0.9997024461042855, 0.9996522877297069, 0.9996596323268173, 0.999675453206034, 0.9996919028355238, 0.999707267318245, 0.9997212478632219, 0.9997339291774955, 0.9997455150433784, 0.9997563355335011, 0.9997206978232576, 0.99969943753503, 0.999691807160583, 0.9996894947944609, 0.9996899944086598, 0.9996921474572361, 0.999695554297127, 0.9996999203945839, 0.9997046496873147, 0.9997095831391731, 0.999714613910793, 0.9997196690864941, 0.9997246984774197, 0.9997296674824189, 0.9997345523901657, 0.9997393372075337, 0.9997440114726855, 0.9997485687203735, 0.9997530053889243, 0.9997573200320791, 0.9997615127447476, 0.9997655847410402, 0.999769538042088, 0.9997733752439213, 0.9997770993443257, 0.9997807136135626, 0.999784221498014, 0.9997876265487678, 0.9997909323692976, 0.9997941425779462, 0.9997972607820997, 0.9998002905618251, 0.9998032354614868, 0.9998060989884873, 0.9998088846189016, 0.9998115958104699, 0.9998142360243314, 0.9998168087582092, 0.9998193175959472, 0.999821766282121, 0.9998241588376832, 0.999826499747262, 0.9998287942810424, 0.9998310490929921, 0.9998332734572055, 0.999835482245304, 0.9998377050993734, 0.9998400335219043, 0.9994011933069998, 0.9993030862675576, 0.9992723399726567, 0.9992634504741202, 0.999264644705382, 0.9992710855898785, 0.9992803926870063, 0.999291272043076, 0.9993029753298156, 0.9993150520080957, 0.9993272238942005, 0.9993393169732743, 0.9993512222777069, 0.999362872475426, 0.9993742273798114, 0.9993852647331306], [3.0527874186197365e-09, 0.00034833565495243974, 0.0004498147869569961, 0.0008626605995140008, 0.000964526686578877, 0.0010750679307264517, 0.001194324374671741, 0.0013223784186538216, 0.0014593728463770399, 0.0016054825170723698, 0.0017607263927116091, 0.0019252623693369114, 0.0020992478595051683, 0.0022828398662801323, 0.002476194917987905, 0.002679468702469308, 0.0010821503195655108, 0.001611047267776413, 0.0021482714008746397, 0.0026977421359571734, 0.0032611668072927585, 0.0038396719033172485, 0.004434120995934438, 0.0050452261694730015, 0.005673599622624593, 0.006319781509812715, 0.006984579388376792, 0.007668067130223586, 0.008370635168078346, 0.009092716022690394, 0.009834685576647989, 0.01059689344742381, 0.011384312500580793, 0.012212629632121203, 0.013064537250257755, 0.013940337059898231, 0.014840323713883377, 0.015764785671089857, 0.016714005901933164, 0.01768826247787402, 0.01868782906982786, 0.019712975373407483, 0.02076396747443605, 0.021841068165093486, 0.022944537218856677, 0.02407463163076925, 0.025231605828338617, 0.02641571185740262, 0.027627199546553818, 0.028866316653110218, 0.03013330899313459, 0.03142842055761221, 0.032751893616571374, 0.03410396881266369, 0.035484885245496436, 0.03689488054782232, 0.03833419095453033, 0.03980305136524556, 0.04130169540122366, 0.04283035545711833, 0.04438926274809687, 0.045978647352677746, 0.04759873825154838, 0.04924976336248401, 0.05093194957128664, 0.05264552275834754, 0.05439070781987595, 0.05616772868172992, 0.05797680830141213, 0.05981816864805577, 0.06169203063438643, 0.06359861392170617, 0.06553813628153034, 0.0675108102844515, 0.029596668520729633, 0.0342590996012307, 0.038582689878837485, 0.04280832073522044, 0.04700142230540859, 0.05119168277829003, 0.05539573481544981, 0.05962410278202428, 0.06388400545031657, 0.06818068967771362, 0.07251814038042365, 0.07689949073398561, 0.08132727450525025, 0.08580358917314865, 0.09033020572060925, 0.09490864504760223]]\n"
     ]
    }
   ],
   "source": [
    "maList = list((i*10**(exp-2) for exp in range(1, 2) for i in range(10, 100)))\n",
    "brs = [[],[],[],[],[],[],[],[]]\n",
    "cffp = 1\n",
    "cwwp = 0\n",
    "cbbp = 0\n",
    "for ma in maList:\n",
    "    lscs = getLScoefficients(cffp, cwwp, cbbp, 1000, ma)\n",
    "    brs[7].append(Gammaa(ma, cffp, cwwp, cbbp, 1000))\n",
    "    brs[0].append(Gammaatoll(ma,readCee(lscs),sm['me'],1000)/brs[7][-1])\n",
    "    brs[1].append(Gammaatoll(ma,readCmumu(lscs),sm['mmu'],1000)/brs[7][-1])\n",
    "    try:\n",
    "        ctautau = readCtautau(lscs)\n",
    "    except IndexError:\n",
    "        ctautau = 0\n",
    "    brs[2].append(Gammaatoll(ma,ctautau,sm['mtau'],1000)/brs[7][-1])\n",
    "    try:\n",
    "        ccc = readCcc(lscs)\n",
    "    except IndexError:\n",
    "        ccc = 0\n",
    "    brs[3].append(Gammaatoqq(ma,ccc,sm['mc'],1000)/brs[7][-1])\n",
    "    try:\n",
    "        cbb = readCbb(lscs)\n",
    "    except IndexError:\n",
    "        cbb = 0\n",
    "    brs[4].append(Gammaatoqq(ma,cbb,sm['mb'],1000)/brs[7][-1])\n",
    "    brs[5].append(Gammaatogamgam(ma,lscs,1000)/brs[7][-1])\n",
    "    brs[6].append(Gammaatohad(ma,lscs,1000)/brs[7][-1])\n",
    "print(brs)"
   ]
  },
  {
   "cell_type": "code",
   "execution_count": 37,
   "id": "expected-instruction",
   "metadata": {},
   "outputs": [
    {
     "data": {
      "text/plain": [
       "<matplotlib.legend.Legend at 0x7f223721a130>"
      ]
     },
     "execution_count": 37,
     "metadata": {},
     "output_type": "execute_result"
    },
    {
     "data": {
      "image/png": "[encoded data removed]",
      "text/plain": [
       "<Figure size 432x288 with 1 Axes>"
      ]
     },
     "metadata": {
      "needs_background": "light"
     },
     "output_type": "display_data"
    }
   ],
   "source": [
    "fig, ax = plt.subplots() \n",
    "ax.set_xscale('log')\n",
    "ax.set_yscale('log')\n",
    "ax.set_ylim([10**-5,2])\n",
    "ax.plot([maList[0],maList[-1]],[1,1],label='all',ls=':') \n",
    "ax.plot(maList,brs[0],label='electrons') \n",
    "ax.plot(maList,brs[1],label='muons') \n",
    "ax.plot(maList,brs[2],label='taus') \n",
    "ax.plot(maList,brs[3],label='charms') \n",
    "ax.plot(maList,brs[4],label='bottoms') \n",
    "ax.plot(maList,brs[5],label='photons') \n",
    "ax.plot(maList,brs[6],label='hadrons') \n",
    "ax.legend()"
   ]
  },
  {
   "cell_type": "code",
   "execution_count": null,
   "id": "going-terrain",
   "metadata": {},
   "outputs": [],
   "source": []
  }
 ],
 "metadata": {
  "kernelspec": {
   "display_name": "Python 3",
   "language": "python",
   "name": "python3"
  },
  "language_info": {
   "codemirror_mode": {
    "name": "ipython",
    "version": 3
   },
   "file_extension": ".py",
   "mimetype": "text/x-python",
   "name": "python",
   "nbconvert_exporter": "python",
   "pygments_lexer": "ipython3",
   "version": "3.8.6"
  }
 },
 "nbformat": 4,
 "nbformat_minor": 5
}
