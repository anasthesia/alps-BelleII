{
 "cells": [
  {
   "cell_type": "markdown",
   "id": "through-captain",
   "metadata": {},
   "source": [
    "Units used: GeV for masses, s for time, cm for distances"
   ]
  },
  {
   "cell_type": "code",
   "execution_count": 119,
   "id": "political-fault",
   "metadata": {},
   "outputs": [],
   "source": [
    "import os\n",
    "import glob\n",
    "import importlib\n",
    "\n",
    "import matplotlib as mlib\n",
    "import matplotlib.pyplot as plt\n",
    "\n",
    "# plt.rcParams[\"text.usetex\"] = True\n",
    "# plt.rcParams[\"text.latex.preamble\"] = r\"\\usepackage{slashed}\"\n",
    "\n",
    "import numpy as np\n",
    "from numpy import genfromtxt\n",
    "from numpy import loadtxt\n",
    "import re\n",
    "import csv\n",
    "import matplotlib.colors as mcolors\n",
    "import matplotlib.cm as cm\n",
    "import matplotlib.patches as mpatches\n",
    "import matplotlib.lines as mlines\n",
    "\n",
    "\n",
    "import sys\n",
    "sys.path.insert(1, '/home/stasya/prj/alps-running/TdAlps-Internal/')\n",
    "import TdAlps\n",
    "from collections import OrderedDict\n",
    "\n",
    "import scipy\n",
    "import scipy.integrate as integrate\n",
    "import scipy.optimize as optimize\n",
    "\n",
    "import csv"
   ]
  },
  {
   "cell_type": "code",
   "execution_count": 120,
   "id": "foreign-nancy",
   "metadata": {},
   "outputs": [],
   "source": [
    "#Plotting settings\n",
    "\n",
    "font = {\n",
    "        'weight' : 'normal',\n",
    "        'size'   : 16}\n",
    "\n",
    "mlib.rc('font', **font)"
   ]
  },
  {
   "cell_type": "code",
   "execution_count": 121,
   "id": "5687d89c",
   "metadata": {},
   "outputs": [],
   "source": [
    "def importNotebook(name):\n",
    "    \n",
    "    currentDir=os.getcwd()\n",
    "    notebookDir=os.path.dirname(name)\n",
    "    os.chdir(notebookDir)\n",
    "    notebookName=os.path.basename(name).split('.')[0]\n",
    "    module = importlib.import_module(f\"ipynb.fs.full.{notebookName}\")\n",
    "    \n",
    "    os.chdir(currentDir)\n",
    "    \n",
    "    globals().update(vars(module))"
   ]
  },
  {
   "cell_type": "code",
   "execution_count": 122,
   "id": "92ceee25",
   "metadata": {},
   "outputs": [],
   "source": [
    "importNotebook(\"/home/stasya/prj/alps/Python/ALPs_base.ipynb\")"
   ]
  },
  {
   "cell_type": "code",
   "execution_count": 123,
   "id": "540140e4",
   "metadata": {
    "scrolled": true
   },
   "outputs": [],
   "source": [
    "importNotebook(\"/home/stasya/prj/alps/Python/ALPs_BRs.ipynb\")"
   ]
  },
  {
   "cell_type": "code",
   "execution_count": 124,
   "id": "2bc6dd82",
   "metadata": {},
   "outputs": [],
   "source": [
    "def getCsd(cff, cww, cbb, Lambda, mu):\n",
    "    coeffs = getLScoefficients(cff, cww, cbb, Lambda, mu)\n",
    "    return -coeffs['D'][1][0]+coeffs['d'][1][0]"
   ]
  },
  {
   "cell_type": "markdown",
   "id": "sunset-raleigh",
   "metadata": {},
   "source": [
    "### mass-coupling grid"
   ]
  },
  {
   "cell_type": "code",
   "execution_count": 125,
   "id": "ordered-mattress",
   "metadata": {},
   "outputs": [],
   "source": [
    "#masslist= [0.05, 0.05, 0.1, 0.2, 0.3, 0.5, 1., 2., 4.]\n",
    "masslist=np.sort(np.append(np.logspace(-2, 0, 25),[0.09, 0.101, 0.43, 0.47,0.55,\\\n",
    "                                                   0.95, 1, 1.5, 2, 2.5, 3, 3.2, 3.5, 4,\\\n",
    "                                                   0.0935, 0.095, 0.63, 0.65]))\n",
    "masslistShort=np.logspace(-2,np.log(2.1), 40)\n",
    "particleCodes=[*range(0,7,1)]"
   ]
  },
  {
   "cell_type": "code",
   "execution_count": 126,
   "id": "adequate-exercise",
   "metadata": {},
   "outputs": [
    {
     "data": {
      "text/plain": [
       "array([0.01      , 0.01175726, 0.01382331, 0.01625243, 0.0191084 ,\n",
       "       0.02246624, 0.02641414, 0.03105579, 0.0365131 , 0.0429294 ,\n",
       "       0.0504732 , 0.05934265, 0.06977069, 0.08203121, 0.09644622,\n",
       "       0.11339432, 0.13332063, 0.15674852, 0.1842933 , 0.2166784 ,\n",
       "       0.25475441, 0.29952136, 0.35215502, 0.41403778, 0.48679494,\n",
       "       0.57233742, 0.67291193, 0.79115999, 0.93018729, 1.09364529,\n",
       "       1.28582709, 1.51178022, 1.77743916, 2.08978126, 2.45700995,\n",
       "       2.88877024, 3.396402  , 3.9932378 , 4.69495311, 5.51997797])"
      ]
     },
     "execution_count": 126,
     "metadata": {},
     "output_type": "execute_result"
    }
   ],
   "source": [
    "masslistShort"
   ]
  },
  {
   "cell_type": "code",
   "execution_count": 127,
   "id": "provincial-spiritual",
   "metadata": {},
   "outputs": [],
   "source": [
    "couplingList=np.sort(np.append(np.logspace(-6, 4, 20),np.logspace(-1, 2, 20)))\n",
    "couplingListShort=np.logspace(np.log(8*10**-4), np.log(1.7), 25)"
   ]
  },
  {
   "cell_type": "code",
   "execution_count": 128,
   "id": "encouraging-venue",
   "metadata": {},
   "outputs": [
    {
     "data": {
      "text/plain": [
       "array([7.39777588e-08, 1.54287757e-07, 3.21782010e-07, 6.71107442e-07,\n",
       "       1.39965935e-06, 2.91912468e-06, 6.08811630e-06, 1.26973542e-05,\n",
       "       2.64815579e-05, 5.52298451e-05, 1.15187173e-04, 2.40233968e-04,\n",
       "       5.01031130e-04, 1.04494879e-03, 2.17934156e-03, 4.54522719e-03,\n",
       "       9.47951003e-03, 1.97704332e-02, 4.12331468e-02, 8.59957079e-02,\n",
       "       1.79352350e-01, 3.74056638e-01, 7.80131225e-01, 1.62703897e+00,\n",
       "       3.39334683e+00])"
      ]
     },
     "execution_count": 128,
     "metadata": {},
     "output_type": "execute_result"
    }
   ],
   "source": [
    "couplingListShort"
   ]
  },
  {
   "cell_type": "code",
   "execution_count": 129,
   "id": "developed-america",
   "metadata": {},
   "outputs": [],
   "source": [
    "constants={\n",
    "    'InvGeVtocm': 1/(5.06 * 10**(13))\n",
    "}"
   ]
  },
  {
   "cell_type": "code",
   "execution_count": 130,
   "id": "f8ed23af",
   "metadata": {},
   "outputs": [],
   "source": [
    "sm['tauK+'] = 1.238*10**(-8)"
   ]
  },
  {
   "cell_type": "code",
   "execution_count": 131,
   "id": "final-router",
   "metadata": {},
   "outputs": [],
   "source": [
    "def f(Lambda):\n",
    "    return Lambda/(4 * np.pi)"
   ]
  },
  {
   "cell_type": "code",
   "execution_count": 132,
   "id": "da2c8da3",
   "metadata": {},
   "outputs": [],
   "source": [
    "def formFactorFzeroKplus(qsqr): \n",
    "    #https://indico.cern.ch/event/769729/contributions/3512047/attachments/1905114/3146148/Kaon2019_MoulsonPassemarCorr.pdf\n",
    "    l01 = 25.17\n",
    "    l02 = 1.49\n",
    "    f0 = 1.0012 * 0.216 #Christopher Smith's notes & 2107.14708\n",
    "    return f0 * (1 + l01 * (qsqr/sm['mpi+']) + l02 * (qsqr/sm['mpi+'])**2) \n",
    "            #fplus(qsqr) + qsqr/(sm['mK+']**2-sm['mpi+']**2) fminus(qsqr)"
   ]
  },
  {
   "cell_type": "markdown",
   "id": "attached-overhead",
   "metadata": {},
   "source": [
    "## based on https://github.com/rrschaefer/alps (formulas taken from 2012.12272 and 1708.00443)"
   ]
  },
  {
   "cell_type": "markdown",
   "id": "recorded-static",
   "metadata": {},
   "source": [
    "### Alps running implemented in https://github.com/TdAlps"
   ]
  },
  {
   "cell_type": "markdown",
   "id": "heavy-delight",
   "metadata": {},
   "source": [
    "### ALP and B-> Ka decay rates"
   ]
  },
  {
   "cell_type": "code",
   "execution_count": 133,
   "id": "sweet-branch",
   "metadata": {},
   "outputs": [],
   "source": [
    "# as in draft\n",
    "def BrBtoKaplus(ma, cbs, Lambda):\n",
    "    return (np.pi/4)*abs(cbs)**2/(Lambda**2) * abs(formFactorFzeroBplus(ma))**2 \\\n",
    "            * (sm['mB+']**2-sm['mK+']**2)**2/sm['mB+']**3 * np.sqrt(sm['mB+']**4+sm['mK+']**4+ma**4\\\n",
    "            -2*(sm['mB+']**2 * sm['mK+']**2 + sm['mK+']**2 * ma**2 + ma**2 * sm['mB+']**2))\\\n",
    "            /sm['hbar']*sm['tauB+']"
   ]
  },
  {
   "cell_type": "code",
   "execution_count": 134,
   "id": "defensive-check",
   "metadata": {},
   "outputs": [],
   "source": [
    "# as in draft\n",
    "def BrKtoPiaplus(ma, csd, Lambda):\n",
    "    return (np.pi/4)* abs(csd)**2/(Lambda**2) * abs(formFactorFzeroKplus(ma))**2 \\\n",
    "            * (sm['mK+']**2-sm['mpi+']**2)**2/sm['mK+']**3 * np.sqrt(sm['mK+']**4+sm['mpi+']**4+ma**4\\\n",
    "            -2*(sm['mpi+']**2 * sm['mK+']**2 + sm['mK+']**2 * ma**2 + ma**2 * sm['mpi+']**2))\\\n",
    "            /sm['hbar']*sm['tauK+']"
   ]
  },
  {
   "cell_type": "markdown",
   "id": "subjective-institution",
   "metadata": {},
   "source": [
    "### ALP branching ratios"
   ]
  },
  {
   "cell_type": "markdown",
   "id": "equivalent-denial",
   "metadata": {},
   "source": [
    "### decays under consideration encoded as\n",
    " - 0: e \n",
    " - 1: mu\n",
    " - 2: tau\n",
    " - 3: charm\n",
    " - 4: bottom\n",
    " - 5: photon\n",
    " - 6: hadron\n",
    " - 7: 3 pions"
   ]
  },
  {
   "cell_type": "code",
   "execution_count": 135,
   "id": "abroad-textbook",
   "metadata": {},
   "outputs": [],
   "source": [
    "def brALPtoOneFinalState(ma,finalStateCode,cQ,cu,cd,cL,ce,cGG,cWW,cBB,Lambda,lscsPassed=None):\n",
    "    with HiddenPrints():\n",
    "        HC = OrderedDict()\n",
    "        HC['Q'] = np.array([[cQ,0,0],[0,cQ,0],[0,0,cQ]])\n",
    "        HC['u'] = -np.array([[cu,0,0],[0,cu,0],[0,0,cu]])\n",
    "        HC['d'] = -np.array([[cd,0,0],[0,cd,0],[0,0,cd]])\n",
    "        HC['L'] = np.array([[cL,0,0],[0,cL,0],[0,0,cL]])\n",
    "        HC['e'] = -np.array([[ce,0,0],[0,ce,0],[0,0,ce]])\n",
    "        HC['GG'] = cGG\n",
    "        HC['WW'] = cWW\n",
    "        HC['BB'] = cBB\n",
    "\n",
    "        brs = [[],[],[],[],[],[],[],[],[]]\n",
    "        \n",
    "        if (lscsPassed is not None):\n",
    "            lscs=lscsPassed\n",
    "        else:\n",
    "            if ma<1:\n",
    "                mu = 1\n",
    "            else:\n",
    "                mu=ma\n",
    "            lscs = TdAlps.RunRotateMatchRun(HC, Lambda, mu, 3)\n",
    "        \n",
    "#         print(\"mu= \",mu)\n",
    "#         print(\"readCee= \",readCee(lscs),\", readCmumu= \",readCmumu(lscs))\n",
    "#         print([ma,readCee(lscs),sm['me'],Lambda])\n",
    "#         print(\"Gamma_ll= \",Gammaatoll(ma,readCee(lscs),sm['me'],Lambda))\n",
    "        \n",
    "        brs[0].append(Gammaatoll(ma,readCee(lscs),sm['me'],Lambda))\n",
    "        brs[1].append(Gammaatoll(ma,readCmumu(lscs),sm['mmu'],Lambda))\n",
    "        try:\n",
    "            ctautau = readCtautau(lscs)\n",
    "        except IndexError:\n",
    "            ctautau = 0\n",
    "        brs[2].append(Gammaatoll(ma,ctautau,sm['mtau'],Lambda))\n",
    "        try:\n",
    "            ccc = readCcc(lscs)\n",
    "        except IndexError:\n",
    "            ccc = 0\n",
    "        brs[3].append(Gammaatoqq(ma,ccc,sm['mc'],Lambda))\n",
    "        try:\n",
    "            cbb = readCbb(lscs)\n",
    "        except IndexError:\n",
    "            cbb = 0\n",
    "        brs[4].append(Gammaatoqq(ma,cbb,sm['mb'],Lambda))\n",
    "        brs[5].append(Gammaatogamgam(ma,lscs,Lambda))\n",
    "        brs[6].append(Gammaatohad(ma,lscs,Lambda))\n",
    "        brs[7].append(Gammaato3pi000(ma,lscs,Lambda)+Gammaato3pi0pm(ma,lscs,Lambda))\n",
    "        brs[8].append(brs[0][-1]+brs[1][-1]+brs[2][-1]+brs[3][-1]+brs[4][-1]+brs[5][-1]\\\n",
    "                      +brs[6][-1]+brs[7][-1])\n",
    "            \n",
    "\n",
    "#         print(\"br[0][-1]= \",brs[0][-1])\n",
    "        \n",
    "        ctauAlp=constants['InvGeVtocm']/brs[8][-1]\n",
    "\n",
    "        return [brs[finalStateCode][-1]/brs[8][-1],ctauAlp]"
   ]
  },
  {
   "cell_type": "code",
   "execution_count": 136,
   "id": "8c9fcf06",
   "metadata": {},
   "outputs": [],
   "source": [
    "def brALPtoOneFinalStateCheck(ma,finalStateCode,cQ,cu,cd,cL,ce,cGG,cWW,cBB,Lambda,lscsPassed=None,looporder=3,br=True):\n",
    "#     with HiddenPrints():\n",
    "        HC = OrderedDict()\n",
    "        HC['Q'] = np.array([[cQ,0,0],[0,cQ,0],[0,0,cQ]])\n",
    "        HC['u'] = -np.array([[cu,0,0],[0,cu,0],[0,0,cu]])\n",
    "        HC['d'] = -np.array([[cd,0,0],[0,cd,0],[0,0,cd]])\n",
    "        HC['L'] = np.array([[cL,0,0],[0,cL,0],[0,0,cL]])\n",
    "        HC['e'] = -np.array([[ce,0,0],[0,ce,0],[0,0,ce]])\n",
    "        HC['GG'] = cGG\n",
    "        HC['WW'] = cWW\n",
    "        HC['BB'] = cBB\n",
    "\n",
    "#         maList = list((i*10**(exp-2) for exp in range(-3, 2) for i in range(10, 100)))\n",
    "        brs = [[],[],[],[],[],[],[],[],[]]\n",
    "        if ma<1:\n",
    "            mu = 1\n",
    "        else:\n",
    "            mu=ma\n",
    "        lscs = TdAlps.RunRotateMatchRun(HC, Lambda, mu, looporder)\n",
    "        print(\"mu= \",mu)\n",
    "        print(\"readCee= \",readCee(lscs),\", readCmumu= \",readCmumu(lscs))\n",
    "        print([ma,readCee(lscs),sm['me'],Lambda])\n",
    "        print(\"Gamma_ll= \",Gammaatoll(ma,readCee(lscs),sm['me'],Lambda))\n",
    "\n",
    "        brs[0].append(Gammaatoll(ma,readCee(lscs),sm['me'],Lambda))\n",
    "        brs[1].append(Gammaatoll(ma,readCmumu(lscs),sm['mmu'],Lambda))\n",
    "        try:\n",
    "            ctautau = readCtautau(lscs)\n",
    "        except IndexError:\n",
    "            ctautau = 0\n",
    "        brs[2].append(Gammaatoll(ma,ctautau,sm['mtau'],Lambda))\n",
    "        try:\n",
    "            ccc = readCcc(lscs)\n",
    "        except IndexError:\n",
    "            ccc = 0\n",
    "        brs[3].append(Gammaatoqq(ma,ccc,sm['mc'],Lambda))\n",
    "        try:\n",
    "            cbb = readCbb(lscs)\n",
    "        except IndexError:\n",
    "            cbb = 0\n",
    "        brs[4].append(Gammaatoqq(ma,cbb,sm['mb'],Lambda))\n",
    "        brs[5].append(Gammaatogamgam(ma,lscs,Lambda))\n",
    "        brs[6].append(Gammaatohad(ma,lscs,Lambda))\n",
    "        brs[7].append(Gammaato3pi000(ma,lscs,Lambda)+Gammaato3pi0pm(ma,lscs,Lambda))\n",
    "        brs[8].append(brs[0][-1]+brs[1][-1]+brs[2][-1]+brs[3][-1]+brs[4][-1]+brs[5][-1]\\\n",
    "                      +brs[6][-1]+brs[7][-1])\n",
    "\n",
    "        print(\"br[0][-1]= \",brs[0][-1])\n",
    "\n",
    "        ctauAlp=constants['InvGeVtocm']/brs[8][-1]\n",
    "\n",
    "        return [brs[finalStateCode][-1]/brs[8][-1],ctauAlp]"
   ]
  },
  {
   "cell_type": "code",
   "execution_count": 137,
   "id": "35ccdc7f",
   "metadata": {},
   "outputs": [
    {
     "data": {
      "text/plain": [
       "[0.8769467705113788, 3980995.119414594]"
      ]
     },
     "execution_count": 137,
     "metadata": {},
     "output_type": "execute_result"
    }
   ],
   "source": [
    "brALPtoOneFinalState(0.1,5,1,-1,-1,1,-1,0,0,0,10**3,lscsPassed=None)"
   ]
  },
  {
   "cell_type": "code",
   "execution_count": 138,
   "id": "smart-hepatitis",
   "metadata": {},
   "outputs": [
    {
     "data": {
      "image/png": "[encoded data removed]",
      "text/plain": [
       "<Figure size 432x288 with 1 Axes>"
      ]
     },
     "metadata": {
      "needs_background": "light"
     },
     "output_type": "display_data"
    }
   ],
   "source": [
    "brsALP(0,0,0,0,0,0,1,0,\"cWW=1, all other UV-couplings=0, \\u039B=1TeV\",1000,lower=10**-20)"
   ]
  },
  {
   "cell_type": "markdown",
   "id": "motivated-principal",
   "metadata": {},
   "source": [
    "### decays under consideration encoded as\n",
    " - 0: e \n",
    " - 1: mu\n",
    " - 2: tau\n",
    " - 3: charm\n",
    " - 4: bottom\n",
    " - 5: photon\n",
    " - 6: hadron\n",
    " - 7: 3 pions"
   ]
  },
  {
   "cell_type": "markdown",
   "id": "suspended-nation",
   "metadata": {},
   "source": [
    "## Generate [ma, tau, c, BR(theory)] files for Na62"
   ]
  },
  {
   "cell_type": "code",
   "execution_count": 139,
   "id": "relative-angel",
   "metadata": {},
   "outputs": [],
   "source": [
    "Na62Bounds=genfromtxt('../Experimental_files/Na62-BR_m_tau_2103.15389-h.csv', delimiter=',')"
   ]
  },
  {
   "cell_type": "code",
   "execution_count": 140,
   "id": "revised-snake",
   "metadata": {},
   "outputs": [
    {
     "data": {
      "text/plain": [
       "array([0.01      , 0.01211528, 0.01467799, 0.01778279, 0.02154435,\n",
       "       0.02610157, 0.03162278, 0.03831187, 0.04641589, 0.05623413,\n",
       "       0.06812921, 0.08254042, 0.09      , 0.0935    , 0.095     ,\n",
       "       0.1       , 0.101     , 0.12115277, 0.14677993, 0.17782794,\n",
       "       0.21544347, 0.26101572, 0.31622777, 0.38311868, 0.43      ,\n",
       "       0.46415888, 0.47      , 0.55      , 0.56234133, 0.63      ,\n",
       "       0.65      , 0.68129207, 0.82540419, 0.95      , 1.        ,\n",
       "       1.        , 1.5       , 2.        , 2.5       , 3.        ,\n",
       "       3.2       , 3.5       , 4.        ])"
      ]
     },
     "execution_count": 140,
     "metadata": {},
     "output_type": "execute_result"
    }
   ],
   "source": [
    "masslist"
   ]
  },
  {
   "cell_type": "code",
   "execution_count": 141,
   "id": "lesser-greece",
   "metadata": {},
   "outputs": [
    {
     "data": {
      "text/plain": [
       "array([0.   , 0.01 , 0.02 , 0.03 , 0.04 , 0.05 , 0.06 , 0.07 , 0.08 ,\n",
       "       0.09 , 0.1  , 0.11 , 0.154, 0.156, 0.158, 0.16 , 0.162, 0.164,\n",
       "       0.166, 0.168, 0.17 , 0.172, 0.174, 0.176, 0.178, 0.18 , 0.182,\n",
       "       0.184, 0.186, 0.188, 0.19 , 0.192, 0.194, 0.196, 0.198, 0.2  ,\n",
       "       0.202, 0.204, 0.206, 0.208, 0.21 , 0.212, 0.214, 0.216, 0.218,\n",
       "       0.22 , 0.222, 0.224, 0.226, 0.228, 0.23 , 0.232, 0.234, 0.236,\n",
       "       0.238, 0.24 , 0.242, 0.244, 0.246, 0.248, 0.25 , 0.252, 0.254,\n",
       "       0.256, 0.258, 0.26 ])"
      ]
     },
     "execution_count": 141,
     "metadata": {},
     "output_type": "execute_result"
    }
   ],
   "source": [
    "Na62Bounds[:,0]* 10**-3"
   ]
  },
  {
   "cell_type": "code",
   "execution_count": 142,
   "id": "exciting-viking",
   "metadata": {},
   "outputs": [],
   "source": [
    "couplingListSmallCouplings=np.sort(np.append(np.logspace(-7, 4, 20),np.logspace(-1, 2, 20)))"
   ]
  },
  {
   "cell_type": "code",
   "execution_count": 143,
   "id": "163297c0",
   "metadata": {},
   "outputs": [
    {
     "data": {
      "text/plain": [
       "array([1.00000000e-07, 3.79269019e-07, 1.43844989e-06, 5.45559478e-06,\n",
       "       2.06913808e-05, 7.84759970e-05, 2.97635144e-04, 1.12883789e-03,\n",
       "       4.28133240e-03, 1.62377674e-02, 6.15848211e-02, 1.00000000e-01,\n",
       "       1.43844989e-01, 2.06913808e-01, 2.33572147e-01, 2.97635144e-01,\n",
       "       4.28133240e-01, 6.15848211e-01, 8.85866790e-01, 8.85866790e-01,\n",
       "       1.27427499e+00, 1.83298071e+00, 2.63665090e+00, 3.35981829e+00,\n",
       "       3.79269019e+00, 5.45559478e+00, 7.84759970e+00, 1.12883789e+01,\n",
       "       1.27427499e+01, 1.62377674e+01, 2.33572147e+01, 3.35981829e+01,\n",
       "       4.83293024e+01, 4.83293024e+01, 6.95192796e+01, 1.00000000e+02,\n",
       "       1.83298071e+02, 6.95192796e+02, 2.63665090e+03, 1.00000000e+04])"
      ]
     },
     "execution_count": 143,
     "metadata": {},
     "output_type": "execute_result"
    }
   ],
   "source": [
    "couplingListSmallCouplings"
   ]
  },
  {
   "cell_type": "code",
   "execution_count": 144,
   "id": "thermal-cornwall",
   "metadata": {},
   "outputs": [],
   "source": [
    "def generateNa62Files(mlist,clist,process,Lambda):\n",
    "    \n",
    "    with HiddenPrints():\n",
    "    \n",
    "        Na62List=[['# m [GeV], tau [ps], c, BR_theo(K+->pi+ a)\\n']]\n",
    "\n",
    "        for ma in mlist:\n",
    "            for c in clist:\n",
    "\n",
    "#                 if process in ['cff=cWW=cBB']:\n",
    "#                     #print(\"1\")\n",
    "#                     cQ=cL=cWW=cBB=cff=c\n",
    "#                     ce=cd=cu=-c\n",
    "#                     cGG=0\n",
    "\n",
    "                if process in ['cWW']:\n",
    "                    #print(\"2\")\n",
    "                    cQ=cL=cu=cd=ce=cGG=cBB=cff=0\n",
    "                    cWW=c\n",
    "\n",
    "\n",
    "                if process in ['cff']:\n",
    "                    #print(\"3\")\n",
    "                    cGG=cWW=cBB=0\n",
    "                    cQ=cL=cff=c\n",
    "                    ce=cd=cu=-c\n",
    "\n",
    "#                 coefs=getLScoefficients(cff, cWW, cBB, Lambda, ma)\n",
    "\n",
    "                csd=getCsd(cff, cWW, cBB, Lambda, sm['mB+'])\n",
    "    \n",
    "#                 print(csd)\n",
    "\n",
    "                BR= BrKtoPiaplus(ma, csd, Lambda)\n",
    "                tau=ctaua(ma, cff, cWW, cBB, Lambda)/sm['c']*10**12\n",
    "\n",
    "                Na62List.append([ma,tau,c,BR])\n",
    "        return Na62List"
   ]
  },
  {
   "cell_type": "code",
   "execution_count": 145,
   "id": "fourth-macintosh",
   "metadata": {
    "scrolled": true
   },
   "outputs": [],
   "source": [
    "meshcWW=generateNa62Files(Na62Bounds[:,0] * 10**-3,couplingListSmallCouplings,'cWW',10**3)\n",
    "meshcff=generateNa62Files(Na62Bounds[:,0] * 10**-3,couplingListSmallCouplings,'cff',10**3)"
   ]
  },
  {
   "cell_type": "code",
   "execution_count": 146,
   "id": "expected-palestinian",
   "metadata": {},
   "outputs": [],
   "source": [
    "# with open(\"output/m-tau-c-BRBtoKmumu-cffcWWcBB.dat\", \"w\", newline=\"\") as f:\n",
    "#     writer = csv.writer(f,delimiter=\",\", quoting = csv.QUOTE_NONE,escapechar=' ')\n",
    "#     writer.writerows(meshcffcWWcBB)\n",
    "    \n",
    "with open(\"output/m-tau-c-BRKtoPia-cWW.dat\", \"w\", newline=\"\") as f:\n",
    "    writer = csv.writer(f,delimiter=\",\", quoting = csv.QUOTE_NONE,escapechar=' ')\n",
    "    writer.writerows(meshcWW)\n",
    "    \n",
    "with open(\"output/m-tau-c-BRKtoPia-cff.dat\", \"w\", newline=\"\") as f:\n",
    "    writer = csv.writer(f,delimiter=\",\", quoting = csv.QUOTE_NONE,escapechar=' ')\n",
    "    writer.writerows(meshcff)"
   ]
  },
  {
   "cell_type": "markdown",
   "id": "collected-civilian",
   "metadata": {},
   "source": [
    "### interpolating Na62 files in lifetime and comparing to theo files"
   ]
  },
  {
   "cell_type": "code",
   "execution_count": 147,
   "id": "indoor-complexity",
   "metadata": {},
   "outputs": [],
   "source": [
    "tauListNa62 = 10**12*np.array([np.Inf, 5*10**-9, 2*10**-9, 1*10**-9, 500*10**(-12), 200*10**(-12),\\\n",
    "                      100*10**(-12),]) # [tau] = ps"
   ]
  },
  {
   "cell_type": "code",
   "execution_count": 148,
   "id": "238dd951",
   "metadata": {},
   "outputs": [
    {
     "data": {
      "text/plain": [
       "array([  inf, 5000., 2000., 1000.,  500.,  200.,  100.])"
      ]
     },
     "execution_count": 148,
     "metadata": {},
     "output_type": "execute_result"
    }
   ],
   "source": [
    "tauListNa62"
   ]
  },
  {
   "cell_type": "code",
   "execution_count": 149,
   "id": "placed-dallas",
   "metadata": {
    "scrolled": true
   },
   "outputs": [],
   "source": [
    "def compareTheoExp(coupling):\n",
    "    theoList = genfromtxt('output/m-tau-c-BRKtoPia-{}.dat'.format(coupling), delimiter=',')\n",
    "#     print(theoList[0])\n",
    "    \n",
    "    allowedlist=[['# m [GeV], tau [ps], c, BR_theo(K+->pi+ a), BR_Na62(K+->pi+ a), Allowed/excluded (1/0)\\n']]\n",
    "    for i in range(0,theoList.shape[0]):\n",
    "        #picking mass and tau from theo file\n",
    "        ma = theoList[i,0]\n",
    "        taua = theoList[i,1]\n",
    "        \n",
    "        # finding the same mass in exp file\n",
    "        expPosition=np.where((Na62Bounds[:,0]/1000 >= ma*(1-0.0001))&(Na62Bounds[:,0]/1000 <= ma*(1+0.0001)))\n",
    "    \n",
    "        #interpolating BRexp so we get it for tau from out theo file\n",
    "        BRexp=np.interp(taua,tauListNa62,Na62Bounds[expPosition,1:][0,0])\n",
    "\n",
    "        # comparing theo and exp bounds (1 = allowed, 0 = excluded)\n",
    "        if BRexp<=theoList[i,3]:\n",
    "            allowedlist.append([theoList[i,0],theoList[i,1],theoList[i,2],theoList[i,3],BRexp,0])\n",
    "        else:\n",
    "            allowedlist.append([theoList[i,0],theoList[i,1],theoList[i,2],theoList[i,3],BRexp,1])\n",
    "\n",
    "        # writing results into a file\n",
    "        with open(\"output/m-tau-c-BRKtoPia-{}_combined.dat\".format(coupling), \"w\", newline=\"\") as f:\n",
    "            writer = csv.writer(f,delimiter=\",\", quoting = csv.QUOTE_NONE,escapechar=' ')\n",
    "            writer.writerows(allowedlist)\n",
    "        "
   ]
  },
  {
   "cell_type": "code",
   "execution_count": 150,
   "id": "9b2fb837",
   "metadata": {},
   "outputs": [],
   "source": [
    "compareTheoExp(\"cWW\")\n",
    "compareTheoExp(\"cff\")"
   ]
  },
  {
   "cell_type": "markdown",
   "id": "talented-component",
   "metadata": {},
   "source": [
    "### importing bounds "
   ]
  },
  {
   "cell_type": "code",
   "execution_count": 151,
   "id": "assured-lottery",
   "metadata": {},
   "outputs": [],
   "source": [
    "Na62BoundscWW = genfromtxt('output/m-tau-c-BRKtoPia-cWW_combined.dat', delimiter=',')\n",
    "Na62Boundscff = genfromtxt('output/m-tau-c-BRKtoPia-cff_combined.dat', delimiter=',')"
   ]
  },
  {
   "cell_type": "code",
   "execution_count": 152,
   "id": "82624ed9",
   "metadata": {},
   "outputs": [
    {
     "data": {
      "text/plain": [
       "array([[0.00000000e+00, 0.00000000e+00, 1.00000000e-07, 7.58010766e-22,\n",
       "        2.02000000e-10, 1.00000000e+00],\n",
       "       [0.00000000e+00, 0.00000000e+00, 3.79269019e-07, 1.09036050e-20,\n",
       "        2.02000000e-10, 1.00000000e+00],\n",
       "       [0.00000000e+00, 0.00000000e+00, 1.43844989e-06, 1.56842894e-19,\n",
       "        2.02000000e-10, 1.00000000e+00],\n",
       "       ...,\n",
       "       [2.60000000e-01, 1.13908936e-05, 6.95192796e+02, 6.38109823e+01,\n",
       "        1.24000000e-10, 0.00000000e+00],\n",
       "       [2.60000000e-01, 7.91882072e-07, 2.63665090e+03, 9.17912367e+02,\n",
       "        1.24000000e-10, 0.00000000e+00],\n",
       "       [2.60000000e-01, 5.50519633e-08, 1.00000000e+04, 1.32062191e+04,\n",
       "        1.24000000e-10, 0.00000000e+00]])"
      ]
     },
     "execution_count": 152,
     "metadata": {},
     "output_type": "execute_result"
    }
   ],
   "source": [
    "Na62BoundscWW"
   ]
  },
  {
   "cell_type": "code",
   "execution_count": 153,
   "id": "2ea51966",
   "metadata": {},
   "outputs": [
    {
     "data": {
      "text/plain": [
       "array([[0.00000000e+00, 0.00000000e+00, 1.00000000e-07, 1.97049989e-17,\n",
       "        2.02000000e-10, 1.00000000e+00],\n",
       "       [0.00000000e+00, 0.00000000e+00, 3.79269019e-07, 2.83446535e-16,\n",
       "        2.02000000e-10, 1.00000000e+00],\n",
       "       [0.00000000e+00, 0.00000000e+00, 1.43844989e-06, 4.07723636e-15,\n",
       "        2.02000000e-10, 1.00000000e+00],\n",
       "       ...,\n",
       "       [2.60000000e-01, 4.62932025e-09, 6.95192796e+02, 1.65957281e+06,\n",
       "        1.24000000e-10, 0.00000000e+00],\n",
       "       [2.60000000e-01, 3.21827009e-10, 2.63665090e+03, 2.38721233e+07,\n",
       "        1.24000000e-10, 0.00000000e+00],\n",
       "       [2.60000000e-01, 2.23731818e-11, 1.00000000e+04, 3.43388531e+08,\n",
       "        1.24000000e-10, 0.00000000e+00]])"
      ]
     },
     "execution_count": 153,
     "metadata": {},
     "output_type": "execute_result"
    }
   ],
   "source": [
    "Na62Boundscff"
   ]
  },
  {
   "cell_type": "markdown",
   "id": "social-relevance",
   "metadata": {},
   "source": [
    "### plots"
   ]
  },
  {
   "cell_type": "code",
   "execution_count": 154,
   "id": "a8341934",
   "metadata": {},
   "outputs": [],
   "source": [
    "def fromLambdatof(inputarray):\n",
    "    tmp=inputarray.copy()\n",
    "    tmp[:,1] *= 4*np.pi\n",
    "    return tmp"
   ]
  },
  {
   "cell_type": "code",
   "execution_count": 155,
   "id": "surprising-community",
   "metadata": {},
   "outputs": [],
   "source": [
    "def plotBounds(boundsArray, particleCode, upper=False):\n",
    "    if upper:\n",
    "        return np.vstack([np.array(masslist),boundsArray[:,particleCode,1]]).T\n",
    "    else:\n",
    "        return np.vstack([np.array(masslist),boundsArray[:,particleCode,0]]).T"
   ]
  },
  {
   "cell_type": "code",
   "execution_count": 156,
   "id": "thrown-mount",
   "metadata": {},
   "outputs": [],
   "source": [
    "def stackBounds(xarray,arrSmattToLarge,arrLargeToSmall):\n",
    "    combinedx=np.append(xarray,np.flip(xarray))\n",
    "    combinedy=np.append(arrSmattToLarge,np.flip(arrLargeToSmall))\n",
    "    \n",
    "    return np.vstack([combinedx,combinedy]).T"
   ]
  },
  {
   "cell_type": "code",
   "execution_count": 157,
   "id": "linear-advisory",
   "metadata": {},
   "outputs": [],
   "source": [
    "def plotGen(inputarray,lineScatterFillORPolygon,color,linewidthORmarkersize,*args,**kwargs):\n",
    "    \n",
    "    data=inputarray[~np.isnan(inputarray[:,1])]\n",
    "    \n",
    "    if not args:\n",
    "        alphaPoly=0.3\n",
    "    else:\n",
    "        alphaPoly=args[0]\n",
    "    \n",
    "    if (lineScatterFillORPolygon==\"polygon\"):\n",
    "        ax.fill(data[:,0],data[:,1], color=color, alpha=1,**kwargs)\n",
    "    if (lineScatterFillORPolygon==\"oppacpolygon\"):\n",
    "        ax.fill(data[:,0],data[:,1], facecolor=color,alpha=alphaPoly,\\\n",
    "                edgecolor=color,linewidth=linewidthORmarkersize,**kwargs)\n",
    "    if (lineScatterFillORPolygon==\"nonfilledpolygon\"):\n",
    "        ax.fill(data[:,0],data[:,1], facecolor=\"none\", edgecolor=color,\\\n",
    "                linewidth=linewidthORmarkersize, linestyle='-',**kwargs)\n",
    "        \n",
    "def plotAllowed(inputfile,x,y,z,zfixed):\n",
    "    inputparams = np.array(genfromtxt(inputfile,  comments=\"#\", delimiter=','))\n",
    "    \n",
    "    #choosing only rows with z=zfixed\n",
    "    zfixedonly=inputparams[:,z]==zfixed\n",
    "    params=inputparams[zfixedonly]\n",
    "\n",
    "    allowed=params[:,5]==1\n",
    "\n",
    "    plt.scatter(params[allowed,x], params[allowed,y], c='green')\n",
    "    plt.scatter(params[~allowed,x], params[~allowed,y], c='red')\n",
    "    \n",
    "def plotAllAllowed(inputfile,x,y):\n",
    "    params = np.array(genfromtxt(inputfile,  comments=\"#\", delimiter=','))\n",
    "    \n",
    "    allowed=params[:,5]==1\n",
    "    \n",
    "    \n",
    "    plt.scatter(params[allowed,x], params[allowed,y], c='green')\n",
    "    plt.scatter(params[~allowed,x], params[~allowed,y], c='red')\n",
    "    \n",
    "def plotAllAllowedConverted(inputfile,x,y):\n",
    "    params = np.array(genfromtxt(inputfile,  comments=\"#\", delimiter=','))\n",
    "    \n",
    "    allowed=params[:,5]==1\n",
    "    \n",
    "    \n",
    "    plt.scatter(params[allowed,x], params[allowed,y]*(4*np.pi), c='green')\n",
    "    plt.scatter(params[~allowed,x], params[~allowed,y]*(4*np.pi), c='red')\n",
    "    \n",
    "# function that plots cut-out regions from 2103.15389\n",
    "\n",
    "def whiteregions(m):\n",
    "    return np.heaviside(m - 0.110,0)*np.heaviside(-m + 0.154,0)\n",
    "\n",
    "def plotWhiteRegions(yupper):\n",
    "    m=np.linspace(0.05,0.3,num=10000);\n",
    "    plt.fill_between(m,(whiteregions(m))*yupper,0,color=\"black\",zorder=4)"
   ]
  },
  {
   "cell_type": "code",
   "execution_count": 158,
   "id": "a55101df",
   "metadata": {},
   "outputs": [
    {
     "data": {
      "image/png": "[encoded data removed]",
      "text/plain": [
       "<Figure size 648x504 with 1 Axes>"
      ]
     },
     "metadata": {
      "needs_background": "light"
     },
     "output_type": "display_data"
    }
   ],
   "source": [
    "plt.figure(figsize=(9, 7))\n",
    "\n",
    "\n",
    "plotAllAllowedConverted(\"output/m-tau-c-BRKtoPia-cff_combined.dat\",0,2)\n",
    "#plotWhiteRegions(10**(3))\n",
    "\n",
    "plotWhiteRegions(10**5)\n",
    "\n",
    "plt.title('Na62')\n",
    "plt.xlabel('$m_a$ [GeV]')\n",
    "#plt.xlim(0.2,0.2)\n",
    "plt.ylabel('$c_{ff}/f_a=1 TeV$')\n",
    "plt.xscale(\"log\")\n",
    "plt.yscale(\"log\")\n",
    "\n",
    "# plt.xlim(9*10**-3, 4)\n",
    "plt.ylim(10**-7, 10**4)\n",
    "\n",
    "plt.savefig('plots/Na62_cff_bound.png', dpi=300, bbox_inches='tight')"
   ]
  },
  {
   "cell_type": "code",
   "execution_count": 159,
   "id": "cbf8d8e3",
   "metadata": {},
   "outputs": [
    {
     "data": {
      "image/png": "[encoded data removed]",
      "text/plain": [
       "<Figure size 648x504 with 1 Axes>"
      ]
     },
     "metadata": {
      "needs_background": "light"
     },
     "output_type": "display_data"
    }
   ],
   "source": [
    "plt.figure(figsize=(9, 7))\n",
    "\n",
    "\n",
    "plotAllAllowed(\"output/m-tau-c-BRKtoPia-cWW_combined.dat\",0,2)\n",
    "plotWhiteRegions(10**(5))\n",
    "\n",
    "plt.title('Na62')\n",
    "plt.xlabel('$m_a$ [GeV]')\n",
    "#plt.xlim(0.2,0.2)\n",
    "plt.ylabel('$c_{WW}/f_a=1 TeV$')\n",
    "\n",
    "# plt.xlim(9*10**-3, 4)\n",
    "plt.ylim(10**-7, 10**4)\n",
    "\n",
    "plt.xscale(\"log\")\n",
    "plt.yscale(\"log\")\n",
    "\n",
    "plt.savefig('plots/Na62_cWW_bound.png', dpi=300, bbox_inches='tight')"
   ]
  },
  {
   "cell_type": "markdown",
   "id": "779cd555",
   "metadata": {},
   "source": [
    "# Combined plots"
   ]
  }
 ],
 "metadata": {
  "kernelspec": {
   "display_name": "Python 3 (ipykernel)",
   "language": "python",
   "name": "python3"
  },
  "language_info": {
   "codemirror_mode": {
    "name": "ipython",
    "version": 3
   },
   "file_extension": ".py",
   "mimetype": "text/x-python",
   "name": "python",
   "nbconvert_exporter": "python",
   "pygments_lexer": "ipython3",
   "version": "3.9.7"
  }
 },
 "nbformat": 4,
 "nbformat_minor": 5
}
