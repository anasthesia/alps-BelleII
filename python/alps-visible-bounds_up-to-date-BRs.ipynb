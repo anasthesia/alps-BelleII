{
 "cells": [
  {
   "cell_type": "markdown",
   "id": "through-captain",
   "metadata": {},
   "source": [
    "Units used: GeV for masses, s for time, cm for distances"
   ]
  },
  {
   "cell_type": "code",
   "execution_count": 62,
   "id": "political-fault",
   "metadata": {},
   "outputs": [
    {
     "name": "stdout",
     "output_type": "stream",
     "text": [
      "On branch main\n",
      "Your branch is up to date with 'origin/main'.\n",
      "\n",
      "nothing to commit, working tree clean\n"
     ]
    }
   ],
   "source": [
    "import os\n",
    "import glob\n",
    "import importlib\n",
    "\n",
    "import matplotlib as mlib\n",
    "import matplotlib.pyplot as plt\n",
    "\n",
    "# plt.rcParams[\"text.usetex\"] = True\n",
    "# plt.rcParams[\"text.latex.preamble\"] = r\"\\usepackage{slashed}\"\n",
    "\n",
    "import numpy as np\n",
    "from numpy import genfromtxt\n",
    "from numpy import loadtxt\n",
    "import re\n",
    "import csv\n",
    "import matplotlib.colors as mcolors\n",
    "import matplotlib.cm as cm\n",
    "import matplotlib.patches as mpatches\n",
    "import matplotlib.lines as mlines\n",
    "\n",
    "\n",
    "import sys\n",
    "sys.path.insert(1, '/home/stasya/prj/alps-running/TdAlps-Internal/')\n",
    "os.system('git -C /home/stasya/prj/alps-running/TdAlps-Internal/ fetch;\\\n",
    "git -C /home/stasya/prj/alps-running/TdAlps-Internal/ status')\n",
    "import TdAlps\n",
    "from collections import OrderedDict\n",
    "\n",
    "import scipy\n",
    "import scipy.integrate as integrate\n",
    "import scipy.optimize as optimize\n",
    "\n",
    "import csv"
   ]
  },
  {
   "cell_type": "code",
   "execution_count": 64,
   "id": "foreign-nancy",
   "metadata": {},
   "outputs": [],
   "source": [
    "#Plotting settings\n",
    "\n",
    "font = {\n",
    "        'weight' : 'normal',\n",
    "        'size'   : 16}\n",
    "\n",
    "mlib.rc('font', **font)"
   ]
  },
  {
   "cell_type": "code",
   "execution_count": 65,
   "id": "5687d89c",
   "metadata": {},
   "outputs": [],
   "source": [
    "def importNotebook(name):\n",
    "    \n",
    "    currentDir=os.getcwd()\n",
    "    notebookDir=os.path.dirname(name)\n",
    "    os.chdir(notebookDir)\n",
    "    os.system('git fetch; git status')\n",
    "    notebookName=os.path.basename(name).split('.')[0]\n",
    "    module = importlib.import_module(f\"ipynb.fs.full.{notebookName}\")\n",
    "    \n",
    "    os.chdir(currentDir)\n",
    "    \n",
    "    globals().update(vars(module))"
   ]
  },
  {
   "cell_type": "code",
   "execution_count": 66,
   "id": "92ceee25",
   "metadata": {},
   "outputs": [
    {
     "name": "stdout",
     "output_type": "stream",
     "text": [
      "On branch main\n",
      "Your branch is up to date with 'origin/main'.\n",
      "\n",
      "Untracked files:\n",
      "  (use \"git add <file>...\" to include in what will be committed)\n",
      "\t.ipynb_checkpoints/\n",
      "\tALPs_BRs-check.ipynb\n",
      "\tALPs_wip-Nastya.ipynb\n",
      "\n",
      "nothing added to commit but untracked files present (use \"git add\" to track)\n"
     ]
    }
   ],
   "source": [
    "importNotebook(\"/home/stasya/prj/alps/Python/ALPs_base.ipynb\")"
   ]
  },
  {
   "cell_type": "code",
   "execution_count": 67,
   "id": "540140e4",
   "metadata": {
    "scrolled": true
   },
   "outputs": [
    {
     "name": "stdout",
     "output_type": "stream",
     "text": [
      "On branch main\n",
      "Your branch is up to date with 'origin/main'.\n",
      "\n",
      "Untracked files:\n",
      "  (use \"git add <file>...\" to include in what will be committed)\n",
      "\t.ipynb_checkpoints/\n",
      "\tALPs_BRs-check.ipynb\n",
      "\tALPs_wip-Nastya.ipynb\n",
      "\n",
      "nothing added to commit but untracked files present (use \"git add\" to track)\n"
     ]
    }
   ],
   "source": [
    "importNotebook(\"/home/stasya/prj/alps/Python/ALPs_BRs.ipynb\")"
   ]
  },
  {
   "cell_type": "code",
   "execution_count": 68,
   "id": "2bc6dd82",
   "metadata": {},
   "outputs": [],
   "source": [
    "def getCsd(cff, cww, cbb, Lambda, mu):\n",
    "    coeffs = getLScoefficients(cff, cww, cbb, Lambda, mu)\n",
    "    return -coeffs['D'][1][0]+coeffs['d'][1][0]"
   ]
  },
  {
   "cell_type": "markdown",
   "id": "sunset-raleigh",
   "metadata": {},
   "source": [
    "### mass-coupling grid"
   ]
  },
  {
   "cell_type": "code",
   "execution_count": 69,
   "id": "ordered-mattress",
   "metadata": {},
   "outputs": [],
   "source": [
    "#masslist= [0.05, 0.05, 0.1, 0.2, 0.3, 0.5, 1., 2., 4.]\n",
    "masslist=np.sort(np.append(np.logspace(-2, 0, 25),[0.09, 0.101, 0.43, 0.47,0.55,\\\n",
    "                                                   0.95, 1, 1.5, 2, 2.5, 3, 3.2, 3.5, 4,\\\n",
    "                                                   0.0935, 0.095, 0.63, 0.65]))\n",
    "masslistShort=np.logspace(-2,np.log(2.1), 40)\n",
    "masslistBaBArgammagamma=np.logspace(-1,0.4, 40)\n",
    "particleCodes=[*range(0,7,1)]"
   ]
  },
  {
   "cell_type": "code",
   "execution_count": 70,
   "id": "adequate-exercise",
   "metadata": {},
   "outputs": [
    {
     "data": {
      "text/plain": [
       "array([0.1       , 0.10861691, 0.11797633, 0.12814224, 0.13918414,\n",
       "       0.15117751, 0.16420433, 0.17835367, 0.19372224, 0.21041511,\n",
       "       0.22854639, 0.24824002, 0.26963063, 0.29286446, 0.31810032,\n",
       "       0.34551073, 0.37528307, 0.40762087, 0.44274518, 0.48089613,\n",
       "       0.52233451, 0.56734359, 0.61623107, 0.66933113, 0.72700678,\n",
       "       0.78965229, 0.8576959 , 0.93160277, 1.01187812, 1.09907073,\n",
       "       1.19377664, 1.29664328, 1.40837384, 1.52973212, 1.66154773,\n",
       "       1.80472177, 1.96023298, 2.12914446, 2.31261088, 2.51188643])"
      ]
     },
     "execution_count": 70,
     "metadata": {},
     "output_type": "execute_result"
    }
   ],
   "source": [
    "masslistBaBArgammagamma"
   ]
  },
  {
   "cell_type": "code",
   "execution_count": 71,
   "id": "provincial-spiritual",
   "metadata": {},
   "outputs": [],
   "source": [
    "couplingList=np.sort(np.append(np.logspace(-6, 4, 20),np.logspace(-1, 2, 20)))\n",
    "couplingListShort=np.logspace(np.log(8*10**-4), np.log(1.7), 25)"
   ]
  },
  {
   "cell_type": "code",
   "execution_count": 72,
   "id": "exciting-viking",
   "metadata": {},
   "outputs": [],
   "source": [
    "couplingListSmallCouplings=np.sort(np.append(np.logspace(-7, 4, 20),np.logspace(-1, 2, 20)))"
   ]
  },
  {
   "cell_type": "code",
   "execution_count": 73,
   "id": "e3f0ce63",
   "metadata": {},
   "outputs": [],
   "source": [
    "couplingListBeamDumpcWW=np.logspace(-3, 2, 20)\n",
    "couplingListBeamDumpcff=np.logspace(-3, 2, 20)\n",
    "couplingListPrimEx=np.logspace(1, 3, 20)"
   ]
  },
  {
   "cell_type": "code",
   "execution_count": 74,
   "id": "encouraging-venue",
   "metadata": {},
   "outputs": [
    {
     "data": {
      "text/plain": [
       "array([1.00000000e-03, 1.83298071e-03, 3.35981829e-03, 6.15848211e-03,\n",
       "       1.12883789e-02, 2.06913808e-02, 3.79269019e-02, 6.95192796e-02,\n",
       "       1.27427499e-01, 2.33572147e-01, 4.28133240e-01, 7.84759970e-01,\n",
       "       1.43844989e+00, 2.63665090e+00, 4.83293024e+00, 8.85866790e+00,\n",
       "       1.62377674e+01, 2.97635144e+01, 5.45559478e+01, 1.00000000e+02])"
      ]
     },
     "execution_count": 74,
     "metadata": {},
     "output_type": "execute_result"
    }
   ],
   "source": [
    "couplingListBeamDumpcff"
   ]
  },
  {
   "cell_type": "code",
   "execution_count": null,
   "id": "17a5851d",
   "metadata": {},
   "outputs": [],
   "source": []
  },
  {
   "cell_type": "code",
   "execution_count": 75,
   "id": "developed-america",
   "metadata": {},
   "outputs": [],
   "source": [
    "constants={\n",
    "    'InvGeVtocm': 1/(5.06 * 10**(13))\n",
    "}"
   ]
  },
  {
   "cell_type": "code",
   "execution_count": 76,
   "id": "f8ed23af",
   "metadata": {},
   "outputs": [],
   "source": [
    "sm['tauK+'] = 1.238*10**(-8)\n",
    "sm['tauKL'] = 5.116*10**(-8)\n",
    "sm['mKL'] = 497.611*10**(-3)"
   ]
  },
  {
   "cell_type": "code",
   "execution_count": 77,
   "id": "final-router",
   "metadata": {},
   "outputs": [],
   "source": [
    "def f(Lambda):\n",
    "    return Lambda/(4 * np.pi)"
   ]
  },
  {
   "cell_type": "code",
   "execution_count": 78,
   "id": "da2c8da3",
   "metadata": {},
   "outputs": [],
   "source": [
    "def formFactorFzeroKplus(qsqr): \n",
    "#     #https://indico.cern.ch/event/769729/contributions/3512047/attachments/1905114/3146148/Kaon2019_MoulsonPassemarCorr.pdf\n",
    "#     l01 = 25.17\n",
    "#     l02 = 1.49\n",
    "#     f0 = 1.0012 * 0.216 #Christopher Smith's notes & 2107.14708\n",
    "#     return f0 * (1 + l01 * (qsqr/sm['mpi+']**2) + l02 * (qsqr/sm['mpi+'])**2) \n",
    "#             #fplus(qsqr) + qsqr/(sm['mK+']**2-sm['mpi+']**2) fminus(qsqr)\n",
    "    return 1"
   ]
  },
  {
   "cell_type": "markdown",
   "id": "attached-overhead",
   "metadata": {},
   "source": [
    "## based on https://github.com/rrschaefer/alps (formulas taken from 2012.12272 and 1708.00443)"
   ]
  },
  {
   "cell_type": "markdown",
   "id": "recorded-static",
   "metadata": {},
   "source": [
    "### Alps running implemented in https://github.com/TdAlps"
   ]
  },
  {
   "cell_type": "markdown",
   "id": "heavy-delight",
   "metadata": {},
   "source": [
    "### ALP and B-> Ka decay rates"
   ]
  },
  {
   "cell_type": "code",
   "execution_count": 79,
   "id": "sweet-branch",
   "metadata": {},
   "outputs": [],
   "source": [
    "# as in draft\n",
    "def BrBtoKaplus(ma, cbs, Lambda):\n",
    "    return (np.pi/4)*abs(cbs)**2/(Lambda**2) * abs(formFactorFzeroBplus(ma**2))**2 \\\n",
    "            * (sm['mB+']**2-sm['mK+']**2)**2/sm['mB+']**3 * np.sqrt(sm['mB+']**4+sm['mK+']**4+ma**4\\\n",
    "            -2*(sm['mB+']**2 * sm['mK+']**2 + sm['mK+']**2 * ma**2 + ma**2 * sm['mB+']**2))\\\n",
    "            /sm['hbar']*sm['tauB+']"
   ]
  },
  {
   "cell_type": "code",
   "execution_count": 80,
   "id": "defensive-check",
   "metadata": {},
   "outputs": [],
   "source": [
    "# as in draft\n",
    "def BrKtoPiaplus(ma, csd, Lambda):\n",
    "    return (np.pi/4)* abs(csd)**2/(Lambda**2) * abs(formFactorFzeroKplus(ma**2))**2 \\\n",
    "            * (sm['mK+']**2-sm['mpi+']**2)**2/sm['mK+']**3 * np.sqrt(sm['mK+']**4+sm['mpi+']**4+ma**4\\\n",
    "            -2*(sm['mpi+']**2 * sm['mK+']**2 + sm['mK+']**2 * ma**2 + ma**2 * sm['mpi+']**2))\\\n",
    "            /sm['hbar']*sm['tauK+']"
   ]
  },
  {
   "cell_type": "code",
   "execution_count": 81,
   "id": "a00f0c9f",
   "metadata": {},
   "outputs": [],
   "source": [
    "def BrKLtoPi0a(ma, csd, Lambda):\n",
    "    return (np.pi/4)* abs(csd)**2/(Lambda**2) * abs(formFactorFzeroKplus(ma**2))**2 \\\n",
    "            * (sm['mKL']**2-sm['mpi0']**2)**2/sm['mKL']**3 * np.sqrt(sm['mKL']**4+sm['mpi0']**4+ma**4\\\n",
    "            -2*(sm['mpi0']**2 * sm['mKL']**2 + sm['mKL']**2 * ma**2 + ma**2 * sm['mpi0']**2))\\\n",
    "            /sm['hbar']*sm['tauKL']"
   ]
  },
  {
   "cell_type": "markdown",
   "id": "subjective-institution",
   "metadata": {},
   "source": [
    "### ALP branching ratios"
   ]
  },
  {
   "cell_type": "markdown",
   "id": "equivalent-denial",
   "metadata": {},
   "source": [
    "### decays under consideration encoded as\n",
    " - 0: e \n",
    " - 1: mu\n",
    " - 2: tau\n",
    " - 3: charm\n",
    " - 4: bottom\n",
    " - 5: photon\n",
    " - 6: hadron\n",
    " - 7: 3 pions"
   ]
  },
  {
   "cell_type": "code",
   "execution_count": 82,
   "id": "abroad-textbook",
   "metadata": {},
   "outputs": [],
   "source": [
    "def brALPtoOneFinalState(ma,finalStateCode,cQ,cu,cd,cL,ce,cGG,cWW,cBB,Lambda,lscsPassed=None):\n",
    "    with HiddenPrints():\n",
    "        HC = OrderedDict()\n",
    "        HC['Q'] = np.array([[cQ,0,0],[0,cQ,0],[0,0,cQ]])\n",
    "        HC['u'] = -np.array([[cu,0,0],[0,cu,0],[0,0,cu]])\n",
    "        HC['d'] = -np.array([[cd,0,0],[0,cd,0],[0,0,cd]])\n",
    "        HC['L'] = np.array([[cL,0,0],[0,cL,0],[0,0,cL]])\n",
    "        HC['e'] = -np.array([[ce,0,0],[0,ce,0],[0,0,ce]])\n",
    "        HC['GG'] = cGG\n",
    "        HC['WW'] = cWW\n",
    "        HC['BB'] = cBB\n",
    "\n",
    "        brs = [[],[],[],[],[],[],[],[],[]]\n",
    "        \n",
    "        if (lscsPassed is not None):\n",
    "            lscs=lscsPassed\n",
    "        else:\n",
    "            if ma<1:\n",
    "                mu = 1\n",
    "            else:\n",
    "                mu=ma\n",
    "            lscs = TdAlps.RunRotateMatchRun(HC, Lambda, mu, 3)\n",
    "        \n",
    "#         print(\"mu= \",mu)\n",
    "#         print(\"readCee= \",readCee(lscs),\", readCmumu= \",readCmumu(lscs))\n",
    "#         print([ma,readCee(lscs),sm['me'],Lambda])\n",
    "#         print(\"Gamma_ll= \",Gammaatoll(ma,readCee(lscs),sm['me'],Lambda))\n",
    "        \n",
    "        brs[0].append(Gammaatoll(ma,readCee(lscs),sm['me'],Lambda))\n",
    "        brs[1].append(Gammaatoll(ma,readCmumu(lscs),sm['mmu'],Lambda))\n",
    "        try:\n",
    "            ctautau = readCtautau(lscs)\n",
    "        except IndexError:\n",
    "            ctautau = 0\n",
    "        brs[2].append(Gammaatoll(ma,ctautau,sm['mtau'],Lambda))\n",
    "        try:\n",
    "            ccc = readCcc(lscs)\n",
    "        except IndexError:\n",
    "            ccc = 0\n",
    "        brs[3].append(Gammaatoqq(ma,ccc,sm['mc'],Lambda))\n",
    "        try:\n",
    "            cbb = readCbb(lscs)\n",
    "        except IndexError:\n",
    "            cbb = 0\n",
    "        brs[4].append(Gammaatoqq(ma,cbb,sm['mb'],Lambda))\n",
    "        brs[5].append(Gammaatogamgam(ma,lscs,Lambda))\n",
    "        brs[6].append(Gammaatohad(ma,lscs,Lambda))\n",
    "        brs[7].append(Gammaato3pi000(ma,lscs,Lambda)+Gammaato3pi0pm(ma,lscs,Lambda))\n",
    "        brs[8].append(brs[0][-1]+brs[1][-1]+brs[2][-1]+brs[3][-1]+brs[4][-1]+brs[5][-1]\\\n",
    "                      +brs[6][-1]+brs[7][-1])\n",
    "            \n",
    "\n",
    "#         print(\"br[0][-1]= \",brs[0][-1])\n",
    "        \n",
    "        ctauAlp=constants['InvGeVtocm']/brs[8][-1]\n",
    "\n",
    "        return [brs[finalStateCode][-1]/brs[8][-1],ctauAlp]"
   ]
  },
  {
   "cell_type": "code",
   "execution_count": 83,
   "id": "35ccdc7f",
   "metadata": {},
   "outputs": [
    {
     "data": {
      "text/plain": [
       "[0.04759603249364804, 562396551.3552603]"
      ]
     },
     "execution_count": 83,
     "metadata": {},
     "output_type": "execute_result"
    }
   ],
   "source": [
    "brALPtoOneFinalState(0.1,5,1,-1,-1,1,-1,0,0,0,4*np.pi*4*np.pi*10**3,lscsPassed=None)"
   ]
  },
  {
   "cell_type": "code",
   "execution_count": 22,
   "id": "smart-hepatitis",
   "metadata": {},
   "outputs": [
    {
     "data": {
      "image/png": "[encoded data removed]",
      "text/plain": [
       "<Figure size 432x288 with 1 Axes>"
      ]
     },
     "metadata": {
      "needs_background": "light"
     },
     "output_type": "display_data"
    }
   ],
   "source": [
    "brsALP(0,0,0,0,0,0,1,0,\"cWW=1, all other UV-couplings=0, \\u039B=1TeV\",1000,lower=10**-20)"
   ]
  },
  {
   "cell_type": "markdown",
   "id": "motivated-principal",
   "metadata": {},
   "source": [
    "### decays under consideration encoded as\n",
    " - 0: e \n",
    " - 1: mu\n",
    " - 2: tau\n",
    " - 3: charm\n",
    " - 4: bottom\n",
    " - 5: photon\n",
    " - 6: hadron\n",
    " - 7: 3 pions"
   ]
  },
  {
   "cell_type": "markdown",
   "id": "3ac90958",
   "metadata": {},
   "source": [
    "### Effective coupling"
   ]
  },
  {
   "cell_type": "code",
   "execution_count": 84,
   "id": "3ecdaf4c",
   "metadata": {
    "scrolled": true
   },
   "outputs": [
    {
     "name": "stdout",
     "output_type": "stream",
     "text": [
      "no valid value for the low scale chosen. Has do be higher than the QCD confinement scale!\n",
      "Returning the value of the coefficients at mtau/\n",
      "no valid value for the low scale chosen. Has do be higher than the QCD confinement scale!\n",
      "Returning the value of the coefficients at mtau/\n",
      "no valid value for the low scale chosen. Has do be higher than the QCD confinement scale!\n",
      "Returning the value of the coefficients at mtau/\n",
      "no valid value for the low scale chosen. Has do be higher than the QCD confinement scale!\n",
      "Returning the value of the coefficients at mtau/\n",
      "no valid value for the low scale chosen. Has do be higher than the QCD confinement scale!\n",
      "Returning the value of the coefficients at mtau/\n",
      "no valid value for the low scale chosen. Has do be higher than the QCD confinement scale!\n",
      "Returning the value of the coefficients at mtau/\n",
      "no valid value for the low scale chosen. Has do be higher than the QCD confinement scale!\n",
      "Returning the value of the coefficients at mtau/\n",
      "no valid value for the low scale chosen. Has do be higher than the QCD confinement scale!\n",
      "Returning the value of the coefficients at mtau/\n",
      "no valid value for the low scale chosen. Has do be higher than the QCD confinement scale!\n",
      "Returning the value of the coefficients at mtau/\n",
      "no valid value for the low scale chosen. Has do be higher than the QCD confinement scale!\n",
      "Returning the value of the coefficients at mtau/\n",
      "no valid value for the low scale chosen. Has do be higher than the QCD confinement scale!\n",
      "Returning the value of the coefficients at mtau/\n",
      "no valid value for the low scale chosen. Has do be higher than the QCD confinement scale!\n",
      "Returning the value of the coefficients at mtau/\n",
      "no valid value for the low scale chosen. Has do be higher than the QCD confinement scale!\n",
      "Returning the value of the coefficients at mtau/\n",
      "no valid value for the low scale chosen. Has do be higher than the QCD confinement scale!\n",
      "Returning the value of the coefficients at mtau/\n",
      "no valid value for the low scale chosen. Has do be higher than the QCD confinement scale!\n",
      "Returning the value of the coefficients at mtau/\n",
      "no valid value for the low scale chosen. Has do be higher than the QCD confinement scale!\n",
      "Returning the value of the coefficients at mtau/\n",
      "no valid value for the low scale chosen. Has do be higher than the QCD confinement scale!\n",
      "Returning the value of the coefficients at mtau/\n",
      "no valid value for the low scale chosen. Has do be higher than the QCD confinement scale!\n",
      "Returning the value of the coefficients at mtau/\n",
      "no valid value for the low scale chosen. Has do be higher than the QCD confinement scale!\n",
      "Returning the value of the coefficients at mtau/\n",
      "no valid value for the low scale chosen. Has do be higher than the QCD confinement scale!\n",
      "Returning the value of the coefficients at mtau/\n",
      "no valid value for the low scale chosen. Has do be higher than the QCD confinement scale!\n",
      "Returning the value of the coefficients at mtau/\n",
      "no valid value for the low scale chosen. Has do be higher than the QCD confinement scale!\n",
      "Returning the value of the coefficients at mtau/\n",
      "no valid value for the low scale chosen. Has do be higher than the QCD confinement scale!\n",
      "Returning the value of the coefficients at mtau/\n",
      "no valid value for the low scale chosen. Has do be higher than the QCD confinement scale!\n",
      "Returning the value of the coefficients at mtau/\n",
      "no valid value for the low scale chosen. Has do be higher than the QCD confinement scale!\n",
      "Returning the value of the coefficients at mtau/\n",
      "no valid value for the low scale chosen. Has do be higher than the QCD confinement scale!\n",
      "Returning the value of the coefficients at mtau/\n",
      "no valid value for the low scale chosen. Has do be higher than the QCD confinement scale!\n",
      "Returning the value of the coefficients at mtau/\n",
      "no valid value for the low scale chosen. Has do be higher than the QCD confinement scale!\n",
      "Returning the value of the coefficients at mtau/\n",
      "no valid value for the low scale chosen. Has do be higher than the QCD confinement scale!\n",
      "Returning the value of the coefficients at mtau/\n",
      "no valid value for the low scale chosen. Has do be higher than the QCD confinement scale!\n",
      "Returning the value of the coefficients at mtau/\n",
      "no valid value for the low scale chosen. Has do be higher than the QCD confinement scale!\n",
      "Returning the value of the coefficients at mtau/\n",
      "no valid value for the low scale chosen. Has do be higher than the QCD confinement scale!\n",
      "Returning the value of the coefficients at mtau/\n",
      "no valid value for the low scale chosen. Has do be higher than the QCD confinement scale!\n",
      "Returning the value of the coefficients at mtau/\n",
      "no valid value for the low scale chosen. Has do be higher than the QCD confinement scale!\n",
      "Returning the value of the coefficients at mtau/\n",
      "no valid value for the low scale chosen. Has do be higher than the QCD confinement scale!\n",
      "Returning the value of the coefficients at mtau/\n",
      "no valid value for the low scale chosen. Has do be higher than the QCD confinement scale!\n",
      "Returning the value of the coefficients at mtau/\n",
      "no valid value for the low scale chosen. Has do be higher than the QCD confinement scale!\n",
      "Returning the value of the coefficients at mtau/\n"
     ]
    },
    {
     "data": {
      "image/png": "[encoded data removed]",
      "text/plain": [
       "<Figure size 432x288 with 1 Axes>"
      ]
     },
     "metadata": {
      "needs_background": "light"
     },
     "output_type": "display_data"
    }
   ],
   "source": [
    "couplingRunning(1,1,1,1,1,0,0,0,'couplings',4*np.pi*1000,looporder=3)"
   ]
  },
  {
   "cell_type": "code",
   "execution_count": 170,
   "id": "f57ec8a2",
   "metadata": {},
   "outputs": [],
   "source": [
    "def couplingRunningList(ma,cQ,cu,cd,cL,ce,cGG,cWW,cBB,Lambda,looporder=3): #ma in GeV\n",
    "    with HiddenPrints():\n",
    "        HC = OrderedDict()\n",
    "        HC['Q'] = np.array([[cQ,0,0],[0,cQ,0],[0,0,cQ]])\n",
    "        HC['u'] = -np.array([[cu,0,0],[0,cu,0],[0,0,cu]])\n",
    "        HC['d'] = -np.array([[cd,0,0],[0,cd,0],[0,0,cd]])\n",
    "        HC['L'] = np.array([[cL,0,0],[0,cL,0],[0,0,cL]])\n",
    "        HC['e'] = -np.array([[ce,0,0],[0,ce,0],[0,0,ce]])\n",
    "        HC['GG'] = cGG\n",
    "        HC['WW'] = cWW\n",
    "        HC['BB'] = cBB\n",
    "\n",
    "        coupls = [[],[],[],[],[],[],[],[],[],[],[],[]]\n",
    "        if ma<1:\n",
    "            mu = 1\n",
    "        else:\n",
    "            mu=ma\n",
    "        lscs = TdAlps.RunRotateMatchRun(HC, Lambda, mu, looporder)\n",
    "        try:\n",
    "            cee = readCee(lscs).real\n",
    "        except IndexError:\n",
    "            cee = 0\n",
    "        except KeyError:\n",
    "            cee = readCeeHS(lscs).real\n",
    "        coupls[0].append(cee)\n",
    "        try:\n",
    "            cmumu = readCmumu(lscs).real\n",
    "        except IndexError:\n",
    "            cmumu = 0\n",
    "        except KeyError:\n",
    "            cmumu = readCmumuHS(lscs).real\n",
    "        coupls[1].append(cmumu)\n",
    "        try:\n",
    "            ctautau = readCtautau(lscs).real\n",
    "        except IndexError:\n",
    "            ctautau = 0\n",
    "        except KeyError:\n",
    "            ctautau = readCtautauHS(lscs).real\n",
    "        coupls[2].append(ctautau)\n",
    "        try:\n",
    "            cuu = readCuu(lscs).real\n",
    "        except IndexError:\n",
    "            cuu = 0\n",
    "        except KeyError:\n",
    "            cuu = readCuuHS(lscs).real\n",
    "        coupls[3].append(cuu)\n",
    "        try:\n",
    "            cdd = readCdd(lscs).real\n",
    "        except IndexError:\n",
    "            cdd = 0\n",
    "        except KeyError:\n",
    "            cdd = readCddHS(lscs).real\n",
    "        coupls[4].append(cdd)\n",
    "        try:\n",
    "            css = readCss(lscs).real\n",
    "        except IndexError:\n",
    "            css = 0\n",
    "        except KeyError:\n",
    "            css = readCssHS(lscs).real\n",
    "        coupls[5].append(css)\n",
    "        try:\n",
    "            ccc = readCcc(lscs).real\n",
    "        except IndexError:\n",
    "            ccc = 0\n",
    "        except KeyError:\n",
    "            ccc = readCccHS(lscs).real\n",
    "        coupls[6].append(ccc)\n",
    "        try:\n",
    "            cbb = readCbb(lscs).real\n",
    "        except IndexError:\n",
    "            cbb = 0\n",
    "        except KeyError:\n",
    "            cbb = readCbbHS(lscs).real\n",
    "        coupls[7].append(cbb)\n",
    "        try:\n",
    "            cgamgam = readCgg(lscs).real\n",
    "        except KeyError:\n",
    "            cgamgam = 0\n",
    "        coupls[8].append(cgamgam)\n",
    "        effcgg = cgamgam\n",
    "        if ma >= sm['mZ']:\n",
    "            try:\n",
    "                effcgg += 2 * readAlphaEM(lscs)/math.pi * lscs['WW']/sm['sw']**2 * B2(4*sm['mW']**2/ma**2)\n",
    "            except:\n",
    "#                 print(lscs)\n",
    "                pass\n",
    "            try:    \n",
    "                effcgg += 3 * (2/3)**2 * readCtt(lscs) * B1(4*sm['mt']**2/ma**2)\n",
    "            except KeyError:\n",
    "                effcgg += 3 * (2/3)**2 * readCttHS(lscs) * B1(4*sm['mt']**2/ma**2)\n",
    "\n",
    "        if ma >= sm['mc']:\n",
    "            effcgg += 3 * (2/3)**2 * ccc * B1(4*sm['mc']**2/ma**2) \n",
    "        if ma >= sm['mb']:\n",
    "            effcgg += 3 * (-1/3)**2 * cbb * B1(4*sm['mb']**2/ma**2)\n",
    "        if ma >= 1:\n",
    "            effcgg += 3 * (2/3)**2 * cuu * B1(4*sm['mu']**2/ma**2)\n",
    "            effcgg += 3 * (-1/3)**2 * cdd * B1(4*sm['md']**2/ma**2)\n",
    "            effcgg += 3 * (-1/3)**2 * css * B1(4*sm['ms']**2/ma**2)\n",
    "        if ma >= sm['me']:\n",
    "#             print(\"B1e=\",B1(4*sm['me']**2/ma**2))\n",
    "            effcgg += cee * B1(4*sm['me']**2/ma**2)\n",
    "        if ma >= sm['mmu']:\n",
    "#             print(\"B1mu=\",B1(4*sm['mmu']**2/ma**2))\n",
    "            effcgg += cmumu * B1(4*sm['mmu']**2/ma**2)\n",
    "        if ma >= sm['mtau']:\n",
    "            print(\"B1tau=\",B1(4*sm['mtau']**2/ma**2))\n",
    "            effcgg += ctautau * B1(4*sm['mtau']**2/ma**2)\n",
    "        if ma <= 1:\n",
    "            tmp = -(5/3 + sm['mpi+']**2/(sm['mpi+']**2-ma**2) * (sm['md']-sm['mu'])/(sm['md']+sm['mu']))*readCGG(lscs)\n",
    "            tmp += -ma**2/(sm['mpi+']**2-ma**2) * (cuu - cdd)/2\n",
    "#             print(\"tmp=\",tmp)\n",
    "            effcgg += tmp\n",
    "\n",
    "        coupls[9].append(effcgg) # effective photon coupling\n",
    "        coupls[10].append(readCGG(lscs).real)\n",
    "\n",
    "        cGGeff = readCGG(lscs).real\n",
    "        cGGeff += 1/2 * cuu * B1(4*sm['mu']**2/ma**2)\n",
    "        cGGeff += 1/2 * cdd * B1(4*sm['md']**2/ma**2)\n",
    "        cGGeff += 1/2 * css * B1(4*sm['ms']**2/ma**2)\n",
    "        cGGeff += 1/2 * ccc * B1(4*sm['mc']**2/ma**2)\n",
    "        cGGeff += 1/2 * cbb * B1(4*sm['mb']**2/ma**2)\n",
    "        try:\n",
    "            cGGeff += 1/2 * readCtt(lscs) * B1(4*sm['mt']**2/ma**2)\n",
    "        except:\n",
    "            pass\n",
    "        coupls[11].append(cGGeff)\n",
    "\n",
    "        return coupls\n"
   ]
  },
  {
   "cell_type": "code",
   "execution_count": 171,
   "id": "245fc2cf",
   "metadata": {},
   "outputs": [
    {
     "data": {
      "text/plain": [
       "(-7.082944864637565+0.28006150885088954j)"
      ]
     },
     "execution_count": 171,
     "metadata": {},
     "output_type": "execute_result"
    }
   ],
   "source": [
    "couplingRunningList(2,1,1,1,1,1,0,0,0,4*np.pi*1000,looporder=3)[9][0]"
   ]
  },
  {
   "cell_type": "markdown",
   "id": "suspended-nation",
   "metadata": {},
   "source": [
    "## Generate Beam dump files [ma, tau, c, ceff]"
   ]
  },
  {
   "cell_type": "code",
   "execution_count": 87,
   "id": "7d88d3ad",
   "metadata": {},
   "outputs": [],
   "source": [
    "#converting g_a\\gamma in 1904.02091 to C_\\gamma\\gamma in our case (or eqv. in 2012.12272)\n",
    "def cggBeamDumpToOurs(Lambda):\n",
    "    return Lambda/(4*1/137)"
   ]
  },
  {
   "cell_type": "code",
   "execution_count": 88,
   "id": "ff263c57",
   "metadata": {},
   "outputs": [],
   "source": [
    "# NuCalCHARMBounds=genfromtxt('../Experimental_files/NuCal-CHARM.txt', delimiter='\\t')\n",
    "NuCalCHARMBoundsUpper=genfromtxt('../Experimental_files/NuCal-CHARM_upper.txt', delimiter='\\t')\n",
    "NuCalCHARMBoundsLowerData=genfromtxt('../Experimental_files/NuCal-CHARM_lower.txt', delimiter='\\t')"
   ]
  },
  {
   "cell_type": "code",
   "execution_count": 89,
   "id": "d825980b",
   "metadata": {},
   "outputs": [],
   "source": [
    "# NuCalCHARMBounds=genfromtxt('../Experimental_files/NuCal-CHARM.txt', delimiter='\\t')\n",
    "NuCalCHARME137BoundsUpper=genfromtxt('../Experimental_files/NuCal-CHARM-E137_upper.txt', delimiter='\\t')\n",
    "NuCalCHARME137BoundsLowerData=genfromtxt('../Experimental_files/NuCal-CHARM-E137_lower.txt', delimiter='\\t')"
   ]
  },
  {
   "cell_type": "code",
   "execution_count": 90,
   "id": "cfe4ff5b",
   "metadata": {},
   "outputs": [],
   "source": [
    "# NuCalCHARMBounds=genfromtxt('../Experimental_files/NuCal-CHARM.txt', delimiter='\\t')\n",
    "PrimExBounds1Lower=genfromtxt('../Experimental_files/PrimEx_low_masses.txt', delimiter='\\t')\n",
    "PrimExBounds1Upper=genfromtxt('../Experimental_files/PrimEx_low_masses_upper.txt', delimiter='\\t')\n",
    "\n",
    "PrimExBounds2Lower=genfromtxt('../Experimental_files/PrimEx_high_masses.txt', delimiter='\\t')\n",
    "PrimExBounds2Upper=genfromtxt('../Experimental_files/PrimEx_high_masses_upper.txt', delimiter='\\t')"
   ]
  },
  {
   "cell_type": "code",
   "execution_count": 91,
   "id": "798c8355",
   "metadata": {},
   "outputs": [],
   "source": [
    "#calculating NuCalCHARMBoundsLower on the mass grid of NuCalCHARMBoundsUpper\n",
    "NuCalCHARMBoundsLower=np.array([NuCalCHARMBoundsUpper[:,0],\\\n",
    "                                np.interp(NuCalCHARMBoundsUpper[:,0],NuCalCHARMBoundsLowerData[:,0],\\\n",
    "                                NuCalCHARMBoundsLowerData[:,1])]).T\n",
    "\n",
    "NuCalCHARME137BoundsLower=np.array([NuCalCHARME137BoundsUpper[:,0],\\\n",
    "                                np.interp(NuCalCHARME137BoundsUpper[:,0],NuCalCHARME137BoundsLowerData[:,0],\\\n",
    "                                NuCalCHARME137BoundsLowerData[:,1])]).T"
   ]
  },
  {
   "cell_type": "code",
   "execution_count": 92,
   "id": "6fcf4b33",
   "metadata": {},
   "outputs": [],
   "source": [
    "#effectiveCoupling = (9,11) for (photons, gluons)\n",
    "def generateBeamDumpFiles(expArrayUpper,expArrayLower,clist,effectiveCoupling,process,Lambda):\n",
    "    \n",
    "    with HiddenPrints():\n",
    "    \n",
    "        BeamDumpList=[['# m [GeV], tau [ps], c, c_eff(theo), c_eff(exp)^upper,  c_eff(exp)^lower,\\\n",
    "        c_eff(exp)^upper converted,  c_eff(exp)^lower converted, allowed/excluded (1/0)']]\n",
    "\n",
    "        for i in range(len(expArrayUpper[:,0])):\n",
    "            ma=expArrayUpper[i,0]\n",
    "            for c in clist:\n",
    "\n",
    "#                 if process in ['cff=cWW=cBB']:\n",
    "#                     #print(\"1\")\n",
    "#                     cQ=cL=cWW=cBB=cff=c\n",
    "#                     ce=cd=cu=-cexpArrayUpper[:,0]\n",
    "#                     cGG=0\n",
    "\n",
    "                if process in ['cWW']:\n",
    "                    #print(\"2\")\n",
    "                    cQ=cL=cu=cd=ce=cGG=cBB=cff=0\n",
    "                    cWW=c\n",
    "\n",
    "\n",
    "                if process in ['cff']:\n",
    "                    #print(\"3\")\n",
    "                    cGG=cWW=cBB=0\n",
    "                    cQ=cL=cff=c\n",
    "                    ce=cd=cu=c\n",
    "\n",
    "\n",
    "                tau=ctaua(ma, cff, cWW, cBB, Lambda)/sm['c']*10**12\n",
    "                ceffTheo=abs(couplingRunningList(ma,cQ,cu,cd,cL,ce,cGG,cWW,cBB,Lambda,looporder=3)\\\n",
    "                [effectiveCoupling][0])\n",
    "                \n",
    "                if (ceffTheo<=expArrayUpper[i,1]*cggBeamDumpToOurs(Lambda))&\\\n",
    "                (ceffTheo>=expArrayLower[i,1]*cggBeamDumpToOurs(Lambda)):\n",
    "                    allowedExcluded=0\n",
    "                else: allowedExcluded=1\n",
    "                \n",
    "\n",
    "                BeamDumpList.append([ma,tau,c,ceffTheo,expArrayUpper[i,1],\\\n",
    "                                     expArrayLower[i,1],expArrayUpper[i,1]*cggBeamDumpToOurs(Lambda),\\\n",
    "                                     expArrayLower[i,1]*cggBeamDumpToOurs(Lambda), allowedExcluded])\n",
    "        return BeamDumpList"
   ]
  },
  {
   "cell_type": "code",
   "execution_count": 169,
   "id": "8205c0a9",
   "metadata": {},
   "outputs": [
    {
     "name": "stdout",
     "output_type": "stream",
     "text": [
      "no valid value for the low scale chosen. Has do be higher than the QCD confinement scale!\n",
      "Returning the value of the coefficients at mtau/\n",
      "B1e= (1.0026503031900789-0.0017314040725643605j)\n",
      "tmp= (-0.18512372256831489+0j)\n"
     ]
    },
    {
     "data": {
      "text/plain": [
       "array([2.36320646])"
      ]
     },
     "execution_count": 169,
     "metadata": {},
     "output_type": "execute_result"
    }
   ],
   "source": [
    "np.abs(couplingRunningList(0.1,1,1,1,1,1,0,0,0,4*np.pi*1000,looporder=3)[9])"
   ]
  },
  {
   "cell_type": "code",
   "execution_count": 163,
   "id": "b208e1af",
   "metadata": {},
   "outputs": [
    {
     "name": "stdout",
     "output_type": "stream",
     "text": [
      "no valid value for the low scale chosen. Has do be higher than the QCD confinement scale!\n",
      "Returning the value of the coefficients at mtau/\n",
      "B1e= (1.0026503031900789-0.0017314040725643605j)\n",
      "tmp= (2.018137066747878e-06+0j)\n"
     ]
    },
    {
     "data": {
      "text/plain": [
       "array([1.00066665])"
      ]
     },
     "execution_count": 163,
     "metadata": {},
     "output_type": "execute_result"
    }
   ],
   "source": [
    "np.abs(couplingRunningList(0.1,0,0,0,0,0,0,1,0,4*np.pi*1000,looporder=3)[9])"
   ]
  },
  {
   "cell_type": "code",
   "execution_count": 93,
   "id": "751d9efb",
   "metadata": {},
   "outputs": [],
   "source": [
    "meshcWWNuCalCHARM=generateBeamDumpFiles(NuCalCHARMBoundsUpper,NuCalCHARMBoundsLower,\\\n",
    "                                        couplingListBeamDumpcWW,9,'cWW',1000)\n",
    "\n",
    "meshcffNuCalCHARM=generateBeamDumpFiles(NuCalCHARMBoundsUpper,NuCalCHARMBoundsLower,\\\n",
    "                                        couplingListBeamDumpcff,9,'cff',1000)"
   ]
  },
  {
   "cell_type": "code",
   "execution_count": 94,
   "id": "666cf4f4",
   "metadata": {},
   "outputs": [],
   "source": [
    "with open(\"output/m-tau-c-NuCal-CHARM-cWW_combined.dat\", \"w\", newline=\"\") as f:\n",
    "    writer = csv.writer(f,delimiter=\",\", quoting = csv.QUOTE_NONE,escapechar=' ')\n",
    "    writer.writerows(meshcWWNuCalCHARM)\n",
    "    \n",
    "with open(\"output/m-tau-c-NuCal-CHARM-cff_combined.dat\", \"w\", newline=\"\") as f:\n",
    "    writer = csv.writer(f,delimiter=\",\", quoting = csv.QUOTE_NONE,escapechar=' ')\n",
    "    writer.writerows(meshcffNuCalCHARM)"
   ]
  },
  {
   "cell_type": "code",
   "execution_count": 95,
   "id": "8ad4e98b",
   "metadata": {},
   "outputs": [],
   "source": [
    "meshcWWNuCalCHARME137=generateBeamDumpFiles(NuCalCHARME137BoundsUpper,NuCalCHARME137BoundsLower,\\\n",
    "                                        couplingListBeamDumpcWW,9,'cWW',1000)\n",
    "\n",
    "meshcffNuCalCHARME137=generateBeamDumpFiles(NuCalCHARME137BoundsUpper,NuCalCHARME137BoundsLower,\\\n",
    "                                        couplingListBeamDumpcff,9,'cff',1000)"
   ]
  },
  {
   "cell_type": "code",
   "execution_count": 96,
   "id": "1f82fb15",
   "metadata": {},
   "outputs": [],
   "source": [
    "with open(\"output/m-tau-c-NuCal-CHARM-E137-cWW_combined.dat\", \"w\", newline=\"\") as f:\n",
    "    writer = csv.writer(f,delimiter=\",\", quoting = csv.QUOTE_NONE,escapechar=' ')\n",
    "    writer.writerows(meshcWWNuCalCHARME137)\n",
    "    \n",
    "with open(\"output/m-tau-c-NuCal-CHARM-E137-cff_combined.dat\", \"w\", newline=\"\") as f:\n",
    "    writer = csv.writer(f,delimiter=\",\", quoting = csv.QUOTE_NONE,escapechar=' ')\n",
    "    writer.writerows(meshcffNuCalCHARME137)"
   ]
  },
  {
   "cell_type": "code",
   "execution_count": 97,
   "id": "8ff45778",
   "metadata": {},
   "outputs": [],
   "source": [
    "meshcWWPrimExBounds1=generateBeamDumpFiles(PrimExBounds1Upper,PrimExBounds1Lower,\\\n",
    "                                        couplingListPrimEx,9,'cWW',1000)\n",
    "meshcWWPrimExBounds2=generateBeamDumpFiles(PrimExBounds2Upper,PrimExBounds2Lower,\\\n",
    "                                        couplingListPrimEx,9,'cWW',1000)\n",
    "\n",
    "meshcffPrimExBounds1=generateBeamDumpFiles(PrimExBounds1Upper,PrimExBounds1Lower,\\\n",
    "                                        couplingListPrimEx,9,'cff',1000)\n",
    "meshcffPrimExBounds2=generateBeamDumpFiles(PrimExBounds2Upper,PrimExBounds2Lower,\\\n",
    "                                        couplingListPrimEx,9,'cff',1000)"
   ]
  },
  {
   "cell_type": "code",
   "execution_count": 98,
   "id": "0d2f420a",
   "metadata": {},
   "outputs": [],
   "source": [
    "with open(\"output/m-tau-c-PrimEx-cWW_combined-1.dat\", \"w\", newline=\"\") as f:\n",
    "    writer = csv.writer(f,delimiter=\",\", quoting = csv.QUOTE_NONE,escapechar=' ')\n",
    "    writer.writerows(meshcWWPrimExBounds1)\n",
    "    \n",
    "with open(\"output/m-tau-c-PrimEx-cWW_combined-2.dat\", \"w\", newline=\"\") as f:\n",
    "    writer = csv.writer(f,delimiter=\",\", quoting = csv.QUOTE_NONE,escapechar=' ')\n",
    "    writer.writerows(meshcWWPrimExBounds2)\n",
    "    \n",
    "with open(\"output/m-tau-c-PrimEx-cff_combined-1.dat\", \"w\", newline=\"\") as f:\n",
    "    writer = csv.writer(f,delimiter=\",\", quoting = csv.QUOTE_NONE,escapechar=' ')\n",
    "    writer.writerows(meshcffPrimExBounds1)\n",
    "    \n",
    "with open(\"output/m-tau-c-PrimEx-cff_combined-2.dat\", \"w\", newline=\"\") as f:\n",
    "    writer = csv.writer(f,delimiter=\",\", quoting = csv.QUOTE_NONE,escapechar=' ')\n",
    "    writer.writerows(meshcffPrimExBounds2)"
   ]
  },
  {
   "cell_type": "markdown",
   "id": "744086e3",
   "metadata": {},
   "source": [
    "## Generate [ma, tau, c, BR(theory)] files for Na62 and KOTO (KOTO gives incorrect results)"
   ]
  },
  {
   "cell_type": "code",
   "execution_count": 99,
   "id": "relative-angel",
   "metadata": {},
   "outputs": [],
   "source": [
    "Na62Bounds=genfromtxt('../Experimental_files/Na62-BR_m_tau_2103.15389-h.csv', delimiter=',')"
   ]
  },
  {
   "cell_type": "code",
   "execution_count": 100,
   "id": "aa24ed97",
   "metadata": {},
   "outputs": [],
   "source": [
    "BaBargammagammaBoundsRaw=[genfromtxt('../Experimental_files/BaBr_gamma-gamma_ctau0mm.dat', delimiter='\\t'),\\\n",
    "                      genfromtxt('../Experimental_files/BaBr_gamma-gamma_ctau1mm.dat', delimiter='\\t'),\\\n",
    "                      genfromtxt('../Experimental_files/BaBr_gamma-gamma_ctau10mm.dat', delimiter='\\t'),\\\n",
    "                      genfromtxt('../Experimental_files/BaBr_gamma-gamma_ctau100mm.dat', delimiter='\\t')]"
   ]
  },
  {
   "cell_type": "code",
   "execution_count": 101,
   "id": "5babb655",
   "metadata": {},
   "outputs": [],
   "source": [
    "KOTOBounds=genfromtxt('../Experimental_files/KOTO.txt', delimiter='\\t')"
   ]
  },
  {
   "cell_type": "code",
   "execution_count": 102,
   "id": "revised-snake",
   "metadata": {
    "scrolled": true
   },
   "outputs": [],
   "source": [
    "BaBargammagammaBounds=[masslistBaBArgammagamma]\n",
    "for bound in BaBargammagammaBoundsRaw: \n",
    "    BaBargammagammaBounds.append(np.interp(masslistBaBArgammagamma,\\\n",
    "                                           bound[:,0], bound[:,1]))\n",
    "BaBargammagammaBounds=np.array(BaBargammagammaBounds).T"
   ]
  },
  {
   "cell_type": "code",
   "execution_count": 103,
   "id": "538e52ad",
   "metadata": {},
   "outputs": [
    {
     "data": {
      "text/plain": [
       "(40, 5)"
      ]
     },
     "execution_count": 103,
     "metadata": {},
     "output_type": "execute_result"
    }
   ],
   "source": [
    "BaBargammagammaBounds.shape"
   ]
  },
  {
   "cell_type": "code",
   "execution_count": 104,
   "id": "c82e7059",
   "metadata": {},
   "outputs": [
    {
     "data": {
      "text/plain": [
       "(66, 8)"
      ]
     },
     "execution_count": 104,
     "metadata": {},
     "output_type": "execute_result"
    }
   ],
   "source": [
    "Na62Bounds.shape"
   ]
  },
  {
   "cell_type": "code",
   "execution_count": 105,
   "id": "lesser-greece",
   "metadata": {},
   "outputs": [
    {
     "data": {
      "text/plain": [
       "array([2.00460000e-06, 2.00460000e-06, 2.00460000e-06, 2.00460000e-06,\n",
       "       2.00460000e-06, 2.00460000e-06, 2.00460000e-06, 2.00460000e-06,\n",
       "       2.00460000e-06, 2.00460000e-06, 1.41581029e-06, 1.74594129e-06,\n",
       "       1.73866492e-06, 1.36555692e-06, 1.08172158e-06, 1.36387606e-06,\n",
       "       1.22668715e-06, 9.02840585e-07, 5.16122027e-07, 5.50359257e-07,\n",
       "       5.87546677e-07, 6.27938504e-07, 6.71810857e-07, 1.08456137e-06,\n",
       "       1.28595773e-06, 1.06656752e-06, 6.08273142e-07, 4.31143373e-07,\n",
       "       3.69014135e-07, 6.50665025e-07, 1.06994031e-06, 5.00472906e-07,\n",
       "       2.78868578e-07, 4.07119341e-07, 1.50171695e-07, 2.25444841e-07,\n",
       "       4.20462459e-07, 3.19753474e-07, 2.73476238e-07, 2.01210000e-07])"
      ]
     },
     "execution_count": 105,
     "metadata": {},
     "output_type": "execute_result"
    }
   ],
   "source": [
    "np.interp(masslistBaBArgammagamma, bound[:,0], bound[:,1])"
   ]
  },
  {
   "cell_type": "code",
   "execution_count": 106,
   "id": "163297c0",
   "metadata": {},
   "outputs": [
    {
     "data": {
      "text/plain": [
       "array([1.00000000e-07, 3.79269019e-07, 1.43844989e-06, 5.45559478e-06,\n",
       "       2.06913808e-05, 7.84759970e-05, 2.97635144e-04, 1.12883789e-03,\n",
       "       4.28133240e-03, 1.62377674e-02, 6.15848211e-02, 1.00000000e-01,\n",
       "       1.43844989e-01, 2.06913808e-01, 2.33572147e-01, 2.97635144e-01,\n",
       "       4.28133240e-01, 6.15848211e-01, 8.85866790e-01, 8.85866790e-01,\n",
       "       1.27427499e+00, 1.83298071e+00, 2.63665090e+00, 3.35981829e+00,\n",
       "       3.79269019e+00, 5.45559478e+00, 7.84759970e+00, 1.12883789e+01,\n",
       "       1.27427499e+01, 1.62377674e+01, 2.33572147e+01, 3.35981829e+01,\n",
       "       4.83293024e+01, 4.83293024e+01, 6.95192796e+01, 1.00000000e+02,\n",
       "       1.83298071e+02, 6.95192796e+02, 2.63665090e+03, 1.00000000e+04])"
      ]
     },
     "execution_count": 106,
     "metadata": {},
     "output_type": "execute_result"
    }
   ],
   "source": [
    "couplingListSmallCouplings"
   ]
  },
  {
   "cell_type": "code",
   "execution_count": 107,
   "id": "thermal-cornwall",
   "metadata": {},
   "outputs": [],
   "source": [
    "def generateNa62Files(mlist,clist,process,Lambda):\n",
    "    \n",
    "    with HiddenPrints():\n",
    "    \n",
    "        Na62List=[['# m [GeV], tau [ps], c, BR_theo(K+->pi+ a)\\n']]\n",
    "\n",
    "        for ma in mlist:\n",
    "            for c in clist:\n",
    "\n",
    "#                 if process in ['cff=cWW=cBB']:\n",
    "#                     #print(\"1\")\n",
    "#                     cQ=cL=cWW=cBB=cff=c\n",
    "#                     ce=cd=cu=-c\n",
    "#                     cGG=0\n",
    "\n",
    "                if process in ['cWW']:\n",
    "                    #print(\"2\")\n",
    "                    cQ=cL=cu=cd=ce=cGG=cBB=cff=0\n",
    "                    cWW=c\n",
    "\n",
    "\n",
    "                if process in ['cff']:\n",
    "                    #print(\"3\")\n",
    "                    cGG=cWW=cBB=0\n",
    "                    cQ=cL=cff=c\n",
    "                    ce=cd=cu=c\n",
    "\n",
    "#                 coefs=getLScoefficients(cff, cWW, cBB, Lambda, ma)\n",
    "\n",
    "                csd=getCsd(cff, cWW, cBB, Lambda, sm['mK+'])\n",
    "    \n",
    "#                 print(csd)\n",
    "\n",
    "                BR= BrKtoPiaplus(ma, csd, Lambda)\n",
    "                tau=ctaua(ma, cff, cWW, cBB, Lambda)/sm['c']*10**12\n",
    "\n",
    "                Na62List.append([ma,tau,c,BR])\n",
    "        return Na62List"
   ]
  },
  {
   "cell_type": "code",
   "execution_count": 108,
   "id": "4f88331c",
   "metadata": {},
   "outputs": [],
   "source": [
    "def generateBaBargammagammaFiles(mlist,clist,process,Lambda):\n",
    "    \n",
    "    with HiddenPrints():\n",
    "    \n",
    "        BaBargammagammaList=[['# m [GeV], tau [ps], c, BR_theo(B+->K+ a)*BR_theo(a-> gamma gamma)\\n']]\n",
    "\n",
    "        for ma in mlist:\n",
    "            for c in clist:\n",
    "\n",
    "#                 if process in ['cff=cWW=cBB']:\n",
    "#                     #print(\"1\")\n",
    "#                     cQ=cL=cWW=cBB=cff=c\n",
    "#                     ce=cd=cu=-c\n",
    "#                     cGG=0\n",
    "\n",
    "                if process in ['cWW']:\n",
    "                    #print(\"2\")\n",
    "                    cQ=cL=cu=cd=ce=cGG=cBB=cff=0\n",
    "                    cWW=c\n",
    "\n",
    "\n",
    "                if process in ['cff']:\n",
    "                    #print(\"3\")\n",
    "                    cGG=cWW=cBB=0\n",
    "                    cQ=cL=cff=c\n",
    "                    ce=cd=cu=c\n",
    "\n",
    "#                 coefs=getLScoefficients(cff, cWW, cBB, Lambda, ma)\n",
    "\n",
    "                cbs=getCbs(cff, cWW, cBB, Lambda, sm['mB+'])\n",
    "                coefs=getLScoefficients(cff, cWW, cBB, Lambda, ma)\n",
    "    \n",
    "#                 print(csd)\n",
    "\n",
    "\n",
    "#                 print([ma,5,cQ,cu,cd,cL,ce,cGG,cWW,cBB,Lambda])        \n",
    "#                 print(brALPtoOneFinalState(ma,5,cQ,cu,cd,cL,ce,cGG,cWW,cBB,Lambda,None)[0])\n",
    "                BR= BrBtoKaplus(ma, cbs, Lambda)\\\n",
    "                    *brALPtoOneFinalState(ma,5,cQ,cu,cd,cL,ce,cGG,cWW,cBB,Lambda,None)[0]\n",
    "                tau=ctaua(ma, cff, cWW, cBB, Lambda)/sm['c']*10**12\n",
    "\n",
    "                BaBargammagammaList.append([ma,tau,c,BR])\n",
    "        return BaBargammagammaList"
   ]
  },
  {
   "cell_type": "code",
   "execution_count": 109,
   "id": "b70de76e",
   "metadata": {},
   "outputs": [
    {
     "data": {
      "text/plain": [
       "[0.9654312982418405, 16.437061546653442]"
      ]
     },
     "execution_count": 109,
     "metadata": {},
     "output_type": "execute_result"
    }
   ],
   "source": [
    "brALPtoOneFinalState(0.3,5,0,0,0,0,0,0,1,0,4*np.pi*1000,None)"
   ]
  },
  {
   "cell_type": "code",
   "execution_count": 110,
   "id": "55c984bb",
   "metadata": {},
   "outputs": [
    {
     "data": {
      "text/plain": [
       "3335.6409519815206"
      ]
     },
     "execution_count": 110,
     "metadata": {},
     "output_type": "execute_result"
    }
   ],
   "source": [
    "100/sm['c']*10**12"
   ]
  },
  {
   "cell_type": "code",
   "execution_count": 111,
   "id": "a5ada895",
   "metadata": {},
   "outputs": [],
   "source": [
    "def generateKOTOFiles(mlist,clist,process,Lambda):\n",
    "    \n",
    "    with HiddenPrints():\n",
    "    \n",
    "        KOTOList=[['# m [GeV], tau [ps], c, BR_theo(KL->pi0 a)\\n']]\n",
    "\n",
    "        for ma in mlist:\n",
    "            for c in clist:\n",
    "\n",
    "#                 if process in ['cff=cWW=cBB']:\n",
    "#                     #print(\"1\")\n",
    "#                     cQ=cL=cWW=cBB=cff=c\n",
    "#                     ce=cd=cu=-c\n",
    "#                     cGG=0\n",
    "\n",
    "                if process in ['cWW']:\n",
    "                    #print(\"2\")\n",
    "                    cQ=cL=cu=cd=ce=cGG=cBB=cff=0\n",
    "                    cWW=c\n",
    "\n",
    "\n",
    "                if process in ['cff']:\n",
    "                    #print(\"3\")\n",
    "                    cGG=cWW=cBB=0\n",
    "                    cQ=cL=cff=c\n",
    "                    ce=cd=cu=c\n",
    "\n",
    "#                 coefs=getLScoefficients(cff, cWW, cBB, Lambda, ma)\n",
    "\n",
    "                csd=getCsd(cff, cWW, cBB, Lambda, sm['mK+'])\n",
    "    \n",
    "#                 print(csd)\n",
    "\n",
    "                BR= BrKtoPiaplus(ma, csd, Lambda)\n",
    "                tau=ctaua(ma, cff, cWW, cBB, Lambda)/sm['c']*10**12\n",
    "\n",
    "                KOTOList.append([ma,tau,c,BR])\n",
    "        return KOTOList"
   ]
  },
  {
   "cell_type": "code",
   "execution_count": 112,
   "id": "8d14d897",
   "metadata": {},
   "outputs": [],
   "source": [
    "meshcWW=generateNa62Files(Na62Bounds[:,0] * 10**-3,couplingListSmallCouplings,'cWW',4*np.pi*10**3)\n",
    "meshcff=generateNa62Files(Na62Bounds[:,0] * 10**-3,couplingListSmallCouplings,'cff',4*np.pi*10**3)"
   ]
  },
  {
   "cell_type": "code",
   "execution_count": 113,
   "id": "1e8d4898",
   "metadata": {},
   "outputs": [],
   "source": [
    "meshcWWBaBar=generateBaBargammagammaFiles(BaBargammagammaBounds[:,0],\\\n",
    "                                          couplingListSmallCouplings,'cWW',4*np.pi*10**3)\n",
    "meshcffBaBar=generateBaBargammagammaFiles(BaBargammagammaBounds[:,0],\\\n",
    "                                          couplingListSmallCouplings,'cff',4*np.pi*10**3)"
   ]
  },
  {
   "cell_type": "code",
   "execution_count": 114,
   "id": "d50defca",
   "metadata": {},
   "outputs": [],
   "source": [
    "# meshcWWKOTO=generateKOTOFiles(KOTOBounds[:,0] * 10**-3,couplingListSmallCouplings,'cWW',4*np.pi*10**3)\n",
    "# meshcffKOTO=generateKOTOFiles(KOTOBounds[:,0] * 10**-3,couplingListSmallCouplings,'cff',4*np.pi*10**3)"
   ]
  },
  {
   "cell_type": "code",
   "execution_count": 115,
   "id": "27c21ea4",
   "metadata": {},
   "outputs": [],
   "source": [
    "with open(\"output/m-tau-c-BRBtoKgammagamma-cWW.dat\", \"w\", newline=\"\") as f:\n",
    "    writer = csv.writer(f,delimiter=\",\", quoting = csv.QUOTE_NONE,escapechar=' ')\n",
    "    writer.writerows(meshcWWBaBar)\n",
    "    \n",
    "with open(\"output/m-tau-c-BRBtoKgammagamma-cff.dat\", \"w\", newline=\"\") as f:\n",
    "    writer = csv.writer(f,delimiter=\",\", quoting = csv.QUOTE_NONE,escapechar=' ')\n",
    "    writer.writerows(meshcffBaBar)"
   ]
  },
  {
   "cell_type": "code",
   "execution_count": 116,
   "id": "expected-palestinian",
   "metadata": {},
   "outputs": [],
   "source": [
    "# with open(\"output/m-tau-c-BRBtoKmumu-cffcWWcBB.dat\", \"w\", newline=\"\") as f:\n",
    "#     writer = csv.writer(f,delimiter=\",\", quoting = csv.QUOTE_NONE,escapechar=' ')\n",
    "#     writer.writerows(meshcffcWWcBB)\n",
    "    \n",
    "with open(\"output/m-tau-c-BRKtoPia-cWW.dat\", \"w\", newline=\"\") as f:\n",
    "    writer = csv.writer(f,delimiter=\",\", quoting = csv.QUOTE_NONE,escapechar=' ')\n",
    "    writer.writerows(meshcWW)\n",
    "    \n",
    "with open(\"output/m-tau-c-BRKtoPia-cff.dat\", \"w\", newline=\"\") as f:\n",
    "    writer = csv.writer(f,delimiter=\",\", quoting = csv.QUOTE_NONE,escapechar=' ')\n",
    "    writer.writerows(meshcff)"
   ]
  },
  {
   "cell_type": "code",
   "execution_count": 117,
   "id": "9999f1ba",
   "metadata": {},
   "outputs": [],
   "source": [
    "# with open(\"output/m-tau-c-BRKLtoPi0a-cWW.dat\", \"w\", newline=\"\") as f:\n",
    "#     writer = csv.writer(f,delimiter=\",\", quoting = csv.QUOTE_NONE,escapechar=' ')\n",
    "#     writer.writerows(meshcWWKOTO)\n",
    "    \n",
    "# with open(\"output/m-tau-c-BRKLtoPi0a-cff.dat\", \"w\", newline=\"\") as f:\n",
    "#     writer = csv.writer(f,delimiter=\",\", quoting = csv.QUOTE_NONE,escapechar=' ')\n",
    "#     writer.writerows(meshcffKOTO)"
   ]
  },
  {
   "cell_type": "markdown",
   "id": "collected-civilian",
   "metadata": {},
   "source": [
    "### interpolating Na62 files in lifetime and comparing to theo files"
   ]
  },
  {
   "cell_type": "code",
   "execution_count": 118,
   "id": "indoor-complexity",
   "metadata": {},
   "outputs": [],
   "source": [
    "tauListNa62 = 10**12*np.array([np.Inf, 5*10**-9, 2*10**-9, 1*10**-9, 500*10**(-12), 200*10**(-12),\\\n",
    "                      100*10**(-12),]) # [tau] = ps\n",
    "tauListBaBargammagamma = 10**12/(3*10**11)*np.array([0,1,10,100]) # [tau] = ps"
   ]
  },
  {
   "cell_type": "code",
   "execution_count": 119,
   "id": "238dd951",
   "metadata": {},
   "outputs": [
    {
     "data": {
      "text/plain": [
       "array([  inf, 5000., 2000., 1000.,  500.,  200.,  100.])"
      ]
     },
     "execution_count": 119,
     "metadata": {},
     "output_type": "execute_result"
    }
   ],
   "source": [
    "tauListNa62"
   ]
  },
  {
   "cell_type": "code",
   "execution_count": 120,
   "id": "2372ffd0",
   "metadata": {},
   "outputs": [
    {
     "data": {
      "text/plain": [
       "array([  0.        ,   3.33333333,  33.33333333, 333.33333333])"
      ]
     },
     "execution_count": 120,
     "metadata": {},
     "output_type": "execute_result"
    }
   ],
   "source": [
    "tauListBaBargammagamma"
   ]
  },
  {
   "cell_type": "code",
   "execution_count": 121,
   "id": "placed-dallas",
   "metadata": {
    "scrolled": true
   },
   "outputs": [],
   "source": [
    "def compareTheoExpNA62(coupling):\n",
    "    theoList = genfromtxt('output/m-tau-c-BRKtoPia-{}.dat'.format(coupling), delimiter=',')\n",
    "#     print(theoList[0])\n",
    "    \n",
    "    allowedlist=[['# m [GeV], tau [ps], c, BR_theo(K+->pi+ a), BR_Na62(K+->pi+ a), Allowed/excluded (1/0)\\n']]\n",
    "    for i in range(0,theoList.shape[0]):\n",
    "        #picking mass and tau from theo file\n",
    "        ma = theoList[i,0]\n",
    "        taua = theoList[i,1]\n",
    "        \n",
    "        # finding the same mass in exp file\n",
    "        expPosition=np.where((Na62Bounds[:,0]/1000 >= ma*(1-0.0001))&(Na62Bounds[:,0]/1000 <= ma*(1+0.0001)))\n",
    "    \n",
    "        #interpolating BRexp so we get it for tau from out theo file\n",
    "        BRexp=np.interp(taua,tauListNa62,Na62Bounds[expPosition,1:][0,0])\n",
    "\n",
    "        # comparing theo and exp bounds (1 = allowed, 0 = excluded)\n",
    "        if BRexp<=theoList[i,3]:\n",
    "            allowedlist.append([theoList[i,0],theoList[i,1],theoList[i,2],theoList[i,3],BRexp,0])\n",
    "        else:\n",
    "            allowedlist.append([theoList[i,0],theoList[i,1],theoList[i,2],theoList[i,3],BRexp,1])\n",
    "\n",
    "        # writing results into a file\n",
    "        with open(\"output/m-tau-c-BRKLtoPi0a-{}_combined.dat\".format(coupling), \"w\", newline=\"\") as f:\n",
    "            writer = csv.writer(f,delimiter=\",\", quoting = csv.QUOTE_NONE,escapechar=' ')\n",
    "            writer.writerows(allowedlist)\n",
    "        "
   ]
  },
  {
   "cell_type": "code",
   "execution_count": 122,
   "id": "9b2fb837",
   "metadata": {},
   "outputs": [],
   "source": [
    "compareTheoExpNA62(\"cWW\")\n",
    "compareTheoExpNA62(\"cff\")"
   ]
  },
  {
   "cell_type": "code",
   "execution_count": 123,
   "id": "30d77b43",
   "metadata": {},
   "outputs": [],
   "source": [
    "def compareTheoExpBaBargammagamma(coupling):\n",
    "    theoList = genfromtxt('output/m-tau-c-BRBtoKgammagamma-{}.dat'.format(coupling), delimiter=',')\n",
    "#     print(theoList[0])\n",
    "    \n",
    "    allowedlist=[['# m [GeV], tau [ps], c, BR_theo(B+->K+ a)*BR_theo(a-> gamma gamma),\\\n",
    "    BR_BaBar(B+->K+ a)*BR_BaBar(a-> gamma gamma), Allowed/excluded (1/0)\\n']]\n",
    "    for i in range(0,theoList.shape[0]):\n",
    "        #picking mass and tau from theo file\n",
    "        ma = theoList[i,0]\n",
    "        taua = theoList[i,1]\n",
    "        \n",
    "#         print(ma)\n",
    "#         print(taua)\n",
    "#         print(BaBargammagammaBounds[:,0])\n",
    "        \n",
    "        # finding the same mass in exp file\n",
    "        expPosition=np.where((BaBargammagammaBounds[:,0] >= ma*(1-0.0001))\\\n",
    "                             &(BaBargammagammaBounds[:,0] <= ma*(1+0.0001)))\n",
    "        \n",
    "#         print(expPosition)\n",
    "        #interpolating BaBar's BRexp in tau and mass\n",
    "        BRexp=np.interp(taua,tauListBaBargammagamma,BaBargammagammaBounds[expPosition,1:][0,0])\n",
    "\n",
    "        # comparing theo and exp bounds (1 = allowed, 0 = excluded)\n",
    "        if BRexp<=theoList[i,3]:\n",
    "            allowedlist.append([theoList[i,0],theoList[i,1],theoList[i,2],theoList[i,3],BRexp,0])\n",
    "        else:\n",
    "            allowedlist.append([theoList[i,0],theoList[i,1],theoList[i,2],theoList[i,3],BRexp,1])\n",
    "\n",
    "        # writing results into a file\n",
    "        with open(\"output/m-tau-c-BRBtoKgammagamma-{}_combined.dat\".format(coupling), \"w\", newline=\"\") as f:\n",
    "            writer = csv.writer(f,delimiter=\",\", quoting = csv.QUOTE_NONE,escapechar=' ')\n",
    "            writer.writerows(allowedlist)\n",
    "        "
   ]
  },
  {
   "cell_type": "code",
   "execution_count": 124,
   "id": "def9d499",
   "metadata": {},
   "outputs": [],
   "source": [
    "compareTheoExpBaBargammagamma(\"cWW\")\n",
    "compareTheoExpBaBargammagamma(\"cff\")"
   ]
  },
  {
   "cell_type": "code",
   "execution_count": 125,
   "id": "9b2dbbe0",
   "metadata": {},
   "outputs": [],
   "source": [
    "def compareTheoExpKOTO(coupling):\n",
    "    theoList = genfromtxt('output/m-tau-c-BRKLtoPi0a-{}.dat'.format(coupling), delimiter=',')\n",
    "#     print(theoList[0])\n",
    "    \n",
    "    allowedlist=[['# m [GeV], tau [ps], c, BR_theo(KL->pi0 a), BR_KOTO(KL->pi0 a), Allowed/excluded (1/0)\\n']]\n",
    "    for i in range(0,theoList.shape[0]):\n",
    "        #picking mass and tau from theo file\n",
    "        ma = theoList[i,0]\n",
    "        taua = theoList[i,1]\n",
    "        \n",
    "        # finding the same mass in exp file\n",
    "        expPosition=np.where((KOTOBounds[:,0]/1000 >= ma*(1-0.0001))&(KOTOBounds[:,0]/1000 <= ma*(1+0.0001)))\n",
    "    \n",
    "        BRexp=KOTOBounds[expPosition,1]\n",
    "#         print(BRexp[0,0])\n",
    "\n",
    "        # comparing theo and exp bounds (1 = allowed, 0 = excluded)\n",
    "        if BRexp<=theoList[i,3]:\n",
    "            allowedlist.append([theoList[i,0],theoList[i,1],theoList[i,2],theoList[i,3],BRexp,0])\n",
    "        else:\n",
    "            allowedlist.append([theoList[i,0],theoList[i,1],theoList[i,2],theoList[i,3],BRexp,1])\n",
    "\n",
    "        # writing results into a file\n",
    "        with open(\"output/m-tau-c-BRKLtoPi0a-{}_combined.dat\".format(coupling), \"w\", newline=\"\") as f:\n",
    "            writer = csv.writer(f,delimiter=\",\", quoting = csv.QUOTE_NONE,escapechar=' ')\n",
    "            writer.writerows(allowedlist)"
   ]
  },
  {
   "cell_type": "code",
   "execution_count": 126,
   "id": "2fcfe496",
   "metadata": {},
   "outputs": [
    {
     "data": {
      "text/plain": [
       "2.2828e-09"
      ]
     },
     "execution_count": 126,
     "metadata": {},
     "output_type": "execute_result"
    }
   ],
   "source": [
    "KOTOBounds[2,1]"
   ]
  },
  {
   "cell_type": "code",
   "execution_count": 127,
   "id": "d4570c70",
   "metadata": {},
   "outputs": [],
   "source": [
    "compareTheoExpKOTO(\"cWW\")\n",
    "compareTheoExpKOTO(\"cff\")"
   ]
  },
  {
   "cell_type": "markdown",
   "id": "talented-component",
   "metadata": {},
   "source": [
    "### importing bounds "
   ]
  },
  {
   "cell_type": "code",
   "execution_count": 128,
   "id": "assured-lottery",
   "metadata": {},
   "outputs": [],
   "source": [
    "Na62BoundscWW = genfromtxt('output/m-tau-c-BRKtoPia-cWW_combined.dat', delimiter=',')\n",
    "Na62Boundscff = genfromtxt('output/m-tau-c-BRKtoPia-cff_combined.dat', delimiter=',')"
   ]
  },
  {
   "cell_type": "code",
   "execution_count": 129,
   "id": "0f5dabc7",
   "metadata": {},
   "outputs": [],
   "source": [
    "#from 2111.01800\n",
    "BaBargammagammaBoundscWW = genfromtxt('output/m-tau-c-BRBtoKgammagamma-cWW_combined.dat', delimiter=',')\n",
    "BaBargammagammaBoundscff = genfromtxt('output/m-tau-c-BRBtoKgammagamma-cff_combined.dat', delimiter=',')"
   ]
  },
  {
   "cell_type": "code",
   "execution_count": 130,
   "id": "a396ebf5",
   "metadata": {},
   "outputs": [],
   "source": [
    "KOTOBoundscWW = genfromtxt('output/m-tau-c-BRKLtoPi0a-cWW_combined.dat', delimiter=',')\n",
    "KOTOBoundscff = genfromtxt('output/m-tau-c-BRKLtoPi0a-cff_combined.dat', delimiter=',')"
   ]
  },
  {
   "cell_type": "code",
   "execution_count": 131,
   "id": "18bcfeb1",
   "metadata": {},
   "outputs": [],
   "source": [
    "NuCalCHARMBoundscWW = genfromtxt('output/m-tau-c-NuCal-CHARM-cWW_combined.dat', delimiter=',')\n",
    "NuCalCHARMBoundscff = genfromtxt('output/m-tau-c-NuCal-CHARM-cff_combined.dat', delimiter=',')"
   ]
  },
  {
   "cell_type": "code",
   "execution_count": 132,
   "id": "82624ed9",
   "metadata": {},
   "outputs": [
    {
     "data": {
      "text/plain": [
       "array([[0.00000000e+00, 0.00000000e+00, 1.00000000e-07, 4.99267819e-24,\n",
       "                   nan, 1.00000000e+00],\n",
       "       [0.00000000e+00, 0.00000000e+00, 3.79269019e-07, 7.18171738e-23,\n",
       "                   nan, 1.00000000e+00],\n",
       "       [0.00000000e+00, 0.00000000e+00, 1.43844989e-06, 1.03305406e-21,\n",
       "                   nan, 1.00000000e+00],\n",
       "       ...,\n",
       "       [2.60040000e-01, 1.73188631e-03, 6.95192796e+02, 1.17080588e+00,\n",
       "                   nan, 0.00000000e+00],\n",
       "       [2.60040000e-01, 1.20354669e-04, 2.63665090e+03, 1.68359685e+01,\n",
       "                   nan, 0.00000000e+00],\n",
       "       [2.60040000e-01, 8.36787029e-06, 1.00000000e+04, 2.42546344e+02,\n",
       "                   nan, 0.00000000e+00]])"
      ]
     },
     "execution_count": 132,
     "metadata": {},
     "output_type": "execute_result"
    }
   ],
   "source": [
    "KOTOBoundscWW"
   ]
  },
  {
   "cell_type": "code",
   "execution_count": 133,
   "id": "2ea51966",
   "metadata": {},
   "outputs": [
    {
     "data": {
      "text/plain": [
       "array([[0.00000000e+00, 0.00000000e+00, 1.00000000e-07, 4.90657238e-19,\n",
       "        2.02000000e-10, 1.00000000e+00],\n",
       "       [0.00000000e+00, 0.00000000e+00, 3.79269019e-07, 7.05785850e-18,\n",
       "        2.02000000e-10, 1.00000000e+00],\n",
       "       [0.00000000e+00, 0.00000000e+00, 1.43844989e-06, 1.01523758e-16,\n",
       "        2.02000000e-10, 1.00000000e+00],\n",
       "       ...,\n",
       "       [2.60000000e-01, 4.28908073e-09, 6.95192796e+02, 1.15485186e+05,\n",
       "        1.24000000e-10, 0.00000000e+00],\n",
       "       [2.60000000e-01, 2.98173802e-10, 2.63665090e+03, 1.66119652e+06,\n",
       "        1.24000000e-10, 0.00000000e+00],\n",
       "       [2.60000000e-01, 2.07288280e-11, 1.00000000e+04, 2.38954795e+07,\n",
       "        1.24000000e-10, 0.00000000e+00]])"
      ]
     },
     "execution_count": 133,
     "metadata": {},
     "output_type": "execute_result"
    }
   ],
   "source": [
    "Na62Boundscff"
   ]
  },
  {
   "cell_type": "markdown",
   "id": "social-relevance",
   "metadata": {},
   "source": [
    "# plots"
   ]
  },
  {
   "cell_type": "code",
   "execution_count": 134,
   "id": "surprising-community",
   "metadata": {},
   "outputs": [],
   "source": [
    "def plotBounds(boundsArray, particleCode, upper=False):\n",
    "    if upper:\n",
    "        return np.vstack([np.array(masslist),boundsArray[:,particleCode,1]]).T\n",
    "    else:\n",
    "        return np.vstack([np.array(masslist),boundsArray[:,particleCode,0]]).T"
   ]
  },
  {
   "cell_type": "code",
   "execution_count": 135,
   "id": "thrown-mount",
   "metadata": {},
   "outputs": [],
   "source": [
    "def stackBounds(xarray,arrSmattToLarge,arrLargeToSmall):\n",
    "    combinedx=np.append(xarray,np.flip(xarray))\n",
    "    combinedy=np.append(arrSmattToLarge,np.flip(arrLargeToSmall))\n",
    "    \n",
    "    return np.vstack([combinedx,combinedy]).T"
   ]
  },
  {
   "cell_type": "code",
   "execution_count": 136,
   "id": "linear-advisory",
   "metadata": {},
   "outputs": [],
   "source": [
    "def plotGen(inputarray,lineScatterFillORPolygon,color,linewidthORmarkersize,*args,**kwargs):\n",
    "    \n",
    "    data=inputarray[~np.isnan(inputarray[:,1])]\n",
    "    \n",
    "    if not args:\n",
    "        alphaPoly=0.3\n",
    "    else:\n",
    "        alphaPoly=args[0]\n",
    "    \n",
    "    if (lineScatterFillORPolygon==\"polygon\"):\n",
    "        ax.fill(data[:,0],data[:,1], color=color, alpha=1,**kwargs)\n",
    "    if (lineScatterFillORPolygon==\"oppacpolygon\"):\n",
    "        ax.fill(data[:,0],data[:,1], facecolor=color,alpha=alphaPoly,\\\n",
    "                edgecolor=color,linewidth=linewidthORmarkersize,**kwargs)\n",
    "    if (lineScatterFillORPolygon==\"nonfilledpolygon\"):\n",
    "        ax.fill(data[:,0],data[:,1], facecolor=\"none\", edgecolor=color,\\\n",
    "                linewidth=linewidthORmarkersize, linestyle='-',**kwargs)\n",
    "        \n",
    "def plotAllowed(inputfile,x,y,z,zfixed):\n",
    "    inputparams = np.array(genfromtxt(inputfile,  comments=\"#\", delimiter=','))\n",
    "    \n",
    "    #choosing only rows with z=zfixed\n",
    "    zfixedonly=inputparams[:,z]==zfixed\n",
    "    params=inputparams[zfixedonly]\n",
    "\n",
    "    allowed=params[:,5]==1\n",
    "\n",
    "    plt.scatter(params[allowed,x], params[allowed,y], c='green')\n",
    "    plt.scatter(params[~allowed,x], params[~allowed,y], c='red')\n",
    "    \n",
    "def plotAllAllowed(inputfile,x,y):\n",
    "    params = np.array(genfromtxt(inputfile,  comments=\"#\", delimiter=','))\n",
    "    \n",
    "    allowed=params[:,-1]==1\n",
    "    \n",
    "    \n",
    "    plt.scatter(params[allowed,x], params[allowed,y], c='green')\n",
    "    plt.scatter(params[~allowed,x], params[~allowed,y], c='red')\n",
    "    \n",
    "\n",
    "#m,y,tau are the columns with mass, y variable and lifetime (in ps)\n",
    "#Min/Max values implement search regions of an experiment (in GeV and ps)\n",
    "    \n",
    "def plotAllowedWCuts(inputfile,m,y,tau,mMin,mMax,tauMin,tauMax):\n",
    "    inputparams = np.array(genfromtxt(inputfile,  comments=\"#\", delimiter=','))\n",
    "    \n",
    "    # excluding tau and m not covered by the search\n",
    "    searched=(inputparams[:,m]>mMin) & (inputparams[:,m]<mMax) & \\\n",
    "              (inputparams[:,tau]>tauMin) & (inputparams[:,1]<tauMax)\n",
    "    params=inputparams[searched]\n",
    "    \n",
    "    allowed=params[:,-1]==1\n",
    "    \n",
    "    \n",
    "    plt.scatter(params[allowed,m], params[allowed,y], c='green')\n",
    "    plt.scatter(params[~allowed,m], params[~allowed,y], c='red')\n",
    "    plt.scatter(inputparams[~searched,m], inputparams[~searched,y], c='grey')\n",
    "    \n",
    "# function that plots cut-out regions from 2103.15389\n",
    "\n",
    "def whiteregions(m):\n",
    "    return np.heaviside(m - 0.110,0)*np.heaviside(-m + 0.154,0)\n",
    "\n",
    "def plotWhiteRegions(yupper):\n",
    "    m=np.linspace(0.05,0.3,num=10000);\n",
    "    plt.fill_between(m,(whiteregions(m))*yupper,0,color=\"black\",zorder=4)"
   ]
  },
  {
   "cell_type": "code",
   "execution_count": 137,
   "id": "5f6bfc99",
   "metadata": {},
   "outputs": [],
   "source": [
    "# function that plots cut-out regions from 1612.07818 and Na62\n",
    "\n",
    "def cutoutRegionsLHCb(m):\n",
    "    return np.heaviside(m - 0.25,0)*np.heaviside(-m + 0.4,0) + np.heaviside(m - 0.5,0)*np.heaviside(-m + 2.9,0)\\\n",
    "    + np.heaviside(m - 3.2,0)*np.heaviside(-m + 3.6,0) + np.heaviside(m - 3.9,0)*np.heaviside(-m + 4.7,0)\n",
    "#     return np.heaviside(m - 3.9,0)*np.heaviside(-m + 4.7,0)\n",
    "\n",
    "def cutoutRegionsNa62(m):\n",
    "    return 1-np.heaviside(m - 0.110,0)*np.heaviside(-m + 0.154,0)\n",
    "\n",
    "#from 2111.01800\n",
    "def cutoutRegionsBaBargammagamma(m):\n",
    "    return 1-(np.heaviside(m - 0.1,0)*np.heaviside(-m + 0.175,0)\\\n",
    "              +np.heaviside(m - 0.45,0)*np.heaviside(-m + 0.63,0)\\\n",
    "             +np.heaviside(m - 0.91,0)*np.heaviside(-m + 1.01,0))\n",
    "\n",
    "def plotCutOutRegions(cutoutRegionsFunc,xmin,xmax,ylower,yupper,order,**kwargs):\n",
    "    m=np.linspace(xmin,xmax,num=10000);\n",
    "    plt.fill_between(m,np.maximum((1-cutoutRegionsFunc(m))*yupper,ylower),ylower,\\\n",
    "                     zorder=order,linewidth=0,**kwargs)"
   ]
  },
  {
   "cell_type": "markdown",
   "id": "c9b3f579",
   "metadata": {},
   "source": [
    "## NA62"
   ]
  },
  {
   "cell_type": "code",
   "execution_count": 148,
   "id": "a55101df",
   "metadata": {
    "scrolled": false
   },
   "outputs": [
    {
     "data": {
      "image/png": "[encoded data removed]",
      "text/plain": [
       "<Figure size 648x504 with 1 Axes>"
      ]
     },
     "metadata": {
      "needs_background": "light"
     },
     "output_type": "display_data"
    }
   ],
   "source": [
    "plt.figure(figsize=(9, 7))\n",
    "\n",
    "\n",
    "# plotAllAllowed(\"output/m-tau-c-BRKtoPia-cff_combined.dat\",0,2)\n",
    "plotAllowedWCuts(\"output/m-tau-c-BRKtoPia-cff_combined.dat\",0,2,1,mMin=0,mMax=260*10**-3,\\\n",
    "                 tauMin=100,tauMax=np.infty)\n",
    "\n",
    "# plotCutOutRegions(cutoutRegionsNa62,0.05,0.2,10**-7,10**5,3,color=\"black\")\n",
    "\n",
    "plt.title('Na62')\n",
    "plt.xlabel('$m_a$ [GeV]')\n",
    "#plt.xlim(0.2,0.2)\n",
    "plt.ylabel('$c_{ff}/f_a=1 TeV$')\n",
    "plt.xscale(\"log\")\n",
    "plt.yscale(\"log\")\n",
    "\n",
    "# plt.xlim(9*10**-3, 4)\n",
    "plt.ylim(10**-7, 10**4)\n",
    "\n",
    "plt.savefig('plots/Na62_cff_bound_new_form.png', dpi=300, bbox_inches='tight')"
   ]
  },
  {
   "cell_type": "code",
   "execution_count": 173,
   "id": "cbf8d8e3",
   "metadata": {},
   "outputs": [
    {
     "data": {
      "image/png": "[encoded data removed]",
      "text/plain": [
       "<Figure size 648x504 with 1 Axes>"
      ]
     },
     "metadata": {
      "needs_background": "light"
     },
     "output_type": "display_data"
    }
   ],
   "source": [
    "plt.figure(figsize=(9, 7))\n",
    "\n",
    "\n",
    "# plotAllAllowed(\"output/m-tau-c-BRKtoPia-cWW_combined.dat\",0,2)\n",
    "# plotAllowedWCuts(\"output/m-tau-c-BRKtoPia-cWW_combined.dat\",0,2,1,mMin=0,mMax=260*10**-3,\\\n",
    "#                  tauMin=100,tauMax=np.infty)\n",
    "plotAllowedWCuts(\"output/m-tau-c-BRKtoPia-cWW_combined.dat\",0,2,1,mMin=0,mMax=260*10**-3,\\\n",
    "                 tauMin=100,tauMax=np.infty)\n",
    "\n",
    "# plotCutOutRegions(cutoutRegionsNa62,0.05,0.2,10**-7,10**5,3,color=\"black\")\n",
    "\n",
    "plt.title('Na62')\n",
    "plt.xlabel('$m_a$ [GeV]')\n",
    "#plt.xlim(0.2,0.2)\n",
    "plt.ylabel('$c_{WW}/f_a=1 TeV$')\n",
    "\n",
    "# plt.xlim(9*10**-3, 4)\n",
    "plt.ylim(10**-7, 10**4)\n",
    "\n",
    "plt.xscale(\"log\")\n",
    "plt.yscale(\"log\")\n",
    "\n",
    "plt.savefig('plots/Na62_cWW_bound_new_form.png', dpi=300, bbox_inches='tight')"
   ]
  },
  {
   "cell_type": "markdown",
   "id": "779cd555",
   "metadata": {},
   "source": [
    "## BaBar"
   ]
  },
  {
   "cell_type": "code",
   "execution_count": 150,
   "id": "be5bbf69",
   "metadata": {},
   "outputs": [
    {
     "data": {
      "image/png": "[encoded data removed]",
      "text/plain": [
       "<Figure size 648x504 with 1 Axes>"
      ]
     },
     "metadata": {
      "needs_background": "light"
     },
     "output_type": "display_data"
    }
   ],
   "source": [
    "plt.figure(figsize=(9, 7))\n",
    "\n",
    "\n",
    "# plotAllAllowed(\"output/m-tau-c-BRBtoKgammagamma-cff_combined.dat\",0,2)\n",
    "plotAllowedWCuts(\"output/m-tau-c-BRBtoKgammagamma-cff_combined.dat\",0,2,1,mMin=0.175,mMax=4.78,\\\n",
    "                 tauMin=0,tauMax=100/sm['c']*10**12)\n",
    "\n",
    "# plotCutOutRegions(cutoutRegionsBaBargammagamma,0.1,3,10**-7,10**5,2,color=\"black\")\n",
    "\n",
    "plt.title('BaBar $\\gamma \\gamma$')\n",
    "plt.xlabel('$m_a$ [GeV]')\n",
    "#plt.xlim(0.2,0.2)\n",
    "plt.ylabel('$c_{ff}/f_a=1 TeV$')\n",
    "plt.xscale(\"log\")\n",
    "plt.yscale(\"log\")\n",
    "\n",
    "# plt.xlim(9*10**-3, 4)\n",
    "plt.ylim(10**-7, 10**4)\n",
    "\n",
    "plt.savefig('plots/BaBar-gammagamma_cff_bound_new_form.png', dpi=300, bbox_inches='tight')"
   ]
  },
  {
   "cell_type": "code",
   "execution_count": 151,
   "id": "4f89ba4c",
   "metadata": {
    "scrolled": false
   },
   "outputs": [
    {
     "data": {
      "image/png": "[encoded data removed]",
      "text/plain": [
       "<Figure size 648x504 with 1 Axes>"
      ]
     },
     "metadata": {
      "needs_background": "light"
     },
     "output_type": "display_data"
    }
   ],
   "source": [
    "plt.figure(figsize=(9, 7))\n",
    "\n",
    "\n",
    "# plotAllAllowed(\"output/m-tau-c-BRBtoKgammagamma-cWW_combined.dat\",0,2)\n",
    "plotAllowedWCuts(\"output/m-tau-c-BRBtoKgammagamma-cWW_combined.dat\",0,2,1,mMin=0.175,mMax=4.78,\\\n",
    "                 tauMin=0,tauMax=100/sm['c']*10**12)\n",
    "\n",
    "# plotCutOutRegions(cutoutRegionsBaBargammagamma,0.1,3,10**-7,10**5,2,color=\"black\")\n",
    "\n",
    "plt.title('BaBar $\\gamma \\gamma$')\n",
    "plt.xlabel('$m_a$ [GeV]')\n",
    "#plt.xlim(0.2,0.2)\n",
    "plt.ylabel('$c_{WW}/f_a=1 TeV$')\n",
    "plt.xscale(\"log\")\n",
    "plt.yscale(\"log\")\n",
    "\n",
    "# plt.xlim(9*10**-3, 4)\n",
    "plt.ylim(10**-7, 10**4)\n",
    "\n",
    "plt.savefig('plots/BaBar-gammagamma_cWW_bound_new_form.png', dpi=300, bbox_inches='tight')"
   ]
  },
  {
   "cell_type": "markdown",
   "id": "3a010201",
   "metadata": {},
   "source": [
    "## KOTO"
   ]
  },
  {
   "cell_type": "code",
   "execution_count": 56,
   "id": "71320f1e",
   "metadata": {},
   "outputs": [
    {
     "data": {
      "text/plain": [
       "(1e-07, 10000)"
      ]
     },
     "execution_count": 56,
     "metadata": {},
     "output_type": "execute_result"
    },
    {
     "data": {
      "image/png": "[encoded data removed]",
      "text/plain": [
       "<Figure size 648x504 with 1 Axes>"
      ]
     },
     "metadata": {
      "needs_background": "light"
     },
     "output_type": "display_data"
    }
   ],
   "source": [
    "plt.figure(figsize=(9, 7))\n",
    "\n",
    "\n",
    "plotAllAllowed(\"output/m-tau-c-BRKLtoPi0a-cff_combined.dat\",0,2)\n",
    "#plotWhiteRegions(10**(3))\n",
    "\n",
    "# plotWhiteRegions(10**5)\n",
    "\n",
    "plt.title('KOTO')\n",
    "plt.xlabel('$m_a$ [GeV]')\n",
    "#plt.xlim(0.2,0.2)\n",
    "plt.ylabel('$c_{ff}/f_a=1 TeV$')\n",
    "# plt.xscale(\"log\")\n",
    "plt.yscale(\"log\")\n",
    "\n",
    "# plt.xlim(9*10**-3, 4)\n",
    "plt.ylim(10**-7, 10**4)\n",
    "\n",
    "# plt.savefig('plots/KOTO_cff_bound_new_form.png', dpi=300, bbox_inches='tight')"
   ]
  },
  {
   "cell_type": "code",
   "execution_count": 73,
   "id": "c470e099",
   "metadata": {
    "scrolled": false
   },
   "outputs": [
    {
     "data": {
      "image/png": "[encoded data removed]",
      "text/plain": [
       "<Figure size 648x504 with 1 Axes>"
      ]
     },
     "metadata": {
      "needs_background": "light"
     },
     "output_type": "display_data"
    }
   ],
   "source": [
    "plt.figure(figsize=(9, 7))\n",
    "\n",
    "\n",
    "plotAllAllowed(\"output/m-tau-c-BRKLtoPi0a-cWW_combined.dat\",0,2)\n",
    "#plotWhiteRegions(10**(3))\n",
    "\n",
    "# plotWhiteRegions(10**5)\n",
    "\n",
    "plt.title('KOTO')\n",
    "plt.xlabel('$m_a$ [GeV]')\n",
    "#plt.xlim(0.2,0.2)\n",
    "plt.ylabel('$c_{WW}/f_a=1 TeV$')\n",
    "# plt.xscale(\"log\")\n",
    "plt.yscale(\"log\")\n",
    "\n",
    "# plt.xlim(9*10**-3, 4)\n",
    "plt.ylim(10**-7, 10**4)\n",
    "\n",
    "plt.savefig('plots/KOTO_cWW_bound_new_form.png', dpi=300, bbox_inches='tight')"
   ]
  },
  {
   "cell_type": "markdown",
   "id": "e256bf37",
   "metadata": {},
   "source": [
    "## NuCal + CHARM"
   ]
  },
  {
   "cell_type": "code",
   "execution_count": 142,
   "id": "bef95a0d",
   "metadata": {
    "scrolled": false
   },
   "outputs": [
    {
     "data": {
      "image/png": "[encoded data removed]",
      "text/plain": [
       "<Figure size 648x504 with 1 Axes>"
      ]
     },
     "metadata": {
      "needs_background": "light"
     },
     "output_type": "display_data"
    }
   ],
   "source": [
    "plt.figure(figsize=(9, 7))\n",
    "\n",
    "\n",
    "plotAllAllowed(\"output/m-tau-c-NuCal-CHARM-cWW_combined.dat\",0,2)\n",
    "#plotWhiteRegions(10**(3))\n",
    "\n",
    "# plotWhiteRegions(10**5)\n",
    "\n",
    "plt.title('NuCal + CHARM')\n",
    "plt.xlabel('$m_a$ [GeV]')\n",
    "#plt.xlim(0.2,0.2)\n",
    "plt.ylabel('$c_{WW}/f_a=1 TeV$')\n",
    "plt.xscale(\"log\")\n",
    "plt.yscale(\"log\")\n",
    "\n",
    "# plt.xlim(9*10**-3, 4)\n",
    "plt.ylim(10**-3, 10**2)\n",
    "\n",
    "plt.savefig('plots/NuCal-CHARM_cWW_bound.png', dpi=300, bbox_inches='tight')"
   ]
  },
  {
   "cell_type": "code",
   "execution_count": 143,
   "id": "ebdd94bc",
   "metadata": {},
   "outputs": [
    {
     "data": {
      "image/png": "[encoded data removed]",
      "text/plain": [
       "<Figure size 648x504 with 1 Axes>"
      ]
     },
     "metadata": {
      "needs_background": "light"
     },
     "output_type": "display_data"
    }
   ],
   "source": [
    "plt.figure(figsize=(9, 7))\n",
    "\n",
    "\n",
    "plotAllAllowed(\"output/m-tau-c-NuCal-CHARM-cff_combined.dat\",0,2)\n",
    "#plotWhiteRegions(10**(3))\n",
    "\n",
    "# plotWhiteRegions(10**5)\n",
    "\n",
    "plt.title('NuCal + CHARM')\n",
    "plt.xlabel('$m_a$ [GeV]')\n",
    "#plt.xlim(0.2,0.2)\n",
    "plt.ylabel('$c_{ff}/f_a=1 TeV$')\n",
    "plt.xscale(\"log\")\n",
    "plt.yscale(\"log\")\n",
    "\n",
    "# plt.xlim(9*10**-3, 4)\n",
    "plt.ylim(10**-3, 10**2)\n",
    "\n",
    "plt.savefig('plots/NuCal-CHARM_cff_bound.png', dpi=300, bbox_inches='tight')"
   ]
  },
  {
   "cell_type": "markdown",
   "id": "f4a163ec",
   "metadata": {},
   "source": [
    "## NuCal + CHARM + E137"
   ]
  },
  {
   "cell_type": "code",
   "execution_count": 144,
   "id": "cd07241f",
   "metadata": {
    "scrolled": false
   },
   "outputs": [
    {
     "data": {
      "image/png": "[encoded data removed]",
      "text/plain": [
       "<Figure size 648x504 with 1 Axes>"
      ]
     },
     "metadata": {
      "needs_background": "light"
     },
     "output_type": "display_data"
    }
   ],
   "source": [
    "plt.figure(figsize=(9, 7))\n",
    "\n",
    "\n",
    "plotAllAllowed(\"output/m-tau-c-NuCal-CHARM-E137-cWW_combined.dat\",0,2)\n",
    "#plotWhiteRegions(10**(3))\n",
    "\n",
    "# plotWhiteRegions(10**5)\n",
    "\n",
    "plt.title('NuCal + CHARM + E137')\n",
    "plt.xlabel('$m_a$ [GeV]')\n",
    "#plt.xlim(0.2,0.2)\n",
    "plt.ylabel('$c_{WW}/f_a=1 TeV$')\n",
    "plt.xscale(\"log\")\n",
    "plt.yscale(\"log\")\n",
    "\n",
    "# plt.xlim(9*10**-3, 4)\n",
    "plt.ylim(10**-3, 10**2)\n",
    "\n",
    "plt.savefig('plots/NuCal-CHARM-E137_cWW_bound.png', dpi=300, bbox_inches='tight')"
   ]
  },
  {
   "cell_type": "code",
   "execution_count": 145,
   "id": "a51957d3",
   "metadata": {
    "scrolled": false
   },
   "outputs": [
    {
     "data": {
      "image/png": "[encoded data removed]",
      "text/plain": [
       "<Figure size 648x504 with 1 Axes>"
      ]
     },
     "metadata": {
      "needs_background": "light"
     },
     "output_type": "display_data"
    }
   ],
   "source": [
    "plt.figure(figsize=(9, 7))\n",
    "\n",
    "\n",
    "plotAllAllowed(\"output/m-tau-c-NuCal-CHARM-E137-cff_combined.dat\",0,2)\n",
    "#plotWhiteRegions(10**(3))\n",
    "\n",
    "# plotWhiteRegions(10**5)\n",
    "\n",
    "plt.title('NuCal + CHARM + E137')\n",
    "plt.xlabel('$m_a$ [GeV]')\n",
    "#plt.xlim(0.2,0.2)\n",
    "plt.ylabel('$c_{ff}/f_a=1 TeV$')\n",
    "plt.xscale(\"log\")\n",
    "plt.yscale(\"log\")\n",
    "\n",
    "# plt.xlim(9*10**-3, 4)\n",
    "plt.ylim(10**-4, 10**2)\n",
    "\n",
    "plt.savefig('plots/NuCal-CHARM-E137_cff_bound.png', dpi=300, bbox_inches='tight')"
   ]
  },
  {
   "cell_type": "markdown",
   "id": "a365db71",
   "metadata": {},
   "source": [
    "## PrimEx"
   ]
  },
  {
   "cell_type": "code",
   "execution_count": 146,
   "id": "d7bada64",
   "metadata": {
    "scrolled": false
   },
   "outputs": [
    {
     "data": {
      "image/png": "[encoded data removed]",
      "text/plain": [
       "<Figure size 648x504 with 1 Axes>"
      ]
     },
     "metadata": {
      "needs_background": "light"
     },
     "output_type": "display_data"
    }
   ],
   "source": [
    "plt.figure(figsize=(9, 7))\n",
    "\n",
    "\n",
    "plotAllAllowed(\"output/m-tau-c-PrimEx-cWW_combined-1.dat\",0,2)\n",
    "plotAllAllowed(\"output/m-tau-c-PrimEx-cWW_combined-2.dat\",0,2)\n",
    "\n",
    "\n",
    "plt.title('PrimEx')\n",
    "plt.xlabel('$m_a$ [GeV]')\n",
    "#plt.xlim(0.2,0.2)\n",
    "plt.ylabel('$c_{WW}/f_a=1 TeV$')\n",
    "# plt.xscale(\"log\")\n",
    "plt.yscale(\"log\")\n",
    "\n",
    "# plt.xlim(9*10**-3, 4)\n",
    "# plt.ylim(10**-3, 10**2)\n",
    "\n",
    "plt.savefig('plots/PrimEx_cWW_bound.png', dpi=300, bbox_inches='tight')"
   ]
  },
  {
   "cell_type": "code",
   "execution_count": 147,
   "id": "4e05f321",
   "metadata": {
    "scrolled": false
   },
   "outputs": [
    {
     "data": {
      "image/png": "[encoded data removed]",
      "text/plain": [
       "<Figure size 648x504 with 1 Axes>"
      ]
     },
     "metadata": {
      "needs_background": "light"
     },
     "output_type": "display_data"
    }
   ],
   "source": [
    "plt.figure(figsize=(9, 7))\n",
    "\n",
    "\n",
    "plotAllAllowed(\"output/m-tau-c-PrimEx-cff_combined-1.dat\",0,2)\n",
    "plotAllAllowed(\"output/m-tau-c-PrimEx-cff_combined-2.dat\",0,2)\n",
    "\n",
    "\n",
    "plt.title('PrimEx')\n",
    "plt.xlabel('$m_a$ [GeV]')\n",
    "#plt.xlim(0.2,0.2)\n",
    "plt.ylabel('$c_{ff}/f_a=1 TeV$')\n",
    "# plt.xscale(\"log\")\n",
    "plt.yscale(\"log\")\n",
    "\n",
    "# plt.xlim(9*10**-3, 4)\n",
    "# plt.ylim(10**-3, 10**2)\n",
    "\n",
    "plt.savefig('plots/PrimEx_cff_bound.png', dpi=300, bbox_inches='tight')"
   ]
  },
  {
   "cell_type": "code",
   "execution_count": null,
   "id": "fdc903ee",
   "metadata": {},
   "outputs": [],
   "source": []
  }
 ],
 "metadata": {
  "kernelspec": {
   "display_name": "Python 3 (ipykernel)",
   "language": "python",
   "name": "python3"
  },
  "language_info": {
   "codemirror_mode": {
    "name": "ipython",
    "version": 3
   },
   "file_extension": ".py",
   "mimetype": "text/x-python",
   "name": "python",
   "nbconvert_exporter": "python",
   "pygments_lexer": "ipython3",
   "version": "3.9.7"
  }
 },
 "nbformat": 4,
 "nbformat_minor": 5
}
