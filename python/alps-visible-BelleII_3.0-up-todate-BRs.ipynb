{
 "cells": [
  {
   "cell_type": "markdown",
   "id": "through-captain",
   "metadata": {},
   "source": [
    "Units used: GeV for masses, s for time, cm for distances"
   ]
  },
  {
   "cell_type": "code",
   "execution_count": 17,
   "id": "political-fault",
   "metadata": {},
   "outputs": [
    {
     "name": "stdout",
     "output_type": "stream",
     "text": [
      "On branch main\n",
      "Your branch is up to date with 'origin/main'.\n",
      "\n",
      "nothing to commit, working tree clean\n"
     ]
    }
   ],
   "source": [
    "import os\n",
    "import glob\n",
    "import importlib\n",
    "\n",
    "import matplotlib as mlib\n",
    "import matplotlib.pyplot as plt\n",
    "\n",
    "# plt.rcParams[\"text.usetex\"] = True\n",
    "# plt.rcParams[\"text.latex.preamble\"] = r\"\\usepackage{slashed}\"\n",
    "\n",
    "import numpy as np\n",
    "from numpy import genfromtxt\n",
    "from numpy import loadtxt\n",
    "import re\n",
    "import csv\n",
    "import matplotlib.colors as mcolors\n",
    "import matplotlib.cm as cm\n",
    "import matplotlib.patches as mpatches\n",
    "import matplotlib.lines as mlines\n",
    "\n",
    "\n",
    "import sys\n",
    "sys.path.insert(1, '/home/stasya/prj/alps-running/TdAlps-Internal/')\n",
    "os.system('git -C /home/stasya/prj/alps-running/TdAlps-Internal/ fetch;\\\n",
    "git -C /home/stasya/prj/alps-running/TdAlps-Internal/ status')\n",
    "import TdAlps\n",
    "from collections import OrderedDict\n",
    "\n",
    "import scipy\n",
    "import scipy.integrate as integrate\n",
    "import scipy.optimize as optimize\n",
    "\n",
    "import csv"
   ]
  },
  {
   "cell_type": "code",
   "execution_count": 18,
   "id": "foreign-nancy",
   "metadata": {},
   "outputs": [],
   "source": [
    "#Plotting settings\n",
    "\n",
    "font = {\n",
    "        'weight' : 'normal',\n",
    "        'size'   : 16}\n",
    "\n",
    "mlib.rc('font', **font)"
   ]
  },
  {
   "cell_type": "code",
   "execution_count": 19,
   "id": "f93d597b",
   "metadata": {},
   "outputs": [],
   "source": [
    "def importNotebook(name):\n",
    "    \n",
    "    currentDir=os.getcwd()\n",
    "    notebookDir=os.path.dirname(name)\n",
    "    os.chdir(notebookDir)\n",
    "    os.system('git fetch; git status')\n",
    "    notebookName=os.path.basename(name).split('.')[0]\n",
    "    module = importlib.import_module(f\"ipynb.fs.full.{notebookName}\")\n",
    "    \n",
    "    os.chdir(currentDir)\n",
    "    \n",
    "    globals().update(vars(module))"
   ]
  },
  {
   "cell_type": "code",
   "execution_count": 20,
   "id": "87514a47",
   "metadata": {},
   "outputs": [
    {
     "name": "stdout",
     "output_type": "stream",
     "text": [
      "On branch main\n",
      "Your branch is up to date with 'origin/main'.\n",
      "\n",
      "Untracked files:\n",
      "  (use \"git add <file>...\" to include in what will be committed)\n",
      "\t.ipynb_checkpoints/\n",
      "\tALPs_BRs-check.ipynb\n",
      "\tALPs_wip-Nastya.ipynb\n",
      "\n",
      "nothing added to commit but untracked files present (use \"git add\" to track)\n"
     ]
    }
   ],
   "source": [
    "importNotebook(\"/home/stasya/prj/alps/Python/ALPs_base.ipynb\")"
   ]
  },
  {
   "cell_type": "code",
   "execution_count": 21,
   "id": "1106d81c",
   "metadata": {},
   "outputs": [
    {
     "name": "stdout",
     "output_type": "stream",
     "text": [
      "On branch main\n",
      "Your branch is up to date with 'origin/main'.\n",
      "\n",
      "Untracked files:\n",
      "  (use \"git add <file>...\" to include in what will be committed)\n",
      "\t.ipynb_checkpoints/\n",
      "\tALPs_BRs-check.ipynb\n",
      "\tALPs_wip-Nastya.ipynb\n",
      "\n",
      "nothing added to commit but untracked files present (use \"git add\" to track)\n"
     ]
    }
   ],
   "source": [
    "importNotebook(\"/home/stasya/prj/alps/Python/ALPs_BRs.ipynb\")"
   ]
  },
  {
   "cell_type": "markdown",
   "id": "sunset-raleigh",
   "metadata": {},
   "source": [
    "### mass-coupling grid"
   ]
  },
  {
   "cell_type": "code",
   "execution_count": 22,
   "id": "ordered-mattress",
   "metadata": {},
   "outputs": [],
   "source": [
    "#masslist= [0.05, 0.05, 0.1, 0.2, 0.3, 0.5, 1., 2., 4.]\n",
    "masslist=np.sort(np.append(np.logspace(-2, 0, 25),[0.09, 0.101, 0.43, 0.47,0.55,\\\n",
    "                                                   0.95, 1, 1.5, 2, 2.5, 3, 3.2, 3.5, 4,\\\n",
    "                                                   0.0935, 0.095, 0.63, 0.65]))\n",
    "masslistShort=np.logspace(-2,np.log(2.1), 40)\n",
    "particleCodes=[*range(0,7,1)]"
   ]
  },
  {
   "cell_type": "code",
   "execution_count": 23,
   "id": "adequate-exercise",
   "metadata": {},
   "outputs": [
    {
     "data": {
      "text/plain": [
       "array([0.01      , 0.01175726, 0.01382331, 0.01625243, 0.0191084 ,\n",
       "       0.02246624, 0.02641414, 0.03105579, 0.0365131 , 0.0429294 ,\n",
       "       0.0504732 , 0.05934265, 0.06977069, 0.08203121, 0.09644622,\n",
       "       0.11339432, 0.13332063, 0.15674852, 0.1842933 , 0.2166784 ,\n",
       "       0.25475441, 0.29952136, 0.35215502, 0.41403778, 0.48679494,\n",
       "       0.57233742, 0.67291193, 0.79115999, 0.93018729, 1.09364529,\n",
       "       1.28582709, 1.51178022, 1.77743916, 2.08978126, 2.45700995,\n",
       "       2.88877024, 3.396402  , 3.9932378 , 4.69495311, 5.51997797])"
      ]
     },
     "execution_count": 23,
     "metadata": {},
     "output_type": "execute_result"
    }
   ],
   "source": [
    "masslistShort"
   ]
  },
  {
   "cell_type": "code",
   "execution_count": 24,
   "id": "provincial-spiritual",
   "metadata": {},
   "outputs": [],
   "source": [
    "couplingList=np.sort(np.append(np.logspace(-6, 4, 20),np.logspace(-1, 2, 20)))\n",
    "couplingListShort=np.logspace(np.log(8*10**-4), np.log(1.7), 25)\n",
    "couplingListExtended=np.sort(np.append(np.logspace(-6, 7, 40),np.logspace(-1, 2, 20)))"
   ]
  },
  {
   "cell_type": "code",
   "execution_count": 25,
   "id": "encouraging-venue",
   "metadata": {},
   "outputs": [
    {
     "data": {
      "text/plain": [
       "array([7.39777588e-08, 1.54287757e-07, 3.21782010e-07, 6.71107442e-07,\n",
       "       1.39965935e-06, 2.91912468e-06, 6.08811630e-06, 1.26973542e-05,\n",
       "       2.64815579e-05, 5.52298451e-05, 1.15187173e-04, 2.40233968e-04,\n",
       "       5.01031130e-04, 1.04494879e-03, 2.17934156e-03, 4.54522719e-03,\n",
       "       9.47951003e-03, 1.97704332e-02, 4.12331468e-02, 8.59957079e-02,\n",
       "       1.79352350e-01, 3.74056638e-01, 7.80131225e-01, 1.62703897e+00,\n",
       "       3.39334683e+00])"
      ]
     },
     "execution_count": 25,
     "metadata": {},
     "output_type": "execute_result"
    }
   ],
   "source": [
    "couplingListShort"
   ]
  },
  {
   "cell_type": "code",
   "execution_count": 26,
   "id": "controlling-newman",
   "metadata": {},
   "outputs": [],
   "source": [
    "BelleIIparams={\n",
    "    'gammaBoostB': 1.03029,\n",
    "    'RCDC': 60, #cm\n",
    "    'thetaCDCMin': np.deg2rad(17),\n",
    "    'thetaCDCMax': np.deg2rad(150),\n",
    "    'dres': 0.9,\n",
    "    'NBBelleII': 5*10**10\n",
    "}"
   ]
  },
  {
   "cell_type": "code",
   "execution_count": 27,
   "id": "final-router",
   "metadata": {},
   "outputs": [],
   "source": [
    "def f(Lambda):\n",
    "    return Lambda/(4 * np.pi)"
   ]
  },
  {
   "cell_type": "code",
   "execution_count": 28,
   "id": "97d28e08",
   "metadata": {},
   "outputs": [],
   "source": [
    "constants={\n",
    "    'InvGeVtocm': 1/(5.06 * 10**(13))\n",
    "}"
   ]
  },
  {
   "cell_type": "code",
   "execution_count": 29,
   "id": "65da5598",
   "metadata": {},
   "outputs": [],
   "source": [
    "sm['tauB+'] = 1.638*10**(-12)\n",
    "sm['ctauB+']= 3 * 10**10 * 1.638*10**(-12)"
   ]
  },
  {
   "cell_type": "markdown",
   "id": "attached-overhead",
   "metadata": {},
   "source": [
    "## based on https://github.com/rrschaefer/alps (formulas taken from 2012.12272 and 1708.00443)"
   ]
  },
  {
   "cell_type": "markdown",
   "id": "recorded-static",
   "metadata": {},
   "source": [
    "### Alps running implemented in https://github.com/TdAlps"
   ]
  },
  {
   "cell_type": "markdown",
   "id": "heavy-delight",
   "metadata": {},
   "source": [
    "### ALP and B-> Ka decay rates"
   ]
  },
  {
   "cell_type": "code",
   "execution_count": 30,
   "id": "sweet-branch",
   "metadata": {},
   "outputs": [],
   "source": [
    "def BrBtoKaplus(ma, cbs, Lambda):\n",
    "    return (np.pi/4)*abs(cbs)**2/(Lambda**2) * abs(formFactorFzeroBplus(ma**2))**2 \\\n",
    "            * (sm['mB+']**2-sm['mK+']**2)**2/sm['mB+']**3 * np.sqrt(sm['mB+']**4+sm['mK+']**4+ma**4\\\n",
    "            -2*(sm['mB+']**2 * sm['mK+']**2 + sm['mK+']**2 * ma**2 + ma**2 * sm['mB+']**2))\\\n",
    "            /sm['hbar']*sm['tauB+']"
   ]
  },
  {
   "cell_type": "markdown",
   "id": "subjective-institution",
   "metadata": {},
   "source": [
    "### ALP branching ratios"
   ]
  },
  {
   "cell_type": "markdown",
   "id": "equivalent-denial",
   "metadata": {},
   "source": [
    "### decays under consideration encoded as\n",
    " - 0: e \n",
    " - 1: mu\n",
    " - 2: tau\n",
    " - 3: charm\n",
    " - 4: bottom\n",
    " - 5: photon\n",
    " - 6: hadron\n",
    " - 7: 3 pions"
   ]
  },
  {
   "cell_type": "code",
   "execution_count": 31,
   "id": "23a2752b",
   "metadata": {},
   "outputs": [],
   "source": [
    "def brALPtoOneFinalState(ma,finalStateCode,cQ,cu,cd,cL,ce,cGG,cWW,cBB,Lambda,lscsPassed=None):\n",
    "    with HiddenPrints():\n",
    "        HC = OrderedDict()\n",
    "        HC['Q'] = np.array([[cQ,0,0],[0,cQ,0],[0,0,cQ]])\n",
    "        HC['u'] = -np.array([[cu,0,0],[0,cu,0],[0,0,cu]])\n",
    "        HC['d'] = -np.array([[cd,0,0],[0,cd,0],[0,0,cd]])\n",
    "        HC['L'] = np.array([[cL,0,0],[0,cL,0],[0,0,cL]])\n",
    "        HC['e'] = -np.array([[ce,0,0],[0,ce,0],[0,0,ce]])\n",
    "        HC['GG'] = cGG\n",
    "        HC['WW'] = cWW\n",
    "        HC['BB'] = cBB\n",
    "\n",
    "        brs = [[],[],[],[],[],[],[],[],[]]\n",
    "        \n",
    "        if (lscsPassed is not None):\n",
    "            lscs=lscsPassed\n",
    "        else:\n",
    "            if ma<1:\n",
    "                mu = 1\n",
    "            else:\n",
    "                mu=ma\n",
    "            lscs = TdAlps.RunRotateMatchRun(HC, Lambda, mu, 3)\n",
    "        \n",
    "#         print(\"mu= \",mu)\n",
    "#         print(\"readCee= \",readCee(lscs),\", readCmumu= \",readCmumu(lscs))\n",
    "#         print([ma,readCee(lscs),sm['me'],Lambda])\n",
    "#         print(\"Gamma_ll= \",Gammaatoll(ma,readCee(lscs),sm['me'],Lambda))\n",
    "        \n",
    "        brs[0].append(Gammaatoll(ma,readCee(lscs),sm['me'],Lambda))\n",
    "        brs[1].append(Gammaatoll(ma,readCmumu(lscs),sm['mmu'],Lambda))\n",
    "        try:\n",
    "            ctautau = readCtautau(lscs)\n",
    "        except IndexError:\n",
    "            ctautau = 0\n",
    "        brs[2].append(Gammaatoll(ma,ctautau,sm['mtau'],Lambda))\n",
    "        try:\n",
    "            ccc = readCcc(lscs)\n",
    "        except IndexError:\n",
    "            ccc = 0\n",
    "        brs[3].append(Gammaatoqq(ma,ccc,sm['mc'],Lambda))\n",
    "        try:\n",
    "            cbb = readCbb(lscs)\n",
    "        except IndexError:\n",
    "            cbb = 0\n",
    "        brs[4].append(Gammaatoqq(ma,cbb,sm['mb'],Lambda))\n",
    "        brs[5].append(Gammaatogamgam(ma,lscs,Lambda))\n",
    "        brs[6].append(Gammaatohad(ma,lscs,Lambda))\n",
    "        brs[7].append(Gammaato3pi000(ma,lscs,Lambda)+Gammaato3pi0pm(ma,lscs,Lambda))\n",
    "        brs[8].append(brs[0][-1]+brs[1][-1]+brs[2][-1]+brs[3][-1]+brs[4][-1]+brs[5][-1]\\\n",
    "                      +brs[6][-1]+brs[7][-1])\n",
    "            \n",
    "\n",
    "#         print(\"br[0][-1]= \",brs[0][-1])\n",
    "        \n",
    "        ctauAlp=constants['InvGeVtocm']/brs[8][-1]\n",
    "\n",
    "        return [brs[finalStateCode][-1]/brs[8][-1],ctauAlp]"
   ]
  },
  {
   "cell_type": "code",
   "execution_count": 32,
   "id": "b514eeec",
   "metadata": {},
   "outputs": [
    {
     "data": {
      "text/plain": [
       "[0.030776453750934244, 7613416.06371888]"
      ]
     },
     "execution_count": 32,
     "metadata": {},
     "output_type": "execute_result"
    }
   ],
   "source": [
    "brALPtoOneFinalState(0.1,5,1,-1,-1,1,-1,0,0,0,4*np.pi*10**3,lscsPassed=None)"
   ]
  },
  {
   "cell_type": "code",
   "execution_count": 17,
   "id": "running-allowance",
   "metadata": {},
   "outputs": [
    {
     "data": {
      "image/png": "[encoded data removed]",
      "text/plain": [
       "<Figure size 432x288 with 1 Axes>"
      ]
     },
     "metadata": {
      "needs_background": "light"
     },
     "output_type": "display_data"
    },
    {
     "data": {
      "image/png": "[encoded data removed]",
      "text/plain": [
       "<Figure size 432x288 with 1 Axes>"
      ]
     },
     "metadata": {
      "needs_background": "light"
     },
     "output_type": "display_data"
    }
   ],
   "source": [
    "brsALP(1,1,1,0,0,0,0,0,\"cQ=1, cd=-1=cu, all other UV-couplings=0, \\u039B=1TeV\",1000)\n",
    "brsALP(1,1,1,0,0,0,0,0,\"cQ=1, cd=-1=cu, all other UV-couplings=0, \\u039B=1TeV\",1000,br=False)"
   ]
  },
  {
   "cell_type": "markdown",
   "id": "greater-fusion",
   "metadata": {},
   "source": [
    "## Integral over detector"
   ]
  },
  {
   "cell_type": "code",
   "execution_count": 33,
   "id": "checked-meditation",
   "metadata": {},
   "outputs": [],
   "source": [
    "def gammaBeta(gammaParent,mParent,ma):\n",
    "    return np.sqrt(gammaParent**2 * (sm['mB+']**2-sm['mK+']**2+ma**2)**2/(4*sm['mB+']**2*ma**2)-1)\n",
    "    \n",
    "def gammaBetaAlp(ma):\n",
    "    return gammaBeta(BelleIIparams['gammaBoostB'],sm['mB+'],ma)"
   ]
  },
  {
   "cell_type": "code",
   "execution_count": 34,
   "id": "resident-netherlands",
   "metadata": {},
   "outputs": [],
   "source": [
    "def thetaMinBoost(thetaMin,r,ctau,gammaBeta):\n",
    "    return np.arctan(r/(r/np.tan(thetaMin) - gammaBeta * ctau))\n",
    "\n",
    "def thetaMaxBoost(thetaMin,r,ctau,gammaBeta):\n",
    "    return np.pi+np.arctan(-r/(-r/np.tan(thetaMin) + gammaBeta * ctau))\n",
    "\n",
    "def geomInt(thetaMin,thetaMax,dmin,dmax,ctau,gammaBeta):\n",
    "    return 1/(4 * (gammaBeta * ctau)**2) * integrate.quad(lambda theta: (1/np.sin(theta)) \\\n",
    "            * (np.exp(-dmin/(np.sin(theta) * gammaBeta * ctau)) * (dmin**2 + 2 * gammaBeta * ctau * np.sin(theta) \\\n",
    "            * (dmin + gammaBeta * ctau * np.sin(theta)))\\\n",
    "            - np.exp(-dmax/(np.sin(theta) * gammaBeta * ctau)) * (dmax**2 + 2 * gammaBeta * ctau * np.sin(theta) \\\n",
    "            * (dmax + gammaBeta * ctau * np.sin(theta))))\\\n",
    "            , thetaMin, thetaMax)[0]\n",
    "    \n",
    "def geomIntBelleIICDC(thetaMin,thetaMax,dmin,dmax,ctau,gammaBeta):\n",
    "    return np.heaviside(np.real(BelleIIparams['RCDC']/np.tan(thetaMin)-BelleIIparams['gammaBoostB'] * sm['ctauB+']),1)\\\n",
    "            * geomInt(thetaMin,thetaMax,dmin,dmax,ctau,gammaBeta)\n",
    "                                                "
   ]
  },
  {
   "cell_type": "markdown",
   "id": "educated-alabama",
   "metadata": {},
   "source": [
    "# Number of signal events"
   ]
  },
  {
   "cell_type": "code",
   "execution_count": 35,
   "id": "latin-volume",
   "metadata": {},
   "outputs": [],
   "source": [
    "BelleIIparams={\n",
    "    'gammaBoostB': 1.03029,\n",
    "    'RCDC': 60, #cm\n",
    "    'thetaCDCMin': np.deg2rad(17),\n",
    "    'thetaCDCMax': np.deg2rad(150),\n",
    "    'dres': 0.9,\n",
    "    'NBBelleII': 5*10**10\n",
    "}"
   ]
  },
  {
   "cell_type": "code",
   "execution_count": 36,
   "id": "forty-representative",
   "metadata": {},
   "outputs": [],
   "source": [
    "def nsignalBelleII(ma,finalStateCode,cff,cGG,cWW,cBB,Lambda):\n",
    "    with HiddenPrints():\n",
    "#         print(cff)\n",
    "        cQ = cu = cd = cL = ce = cff\n",
    "\n",
    "        coefs=getLScoefficients(cff, cWW, cBB, Lambda, ma)\n",
    "        cbs=getCbs(cff, cWW, cBB, Lambda, sm['mB+'])\n",
    "#         print(\"cbs= \",cbs)\n",
    "\n",
    "        \n",
    "#     print(\"BR(B-> K+ a)= \",BrBtoKaplus(ma, cbs, Lambda))    \n",
    "    \n",
    "#     #rewrite brALPtoOneFinalState such that last agr can be not a None \n",
    "#     print(\"BR(a->final)= \",brALPtoOneFinalState(ma,finalStateCode,cQ,cu,cd,cL,ce,cGG,cWW,cBB,Lambda,None)[0])\n",
    "    \n",
    "#     print([thetaMinBoost(BelleIIparams['thetaCDCMin'],BelleIIparams['RCDC'],sm['ctauB+']\\\n",
    "#     ,gammaBetaAlp(ma)),thetaMaxBoost(BelleIIparams['thetaCDCMax'],BelleIIparams['RCDC'],sm['ctauB+']\\\n",
    "#     ,gammaBetaAlp(ma)),BelleIIparams['dres'],BelleIIparams['RCDC']\\\n",
    "#     ,brALPtoOneFinalState(ma,finalStateCode,cQ,cu,cd,cL,ce,cGG,cWW,cBB,Lambda,None)[1],gammaBetaAlp(ma)])\n",
    "    \n",
    "#     print(geomIntBelleIICDC(thetaMinBoost(BelleIIparams['thetaCDCMin'],BelleIIparams['RCDC'],sm['ctauB+']\\\n",
    "#     ,gammaBetaAlp(ma)),thetaMaxBoost(BelleIIparams['thetaCDCMax'],BelleIIparams['RCDC'],sm['ctauB+']\\\n",
    "#     ,gammaBetaAlp(ma)),BelleIIparams['dres'],BelleIIparams['RCDC']\\\n",
    "#     ,brALPtoOneFinalState(ma,finalStateCode,cQ,cu,cd,cL,ce,cGG,cWW,cBB,Lambda,None)[1],gammaBetaAlp(ma)))\n",
    "    \n",
    "        return BelleIIparams['NBBelleII'] * BrBtoKaplus(ma, cbs, Lambda) \\\n",
    "        * brALPtoOneFinalState(ma,finalStateCode,cQ,cu,cd,cL,ce,cGG,cWW,cBB,Lambda,None)[0]\\\n",
    "        * geomIntBelleIICDC(thetaMinBoost(BelleIIparams['thetaCDCMin'],BelleIIparams['RCDC'],sm['ctauB+']\\\n",
    "        ,gammaBetaAlp(ma)),thetaMaxBoost(BelleIIparams['thetaCDCMax'],BelleIIparams['RCDC'],sm['ctauB+']\\\n",
    "        ,gammaBetaAlp(ma)),BelleIIparams['dres'],BelleIIparams['RCDC']\\\n",
    "        ,brALPtoOneFinalState(ma,finalStateCode,cQ,cu,cd,cL,ce,cGG,cWW,cBB,Lambda,None)[1],gammaBetaAlp(ma))"
   ]
  },
  {
   "cell_type": "code",
   "execution_count": 37,
   "id": "ad05389a",
   "metadata": {},
   "outputs": [
    {
     "name": "stderr",
     "output_type": "stream",
     "text": [
      "/tmp/ipykernel_543882/2346480957.py:8: IntegrationWarning: The maximum number of subdivisions (50) has been achieved.\n",
      "  If increasing the limit yields no improvement it is advised to analyze \n",
      "  the integrand in order to determine the difficulties.  If the position of a \n",
      "  local difficulty can be determined (singularity, discontinuity) one will \n",
      "  probably gain from splitting up the interval and calling the integrator \n",
      "  on the subranges.  Perhaps a special-purpose integrator should be used.\n",
      "  return 1/(4 * (gammaBeta * ctau)**2) * integrate.quad(lambda theta: (1/np.sin(theta)) \\\n"
     ]
    },
    {
     "data": {
      "text/plain": [
       "-6.338924326935823e-22"
      ]
     },
     "execution_count": 37,
     "metadata": {},
     "output_type": "execute_result"
    }
   ],
   "source": [
    "nsignalBelleII(0.01,5,10**-6,0,0,0,4*np.pi*10**3)"
   ]
  },
  {
   "cell_type": "code",
   "execution_count": 38,
   "id": "played-magic",
   "metadata": {},
   "outputs": [],
   "source": [
    "\n",
    "# def nsignalAt95CLBelleIIAllcEqual(cff,ma,finalStateCode,Lambda,nOfEventsAt95CL):\n",
    "#     cQ=cL=cWW=cBB=cff\n",
    "#     ce=cd=cu=-cff\n",
    "#     cGG=0\n",
    "#     return nsignalBelleII(ma,finalStateCode,cQ,cu,cd,cL,ce,cGG,cWW,cBB,Lambda)-nOfEventsAt95CL\n",
    "\n",
    "def nsignalAt95CLBelleIIcff(cff,ma,finalStateCode,Lambda,nOfEventsAt95CL):\n",
    "    cGG=cWW=cBB=0\n",
    "#     cQ=cL=cff\n",
    "#     ce=cd=cu=-cff\n",
    "    return nsignalBelleII(ma,finalStateCode,cff,cGG,cWW,cBB,Lambda)-nOfEventsAt95CL\n",
    "\n",
    "\n",
    "# def nsignalAt95CLBelleIIcWW(cWW,ma,finalStateCode,Lambda,nOfEventsAt95CL):\n",
    "#     cQ=cL=cu=cd=ce=cGG=cBB=0\n",
    "#     res = []\n",
    "#     for i in np.asarray(cWW):\n",
    "#         res_i = nsignalBelleII(ma,finalStateCode,cQ,cu,cd,cL,ce,cGG,i,cBB,Lambda)-nOfEventsAt95CL\n",
    "#         res.append(res_i)\n",
    "#     return np.array(res)\n",
    "\n",
    "def nsignalAt95CLBelleIIcWW(cWW,ma,finalStateCode,Lambda,nOfEventsAt95CL):\n",
    "#     cQ=cL=cu=cd=ce=cGG=cBB=0\n",
    "    cGG=cBB=0\n",
    "    cff=0\n",
    "    return nsignalBelleII(ma,finalStateCode,cff,cGG,cWW,cBB,Lambda)-nOfEventsAt95CL"
   ]
  },
  {
   "cell_type": "code",
   "execution_count": 25,
   "id": "controversial-choice",
   "metadata": {},
   "outputs": [
    {
     "name": "stderr",
     "output_type": "stream",
     "text": [
      "/tmp/ipykernel_9516/2346480957.py:8: IntegrationWarning: The integral is probably divergent, or slowly convergent.\n",
      "  return 1/(4 * (gammaBeta * ctau)**2) * integrate.quad(lambda theta: (1/np.sin(theta)) \\\n"
     ]
    },
    {
     "data": {
      "text/plain": [
       "-3.0"
      ]
     },
     "execution_count": 25,
     "metadata": {},
     "output_type": "execute_result"
    }
   ],
   "source": [
    "nsignalAt95CLBelleIIcff(0.0001,0.01,1,4*np.pi*10**3,3)"
   ]
  },
  {
   "cell_type": "markdown",
   "id": "motivated-principal",
   "metadata": {},
   "source": [
    "### decays under consideration encoded as\n",
    " - 0: e \n",
    " - 1: mu\n",
    " - 2: tau\n",
    " - 3: charm\n",
    " - 4: bottom\n",
    " - 5: photon\n",
    " - 6: hadron\n",
    " - 7: 3 pions"
   ]
  },
  {
   "cell_type": "code",
   "execution_count": 39,
   "id": "varying-musician",
   "metadata": {},
   "outputs": [],
   "source": [
    "def visibleBoundBelleIIcffEqcWWEqcBB(ma,finalStateCode,Lambda,nOfEventsAt95CL):\n",
    "    nsignalAt95CLBelleIIAllcEqualEstimate=np.vstack(([coupling,nsignalAt95CLBelleIIAllcEqual(\\\n",
    "                    coupling,ma,finalStateCode,Lambda,nOfEventsAt95CL)] for coupling in couplingList))\n",
    "    \n",
    "#     print([nsignalAt95CLBelleIIAllcEqual(couplingList[0],ma,finalStateCode,Lambda,nOfEventsAt95CL),\\\n",
    "#           nsignalAt95CLBelleIIAllcEqual(nsignalAt95CLBelleIIAllcEqualEstimate[\\\n",
    "#         np.argmax(nsignalAt95CLBelleIIAllcEqualEstimate[:,1]>0),0],ma,finalStateCode,Lambda,nOfEventsAt95CL)])\n",
    "    \n",
    "    if (np.argmax(nsignalAt95CLBelleIIAllcEqualEstimate[:,1]>0)==0):\n",
    "        root1=root2=np.nan\n",
    "    else:\n",
    "        root1=optimize.brentq(nsignalAt95CLBelleIIAllcEqual, couplingList[0],\\\n",
    "            nsignalAt95CLBelleIIAllcEqualEstimate[np.argmax(nsignalAt95CLBelleIIAllcEqualEstimate[:,1]>0),0],\\\n",
    "                          args = (ma,finalStateCode,Lambda,nOfEventsAt95CL))\n",
    "\n",
    "        root2=optimize.brentq(nsignalAt95CLBelleIIAllcEqual,\\\n",
    "            nsignalAt95CLBelleIIAllcEqualEstimate[np.argmax(nsignalAt95CLBelleIIAllcEqualEstimate[:,1]>0),0],\\\n",
    "                              couplingList[-1], args = (ma,finalStateCode,Lambda,nOfEventsAt95CL))\n",
    "    return [root1,root2]\n",
    "\n",
    "def visibleBoundBelleIIcff(ma,finalStateCode,Lambda,nOfEventsAt95CL):\n",
    "    nsignalAt95CLBelleIIcffEstimate=np.vstack(([coupling,nsignalAt95CLBelleIIcff(coupling,ma,finalStateCode,\\\n",
    "                                                Lambda,nOfEventsAt95CL)] for coupling in couplingListExtended))\n",
    "#     print(nsignalAt95CLBelleIIcffEstimate)\n",
    "    if (np.argmax(nsignalAt95CLBelleIIcffEstimate[:,1]>0)==0):\n",
    "        root1=root2=np.nan\n",
    "    else:\n",
    "        root1=optimize.brentq(nsignalAt95CLBelleIIcff, couplingListExtended[0],\\\n",
    "            nsignalAt95CLBelleIIcffEstimate[np.argmax(nsignalAt95CLBelleIIcffEstimate[:,1]>0),0],\\\n",
    "                          args = (ma,finalStateCode,Lambda,nOfEventsAt95CL))\n",
    "#         print(\"argmax>0= \",nsignalAt95CLBelleIIcffEstimate[np.argmax(nsignalAt95CLBelleIIcffEstimate[:,1]>0),0])\n",
    "#         print(root1)\n",
    "\n",
    "        root2=optimize.brentq(nsignalAt95CLBelleIIcff,\\\n",
    "            nsignalAt95CLBelleIIcffEstimate[np.argmax(nsignalAt95CLBelleIIcffEstimate[:,1]>0),0],\\\n",
    "                              couplingListExtended[-1], args = (ma,finalStateCode,Lambda,nOfEventsAt95CL))\n",
    "#         print(root2)\n",
    "    return [root1,root2]\n",
    "\n",
    "def visibleBoundBelleIIcWW(ma,finalStateCode,Lambda,nOfEventsAt95CL):\n",
    "    nsignalAt95CLBelleIIcWWEstimate=np.vstack(([coupling,nsignalAt95CLBelleIIcWW(coupling,ma,finalStateCode,\\\n",
    "                                                Lambda,nOfEventsAt95CL)] for coupling in couplingListExtended))\n",
    "#     print(nsignalAt95CLBelleIIcWWEstimate)\n",
    "    if (np.argmax(nsignalAt95CLBelleIIcWWEstimate[:,1]>0)==0):\n",
    "        root1=root2=np.nan\n",
    "    else:\n",
    "        root1=optimize.brentq(nsignalAt95CLBelleIIcWW, couplingListExtended[0],\\\n",
    "            nsignalAt95CLBelleIIcWWEstimate[np.argmax(nsignalAt95CLBelleIIcWWEstimate[:,1]>0),0],\\\n",
    "                          args = (ma,finalStateCode,Lambda,nOfEventsAt95CL))\n",
    "\n",
    "        root2=optimize.brentq(nsignalAt95CLBelleIIcWW,\\\n",
    "            nsignalAt95CLBelleIIcWWEstimate[np.argmax(nsignalAt95CLBelleIIcWWEstimate[:,1]>0),0],\\\n",
    "                              couplingListExtended[-1], args = (ma,finalStateCode,Lambda,nOfEventsAt95CL))\n",
    "    return [root1,root2]\n",
    "    "
   ]
  },
  {
   "cell_type": "code",
   "execution_count": 40,
   "id": "hydraulic-madrid",
   "metadata": {},
   "outputs": [
    {
     "name": "stderr",
     "output_type": "stream",
     "text": [
      "/tmp/ipykernel_543882/4283915912.py:41: FutureWarning: arrays to stack must be passed as a \"sequence\" type such as list or tuple. Support for non-sequence iterables such as generators is deprecated as of NumPy 1.16 and will raise an error in the future.\n",
      "  nsignalAt95CLBelleIIcWWEstimate=np.vstack(([coupling,nsignalAt95CLBelleIIcWW(coupling,ma,finalStateCode,\\\n",
      "/tmp/ipykernel_543882/2346480957.py:8: IntegrationWarning: The maximum number of subdivisions (50) has been achieved.\n",
      "  If increasing the limit yields no improvement it is advised to analyze \n",
      "  the integrand in order to determine the difficulties.  If the position of a \n",
      "  local difficulty can be determined (singularity, discontinuity) one will \n",
      "  probably gain from splitting up the interval and calling the integrator \n",
      "  on the subranges.  Perhaps a special-purpose integrator should be used.\n",
      "  return 1/(4 * (gammaBeta * ctau)**2) * integrate.quad(lambda theta: (1/np.sin(theta)) \\\n",
      "/tmp/ipykernel_543882/2346480957.py:8: IntegrationWarning: The integral is probably divergent, or slowly convergent.\n",
      "  return 1/(4 * (gammaBeta * ctau)**2) * integrate.quad(lambda theta: (1/np.sin(theta)) \\\n",
      "/tmp/ipykernel_543882/2346480957.py:8: IntegrationWarning: The occurrence of roundoff error is detected, which prevents \n",
      "  the requested tolerance from being achieved.  The error may be \n",
      "  underestimated.\n",
      "  return 1/(4 * (gammaBeta * ctau)**2) * integrate.quad(lambda theta: (1/np.sin(theta)) \\\n"
     ]
    },
    {
     "data": {
      "text/plain": [
       "[3.395079215435809, 742.9516089995062]"
      ]
     },
     "execution_count": 40,
     "metadata": {},
     "output_type": "execute_result"
    }
   ],
   "source": [
    "visibleBoundBelleIIcWW(0.1,5,4*np.pi*10**3,3)"
   ]
  },
  {
   "cell_type": "code",
   "execution_count": 28,
   "id": "contained-kinase",
   "metadata": {},
   "outputs": [
    {
     "name": "stderr",
     "output_type": "stream",
     "text": [
      "/tmp/ipykernel_9516/4283915912.py:41: FutureWarning: arrays to stack must be passed as a \"sequence\" type such as list or tuple. Support for non-sequence iterables such as generators is deprecated as of NumPy 1.16 and will raise an error in the future.\n",
      "  nsignalAt95CLBelleIIcWWEstimate=np.vstack(([coupling,nsignalAt95CLBelleIIcWW(coupling,ma,finalStateCode,\\\n",
      "/tmp/ipykernel_9516/2346480957.py:8: IntegrationWarning: The integral is probably divergent, or slowly convergent.\n",
      "  return 1/(4 * (gammaBeta * ctau)**2) * integrate.quad(lambda theta: (1/np.sin(theta)) \\\n",
      "/tmp/ipykernel_9516/2346480957.py:8: IntegrationWarning: The maximum number of subdivisions (50) has been achieved.\n",
      "  If increasing the limit yields no improvement it is advised to analyze \n",
      "  the integrand in order to determine the difficulties.  If the position of a \n",
      "  local difficulty can be determined (singularity, discontinuity) one will \n",
      "  probably gain from splitting up the interval and calling the integrator \n",
      "  on the subranges.  Perhaps a special-purpose integrator should be used.\n",
      "  return 1/(4 * (gammaBeta * ctau)**2) * integrate.quad(lambda theta: (1/np.sin(theta)) \\\n",
      "/tmp/ipykernel_9516/2346480957.py:8: IntegrationWarning: The occurrence of roundoff error is detected, which prevents \n",
      "  the requested tolerance from being achieved.  The error may be \n",
      "  underestimated.\n",
      "  return 1/(4 * (gammaBeta * ctau)**2) * integrate.quad(lambda theta: (1/np.sin(theta)) \\\n"
     ]
    },
    {
     "data": {
      "text/plain": [
       "[0.06929426415559684, 4.859429850836381]"
      ]
     },
     "execution_count": 28,
     "metadata": {},
     "output_type": "execute_result"
    }
   ],
   "source": [
    "visibleBoundBelleIIcWW(1,5,4*np.pi*10**3,3)"
   ]
  },
  {
   "cell_type": "code",
   "execution_count": 29,
   "id": "mysterious-community",
   "metadata": {},
   "outputs": [
    {
     "name": "stderr",
     "output_type": "stream",
     "text": [
      "/tmp/ipykernel_9516/4283915912.py:22: FutureWarning: arrays to stack must be passed as a \"sequence\" type such as list or tuple. Support for non-sequence iterables such as generators is deprecated as of NumPy 1.16 and will raise an error in the future.\n",
      "  nsignalAt95CLBelleIIcffEstimate=np.vstack(([coupling,nsignalAt95CLBelleIIcff(coupling,ma,finalStateCode,\\\n",
      "/tmp/ipykernel_9516/2346480957.py:8: IntegrationWarning: The integral is probably divergent, or slowly convergent.\n",
      "  return 1/(4 * (gammaBeta * ctau)**2) * integrate.quad(lambda theta: (1/np.sin(theta)) \\\n",
      "/tmp/ipykernel_9516/2346480957.py:8: IntegrationWarning: The maximum number of subdivisions (50) has been achieved.\n",
      "  If increasing the limit yields no improvement it is advised to analyze \n",
      "  the integrand in order to determine the difficulties.  If the position of a \n",
      "  local difficulty can be determined (singularity, discontinuity) one will \n",
      "  probably gain from splitting up the interval and calling the integrator \n",
      "  on the subranges.  Perhaps a special-purpose integrator should be used.\n",
      "  return 1/(4 * (gammaBeta * ctau)**2) * integrate.quad(lambda theta: (1/np.sin(theta)) \\\n",
      "/tmp/ipykernel_9516/2346480957.py:8: IntegrationWarning: The occurrence of roundoff error is detected, which prevents \n",
      "  the requested tolerance from being achieved.  The error may be \n",
      "  underestimated.\n",
      "  return 1/(4 * (gammaBeta * ctau)**2) * integrate.quad(lambda theta: (1/np.sin(theta)) \\\n"
     ]
    },
    {
     "data": {
      "text/plain": [
       "[0.12439778996785963, 60.88813903478032]"
      ]
     },
     "execution_count": 29,
     "metadata": {},
     "output_type": "execute_result"
    }
   ],
   "source": [
    "visibleBoundBelleIIcff(0.1,5,4*np.pi*10**3,3)"
   ]
  },
  {
   "cell_type": "markdown",
   "id": "collected-civilian",
   "metadata": {},
   "source": [
    "### mapping bounds over masses and final states"
   ]
  },
  {
   "cell_type": "code",
   "execution_count": 30,
   "id": "preliminary-newspaper",
   "metadata": {},
   "outputs": [],
   "source": [
    "# listVisibleBoundBelleIIcffEqcWWEqcBB=[]\n",
    "# for mass in masslist:\n",
    "#     listForFixedMass=[]\n",
    "#     for particle in particleCodes:\n",
    "#         listForFixedMass.append(visibleBoundBelleIIcffEqcWWEqcBB(mass,particle,4*np.pi*10**3,3))\n",
    "#     listVisibleBoundBelleIIcffEqcWWEqcBB.append(listForFixedMass)\n",
    "# arrayVisibleBoundBelleIIcffEqcWWEqcBB=np.array(listVisibleBoundBelleIIcffEqcWWEqcBB)"
   ]
  },
  {
   "cell_type": "code",
   "execution_count": 41,
   "id": "numeric-asian",
   "metadata": {
    "scrolled": false
   },
   "outputs": [
    {
     "name": "stderr",
     "output_type": "stream",
     "text": [
      "/tmp/ipykernel_543882/4283915912.py:22: FutureWarning: arrays to stack must be passed as a \"sequence\" type such as list or tuple. Support for non-sequence iterables such as generators is deprecated as of NumPy 1.16 and will raise an error in the future.\n",
      "  nsignalAt95CLBelleIIcffEstimate=np.vstack(([coupling,nsignalAt95CLBelleIIcff(coupling,ma,finalStateCode,\\\n",
      "/tmp/ipykernel_543882/2346480957.py:8: IntegrationWarning: The maximum number of subdivisions (50) has been achieved.\n",
      "  If increasing the limit yields no improvement it is advised to analyze \n",
      "  the integrand in order to determine the difficulties.  If the position of a \n",
      "  local difficulty can be determined (singularity, discontinuity) one will \n",
      "  probably gain from splitting up the interval and calling the integrator \n",
      "  on the subranges.  Perhaps a special-purpose integrator should be used.\n",
      "  return 1/(4 * (gammaBeta * ctau)**2) * integrate.quad(lambda theta: (1/np.sin(theta)) \\\n",
      "/tmp/ipykernel_543882/2346480957.py:8: IntegrationWarning: The integral is probably divergent, or slowly convergent.\n",
      "  return 1/(4 * (gammaBeta * ctau)**2) * integrate.quad(lambda theta: (1/np.sin(theta)) \\\n",
      "/tmp/ipykernel_543882/2346480957.py:8: IntegrationWarning: The occurrence of roundoff error is detected, which prevents \n",
      "  the requested tolerance from being achieved.  The error may be \n",
      "  underestimated.\n",
      "  return 1/(4 * (gammaBeta * ctau)**2) * integrate.quad(lambda theta: (1/np.sin(theta)) \\\n"
     ]
    }
   ],
   "source": [
    "listVisibleBoundBelleIIcff=[]\n",
    "for mass in masslist:\n",
    "    listForFixedMass=[]\n",
    "    for particle in particleCodes:\n",
    "        listForFixedMass.append(visibleBoundBelleIIcff(mass,particle,4*np.pi*10**3,3))\n",
    "    listVisibleBoundBelleIIcff.append(listForFixedMass)\n",
    "arrayVisibleBoundBelleIIcff=np.array(listVisibleBoundBelleIIcff)"
   ]
  },
  {
   "cell_type": "code",
   "execution_count": 42,
   "id": "ec8feb92",
   "metadata": {},
   "outputs": [
    {
     "data": {
      "text/plain": [
       "array([0.01      , 0.01211528, 0.01467799, 0.01778279, 0.02154435,\n",
       "       0.02610157, 0.03162278, 0.03831187, 0.04641589, 0.05623413,\n",
       "       0.06812921, 0.08254042, 0.09      , 0.0935    , 0.095     ,\n",
       "       0.1       , 0.101     , 0.12115277, 0.14677993, 0.17782794,\n",
       "       0.21544347, 0.26101572, 0.31622777, 0.38311868, 0.43      ,\n",
       "       0.46415888, 0.47      , 0.55      , 0.56234133, 0.63      ,\n",
       "       0.65      , 0.68129207, 0.82540419, 0.95      , 1.        ,\n",
       "       1.        , 1.5       , 2.        , 2.5       , 3.        ,\n",
       "       3.2       , 3.5       , 4.        ])"
      ]
     },
     "execution_count": 42,
     "metadata": {},
     "output_type": "execute_result"
    }
   ],
   "source": [
    "masslist"
   ]
  },
  {
   "cell_type": "code",
   "execution_count": 43,
   "id": "arctic-footage",
   "metadata": {},
   "outputs": [
    {
     "name": "stderr",
     "output_type": "stream",
     "text": [
      "/tmp/ipykernel_543882/4283915912.py:41: FutureWarning: arrays to stack must be passed as a \"sequence\" type such as list or tuple. Support for non-sequence iterables such as generators is deprecated as of NumPy 1.16 and will raise an error in the future.\n",
      "  nsignalAt95CLBelleIIcWWEstimate=np.vstack(([coupling,nsignalAt95CLBelleIIcWW(coupling,ma,finalStateCode,\\\n",
      "/tmp/ipykernel_543882/2346480957.py:8: IntegrationWarning: The maximum number of subdivisions (50) has been achieved.\n",
      "  If increasing the limit yields no improvement it is advised to analyze \n",
      "  the integrand in order to determine the difficulties.  If the position of a \n",
      "  local difficulty can be determined (singularity, discontinuity) one will \n",
      "  probably gain from splitting up the interval and calling the integrator \n",
      "  on the subranges.  Perhaps a special-purpose integrator should be used.\n",
      "  return 1/(4 * (gammaBeta * ctau)**2) * integrate.quad(lambda theta: (1/np.sin(theta)) \\\n",
      "/tmp/ipykernel_543882/2346480957.py:8: IntegrationWarning: The integral is probably divergent, or slowly convergent.\n",
      "  return 1/(4 * (gammaBeta * ctau)**2) * integrate.quad(lambda theta: (1/np.sin(theta)) \\\n",
      "/tmp/ipykernel_543882/2346480957.py:8: IntegrationWarning: The occurrence of roundoff error is detected, which prevents \n",
      "  the requested tolerance from being achieved.  The error may be \n",
      "  underestimated.\n",
      "  return 1/(4 * (gammaBeta * ctau)**2) * integrate.quad(lambda theta: (1/np.sin(theta)) \\\n"
     ]
    },
    {
     "data": {
      "text/plain": [
       "[106.7683775099319, 87372.2334310382]"
      ]
     },
     "execution_count": 43,
     "metadata": {},
     "output_type": "execute_result"
    }
   ],
   "source": [
    "visibleBoundBelleIIcWW(0.01,5,4*np.pi*10**3,3)"
   ]
  },
  {
   "cell_type": "code",
   "execution_count": 44,
   "id": "numeric-brain",
   "metadata": {},
   "outputs": [
    {
     "name": "stderr",
     "output_type": "stream",
     "text": [
      "/tmp/ipykernel_543882/4283915912.py:41: FutureWarning: arrays to stack must be passed as a \"sequence\" type such as list or tuple. Support for non-sequence iterables such as generators is deprecated as of NumPy 1.16 and will raise an error in the future.\n",
      "  nsignalAt95CLBelleIIcWWEstimate=np.vstack(([coupling,nsignalAt95CLBelleIIcWW(coupling,ma,finalStateCode,\\\n",
      "/tmp/ipykernel_543882/2346480957.py:8: IntegrationWarning: The maximum number of subdivisions (50) has been achieved.\n",
      "  If increasing the limit yields no improvement it is advised to analyze \n",
      "  the integrand in order to determine the difficulties.  If the position of a \n",
      "  local difficulty can be determined (singularity, discontinuity) one will \n",
      "  probably gain from splitting up the interval and calling the integrator \n",
      "  on the subranges.  Perhaps a special-purpose integrator should be used.\n",
      "  return 1/(4 * (gammaBeta * ctau)**2) * integrate.quad(lambda theta: (1/np.sin(theta)) \\\n",
      "/tmp/ipykernel_543882/2346480957.py:8: IntegrationWarning: The integral is probably divergent, or slowly convergent.\n",
      "  return 1/(4 * (gammaBeta * ctau)**2) * integrate.quad(lambda theta: (1/np.sin(theta)) \\\n",
      "/tmp/ipykernel_543882/2346480957.py:8: IntegrationWarning: The occurrence of roundoff error is detected, which prevents \n",
      "  the requested tolerance from being achieved.  The error may be \n",
      "  underestimated.\n",
      "  return 1/(4 * (gammaBeta * ctau)**2) * integrate.quad(lambda theta: (1/np.sin(theta)) \\\n"
     ]
    }
   ],
   "source": [
    "listVisibleBoundBelleIIcWW=[]\n",
    "for mass in masslist:\n",
    "    listForFixedMass=[]\n",
    "    for particle in particleCodes:\n",
    "#         print(mass,particle)\n",
    "        listForFixedMass.append(visibleBoundBelleIIcWW(mass,particle,4*np.pi*10**3,3))\n",
    "    listVisibleBoundBelleIIcWW.append(listForFixedMass)\n",
    "arrayVisibleBoundBelleIIcWW=np.array(listVisibleBoundBelleIIcWW)"
   ]
  },
  {
   "cell_type": "code",
   "execution_count": 45,
   "id": "peripheral-spokesman",
   "metadata": {},
   "outputs": [
    {
     "data": {
      "text/plain": [
       "array([[[2.99921755e+02, 7.58145716e+04],\n",
       "        [           nan,            nan],\n",
       "        [           nan,            nan],\n",
       "        [           nan,            nan],\n",
       "        [           nan,            nan],\n",
       "        [1.06768378e+02, 8.73722334e+04],\n",
       "        [           nan,            nan]],\n",
       "\n",
       "       [[2.36306324e+02, 5.04353126e+04],\n",
       "        [           nan,            nan],\n",
       "        [           nan,            nan],\n",
       "        [           nan,            nan],\n",
       "        [           nan,            nan],\n",
       "        [8.00738013e+01, 5.88364135e+04],\n",
       "        [           nan,            nan]],\n",
       "\n",
       "       [[1.86239046e+02, 3.35093282e+04],\n",
       "        [           nan,            nan],\n",
       "        [           nan,            nan],\n",
       "        [           nan,            nan],\n",
       "        [           nan,            nan],\n",
       "        [6.00536558e+01, 3.96162433e+04],\n",
       "        [           nan,            nan]],\n",
       "\n",
       "       [[1.46802159e+02, 2.22417640e+04],\n",
       "        [           nan,            nan],\n",
       "        [           nan,            nan],\n",
       "        [           nan,            nan],\n",
       "        [           nan,            nan],\n",
       "        [4.50303975e+01, 2.66679218e+04],\n",
       "        [           nan,            nan]],\n",
       "\n",
       "       [[1.16026376e+02, 1.47312521e+04],\n",
       "        [           nan,            nan],\n",
       "        [           nan,            nan],\n",
       "        [           nan,            nan],\n",
       "        [           nan,            nan],\n",
       "        [3.37880369e+01, 1.79414508e+04],\n",
       "        [           nan,            nan]],\n",
       "\n",
       "       [[9.17648416e+01, 9.73438716e+03],\n",
       "        [           nan,            nan],\n",
       "        [           nan,            nan],\n",
       "        [           nan,            nan],\n",
       "        [           nan,            nan],\n",
       "        [2.53397665e+01, 1.20690968e+04],\n",
       "        [           nan,            nan]],\n",
       "\n",
       "       [[7.25534617e+01, 6.41956829e+03],\n",
       "        [           nan,            nan],\n",
       "        [           nan,            nan],\n",
       "        [           nan,            nan],\n",
       "        [           nan,            nan],\n",
       "        [1.90115502e+01, 8.11471062e+03],\n",
       "        [           nan,            nan]],\n",
       "\n",
       "       [[5.77067513e+01, 4.22265870e+03],\n",
       "        [           nan,            nan],\n",
       "        [           nan,            nan],\n",
       "        [           nan,            nan],\n",
       "        [           nan,            nan],\n",
       "        [1.42597016e+01, 5.45381943e+03],\n",
       "        [           nan,            nan]],\n",
       "\n",
       "       [[4.59258643e+01, 2.76919622e+03],\n",
       "        [           nan,            nan],\n",
       "        [           nan,            nan],\n",
       "        [           nan,            nan],\n",
       "        [           nan,            nan],\n",
       "        [1.06973536e+01, 3.66398994e+03],\n",
       "        [           nan,            nan]],\n",
       "\n",
       "       [[3.68441107e+01, 1.80942742e+03],\n",
       "        [           nan,            nan],\n",
       "        [           nan,            nan],\n",
       "        [           nan,            nan],\n",
       "        [           nan,            nan],\n",
       "        [8.02525171e+00, 2.46049114e+03],\n",
       "        [           nan,            nan]],\n",
       "\n",
       "       [[2.97016938e+01, 1.17778960e+03],\n",
       "        [           nan,            nan],\n",
       "        [           nan,            nan],\n",
       "        [           nan,            nan],\n",
       "        [           nan,            nan],\n",
       "        [6.02422716e+00, 1.65154639e+03],\n",
       "        [           nan,            nan]],\n",
       "\n",
       "       [[2.41965626e+01, 7.61292556e+02],\n",
       "        [           nan,            nan],\n",
       "        [           nan,            nan],\n",
       "        [           nan,            nan],\n",
       "        [           nan,            nan],\n",
       "        [4.52058488e+00, 1.10817185e+03],\n",
       "        [           nan,            nan]],\n",
       "\n",
       "       [[2.21888903e+01, 6.23903184e+02],\n",
       "        [           nan,            nan],\n",
       "        [           nan,            nan],\n",
       "        [           nan,            nan],\n",
       "        [           nan,            nan],\n",
       "        [3.96930337e+00, 9.25412366e+02],\n",
       "        [           nan,            nan]],\n",
       "\n",
       "       [[2.13820604e+01, 5.71188392e+02],\n",
       "        [           nan,            nan],\n",
       "        [           nan,            nan],\n",
       "        [           nan,            nan],\n",
       "        [           nan,            nan],\n",
       "        [3.75484622e+00, 8.54687158e+02],\n",
       "        [           nan,            nan]],\n",
       "\n",
       "       [[2.10593426e+01, 5.50481563e+02],\n",
       "        [           nan,            nan],\n",
       "        [           nan,            nan],\n",
       "        [           nan,            nan],\n",
       "        [           nan,            nan],\n",
       "        [3.66664834e+00, 8.26800603e+02],\n",
       "        [           nan,            nan]],\n",
       "\n",
       "       [[2.00740923e+01, 4.88512465e+02],\n",
       "        [           nan,            nan],\n",
       "        [           nan,            nan],\n",
       "        [           nan,            nan],\n",
       "        [           nan,            nan],\n",
       "        [3.39507922e+00, 7.42951609e+02],\n",
       "        [           nan,            nan]],\n",
       "\n",
       "       [[1.98925898e+01, 4.77287916e+02],\n",
       "        [           nan,            nan],\n",
       "        [           nan,            nan],\n",
       "        [           nan,            nan],\n",
       "        [           nan,            nan],\n",
       "        [3.34141828e+00, 7.27695636e+02],\n",
       "        [           nan,            nan]],\n",
       "\n",
       "       [[1.70295418e+01, 3.10223624e+02],\n",
       "        [           nan,            nan],\n",
       "        [           nan,            nan],\n",
       "        [           nan,            nan],\n",
       "        [           nan,            nan],\n",
       "        [2.54882796e+00, 4.97821349e+02],\n",
       "        [           nan,            nan]],\n",
       "\n",
       "       [[1.55503308e+01, 1.93932044e+02],\n",
       "        [           nan,            nan],\n",
       "        [           nan,            nan],\n",
       "        [           nan,            nan],\n",
       "        [           nan,            nan],\n",
       "        [1.91259969e+00, 3.33387423e+02],\n",
       "        [           nan,            nan]],\n",
       "\n",
       "       [[1.66883942e+01, 1.18096400e+02],\n",
       "        [           nan,            nan],\n",
       "        [           nan,            nan],\n",
       "        [           nan,            nan],\n",
       "        [           nan,            nan],\n",
       "        [1.43729874e+00, 2.23052496e+02],\n",
       "        [           nan,            nan]],\n",
       "\n",
       "       [[2.07456728e+01, 6.76626329e+01],\n",
       "        [2.17847691e+00, 1.27240200e+02],\n",
       "        [           nan,            nan],\n",
       "        [           nan,            nan],\n",
       "        [           nan,            nan],\n",
       "        [1.07883644e+00, 1.48727026e+02],\n",
       "        [           nan,            nan]],\n",
       "\n",
       "       [[           nan,            nan],\n",
       "        [1.49176585e+00, 8.62776163e+01],\n",
       "        [           nan,            nan],\n",
       "        [           nan,            nan],\n",
       "        [           nan,            nan],\n",
       "        [8.10393946e-01, 9.90943493e+01],\n",
       "        [           nan,            nan]],\n",
       "\n",
       "       [[           nan,            nan],\n",
       "        [1.15517677e+00, 5.68724859e+01],\n",
       "        [           nan,            nan],\n",
       "        [           nan,            nan],\n",
       "        [           nan,            nan],\n",
       "        [6.09884948e-01, 6.61942334e+01],\n",
       "        [           nan,            nan]],\n",
       "\n",
       "       [[           nan,            nan],\n",
       "        [9.16953936e-01, 3.71843463e+01],\n",
       "        [           nan,            nan],\n",
       "        [           nan,            nan],\n",
       "        [           nan,            nan],\n",
       "        [4.59257082e-01, 4.41696953e+01],\n",
       "        [           nan,            nan]],\n",
       "\n",
       "       [[           nan,            nan],\n",
       "        [8.03772876e-01, 2.87325737e+01],\n",
       "        [           nan,            nan],\n",
       "        [           nan,            nan],\n",
       "        [           nan,            nan],\n",
       "        [3.87296515e-01, 3.46021807e+01],\n",
       "        [           nan,            nan]],\n",
       "\n",
       "       [[           nan,            nan],\n",
       "        [7.38849312e-01, 2.41441089e+01],\n",
       "        [           nan,            nan],\n",
       "        [           nan,            nan],\n",
       "        [           nan,            nan],\n",
       "        [3.46002884e-01, 2.94384662e+01],\n",
       "        [           nan,            nan]],\n",
       "\n",
       "       [[           nan,            nan],\n",
       "        [7.28917724e-01, 2.34649587e+01],\n",
       "        [           nan,            nan],\n",
       "        [           nan,            nan],\n",
       "        [           nan,            nan],\n",
       "        [3.39682293e-01, 2.86662732e+01],\n",
       "        [           nan,            nan]],\n",
       "\n",
       "       [[           nan,            nan],\n",
       "        [6.19097209e-01, 1.63783209e+01],\n",
       "        [           nan,            nan],\n",
       "        [           nan,            nan],\n",
       "        [           nan,            nan],\n",
       "        [2.69481170e-01, 2.05160356e+01],\n",
       "        [           nan,            nan]],\n",
       "\n",
       "       [[           nan,            nan],\n",
       "        [6.05692887e-01, 1.55493403e+01],\n",
       "        [           nan,            nan],\n",
       "        [           nan,            nan],\n",
       "        [           nan,            nan],\n",
       "        [2.60824700e-01, 1.95682234e+01],\n",
       "        [           nan,            nan]],\n",
       "\n",
       "       [[           nan,            nan],\n",
       "        [5.44636720e-01, 1.19310042e+01],\n",
       "        [           nan,            nan],\n",
       "        [           nan,            nan],\n",
       "        [           nan,            nan],\n",
       "        [2.20705666e-01, 1.53554334e+01],\n",
       "        [           nan,            nan]],\n",
       "\n",
       "       [[           nan,            nan],\n",
       "        [5.30022097e-01, 1.10651005e+01],\n",
       "        [           nan,            nan],\n",
       "        [           nan,            nan],\n",
       "        [           nan,            nan],\n",
       "        [2.10803972e-01, 1.43604211e+01],\n",
       "        [           nan,            nan]],\n",
       "\n",
       "       [[           nan,            nan],\n",
       "        [5.09814869e-01, 9.89402929e+00],\n",
       "        [           nan,            nan],\n",
       "        [           nan,            nan],\n",
       "        [           nan,            nan],\n",
       "        [1.96744754e-01, 1.29838073e+01],\n",
       "        [           nan,            nan]],\n",
       "\n",
       "       [[           nan,            nan],\n",
       "        [4.52160867e-01, 6.19857235e+00],\n",
       "        [           nan,            nan],\n",
       "        [           nan,            nan],\n",
       "        [           nan,            nan],\n",
       "        [1.48516691e-01, 8.58938520e+00],\n",
       "        [           nan,            nan]],\n",
       "\n",
       "       [[           nan,            nan],\n",
       "        [4.48445120e-01, 4.34208256e+00],\n",
       "        [           nan,            nan],\n",
       "        [           nan,            nan],\n",
       "        [           nan,            nan],\n",
       "        [1.20921634e-01, 6.33101571e+00],\n",
       "        [           nan,            nan]],\n",
       "\n",
       "       [[           nan,            nan],\n",
       "        [4.60906921e-01, 3.79198210e+00],\n",
       "        [           nan,            nan],\n",
       "        [           nan,            nan],\n",
       "        [           nan,            nan],\n",
       "        [1.12227497e-01, 5.66621705e+00],\n",
       "        [           nan,            nan]],\n",
       "\n",
       "       [[           nan,            nan],\n",
       "        [4.60906921e-01, 3.79198210e+00],\n",
       "        [           nan,            nan],\n",
       "        [           nan,            nan],\n",
       "        [           nan,            nan],\n",
       "        [1.12227497e-01, 5.66621705e+00],\n",
       "        [           nan,            nan]],\n",
       "\n",
       "       [[           nan,            nan],\n",
       "        [           nan,            nan],\n",
       "        [           nan,            nan],\n",
       "        [           nan,            nan],\n",
       "        [           nan,            nan],\n",
       "        [6.19914893e-02, 2.29369663e+00],\n",
       "        [2.12190398e-01, 1.62209615e+00]],\n",
       "\n",
       "       [[           nan,            nan],\n",
       "        [           nan,            nan],\n",
       "        [           nan,            nan],\n",
       "        [           nan,            nan],\n",
       "        [           nan,            nan],\n",
       "        [4.07475100e-02, 1.18191136e+00],\n",
       "        [2.75954285e-01, 6.71131522e-01]],\n",
       "\n",
       "       [[           nan,            nan],\n",
       "        [           nan,            nan],\n",
       "        [           nan,            nan],\n",
       "        [           nan,            nan],\n",
       "        [           nan,            nan],\n",
       "        [2.94024863e-02, 6.88868326e-01],\n",
       "        [           nan,            nan]],\n",
       "\n",
       "       [[           nan,            nan],\n",
       "        [           nan,            nan],\n",
       "        [           nan,            nan],\n",
       "        [1.23366010e-01, 2.52534139e-01],\n",
       "        [           nan,            nan],\n",
       "        [2.24963735e-02, 4.27237340e-01],\n",
       "        [           nan,            nan]],\n",
       "\n",
       "       [[           nan,            nan],\n",
       "        [           nan,            nan],\n",
       "        [           nan,            nan],\n",
       "        [1.32213970e-01, 1.87535445e-01],\n",
       "        [           nan,            nan],\n",
       "        [2.04990195e-02, 3.58990913e-01],\n",
       "        [           nan,            nan]],\n",
       "\n",
       "       [[           nan,            nan],\n",
       "        [           nan,            nan],\n",
       "        [           nan,            nan],\n",
       "        [           nan,            nan],\n",
       "        [           nan,            nan],\n",
       "        [1.80738877e-02, 2.79502985e-01],\n",
       "        [           nan,            nan]],\n",
       "\n",
       "       [[           nan,            nan],\n",
       "        [           nan,            nan],\n",
       "        [           nan,            nan],\n",
       "        [           nan,            nan],\n",
       "        [           nan,            nan],\n",
       "        [1.53305264e-02, 1.87108399e-01],\n",
       "        [           nan,            nan]]])"
      ]
     },
     "execution_count": 45,
     "metadata": {},
     "output_type": "execute_result"
    }
   ],
   "source": [
    "arrayVisibleBoundBelleIIcWW"
   ]
  },
  {
   "cell_type": "code",
   "execution_count": 46,
   "id": "english-confusion",
   "metadata": {},
   "outputs": [
    {
     "data": {
      "text/plain": [
       "[[[0.4524646647385215, 690.5211035801674],\n",
       "  [nan, nan],\n",
       "  [nan, nan],\n",
       "  [nan, nan],\n",
       "  [nan, nan],\n",
       "  [1.2431891509089161, 613.1552866092691],\n",
       "  [nan, nan]],\n",
       " [[0.3915666655734209, 566.5802471211472],\n",
       "  [nan, nan],\n",
       "  [nan, nan],\n",
       "  [nan, nan],\n",
       "  [nan, nan],\n",
       "  [1.0292106239034344, 505.37904497036106],\n",
       "  [nan, nan]],\n",
       " [[0.3389289978565621, 464.97368633411946],\n",
       "  [nan, nan],\n",
       "  [nan, nan],\n",
       "  [nan, nan],\n",
       "  [nan, nan],\n",
       "  [0.8516288797029858, 416.6879770293011],\n",
       "  [nan, nan]],\n",
       " [[0.2934016026595002, 381.6209628709016],\n",
       "  [nan, nan],\n",
       "  [nan, nan],\n",
       "  [nan, nan],\n",
       "  [nan, nan],\n",
       "  [0.7043294112381535, 343.6387477725679],\n",
       "  [nan, nan]],\n",
       " [[0.25400567783362177, 313.21082135207115],\n",
       "  [nan, nan],\n",
       "  [nan, nan],\n",
       "  [nan, nan],\n",
       "  [nan, nan],\n",
       "  [0.5822170347953357, 283.4334222048431],\n",
       "  [nan, nan]],\n",
       " [[0.21990340656374674, 257.0452028726041],\n",
       "  [nan, nan],\n",
       "  [nan, nan],\n",
       "  [nan, nan],\n",
       "  [nan, nan],\n",
       "  [0.48103742139080313, 233.78833608285416],\n",
       "  [nan, nan]],\n",
       " [[0.1903747365208342, 210.91944393583213],\n",
       "  [nan, nan],\n",
       "  [nan, nan],\n",
       "  [nan, nan],\n",
       "  [nan, nan],\n",
       "  [0.3972357471362227, 192.83360589994152],\n",
       "  [nan, nan]],\n",
       " [[0.16479895722512045, 173.0283746080146],\n",
       "  [nan, nan],\n",
       "  [nan, nan],\n",
       "  [nan, nan],\n",
       "  [nan, nan],\n",
       "  [0.32784123951012767, 159.03453374732464],\n",
       "  [nan, nan]],\n",
       " [[0.14263964007631813, 141.8915331337033],\n",
       "  [nan, nan],\n",
       "  [nan, nan],\n",
       "  [nan, nan],\n",
       "  [nan, nan],\n",
       "  [0.27037005842346157, 131.12918348216908],\n",
       "  [nan, nan]],\n",
       " [[0.12343191504735551, 116.29271253790202],\n",
       "  [nan, nan],\n",
       "  [nan, nan],\n",
       "  [nan, nan],\n",
       "  [nan, nan],\n",
       "  [0.22274028098435653, 108.07815182674072],\n",
       "  [nan, nan]],\n",
       " [[0.10677104784450865, 95.2299113898155],\n",
       "  [nan, nan],\n",
       "  [nan, nan],\n",
       "  [nan, nan],\n",
       "  [nan, nan],\n",
       "  [0.18319039276328736, 89.02345635133483],\n",
       "  [nan, nan]],\n",
       " [[0.09230010925534682, 77.87054070420972],\n",
       "  [nan, nan],\n",
       "  [nan, nan],\n",
       "  [nan, nan],\n",
       "  [nan, nan],\n",
       "  [0.15017766874987876, 73.25312229477906],\n",
       "  [nan, nan]],\n",
       " [[0.08640289846692133, 71.060408312518],\n",
       "  [nan, nan],\n",
       "  [nan, nan],\n",
       "  [nan, nan],\n",
       "  [nan, nan],\n",
       "  [0.13702846304191932, 67.05227411276077],\n",
       "  [nan, nan]],\n",
       " [[0.083914619628516, 68.23390723330212],\n",
       "  [nan, nan],\n",
       "  [nan, nan],\n",
       "  [nan, nan],\n",
       "  [nan, nan],\n",
       "  [0.13151236426417434, 64.47756336918088],\n",
       "  [nan, nan]],\n",
       " [[0.08289583741716469, 67.08467874732979],\n",
       "  [nan, nan],\n",
       "  [nan, nan],\n",
       "  [nan, nan],\n",
       "  [nan, nan],\n",
       "  [0.12925613824233817, 63.43073871881657],\n",
       "  [nan, nan]],\n",
       " [[0.07968588504772488, 63.49385779806284],\n",
       "  [nan, nan],\n",
       "  [nan, nan],\n",
       "  [nan, nan],\n",
       "  [nan, nan],\n",
       "  [0.12214097705580346, 60.16096853731179],\n",
       "  [nan, nan]],\n",
       " [[0.07907564132786926, 62.8162908212254],\n",
       "  [nan, nan],\n",
       "  [nan, nan],\n",
       "  [nan, nan],\n",
       "  [nan, nan],\n",
       "  [0.12078468171917642, 59.54433663379739],\n",
       "  [nan, nan]],\n",
       " [[0.06865554687632804, 51.54391300548063],\n",
       "  [nan, nan],\n",
       "  [nan, nan],\n",
       "  [nan, nan],\n",
       "  [nan, nan],\n",
       "  [0.09890046342141463, 49.209695859035584],\n",
       "  [nan, nan]],\n",
       " [[0.060183628325390925, 43.40623041530725],\n",
       "  [nan, nan],\n",
       "  [nan, nan],\n",
       "  [nan, nan],\n",
       "  [nan, nan],\n",
       "  [0.12103277869715379, 39.51074170656208],\n",
       "  [nan, nan]],\n",
       " [[0.0520423795637425, 35.50790603437897],\n",
       "  [nan, nan],\n",
       "  [nan, nan],\n",
       "  [nan, nan],\n",
       "  [nan, nan],\n",
       "  [0.09356464599301399, 32.819412921200886],\n",
       "  [nan, nan]],\n",
       " [[0.005178381777056144, 0.20589770053637516],\n",
       "  [0.0015428847947658655, 0.27086633001073407],\n",
       "  [nan, nan],\n",
       "  [nan, nan],\n",
       "  [nan, nan],\n",
       "  [0.007908892245641744, 0.1814228910370591],\n",
       "  [nan, nan]],\n",
       " [[0.003775424176904241, 0.08612859650637607],\n",
       "  [0.0008868814214136447, 0.12432248252763525],\n",
       "  [nan, nan],\n",
       "  [nan, nan],\n",
       "  [nan, nan],\n",
       "  [0.0045210943607962035, 0.08143995202726459],\n",
       "  [nan, nan]],\n",
       " [[0.003283921348235304, 0.059845907295971335],\n",
       "  [0.0007039507812794715, 0.08970529520931629],\n",
       "  [nan, nan],\n",
       "  [nan, nan],\n",
       "  [nan, nan],\n",
       "  [0.0033873840273949685, 0.05927626179109897],\n",
       "  [nan, nan]],\n",
       " [[0.002947634390310674, 0.04465112085108482],\n",
       "  [0.0005847929686275779, 0.06898203285366881],\n",
       "  [nan, nan],\n",
       "  [nan, nan],\n",
       "  [nan, nan],\n",
       "  [0.0026768043656625945, 0.04596899620646764],\n",
       "  [nan, nan]],\n",
       " [[0.0027926387260454573, 0.03797255959491898],\n",
       "  [0.0005280432795600641, 0.059679092250276414],\n",
       "  [nan, nan],\n",
       "  [nan, nan],\n",
       "  [nan, nan],\n",
       "  [0.0023506614659094646, 0.03996420027996286],\n",
       "  [nan, nan]],\n",
       " [[0.0027072037529920307, 0.03422288712913288],\n",
       "  [0.0004947041953993944, 0.054397918049662077],\n",
       "  [nan, nan],\n",
       "  [nan, nan],\n",
       "  [nan, nan],\n",
       "  [0.0021632829484965134, 0.0365439500778284],\n",
       "  [nan, nan]],\n",
       " [[0.0026945123295833246, 0.03365198838508551],\n",
       "  [0.0004895234973011391, 0.05358996643946752],\n",
       "  [nan, nan],\n",
       "  [nan, nan],\n",
       "  [nan, nan],\n",
       "  [0.0021344599534967854, 0.03601988540643831],\n",
       "  [nan, nan]],\n",
       " [[0.002566477894862644, 0.027323615947531472],\n",
       "  [0.000429981658975424, 0.04456053467339616],\n",
       "  [nan, nan],\n",
       "  [nan, nan],\n",
       "  [nan, nan],\n",
       "  [0.0018091613759964114, 0.030146805562750453],\n",
       "  [nan, nan]],\n",
       " [[0.002553223181259839, 0.026540670625466497],\n",
       "  [0.0004223162879643239, 0.04343354486949233],\n",
       "  [nan, nan],\n",
       "  [nan, nan],\n",
       "  [nan, nan],\n",
       "  [0.001768108644520998, 0.02941149515592924],\n",
       "  [nan, nan]],\n",
       " [[0.002504314660370264, 0.02288545244767773],\n",
       "  [0.00038551044491507894, 0.0381408501668157],\n",
       "  [nan, nan],\n",
       "  [nan, nan],\n",
       "  [nan, nan],\n",
       "  [0.0015737587960759677, 0.0259506235135846],\n",
       "  [nan, nan]],\n",
       " [[0.0024961982588309057, 0.021973706499005586],\n",
       "  [0.000376043917711084, 0.03681223933119952],\n",
       "  [nan, nan],\n",
       "  [nan, nan],\n",
       "  [nan, nan],\n",
       "  [0.0015245351906324328, 0.02507973517097528],\n",
       "  [nan, nan]],\n",
       " [[0.0024878134996389085, 0.020670146918117905],\n",
       "  [0.0003622897622575406, 0.0349065084793864],\n",
       "  [nan, nan],\n",
       "  [nan, nan],\n",
       "  [nan, nan],\n",
       "  [0.0014535941585409277, 0.02382894328238253],\n",
       "  [nan, nan]],\n",
       " [[0.0024839904962887308, 0.016085939213241397],\n",
       "  [0.00031157146938510323, 0.02814312785633324],\n",
       "  [nan, nan],\n",
       "  [nan, nan],\n",
       "  [nan, nan],\n",
       "  [0.0011982250607666385, 0.01937274900368793],\n",
       "  [nan, nan]],\n",
       " [[0.0024902913617178284, 0.0133458467176739],\n",
       "  [0.0002791458334751789, 0.024051257314057457],\n",
       "  [nan, nan],\n",
       "  [nan, nan],\n",
       "  [nan, nan],\n",
       "  [0.0010405204027168118, 0.01666124725153488],\n",
       "  [nan, nan]],\n",
       " [[0.0024931331218410874, 0.01244809776029864],\n",
       "  [0.0002681387153747168, 0.02270343834370068],\n",
       "  [nan, nan],\n",
       "  [nan, nan],\n",
       "  [nan, nan],\n",
       "  [0.0007764686635080392, 0.016979919538132552],\n",
       "  [nan, nan]],\n",
       " [[0.0024931331218410874, 0.01244809776029864],\n",
       "  [0.0002681387153747168, 0.02270343834370068],\n",
       "  [nan, nan],\n",
       "  [nan, nan],\n",
       "  [nan, nan],\n",
       "  [0.0007764686635080392, 0.016979919538132552],\n",
       "  [nan, nan]],\n",
       " [[nan, nan],\n",
       "  [0.00011193120246497624, 0.0029818377596094827],\n",
       "  [nan, nan],\n",
       "  [nan, nan],\n",
       "  [nan, nan],\n",
       "  [nan, nan],\n",
       "  [7.404528222989415e-05, 0.0033622852966972545]],\n",
       " [[nan, nan],\n",
       "  [8.963757212730637e-05, 0.0019948304091173263],\n",
       "  [nan, nan],\n",
       "  [nan, nan],\n",
       "  [nan, nan],\n",
       "  [nan, nan],\n",
       "  [5.711740282101966e-05, 0.0022826896463047698]],\n",
       " [[nan, nan],\n",
       "  [7.732572114673069e-05, 0.0016942004593892457],\n",
       "  [nan, nan],\n",
       "  [nan, nan],\n",
       "  [nan, nan],\n",
       "  [nan, nan],\n",
       "  [5.087205725160118e-05, 0.0019218055405355627]],\n",
       " [[nan, nan],\n",
       "  [nan, nan],\n",
       "  [nan, nan],\n",
       "  [1.9773120745731375e-05, 0.0003852960630973978],\n",
       "  [nan, nan],\n",
       "  [nan, nan],\n",
       "  [3.091912048036476e-05, 0.0003384832833006158]],\n",
       " [[nan, nan],\n",
       "  [nan, nan],\n",
       "  [nan, nan],\n",
       "  [1.7949604487213716e-05, 0.00032057658893297166],\n",
       "  [nan, nan],\n",
       "  [nan, nan],\n",
       "  [2.877695326979517e-05, 0.00028102686612495824]],\n",
       " [[nan, nan],\n",
       "  [nan, nan],\n",
       "  [nan, nan],\n",
       "  [1.601476490523937e-05, 0.00025446073226588207],\n",
       "  [nan, nan],\n",
       "  [nan, nan],\n",
       "  [2.65128523796811e-05, 0.000222800395134906]],\n",
       " [[nan, nan],\n",
       "  [nan, nan],\n",
       "  [1.8053160342294053e-05, 0.0001301862440917359],\n",
       "  [1.531545624725808e-05, 0.00013519512348156252],\n",
       "  [nan, nan],\n",
       "  [nan, nan],\n",
       "  [3.0416883822836398e-05, 0.00011271787191593713]]]"
      ]
     },
     "execution_count": 46,
     "metadata": {},
     "output_type": "execute_result"
    }
   ],
   "source": [
    "listVisibleBoundBelleIIcff"
   ]
  },
  {
   "cell_type": "markdown",
   "id": "limited-mitchell",
   "metadata": {},
   "source": [
    "### saving bounds to files"
   ]
  },
  {
   "cell_type": "code",
   "execution_count": 47,
   "id": "sonic-spectrum",
   "metadata": {},
   "outputs": [],
   "source": [
    "# np.save('output/visibleBoundBelleIIcffEqcWWEqcBB',arrayVisibleBoundBelleIIcffEqcWWEqcBB)\n",
    "np.save('output/visibleBoundBelleIIcff_new',arrayVisibleBoundBelleIIcff)\n",
    "np.save('output/visibleBoundBelleIIcWW_new',arrayVisibleBoundBelleIIcWW)"
   ]
  },
  {
   "cell_type": "markdown",
   "id": "talented-component",
   "metadata": {},
   "source": [
    "### importing bounds "
   ]
  },
  {
   "cell_type": "code",
   "execution_count": 38,
   "id": "assured-lottery",
   "metadata": {},
   "outputs": [],
   "source": [
    "# readArrayVisibleBoundBelleIIcffEqcWWEqcBB = np.load('output/visibleBoundBelleIIcffEqcWWEqcBB.npy')\n",
    "readArrayVisibleBoundBelleIIcff = np.load('output/visibleBoundBelleIIcff.npy')\n",
    "readArrayVisibleBoundBelleIIcWW = np.load('output/visibleBoundBelleIIcWW.npy')"
   ]
  },
  {
   "cell_type": "code",
   "execution_count": 39,
   "id": "restricted-hungary",
   "metadata": {},
   "outputs": [],
   "source": [
    "BaBarBounds=genfromtxt('../ruth/BaBarBounds_readable.txt', delimiter='\\t')\n",
    "BaBarBoundsOld=genfromtxt('../ruth/BaBarBounds_readable_old.txt', delimiter='\\t')"
   ]
  },
  {
   "cell_type": "code",
   "execution_count": 40,
   "id": "8e40cdbb",
   "metadata": {},
   "outputs": [],
   "source": [
    "BellIIInvBounds05ab=genfromtxt('../ruth/BelleIIInvBounds_readable_0.5ab.txt', delimiter='\\t')\n",
    "BellIIInvBounds50ab=genfromtxt('../ruth/BelleIIInvBounds_readable_50ab.txt', delimiter='\\t')"
   ]
  },
  {
   "cell_type": "code",
   "execution_count": 41,
   "id": "generous-annex",
   "metadata": {},
   "outputs": [],
   "source": [
    "LHCbBoundscff=genfromtxt('output/LHCb_cff.dat', delimiter='\\t')\n",
    "LHCbBoundscWW=genfromtxt('output/LHCb_cWW.dat', delimiter='\\t')"
   ]
  },
  {
   "cell_type": "code",
   "execution_count": 42,
   "id": "11cd18f5",
   "metadata": {},
   "outputs": [],
   "source": [
    "Na62Boundscff=genfromtxt('output/Na62_cff.dat', delimiter='\\t')\n",
    "Na62BoundscWW=genfromtxt('output/Na62_cWW.dat', delimiter='\\t')"
   ]
  },
  {
   "cell_type": "code",
   "execution_count": 43,
   "id": "drawn-fashion",
   "metadata": {},
   "outputs": [
    {
     "data": {
      "text/plain": [
       "array([[0.21291332, 0.00514175],\n",
       "       [0.26189913, 0.00391375],\n",
       "       [0.31572737, 0.00131377],\n",
       "       [0.38839475, 0.00126971],\n",
       "       [0.42737035, 0.00135936],\n",
       "       [0.46650696, 0.00126971],\n",
       "       [0.55588211, 0.00126971],\n",
       "       [0.55588211, 0.00126971],\n",
       "       [0.64162201, 0.00140653],\n",
       "       [0.65713652, 0.00135936],\n",
       "       [0.68656628, 0.00131377],\n",
       "       [0.82793711, 0.00131377],\n",
       "       [0.94799941, 0.00118597],\n",
       "       [1.0063745 , 0.00118597],\n",
       "       [1.00321179, 0.02154435],\n",
       "       [0.94911905, 0.07109709],\n",
       "       [0.82557876, 0.06640828],\n",
       "       [0.69008699, 0.06640828],\n",
       "       [0.64234189, 0.0687127 ],\n",
       "       [0.569979  , 0.06640828],\n",
       "       [0.46518271, 0.06640828],\n",
       "       [0.43127233, 0.06640828],\n",
       "       [0.38888407, 0.1       ],\n",
       "       [0.31993215, 0.11077569],\n",
       "       [0.26009436, 0.15058364],\n",
       "       [0.21657595, 0.25118864]])"
      ]
     },
     "execution_count": 43,
     "metadata": {},
     "output_type": "execute_result"
    }
   ],
   "source": [
    "LHCbBoundscff"
   ]
  },
  {
   "cell_type": "code",
   "execution_count": 44,
   "id": "genetic-bloom",
   "metadata": {},
   "outputs": [
    {
     "data": {
      "text/plain": [
       "(43,)"
      ]
     },
     "execution_count": 44,
     "metadata": {},
     "output_type": "execute_result"
    }
   ],
   "source": [
    "masslist.shape"
   ]
  },
  {
   "cell_type": "code",
   "execution_count": 45,
   "id": "judicial-alexandria",
   "metadata": {},
   "outputs": [
    {
     "data": {
      "text/plain": [
       "(40,)"
      ]
     },
     "execution_count": 45,
     "metadata": {},
     "output_type": "execute_result"
    }
   ],
   "source": [
    "masslistShort.shape"
   ]
  },
  {
   "cell_type": "code",
   "execution_count": 46,
   "id": "fifty-plate",
   "metadata": {},
   "outputs": [
    {
     "data": {
      "text/plain": [
       "array([[5.00000000e-03, 5.25358760e-02, 1.60129388e+01],\n",
       "       [5.00000000e-02, 5.24753865e-02, 1.79357220e+01],\n",
       "       [7.00000000e-02, 5.24488956e-02, 1.56206887e+02],\n",
       "       [1.00000000e-01, 5.24130537e-02, 1.74782889e+02],\n",
       "       [2.00000000e-01, 5.22921954e-02, 1.72429650e+02],\n",
       "       [2.50000000e-01, 5.21302367e-01, 1.59001933e+02],\n",
       "       [3.00000000e-01, 5.67631473e-01, 1.73094285e+02],\n",
       "       [5.00000000e-01, 5.50096652e-01, 1.67767850e+02],\n",
       "       [1.00000000e+00, 4.89925030e-01, 1.49434845e+02],\n",
       "       [2.00000000e+00, 4.32908460e-01, 1.32045144e+02],\n",
       "       [3.00000000e+00, 2.53996513e-01, 7.74667964e+01],\n",
       "       [4.00000000e+00, 2.99451197e-01, 9.12868314e+01]])"
      ]
     },
     "execution_count": 46,
     "metadata": {},
     "output_type": "execute_result"
    }
   ],
   "source": [
    "BaBarBounds"
   ]
  },
  {
   "cell_type": "code",
   "execution_count": 47,
   "id": "behavioral-discussion",
   "metadata": {},
   "outputs": [
    {
     "data": {
      "text/plain": [
       "array([[5.00000000e-03, 7.16307062e-03, 7.20750867e-03, 1.16208117e+00],\n",
       "       [5.00000000e-02, 7.15594174e-03, 7.19981710e-03, 1.27128077e+00],\n",
       "       [7.00000000e-02, 7.15532580e-03, 7.19774495e-03, 1.13224621e+01],\n",
       "       [1.00000000e-01, 7.16272331e-03, 7.19904662e-03, 1.26878923e+01],\n",
       "       [2.00000000e-01, 7.26282833e-03, 7.22141189e-03, 1.24999149e+01],\n",
       "       [2.50000000e-01, 7.10783030e-02, 7.15192563e-02, 1.15250012e+01],\n",
       "       [3.00000000e-01, 7.73951764e-02, 7.78753180e-02, 1.25482859e+01],\n",
       "       [5.00000000e-01, 7.50043832e-02, 7.54696930e-02, 1.21610126e+01],\n",
       "       [1.00000000e+00, 6.68002835e-02, 6.72146969e-02, 1.08319123e+01],\n",
       "       [2.00000000e+00, 5.90267085e-02, 5.93928964e-02, 9.57232110e+00],\n",
       "       [3.00000000e+00, 3.46333364e-02, 3.48481936e-02, 5.61803961e+00],\n",
       "       [4.00000000e+00, 4.08366737e-02, 4.10900149e-02, 6.62389037e+00]])"
      ]
     },
     "execution_count": 47,
     "metadata": {},
     "output_type": "execute_result"
    }
   ],
   "source": [
    "BaBarBoundsOld"
   ]
  },
  {
   "cell_type": "code",
   "execution_count": 48,
   "id": "modern-hammer",
   "metadata": {},
   "outputs": [],
   "source": [
    "testcombinedx=np.append(masslist,np.flip(masslist))\n",
    "testcombined=np.append(readArrayVisibleBoundBelleIIcWW[:,0,0],np.flip(readArrayVisibleBoundBelleIIcWW[:,0,1]))"
   ]
  },
  {
   "cell_type": "markdown",
   "id": "worse-overall",
   "metadata": {},
   "source": [
    "## Generate [ma, tau, c, BR(theory)] files"
   ]
  },
  {
   "cell_type": "code",
   "execution_count": 36,
   "id": "invalid-notice",
   "metadata": {},
   "outputs": [
    {
     "data": {
      "text/plain": [
       "array([0.01      , 0.01211528, 0.01467799, 0.01778279, 0.02154435,\n",
       "       0.02610157, 0.03162278, 0.03831187, 0.04641589, 0.05623413,\n",
       "       0.06812921, 0.08254042, 0.09      , 0.0935    , 0.095     ,\n",
       "       0.1       , 0.101     , 0.12115277, 0.14677993, 0.17782794,\n",
       "       0.21544347, 0.26101572, 0.31622777, 0.38311868, 0.43      ,\n",
       "       0.46415888, 0.47      , 0.55      , 0.56234133, 0.63      ,\n",
       "       0.65      , 0.68129207, 0.82540419, 0.95      , 1.        ,\n",
       "       1.        , 1.5       , 2.        , 2.5       , 3.        ,\n",
       "       3.2       , 3.5       , 4.        ])"
      ]
     },
     "execution_count": 36,
     "metadata": {},
     "output_type": "execute_result"
    }
   ],
   "source": [
    "masslist"
   ]
  },
  {
   "cell_type": "code",
   "execution_count": 38,
   "id": "international-programmer",
   "metadata": {},
   "outputs": [
    {
     "data": {
      "text/plain": [
       "array([1.00000000e-06, 3.35981829e-06, 1.12883789e-05, 3.79269019e-05,\n",
       "       1.27427499e-04, 4.28133240e-04, 1.43844989e-03, 4.83293024e-03,\n",
       "       1.62377674e-02, 5.45559478e-02, 1.00000000e-01, 1.43844989e-01,\n",
       "       1.83298071e-01, 2.06913808e-01, 2.97635144e-01, 4.28133240e-01,\n",
       "       6.15848211e-01, 6.15848211e-01, 8.85866790e-01, 1.27427499e+00,\n",
       "       1.83298071e+00, 2.06913808e+00, 2.63665090e+00, 3.79269019e+00,\n",
       "       5.45559478e+00, 6.95192796e+00, 7.84759970e+00, 1.12883789e+01,\n",
       "       1.62377674e+01, 2.33572147e+01, 2.33572147e+01, 3.35981829e+01,\n",
       "       4.83293024e+01, 6.95192796e+01, 7.84759970e+01, 1.00000000e+02,\n",
       "       2.63665090e+02, 8.85866790e+02, 2.97635144e+03, 1.00000000e+04])"
      ]
     },
     "execution_count": 38,
     "metadata": {},
     "output_type": "execute_result"
    }
   ],
   "source": [
    "couplingList"
   ]
  },
  {
   "cell_type": "code",
   "execution_count": 33,
   "id": "elder-order",
   "metadata": {},
   "outputs": [],
   "source": [
    "def generateLHCbFiles(mlist,clist,process,Lambda):\n",
    "    \n",
    "    with HiddenPrints():\n",
    "    \n",
    "        lhcbList=[['# m [GeV], tau [ps], c, BR_theo(B->K mu mu)\\n']]\n",
    "\n",
    "        for ma in mlist:\n",
    "            for c in clist:\n",
    "\n",
    "#                 if process in ['cff=cWW=cBB']:\n",
    "#                     #print(\"1\")\n",
    "#                     cQ=cL=cWW=cBB=cff=c\n",
    "#                     ce=cd=cu=-c\n",
    "#                     cGG=0\n",
    "\n",
    "                if process in ['cWW']:\n",
    "                    #print(\"2\")\n",
    "                    cQ=cL=cu=cd=ce=cGG=cBB=cff=0\n",
    "                    cWW=c\n",
    "\n",
    "\n",
    "                if process in ['cff']:\n",
    "                    #print(\"3\")\n",
    "                    cGG=cWW=cBB=0\n",
    "                    cQ=cL=cff=c\n",
    "                    ce=cd=cu=-c\n",
    "\n",
    "                coefs=getLScoefficients(cff, cWW, cBB, Lambda, ma)\n",
    "                cbs=getCbs(cff, cWW, cBB, Lambda, sm['mB+'])\n",
    "\n",
    "                BR= BrBtoKaplus(ma, cbs, Lambda) \\\n",
    "                *brALPtoOneFinalState(ma,1,cQ,cu,cd,cL,ce,cGG,cWW,cBB,Lambda,None)[0]\n",
    "                tau=ctaua(ma, cff, cWW, cBB, Lambda)/sm['c']*10**12\n",
    "\n",
    "                lhcbList.append([ma,tau,c,BR])\n",
    "        return lhcbList"
   ]
  },
  {
   "cell_type": "code",
   "execution_count": 34,
   "id": "upset-audience",
   "metadata": {},
   "outputs": [],
   "source": [
    "# meshcffcWWcBB=generateLHCbFiles(masslistShort,couplingListShort,'cff=cWW=cBB',4*np.pi*10**3)"
   ]
  },
  {
   "cell_type": "code",
   "execution_count": 39,
   "id": "spatial-accent",
   "metadata": {
    "scrolled": false
   },
   "outputs": [
    {
     "name": "stderr",
     "output_type": "stream",
     "text": [
      "<ipython-input-16-8c939a5a82a1>:48: ComplexWarning: Casting complex values to real discards the imaginary part\n",
      "  return float(gamma)\n",
      "<ipython-input-16-8c939a5a82a1>:88: ComplexWarning: Casting complex values to real discards the imaginary part\n",
      "  return float(gamma)\n",
      "<ipython-input-16-8c939a5a82a1>:101: ComplexWarning: Casting complex values to real discards the imaginary part\n",
      "  return float(gamma)\n",
      "<ipython-input-16-8c939a5a82a1>:75: ComplexWarning: Casting complex values to real discards the imaginary part\n",
      "  return float(gamma)\n"
     ]
    }
   ],
   "source": [
    "meshcWW=generateLHCbFiles(masslist,couplingList,'cWW',4*np.pi*10**3)\n",
    "meshcff=generateLHCbFiles(masslist,couplingList,'cff',4*np.pi*10**3)"
   ]
  },
  {
   "cell_type": "code",
   "execution_count": 40,
   "id": "graphic-arbitration",
   "metadata": {},
   "outputs": [],
   "source": [
    "# with open(\"output/m-tau-c-BRBtoKmumu-cffcWWcBB.dat\", \"w\", newline=\"\") as f:\n",
    "#     writer = csv.writer(f,delimiter=\",\", quoting = csv.QUOTE_NONE,escapechar=' ')\n",
    "#     writer.writerows(meshcffcWWcBB)\n",
    "    \n",
    "with open(\"output/m-tau-c-BRBtoKmumu-cWW.dat\", \"w\", newline=\"\") as f:\n",
    "    writer = csv.writer(f,delimiter=\",\", quoting = csv.QUOTE_NONE,escapechar=' ')\n",
    "    writer.writerows(meshcWW)\n",
    "    \n",
    "with open(\"output/m-tau-c-BRBtoKmumu-cff.dat\", \"w\", newline=\"\") as f:\n",
    "    writer = csv.writer(f,delimiter=\",\", quoting = csv.QUOTE_NONE,escapechar=' ')\n",
    "    writer.writerows(meshcff)"
   ]
  },
  {
   "cell_type": "code",
   "execution_count": 41,
   "id": "structural-criticism",
   "metadata": {},
   "outputs": [
    {
     "name": "stdout",
     "output_type": "stream",
     "text": [
      "no valid value for the low scale chosen. Has do be higher than the QCD confinement scale!\n",
      "Returning the value of the coefficients at mtau/\n"
     ]
    },
    {
     "name": "stderr",
     "output_type": "stream",
     "text": [
      "<ipython-input-16-8c939a5a82a1>:101: ComplexWarning: Casting complex values to real discards the imaginary part\n",
      "  return float(gamma)\n",
      "<ipython-input-16-8c939a5a82a1>:88: ComplexWarning: Casting complex values to real discards the imaginary part\n",
      "  return float(gamma)\n",
      "<ipython-input-16-8c939a5a82a1>:48: ComplexWarning: Casting complex values to real discards the imaginary part\n",
      "  return float(gamma)\n"
     ]
    },
    {
     "data": {
      "text/plain": [
       "1468.2136323485731"
      ]
     },
     "execution_count": 41,
     "metadata": {},
     "output_type": "execute_result"
    }
   ],
   "source": [
    "ctaua(0.9,5.010311e-04,0,0,4*np.pi*10**3)/sm['c']*10**12"
   ]
  },
  {
   "cell_type": "code",
   "execution_count": 61,
   "id": "spectacular-peace",
   "metadata": {},
   "outputs": [
    {
     "name": "stdout",
     "output_type": "stream",
     "text": [
      "no valid value for the low scale chosen. Has do be higher than the QCD confinement scale!\n",
      "Returning the value of the coefficients at mtau/\n"
     ]
    },
    {
     "name": "stderr",
     "output_type": "stream",
     "text": [
      "<ipython-input-18-f936f951c6e4>:25: ComplexWarning: Casting complex values to real discards the imaginary part\n",
      "  return float(gamma)\n",
      "<ipython-input-18-f936f951c6e4>:12: ComplexWarning: Casting complex values to real discards the imaginary part\n",
      "  return float(gamma)\n",
      "<ipython-input-17-994b222f9bd8>:50: ComplexWarning: Casting complex values to real discards the imaginary part\n",
      "  return float(gamma)\n"
     ]
    },
    {
     "data": {
      "text/plain": [
       "1302.3721120163134"
      ]
     },
     "execution_count": 61,
     "metadata": {},
     "output_type": "execute_result"
    }
   ],
   "source": [
    "ctaua(0.9,5.010311e-04,0,0,4*np.pi*10**3)/sm['c']*10**12"
   ]
  },
  {
   "cell_type": "code",
   "execution_count": 30,
   "id": "macro-tactics",
   "metadata": {},
   "outputs": [
    {
     "name": "stderr",
     "output_type": "stream",
     "text": [
      "<ipython-input-16-8c939a5a82a1>:75: ComplexWarning: Casting complex values to real discards the imaginary part\n",
      "  return float(gamma)\n",
      "<ipython-input-16-8c939a5a82a1>:48: ComplexWarning: Casting complex values to real discards the imaginary part\n",
      "  return float(gamma)\n"
     ]
    },
    {
     "data": {
      "text/plain": [
       "0.001934240134411004"
      ]
     },
     "execution_count": 30,
     "metadata": {},
     "output_type": "execute_result"
    }
   ],
   "source": [
    "ctaua(2,5.010311e-04,0,0,4*np.pi*10**3)/sm['c']*10**12"
   ]
  },
  {
   "cell_type": "code",
   "execution_count": 62,
   "id": "liable-breach",
   "metadata": {},
   "outputs": [
    {
     "name": "stderr",
     "output_type": "stream",
     "text": [
      "<ipython-input-17-994b222f9bd8>:76: ComplexWarning: Casting complex values to real discards the imaginary part\n",
      "  return float(gamma)\n",
      "<ipython-input-17-994b222f9bd8>:50: ComplexWarning: Casting complex values to real discards the imaginary part\n",
      "  return float(gamma)\n"
     ]
    },
    {
     "data": {
      "text/plain": [
       "0.2348680373043248"
      ]
     },
     "execution_count": 62,
     "metadata": {},
     "output_type": "execute_result"
    }
   ],
   "source": [
    "ctaua(2,5.010311e-04,0,0,4*np.pi*10**3)/sm['c']*10**12"
   ]
  },
  {
   "cell_type": "code",
   "execution_count": 88,
   "id": "fixed-reference",
   "metadata": {
    "scrolled": true
   },
   "outputs": [
    {
     "name": "stderr",
     "output_type": "stream",
     "text": [
      "<ipython-input-17-994b222f9bd8>:50: ComplexWarning: Casting complex values to real discards the imaginary part\n",
      "  return float(gamma)\n",
      "<ipython-input-18-f936f951c6e4>:12: ComplexWarning: Casting complex values to real discards the imaginary part\n",
      "  return float(gamma)\n",
      "<ipython-input-18-f936f951c6e4>:25: ComplexWarning: Casting complex values to real discards the imaginary part\n",
      "  return float(gamma)\n",
      "<ipython-input-17-994b222f9bd8>:76: ComplexWarning: Casting complex values to real discards the imaginary part\n",
      "  return float(gamma)\n"
     ]
    }
   ],
   "source": [
    "maList = list((i*10**(exp-2) for exp in range(-3, 2) for i in range(10, 100)))\n",
    "ctauaList=[]\n",
    "with HiddenPrints():\n",
    "    for ma in maList:\n",
    "        ctauaList.append(ctaua(ma, 5.010311e-04, 0, 0, 4*np.pi*10**3)/sm['c']*10**12)\n",
    "        \n",
    "brList=[]\n",
    "with HiddenPrints():\n",
    "    for ma in maList:\n",
    "        brList.append(brALPtoOneFinalState(ma,1,5.010311e-04,-5.010311e-04,-5.010311e-04,5.010311e-04,\\\n",
    "                                           -5.010311e-04,0,0,0,4*np.pi*10**3)[0])"
   ]
  },
  {
   "cell_type": "code",
   "execution_count": 98,
   "id": "impaired-xerox",
   "metadata": {
    "scrolled": false
   },
   "outputs": [
    {
     "data": {
      "image/png": "[encoded data removed]",
      "text/plain": [
       "<Figure size 648x504 with 2 Axes>"
      ]
     },
     "metadata": {
      "needs_background": "light"
     },
     "output_type": "display_data"
    }
   ],
   "source": [
    "fig, ax = plt.subplots(2,figsize=(9, 7))\n",
    "plt.suptitle(\"cff=5.010311e-04, \\u039B=1TeV\")\n",
    "#plt.xlim(10**-2,10**1)\n",
    "# plt.ylim(10**-2,10**8)\n",
    "\n",
    "ax[0].plot(maList,ctauaList)\n",
    "ax[0].set_ylabel('$\\\\tau_a$ [ps]')\n",
    "ax[0].set_xlim(10**-2,10)\n",
    "ax[0].set_ylim(10**-1,10**11)\n",
    "\n",
    "ax[1].plot(maList,brList)\n",
    "ax[1].set_ylabel('$BR(a \\\\rightarrow \\\\mu^+ \\\\mu^-)$')\n",
    "ax[1].set_xlabel('$m_a$ [GeV]')\n",
    "ax[1].set_xlim(10**-2,10)\n",
    "\n",
    "\n",
    "ax[0].set_xscale('log')\n",
    "ax[0].set_yscale('log')\n",
    "\n",
    "ax[1].set_xscale('log')\n",
    "ax[1].set_yscale('log')\n",
    "\n",
    "\n",
    "plt.savefig('plots/LHCb_cff-fixed_BRandTau.png', dpi=300, bbox_inches='tight')"
   ]
  },
  {
   "cell_type": "code",
   "execution_count": 47,
   "id": "passive-classification",
   "metadata": {},
   "outputs": [
    {
     "name": "stderr",
     "output_type": "stream",
     "text": [
      "<ipython-input-17-994b222f9bd8>:50: ComplexWarning: Casting complex values to real discards the imaginary part\n",
      "  return float(gamma)\n",
      "<ipython-input-18-f936f951c6e4>:12: ComplexWarning: Casting complex values to real discards the imaginary part\n",
      "  return float(gamma)\n",
      "<ipython-input-18-f936f951c6e4>:25: ComplexWarning: Casting complex values to real discards the imaginary part\n",
      "  return float(gamma)\n",
      "<ipython-input-17-994b222f9bd8>:76: ComplexWarning: Casting complex values to real discards the imaginary part\n",
      "  return float(gamma)\n"
     ]
    },
    {
     "data": {
      "image/png": "[encoded data removed]",
      "text/plain": [
       "<Figure size 648x504 with 1 Axes>"
      ]
     },
     "metadata": {
      "needs_background": "light"
     },
     "output_type": "display_data"
    }
   ],
   "source": [
    "brsALP(5.010311e-04,-5.010311e-04,-5.010311e-04,5.010311e-04,-5.010311e-04,0,0,0,\"cff=,5.010311e-04, \\u039B=1TeV\",1000,br=False,lower=10**-20)"
   ]
  },
  {
   "cell_type": "code",
   "execution_count": 78,
   "id": "elementary-turtle",
   "metadata": {},
   "outputs": [
    {
     "name": "stderr",
     "output_type": "stream",
     "text": [
      "<ipython-input-17-994b222f9bd8>:50: ComplexWarning: Casting complex values to real discards the imaginary part\n",
      "  return float(gamma)\n",
      "<ipython-input-18-f936f951c6e4>:12: ComplexWarning: Casting complex values to real discards the imaginary part\n",
      "  return float(gamma)\n",
      "<ipython-input-18-f936f951c6e4>:25: ComplexWarning: Casting complex values to real discards the imaginary part\n",
      "  return float(gamma)\n"
     ]
    },
    {
     "data": {
      "text/plain": [
       "0.9419592557580478"
      ]
     },
     "execution_count": 78,
     "metadata": {},
     "output_type": "execute_result"
    }
   ],
   "source": [
    "brALPtoOneFinalState(0.5,1,5.010311e-04,-5.010311e-04,-5.010311e-04,5.010311e-04,-5.010311e-04,0,0,0,4*np.pi*10**3)[0]"
   ]
  },
  {
   "cell_type": "code",
   "execution_count": null,
   "id": "clear-centre",
   "metadata": {},
   "outputs": [],
   "source": []
  }
 ],
 "metadata": {
  "kernelspec": {
   "display_name": "Python 3 (ipykernel)",
   "language": "python",
   "name": "python3"
  },
  "language_info": {
   "codemirror_mode": {
    "name": "ipython",
    "version": 3
   },
   "file_extension": ".py",
   "mimetype": "text/x-python",
   "name": "python",
   "nbconvert_exporter": "python",
   "pygments_lexer": "ipython3",
   "version": "3.9.7"
  }
 },
 "nbformat": 4,
 "nbformat_minor": 5
}
