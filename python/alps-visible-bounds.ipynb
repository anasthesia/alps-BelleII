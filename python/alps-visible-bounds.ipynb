{
 "cells": [
  {
   "cell_type": "markdown",
   "id": "through-captain",
   "metadata": {},
   "source": [
    "Units used: GeV for masses, s for time, cm for distances"
   ]
  },
  {
   "cell_type": "code",
   "execution_count": 1,
   "id": "political-fault",
   "metadata": {},
   "outputs": [],
   "source": [
    "import glob\n",
    "import matplotlib as mlib\n",
    "import matplotlib.pyplot as plt\n",
    "\n",
    "# plt.rcParams[\"text.usetex\"] = True\n",
    "# plt.rcParams[\"text.latex.preamble\"] = r\"\\usepackage{slashed}\"\n",
    "\n",
    "import numpy as np\n",
    "from numpy import genfromtxt\n",
    "from numpy import loadtxt\n",
    "import re\n",
    "import csv\n",
    "import matplotlib.colors as mcolors\n",
    "import matplotlib.cm as cm\n",
    "import matplotlib.patches as mpatches\n",
    "import matplotlib.lines as mlines\n",
    "\n",
    "\n",
    "import sys\n",
    "sys.path.insert(1, '/home/stasya/prj/alps-running/TdAlps-Internal/')\n",
    "import TdAlps\n",
    "from collections import OrderedDict\n",
    "\n",
    "import scipy\n",
    "import scipy.integrate as integrate\n",
    "import scipy.optimize as optimize\n",
    "\n",
    "import csv"
   ]
  },
  {
   "cell_type": "code",
   "execution_count": 2,
   "id": "foreign-nancy",
   "metadata": {},
   "outputs": [],
   "source": [
    "#Plotting settings\n",
    "\n",
    "font = {\n",
    "        'weight' : 'normal',\n",
    "        'size'   : 16}\n",
    "\n",
    "mlib.rc('font', **font)"
   ]
  },
  {
   "cell_type": "markdown",
   "id": "sunset-raleigh",
   "metadata": {},
   "source": [
    "### mass-coupling grid"
   ]
  },
  {
   "cell_type": "code",
   "execution_count": 3,
   "id": "ordered-mattress",
   "metadata": {},
   "outputs": [],
   "source": [
    "#masslist= [0.05, 0.05, 0.1, 0.2, 0.3, 0.5, 1., 2., 4.]\n",
    "masslist=np.sort(np.append(np.logspace(-2, 0, 25),[0.09, 0.101, 0.43, 0.47,0.55,\\\n",
    "                                                   0.95, 1, 1.5, 2, 2.5, 3, 3.2, 3.5, 4,\\\n",
    "                                                   0.0935, 0.095, 0.63, 0.65]))\n",
    "masslistShort=np.logspace(-2,np.log(2.1), 40)\n",
    "particleCodes=[*range(0,7,1)]"
   ]
  },
  {
   "cell_type": "code",
   "execution_count": 4,
   "id": "adequate-exercise",
   "metadata": {},
   "outputs": [
    {
     "data": {
      "text/plain": [
       "array([0.01      , 0.01175726, 0.01382331, 0.01625243, 0.0191084 ,\n",
       "       0.02246624, 0.02641414, 0.03105579, 0.0365131 , 0.0429294 ,\n",
       "       0.0504732 , 0.05934265, 0.06977069, 0.08203121, 0.09644622,\n",
       "       0.11339432, 0.13332063, 0.15674852, 0.1842933 , 0.2166784 ,\n",
       "       0.25475441, 0.29952136, 0.35215502, 0.41403778, 0.48679494,\n",
       "       0.57233742, 0.67291193, 0.79115999, 0.93018729, 1.09364529,\n",
       "       1.28582709, 1.51178022, 1.77743916, 2.08978126, 2.45700995,\n",
       "       2.88877024, 3.396402  , 3.9932378 , 4.69495311, 5.51997797])"
      ]
     },
     "execution_count": 4,
     "metadata": {},
     "output_type": "execute_result"
    }
   ],
   "source": [
    "masslistShort"
   ]
  },
  {
   "cell_type": "code",
   "execution_count": 5,
   "id": "provincial-spiritual",
   "metadata": {},
   "outputs": [],
   "source": [
    "couplingList=np.sort(np.append(np.logspace(-6, 4, 20),np.logspace(-1, 2, 20)))\n",
    "couplingListShort=np.logspace(np.log(8*10**-4), np.log(1.7), 25)"
   ]
  },
  {
   "cell_type": "code",
   "execution_count": 6,
   "id": "encouraging-venue",
   "metadata": {},
   "outputs": [
    {
     "data": {
      "text/plain": [
       "array([7.39777588e-08, 1.54287757e-07, 3.21782010e-07, 6.71107442e-07,\n",
       "       1.39965935e-06, 2.91912468e-06, 6.08811630e-06, 1.26973542e-05,\n",
       "       2.64815579e-05, 5.52298451e-05, 1.15187173e-04, 2.40233968e-04,\n",
       "       5.01031130e-04, 1.04494879e-03, 2.17934156e-03, 4.54522719e-03,\n",
       "       9.47951003e-03, 1.97704332e-02, 4.12331468e-02, 8.59957079e-02,\n",
       "       1.79352350e-01, 3.74056638e-01, 7.80131225e-01, 1.62703897e+00,\n",
       "       3.39334683e+00])"
      ]
     },
     "execution_count": 6,
     "metadata": {},
     "output_type": "execute_result"
    }
   ],
   "source": [
    "couplingListShort"
   ]
  },
  {
   "cell_type": "code",
   "execution_count": 7,
   "id": "spanish-explosion",
   "metadata": {},
   "outputs": [],
   "source": [
    "import os, sys\n",
    "\n",
    "class HiddenPrints:\n",
    "    def __enter__(self):\n",
    "        self._original_stdout = sys.stdout\n",
    "        sys.stdout = open(os.devnull, 'w')\n",
    "\n",
    "    def __exit__(self, exc_type, exc_val, exc_tb):\n",
    "        sys.stdout.close()\n",
    "        sys.stdout = self._original_stdout"
   ]
  },
  {
   "cell_type": "code",
   "execution_count": 8,
   "id": "developed-america",
   "metadata": {},
   "outputs": [],
   "source": [
    "constants={\n",
    "    'InvGeVtocm': 1/(5.06 * 10**(13))\n",
    "}"
   ]
  },
  {
   "cell_type": "code",
   "execution_count": 9,
   "id": "appropriate-ivory",
   "metadata": {},
   "outputs": [],
   "source": [
    "sm={\n",
    "    'GF': 1.166*10**(-5),\n",
    "    'sw': np.sqrt(0.231),\n",
    "    'hbar': 6.582*10**(-25),\n",
    "    'c': 3*10**10,\n",
    "    'alpha': 1/137,\n",
    "    'Vtb': 0.999,\n",
    "    'Vts': 0.0404,\n",
    "    'Xt': 1.469,\n",
    "    'BrBtoKnunu+': 4.5*10**(-6),\n",
    "    'NBBBaBar': 471*10**6,\n",
    "    'NBBBelleII': 5*10**10,\n",
    "    'me': 0.000511,\n",
    "    'mmu': 0.1056,\n",
    "    'mtau': 1.777,\n",
    "    'mu': 2.2/1000,\n",
    "    'md': 4.7/1000,\n",
    "    'ms': 95/1000,\n",
    "    'mc': 1.275,\n",
    "    'mb': 4.18,\n",
    "    'mt': 173,\n",
    "    'mZ': 91.19,\n",
    "    'mB+': 5.279,\n",
    "    'mK+': 0.494,\n",
    "    'mpi+': 0.1396,\n",
    "    'mpi0': 0.1350,\n",
    "    'fpi': 0.130,\n",
    "    'mp': 0.9383,\n",
    "    'mn': 0.9396,\n",
    "    'tauB+': 1.638*10**(-12),\n",
    "    'ctauB+': 3 * 10**10 * 1.638*10**(-12),\n",
    "    'tauK+': 1.238*10**(-8)\n",
    "}"
   ]
  },
  {
   "cell_type": "code",
   "execution_count": 10,
   "id": "controlling-newman",
   "metadata": {},
   "outputs": [],
   "source": [
    "BelleIIparams={\n",
    "    'gammaBoostB': 1.03029,\n",
    "    'RCDC': 60, #cm\n",
    "    'thetaCDCMin': np.deg2rad(17),\n",
    "    'thetaCDCMax': np.deg2rad(150),\n",
    "    'dres': 0.9,\n",
    "    'NBBelleII': 5*10**10\n",
    "}"
   ]
  },
  {
   "cell_type": "code",
   "execution_count": 11,
   "id": "final-router",
   "metadata": {},
   "outputs": [],
   "source": [
    "def f(Lambda):\n",
    "    return Lambda/(4 * np.pi)"
   ]
  },
  {
   "cell_type": "code",
   "execution_count": 12,
   "id": "virtual-hepatitis",
   "metadata": {},
   "outputs": [],
   "source": [
    "def fz(t):\n",
    "    tplus = (sm['mB+']+sm['mK+'])**2\n",
    "    tminus = (sm['mB+']-sm['mK+'])**2\n",
    "    tzero = tplus * (1-np.sqrt(1-tminus/tplus))\n",
    "    return (np.sqrt(tplus-t) - np.sqrt(tplus-tzero))/(np.sqrt(tplus-t) + np.sqrt(tplus-tzero))\n",
    "\n",
    "def formFactorFplusBplus(qsqr):\n",
    "    tmp = 0.329\n",
    "    tmp += -0.876 * (fz(qsqr) - fz(0))\n",
    "    tmp += 0.006 * (fz(qsqr) - fz(0))**2\n",
    "    tmp = tmp/(1-qsqr/5.325**2)\n",
    "    return tmp\n",
    "\n",
    "def formFactorFzeroBplus(qsqr):\n",
    "    tmp = 0.329\n",
    "    tmp += 0.195 * (fz(qsqr) - fz(0))\n",
    "    tmp += -0.446 * (fz(qsqr) - fz(0))**2\n",
    "    tmp = tmp/(1-qsqr/5.54**2)\n",
    "    return tmp"
   ]
  },
  {
   "cell_type": "code",
   "execution_count": 13,
   "id": "romance-criticism",
   "metadata": {},
   "outputs": [],
   "source": [
    "def formFactorFzeroKplus(qsqr): \n",
    "    #https://indico.cern.ch/event/769729/contributions/3512047/attachments/1905114/3146148/Kaon2019_MoulsonPassemarCorr.pdf\n",
    "    l01 = 25.17\n",
    "    l02 = 1.49\n",
    "    f0 = 1.0012 * 0.216 #Christopher Smith's notes & 2107.14708\n",
    "    return f0 * (1 + l01 * (qsqr/sm['mpi+']) + l02 * (qsqr/sm['mpi+'])**2) \n",
    "            #fplus(qsqr) + qsqr/(sm['mK+']**2-sm['mpi+']**2) fminus(qsqr)"
   ]
  },
  {
   "cell_type": "markdown",
   "id": "attached-overhead",
   "metadata": {},
   "source": [
    "## based on https://github.com/rrschaefer/alps (formulas taken from 2012.12272 and 1708.00443)"
   ]
  },
  {
   "cell_type": "markdown",
   "id": "recorded-static",
   "metadata": {},
   "source": [
    "### Alps running implemented in https://github.com/TdAlps"
   ]
  },
  {
   "cell_type": "code",
   "execution_count": 14,
   "id": "systematic-gibraltar",
   "metadata": {},
   "outputs": [],
   "source": [
    "def getLScoefficients(cff, cww, cbb, Lambda, mu):\n",
    "    HC = OrderedDict()\n",
    "    HC['Q'] = np.array([[cff,0,0],[0,cff,0],[0,0,cff]])\n",
    "    HC['u'] = np.array([[-cff,0,0],[0,-cff,0],[0,0,-cff]])\n",
    "    HC['d'] = np.array([[-cff,0,0],[0,-cff,0],[0,0,-cff]])\n",
    "    HC['L'] = np.array([[cff,0,0],[0,cff,0],[0,0,cff]])\n",
    "    HC['e'] = np.array([[-cff,0,0],[0,-cff,0],[0,0,-cff]])\n",
    "    HC['GG'] = 0\n",
    "    HC['WW'] = cww\n",
    "    HC['BB'] = cbb\n",
    "    return TdAlps.RunRotateMatchRun(HC, Lambda, mu, 3)\n",
    "\n",
    "\n",
    "def getCuu(cff, cww, cbb, Lambda, mu):\n",
    "    coeffs = getLScoefficients(cff, cww, cbb, Lambda, mu)\n",
    "    return coeffs['U'][0][0]-coeffs['u'][0][0]\n",
    "\n",
    "def getCcc(cff, cww, cbb, Lambda, mu):\n",
    "    coeffs = getLScoefficients(cff, cww, cbb, Lambda, mu)\n",
    "    return coeffs['U'][1][1]-coeffs['u'][1][1]\n",
    "\n",
    "def getCtt(cff, cww, cbb, Lambda, mu):\n",
    "    coeffs = getLScoefficients(cff, cww, cbb, Lambda, mu)\n",
    "    return coeffs['U'][2][2]-coeffs['u'][2][2]\n",
    "\n",
    "def getCdd(cff, cww, cbb, Lambda, mu):\n",
    "    coeffs = getLScoefficients(cff, cww, cbb, Lambda, mu)\n",
    "    return coeffs['D'][0][0]-coeffs['d'][0][0]\n",
    "\n",
    "def getCss(cff, cww, cbb, Lambda, mu):\n",
    "    coeffs = getLScoefficients(cff, cww, cbb, Lambda, mu)\n",
    "    return coeffs['D'][1][1]-coeffs['d'][1][1]\n",
    "\n",
    "def getCbb(cff, cww, cbb, Lambda, mu):\n",
    "    coeffs = getLScoefficients(cff, cww, cbb, Lambda, mu)\n",
    "    return coeffs['D'][2][2]-coeffs['d'][2][2]\n",
    "\n",
    "def getCGG(cff, cww, cbb, Lambda, mu):\n",
    "    coeffs = getLScoefficients(cff, cww, cbb, Lambda, mu)\n",
    "    return coeffs['GG']\n",
    "\n",
    "def getCgg(cff, cww, cbb, Lambda, mu):\n",
    "    coeffs = getLScoefficients(cff, cww, cbb, Lambda, mu)\n",
    "    return coeffs['gamgam']\n",
    "\n",
    "def getCee(cff, cww, cbb, Lambda, mu):\n",
    "    coeffs = getLScoefficients(cff, cww, cbb, Lambda, mu)\n",
    "    return coeffs['E'][0][0]-coeffs['e'][0][0]\n",
    "\n",
    "def getCmumu(cff, cww, cbb, Lambda, mu):\n",
    "    coeffs = getLScoefficients(cff, cww, cbb, Lambda, mu)\n",
    "    return coeffs['E'][1][1]-coeffs['e'][1][1]\n",
    "\n",
    "def getCtautau(cff, cww, cbb, Lambda, mu):\n",
    "    coeffs = getLScoefficients(cff, cww, cbb, Lambda, mu)\n",
    "    return coeffs['E'][2][2]-coeffs['e'][2][2]\n",
    "\n",
    "def getCbs(cff, cww, cbb, Lambda, mu):\n",
    "    coeffs = getLScoefficients(cff, cww, cbb, Lambda, mu)\n",
    "    return coeffs['D'][2][1]-coeffs['d'][2][1]\n",
    "\n",
    "def getAlphaEM(cff, cww, cbb, Lambda, mu):\n",
    "    coeffs = getLScoefficients(cff, cww, cbb, Lambda, mu)\n",
    "    return coeffs['aEM']\n",
    "\n",
    "def getAlphaS(cff, cww, cbb, Lambda, mu):\n",
    "    coeffs = getLScoefficients(cff, cww, cbb, Lambda, mu)\n",
    "    return coeffs['a3']\n",
    "\n",
    "\n",
    "def readCuu(coeffs):\n",
    "    return coeffs['U'][0][0]-coeffs['u'][0][0]\n",
    "\n",
    "def readCcc(coeffs):\n",
    "    return coeffs['U'][1][1]-coeffs['u'][1][1]\n",
    "\n",
    "def readCtt(coeffs):\n",
    "    return coeffs['U'][2][2]-coeffs['u'][2][2]\n",
    "\n",
    "def readCdd(coeffs):\n",
    "    return coeffs['D'][0][0]-coeffs['d'][0][0]\n",
    "\n",
    "def readCss(coeffs):\n",
    "    return coeffs['D'][1][1]-coeffs['d'][1][1]\n",
    "\n",
    "def readCbb(coeffs):\n",
    "    return coeffs['D'][2][2]-coeffs['d'][2][2]\n",
    "\n",
    "def readCGG(coeffs):\n",
    "    return coeffs['GG']\n",
    "\n",
    "def readCgg(coeffs):\n",
    "    return coeffs['gamgam']\n",
    "\n",
    "def readCee(coeffs):\n",
    "    return coeffs['E'][0][0]-coeffs['e'][0][0]\n",
    "\n",
    "def readCmumu(coeffs):\n",
    "    return coeffs['E'][1][1]-coeffs['e'][1][1]\n",
    "\n",
    "def readCtautau(coeffs):\n",
    "    return coeffs['E'][2][2]-coeffs['e'][2][2]\n",
    "\n",
    "def readCbs(coeffs):\n",
    "    return coeffs['D'][2][1]-coeffs['d'][2][1]\n",
    "\n",
    "def readAlphaEM(coeffs):\n",
    "    return coeffs['aEM']\n",
    "\n",
    "def readAlphaS(coeffs):\n",
    "    return coeffs['a3']\n",
    "\n",
    "def printLowScaleCoef(coeffs):\n",
    "    print(\"readCuu = {0}\\n readCcc = {1}\\n readCdd = {2}\\n readCss = {3}\\n readCbb = {4}\\n\".format(readCuu(coeffs),readCcc(coeffs),readCdd(coeffs),readCss(coeffs),readCbb(coeffs)))  "
   ]
  },
  {
   "cell_type": "markdown",
   "id": "heavy-delight",
   "metadata": {},
   "source": [
    "### ALP and B-> Ka decay rates"
   ]
  },
  {
   "cell_type": "code",
   "execution_count": 15,
   "id": "thermal-resort",
   "metadata": {},
   "outputs": [],
   "source": [
    "def nq(ma): # possibly deprecated\n",
    "    if ma>2*sm['mt']:\n",
    "        return 6\n",
    "    elif ma>=2*sm['mb']:\n",
    "        return 5\n",
    "    elif ma>=2*sm['mc']:\n",
    "        return 4\n",
    "    elif ma>=2*sm['ms']:\n",
    "        return 3\n",
    "    elif ma>=2*sm['md']:\n",
    "        return 2\n",
    "    elif ma>=2*sm['mu']:\n",
    "        return 1\n",
    "    else:\n",
    "        return 0"
   ]
  },
  {
   "cell_type": "code",
   "execution_count": 16,
   "id": "maritime-victim",
   "metadata": {},
   "outputs": [],
   "source": [
    "def B2(tau):\n",
    "    return 1-(tau-1)*funcB(tau)**2\n",
    "\n",
    "# (14) in 2012.12272\n",
    "def B1(tau):\n",
    "    return 1-tau*funcB(tau)**2\n",
    "\n",
    "def funcB(tau):\n",
    "    if tau>=1:\n",
    "        return np.arcsin(1/np.sqrt(tau))\n",
    "    else:\n",
    "        return np.pi/2 + 1j/2 * np.log((1+np.sqrt(1-tau))/(1-np.sqrt(1-tau)))"
   ]
  },
  {
   "cell_type": "code",
   "execution_count": 17,
   "id": "respective-buddy",
   "metadata": {},
   "outputs": [],
   "source": [
    "def Gammaatoll(ma, cll, ml, Lambda):\n",
    "    if ma <= 2 * ml:\n",
    "        return 0\n",
    "    gamma = ml**2 * abs(cll)**2 * np.sqrt(ma**2 - 4 * ml**2) / (8 * np.pi * Lambda**2) \n",
    "    if gamma.imag  != 0:\n",
    "        if gamma.imag/gamma.real > 10**-10:\n",
    "            print(\"The Decay rate to leptons with mass \" + str(ml) + \" is complex: \" + str(gamma))\n",
    "    return float(gamma)\n",
    "\n",
    "def Gammaatoqq(ma, cqq, mq, Lambda):\n",
    "    if ma <= 2 * mq:\n",
    "        return 0\n",
    "    gamma = 3 * mq**2 * abs(cqq)**2 * np.sqrt(ma**2 - 4 * mq**2) / (8 * np.pi * Lambda**2)\n",
    "    if gamma.imag  != 0:\n",
    "        if gamma.imag/gamma.real > 10**-10:\n",
    "            print(\"The Decay rate to quarks with mass \" + str(mq) + \" is complex: \" + str(gamma))\n",
    "    return float(gamma)\n",
    "\n",
    "def Gammaatogamgam(ma, coeffs, Lambda):\n",
    "    cgamgam = readCgg(coeffs)\n",
    "    alphaEM = readAlphaEM(coeffs)\n",
    "    effcgg = cgamgam\n",
    "    if ma >= sm['mZ']:\n",
    "        effcgg += 2 * alphaEM/np.pi * coeffs['WW']/sm['sw']**2 * B2(4*sm['mW']**2/ma**2)\n",
    "        effcgg += 3 * (2/3)**2 * readCtt(coeffs) * B1(4*sm['mt']**2/ma**2)\n",
    "    if ma >= sm['mc']:\n",
    "        effcgg += 3 * (2/3)**2 * readCcc(coeffs) * B1(4*sm['mc']**2/ma**2) \n",
    "    if ma >= sm['mb']:\n",
    "        effcgg += 3 * (-1/3)**2 * readCbb(coeffs) * B1(4*sm['mb']**2/ma**2)\n",
    "    if ma >= 1:\n",
    "        effcgg += 3 * (2/3)**2 * readCuu(coeffs) * B1(4*sm['mu']**2/ma**2)\n",
    "        effcgg += 3 * (-1/3)**2 * readCdd(coeffs) * B1(4*sm['md']**2/ma**2)\n",
    "        effcgg += 3 * (-1/3)**2 * readCss(coeffs) * B1(4*sm['ms']**2/ma**2)\n",
    "    if ma >= sm['me']:\n",
    "        effcgg += readCee(coeffs) * B1(4*sm['me']**2/ma**2)\n",
    "    if ma >= sm['mmu']:\n",
    "        effcgg += readCmumu(coeffs) * B1(4*sm['mmu']**2/ma**2)\n",
    "    if ma >= sm['mtau']:\n",
    "        effcgg += readCtautau(coeffs) * B1(4*sm['mtau']**2/ma**2)\n",
    "    if ma <= 1:\n",
    "        tmp = -(5/3 + sm['mpi+']**2/(sm['mpi+']**2-ma**2) * (sm['md']-sm['mu'])/(sm['md']+sm['mu']))*readCGG(coeffs)\n",
    "        tmp += -ma**2/(sm['mpi+']**2-ma**2) * (readCuu(coeffs) - readCdd(coeffs))/2\n",
    "        effcgg += tmp\n",
    "    gamma = abs(effcgg)**2 * alphaEM**2 * ma**3 /(4 * np.pi * Lambda**2) \n",
    "    if gamma.imag  != 0:\n",
    "        if gamma.imag/gamma.real > 10**-10:\n",
    "            print(\"The Decay rate to photons is complex: \" + str(gamma))\n",
    "    return float(gamma)\n",
    "    \n",
    "def Gammaatohad(ma, coeffs, Lambda):\n",
    "    if ma <= 1:\n",
    "        return 0\n",
    "    alphaS = readAlphaS(coeffs)\n",
    "    cGGeff = readCGG(coeffs)\n",
    "    cGGeff += 1/2 * readCuu(coeffs) * B1(4*sm['mu']**2/ma**2)\n",
    "    cGGeff += 1/2 * readCdd(coeffs) * B1(4*sm['md']**2/ma**2)\n",
    "    cGGeff += 1/2 * readCss(coeffs) * B1(4*sm['ms']**2/ma**2)\n",
    "    nQ = 3\n",
    "    try:\n",
    "        cGGeff += 1/2 * readCcc(coeffs) * B1(4*sm['mc']**2/ma**2)\n",
    "        nQ += 1\n",
    "        cGGeff += 1/2 * readCbb(coeffs) * B1(4*sm['mb']**2/ma**2)\n",
    "        nQ += 1\n",
    "        cGGeff += 1/2 * readCtt(coeffs) * B1(4*sm['mt']**2/ma**2)\n",
    "        nQ += 1\n",
    "    except:\n",
    "        pass\n",
    "    gamma = abs(cGGeff)**2 * alphaS**2 * ma**3 * (1 + (95/4-7*nQ/6) * alphaS/np.pi) * 2/(np.pi * Lambda**2) *(16*np.pi**2)\n",
    "    gamma += Gammaatoqq(ma, readCuu(coeffs), sm['mu'], Lambda)\n",
    "    gamma += Gammaatoqq(ma, readCdd(coeffs), sm['md'], Lambda)\n",
    "    gamma += Gammaatoqq(ma, readCss(coeffs), sm['ms'], Lambda)\n",
    "    if gamma.imag  != 0:\n",
    "        if gamma.imag/gamma.real > 10**-10:\n",
    "            print(\"The Decay rate to hadrons is complex: \" + str(gamma))\n",
    "    return float(gamma)\n",
    "\n",
    "def Gammaato3pi000(ma, coeffs, Lambda):\n",
    "    if ma<3*sm['mpi0']:\n",
    "        return 0\n",
    "    if ma>2:\n",
    "        return 0\n",
    "    gamma  = ma * sm['mpi+']**4/(6144*np.pi**3*sm['fpi']**2*(4*np.pi*Lambda)**2)\n",
    "    gamma *= (readCuu(coeffs)-readCdd(coeffs)+ 2 * readCGG(coeffs) * (sm['md']-sm['mu'])/(sm['md']+sm['mu']))**2\n",
    "    gamma *= g00(sm['mpi+']**2/ma**2)\n",
    "    if gamma.imag  != 0:\n",
    "        if gamma.imag/gamma.real > 10**-10:\n",
    "            print(\"The Decay rate to hadrons is complex: \" + str(gamma))\n",
    "    return float(gamma)\n",
    "\n",
    "def Gammaato3pi0pm(ma, coeffs, Lambda):\n",
    "    if ma < sm['mpi0']+2*sm['mpi+']:\n",
    "        return 0\n",
    "    if ma>2:\n",
    "        return 0\n",
    "    gamma  = ma * sm['mpi+']**4/(384*np.pi*sm['fpi']**2*Lambda**2)\n",
    "    gamma *= (readCuu(coeffs)-readCdd(coeffs)+ 2 * readCGG(coeffs) * (sm['md']-sm['mu'])/(sm['md']+sm['mu']))**2\n",
    "    gamma *= gpm(sm['mpi+']**2/ma**2)\n",
    "    if gamma.imag  != 0:\n",
    "        if gamma.imag/gamma.real > 10**-10:\n",
    "            print(\"The Decay rate to hadrons is complex: \" + str(gamma))\n",
    "    return float(gamma)\n",
    "    \n",
    "def g00(r):\n",
    "    if ((r<0) or (r>1/9)):\n",
    "        return 0\n",
    "    integrand = lambda z: np.sqrt(1-4*r/z) * np.sqrt(1+z**2+r**2-2*r-2*z-2*z*r)\n",
    "    lim_0 = 4*r\n",
    "    lim_1 = (1-np.sqrt(r))**2\n",
    "    integral = scipy.integrate.quad(integrand,lim_0,lim_1)\n",
    "    factor = 2/(1-r)**2\n",
    "    return factor*integral[0]\n",
    "    \n",
    "def gpm(r):\n",
    "    if ((r<0) or (r>1/9)):\n",
    "        return 0\n",
    "    integrand = lambda z: np.sqrt(1-4*r/z) * np.sqrt(1+z**2+r**2-2*r-2*z-2*z*r) * (z-r)**2\n",
    "    lim_0 = 4*r\n",
    "    lim_1 = (1-np.sqrt(r))**2\n",
    "    integral = scipy.integrate.quad(integrand,lim_0,lim_1)\n",
    "    factor = 12/(1-r)**2\n",
    "    return factor*integral[0] \n",
    "\n",
    "def Gammaa(ma, cff, cww, cbb, Lambda):\n",
    "    lscs = getLScoefficients(cff, cww, cbb, Lambda, ma)\n",
    "    GammaTot = 0\n",
    "    if ma>2*sm['me']:\n",
    "        GammaTot += Gammaatoll(ma,readCee(lscs),sm['me'],Lambda)\n",
    "    if ma>2*sm['mmu']:\n",
    "        GammaTot += Gammaatoll(ma,readCmumu(lscs),sm['mmu'],Lambda)\n",
    "    if ma>2*sm['mtau']:\n",
    "        GammaTot += Gammaatoll(ma,readCtautau(lscs),sm['mtau'],Lambda)\n",
    "    if ma>2*sm['mc']:\n",
    "        GammaTot += Gammaatoqq(ma,readCcc(lscs),sm['mc'],Lambda)\n",
    "    if ma>2*sm['mb']:\n",
    "        GammaTot += Gammaatoqq(ma,readCbb(lscs),sm['mb'],Lambda)\n",
    "    if ma>1:\n",
    "        GammaTot += Gammaatohad(ma,lscs,Lambda)\n",
    "    if ma<2:\n",
    "        GammaTot += Gammaato3pi0pm(ma,lscs,Lambda)\n",
    "        GammaTot += Gammaato3pi000(ma,lscs,Lambda)\n",
    "    GammaTot += Gammaatogamgam(ma,lscs,Lambda)\n",
    "    if GammaTot.imag  != 0:\n",
    "        print(\"The Decay rate to hadrons is complex: \" + str(GammaTot))\n",
    "    return float(GammaTot)"
   ]
  },
  {
   "cell_type": "code",
   "execution_count": 65,
   "id": "sweet-branch",
   "metadata": {},
   "outputs": [],
   "source": [
    "# as in draft\n",
    "def BrBtoKaplus(ma, cbs, Lambda):\n",
    "    return (np.pi/4)*abs(cbs)**2/(Lambda**2) * abs(formFactorFzeroBplus(ma))**2 \\\n",
    "            * (sm['mB+']**2-sm['mK+']**2)**2/sm['mB+']**3 * np.sqrt(sm['mB+']**4+sm['mK+']**4+ma**4\\\n",
    "            -2*(sm['mB+']**2 * sm['mK+']**2 + sm['mK+']**2 * ma**2 + ma**2 * sm['mB+']**2))\\\n",
    "            /sm['hbar']*sm['tauB+']"
   ]
  },
  {
   "cell_type": "code",
   "execution_count": 66,
   "id": "defensive-check",
   "metadata": {},
   "outputs": [],
   "source": [
    "# as in draft\n",
    "def BrKtoPiaplus(ma, csd, Lambda):\n",
    "    return (np.pi/4)* abs(csd)**2/(Lambda**2) * abs(formFactorFzeroKplus(ma))**2 \\\n",
    "            * (sm['mK+']**2-sm['mpi+']**2)**2/sm['mK+']**3 * np.sqrt(sm['mK+']**4+sm['mpi+']**4+ma**4\\\n",
    "            -2*(sm['mpi+']**2 * sm['mK+']**2 + sm['mK+']**2 * ma**2 + ma**2 * sm['mpi+']**2))\\\n",
    "            /sm['hbar']*sm['tauK+']"
   ]
  },
  {
   "cell_type": "code",
   "execution_count": 67,
   "id": "pretty-grounds",
   "metadata": {},
   "outputs": [],
   "source": [
    "def ctaua(ma, cff, cww, cbb, Lambda):\n",
    "    gamma = Gammaa(ma,cff,cww,cbb,Lambda)\n",
    "    if gamma == 0:\n",
    "        print(\"The decay width of a with ma=\" + str(ma) + \"GeV and cff=\" + str(cff) \\\n",
    "              + \", cWW=\"+ str(cww)+ \", cBB=\" + str(cbb) + \" is zero.\")\n",
    "        return 0\n",
    "    return sm['c']*sm['hbar']/gamma"
   ]
  },
  {
   "cell_type": "markdown",
   "id": "subjective-institution",
   "metadata": {},
   "source": [
    "### ALP branching ratios"
   ]
  },
  {
   "cell_type": "code",
   "execution_count": 68,
   "id": "ordinary-hanging",
   "metadata": {},
   "outputs": [],
   "source": [
    "def brsALP(cQ,cu,cd,cL,ce,cGG,cWW,cBB,title,Lambda,br=True,lower=2*10**-4):\n",
    "    with HiddenPrints():\n",
    "        HC = OrderedDict()\n",
    "        HC['Q'] = np.array([[cQ,0,0],[0,cQ,0],[0,0,cQ]])\n",
    "        HC['u'] = np.array([[cu,0,0],[0,cu,0],[0,0,cu]])\n",
    "        HC['d'] = np.array([[cd,0,0],[0,cd,0],[0,0,cd]])\n",
    "        HC['L'] = np.array([[cL,0,0],[0,cL,0],[0,0,cL]])\n",
    "        HC['e'] = np.array([[ce,0,0],[0,ce,0],[0,0,ce]])\n",
    "        HC['GG'] = cGG\n",
    "        HC['WW'] = cWW\n",
    "        HC['BB'] = cBB\n",
    "\n",
    "        maList = list((i*10**(exp-2) for exp in range(-3, 2) for i in range(10, 100)))\n",
    "        brs = [[],[],[],[],[],[],[],[],[]]\n",
    "        for ma in maList:\n",
    "            lscs = TdAlps.RunRotateMatchRun(HC, Lambda, ma, 3)\n",
    "            brs[0].append(Gammaatoll(ma,readCee(lscs),sm['me'],Lambda))\n",
    "            brs[1].append(Gammaatoll(ma,readCmumu(lscs),sm['mmu'],Lambda))\n",
    "            try:\n",
    "                ctautau = readCtautau(lscs)\n",
    "            except IndexError:\n",
    "                ctautau = 0\n",
    "            brs[2].append(Gammaatoll(ma,ctautau,sm['mtau'],Lambda))\n",
    "            try:\n",
    "                ccc = readCcc(lscs)\n",
    "            except IndexError:\n",
    "                ccc = 0\n",
    "            brs[3].append(Gammaatoqq(ma,ccc,sm['mc'],Lambda))\n",
    "            try:\n",
    "                cbb = readCbb(lscs)\n",
    "            except IndexError:\n",
    "                cbb = 0\n",
    "            brs[4].append(Gammaatoqq(ma,cbb,sm['mb'],Lambda))\n",
    "            brs[5].append(Gammaatogamgam(ma,lscs,Lambda))\n",
    "            brs[6].append(Gammaatohad(ma,lscs,Lambda))\n",
    "            brs[7].append(Gammaato3pi000(ma,lscs,Lambda)+Gammaato3pi0pm(ma,lscs,Lambda))\n",
    "            brs[8].append(brs[0][-1]+brs[1][-1]+brs[2][-1]+brs[3][-1]+brs[4][-1]+brs[5][-1]+brs[6][-1]+brs[7][-1])\n",
    "            if (br and brs[8][-1] != 0):\n",
    "                brs[0][-1] = brs[0][-1]/brs[8][-1]\n",
    "                brs[1][-1] = brs[1][-1]/brs[8][-1]\n",
    "                brs[2][-1] = brs[2][-1]/brs[8][-1]\n",
    "                brs[3][-1] = brs[3][-1]/brs[8][-1]\n",
    "                brs[4][-1] = brs[4][-1]/brs[8][-1]\n",
    "                brs[5][-1] = brs[5][-1]/brs[8][-1]\n",
    "                brs[6][-1] = brs[6][-1]/brs[8][-1]\n",
    "                brs[7][-1] = brs[7][-1]/brs[8][-1]\n",
    "\n",
    "        fig, ax = plt.subplots(figsize=(9, 7)) \n",
    "        ax.set_xscale('log')\n",
    "        ax.set_yscale('log')\n",
    "        ax.set_xlabel('ma [GeV]')\n",
    "        if (br):\n",
    "            ax.set_ylim([lower,2.5])\n",
    "            ax.set_xlim([5*10**-4,11])\n",
    "            ax.set_ylabel('Branching ratio Br(a->X)')\n",
    "            ax.plot([maList[0],maList[-1]],[1,1],label='all',ls=':') \n",
    "        else:\n",
    "            ax.plot(maList,brs[8],label='total') \n",
    "            ax.set_ylabel('Decay rate Gamma(a->X)')\n",
    "        ax.plot(maList,brs[0],label='electrons') \n",
    "        ax.plot(maList,brs[1],label='muons') \n",
    "        ax.plot(maList,brs[2],label='taus') \n",
    "        ax.plot(maList,brs[3],label='charms') \n",
    "        ax.plot(maList,brs[4],label='bottoms') \n",
    "        ax.plot(maList,brs[5],label='photons') \n",
    "        ax.plot(maList,brs[6],label='hadrons') \n",
    "        ax.plot(maList,brs[7],label='3pi') \n",
    "        ax.legend(bbox_to_anchor=(1.05, 1))\n",
    "        plt.title(title)\n",
    "    plt.show()"
   ]
  },
  {
   "cell_type": "markdown",
   "id": "equivalent-denial",
   "metadata": {},
   "source": [
    "### decays under consideration encoded as\n",
    " - 0: e \n",
    " - 1: mu\n",
    " - 2: tau\n",
    " - 3: charm\n",
    " - 4: bottom\n",
    " - 5: photon\n",
    " - 6: hadron\n",
    " - 7: 3 pions"
   ]
  },
  {
   "cell_type": "code",
   "execution_count": 69,
   "id": "abroad-textbook",
   "metadata": {},
   "outputs": [],
   "source": [
    "def brALPtoOneFinalState(ma,finalStateCode,cQ,cu,cd,cL,ce,cGG,cWW,cBB,Lambda,lscsPassed=None):\n",
    "    with HiddenPrints():\n",
    "        HC = OrderedDict()\n",
    "        HC['Q'] = np.array([[cQ,0,0],[0,cQ,0],[0,0,cQ]])\n",
    "        HC['u'] = np.array([[cu,0,0],[0,cu,0],[0,0,cu]])\n",
    "        HC['d'] = np.array([[cd,0,0],[0,cd,0],[0,0,cd]])\n",
    "        HC['L'] = np.array([[cL,0,0],[0,cL,0],[0,0,cL]])\n",
    "        HC['e'] = np.array([[ce,0,0],[0,ce,0],[0,0,ce]])\n",
    "        HC['GG'] = cGG\n",
    "        HC['WW'] = cWW\n",
    "        HC['BB'] = cBB\n",
    "\n",
    "        brs = [[],[],[],[],[],[],[],[],[]]\n",
    "        \n",
    "        if (lscsPassed is not None):\n",
    "            lscs=lscsPassed\n",
    "        else:\n",
    "            lscs = TdAlps.RunRotateMatchRun(HC, Lambda, ma, 3)\n",
    "        \n",
    "        brs[0].append(Gammaatoll(ma,readCee(lscs),sm['me'],Lambda))\n",
    "        brs[1].append(Gammaatoll(ma,readCmumu(lscs),sm['mmu'],Lambda))\n",
    "        try:\n",
    "            ctautau = readCtautau(lscs)\n",
    "        except IndexError:\n",
    "            ctautau = 0\n",
    "        brs[2].append(Gammaatoll(ma,ctautau,sm['mtau'],Lambda))\n",
    "        try:\n",
    "            ccc = readCcc(lscs)\n",
    "        except IndexError:\n",
    "            ccc = 0\n",
    "        brs[3].append(Gammaatoqq(ma,ccc,sm['mc'],Lambda))\n",
    "        try:\n",
    "            cbb = readCbb(lscs)\n",
    "        except IndexError:\n",
    "            cbb = 0\n",
    "        brs[4].append(Gammaatoqq(ma,cbb,sm['mb'],Lambda))\n",
    "        brs[5].append(Gammaatogamgam(ma,lscs,Lambda))\n",
    "        brs[6].append(Gammaatohad(ma,lscs,Lambda))\n",
    "        brs[7].append(Gammaato3pi000(ma,lscs,Lambda)+Gammaato3pi0pm(ma,lscs,Lambda))\n",
    "        brs[8].append(brs[0][-1]+brs[1][-1]+brs[2][-1]+brs[3][-1]+brs[4][-1]+brs[5][-1]+brs[6][-1]+brs[7][-1])\n",
    "            \n",
    "        \n",
    "    #print(lscs)\n",
    "    ctauAlp=constants['InvGeVtocm']/brs[8][-1]\n",
    "\n",
    "    return [brs[finalStateCode][-1]/brs[8][-1],ctauAlp]"
   ]
  },
  {
   "cell_type": "code",
   "execution_count": 70,
   "id": "smart-hepatitis",
   "metadata": {
    "scrolled": true
   },
   "outputs": [
    {
     "name": "stderr",
     "output_type": "stream",
     "text": [
      "/tmp/ipykernel_95347/3820465716.py:48: ComplexWarning: Casting complex values to real discards the imaginary part\n",
      "  return float(gamma)\n"
     ]
    },
    {
     "ename": "KeyboardInterrupt",
     "evalue": "",
     "output_type": "error",
     "traceback": [
      "\u001b[0;31m---------------------------------------------------------------------------\u001b[0m",
      "\u001b[0;31mKeyboardInterrupt\u001b[0m                         Traceback (most recent call last)",
      "\u001b[0;32m/tmp/ipykernel_95347/2728191556.py\u001b[0m in \u001b[0;36m<module>\u001b[0;34m\u001b[0m\n\u001b[0;32m----> 1\u001b[0;31m \u001b[0mbrsALP\u001b[0m\u001b[0;34m(\u001b[0m\u001b[0;36m0\u001b[0m\u001b[0;34m,\u001b[0m\u001b[0;36m0\u001b[0m\u001b[0;34m,\u001b[0m\u001b[0;36m0\u001b[0m\u001b[0;34m,\u001b[0m\u001b[0;36m0\u001b[0m\u001b[0;34m,\u001b[0m\u001b[0;36m0\u001b[0m\u001b[0;34m,\u001b[0m\u001b[0;36m0\u001b[0m\u001b[0;34m,\u001b[0m\u001b[0;36m1\u001b[0m\u001b[0;34m,\u001b[0m\u001b[0;36m0\u001b[0m\u001b[0;34m,\u001b[0m\u001b[0;34m\"cWW=1, all other UV-couplings=0, \\u039B=1TeV\"\u001b[0m\u001b[0;34m,\u001b[0m\u001b[0;36m1000\u001b[0m\u001b[0;34m,\u001b[0m\u001b[0mlower\u001b[0m\u001b[0;34m=\u001b[0m\u001b[0;36m10\u001b[0m\u001b[0;34m**\u001b[0m\u001b[0;34m-\u001b[0m\u001b[0;36m20\u001b[0m\u001b[0;34m)\u001b[0m\u001b[0;34m\u001b[0m\u001b[0;34m\u001b[0m\u001b[0m\n\u001b[0m\u001b[1;32m      2\u001b[0m \u001b[0mbrsALP\u001b[0m\u001b[0;34m(\u001b[0m\u001b[0;36m0\u001b[0m\u001b[0;34m,\u001b[0m\u001b[0;36m1\u001b[0m\u001b[0;34m,\u001b[0m\u001b[0;36m0\u001b[0m\u001b[0;34m,\u001b[0m\u001b[0;36m0\u001b[0m\u001b[0;34m,\u001b[0m\u001b[0;36m0\u001b[0m\u001b[0;34m,\u001b[0m\u001b[0;36m0\u001b[0m\u001b[0;34m,\u001b[0m\u001b[0;36m0\u001b[0m\u001b[0;34m,\u001b[0m\u001b[0;36m0\u001b[0m\u001b[0;34m,\u001b[0m\u001b[0;34m\"cu=1, all other UV-couplings=0, \\u039B=1TeV\"\u001b[0m\u001b[0;34m,\u001b[0m\u001b[0;36m1000\u001b[0m\u001b[0;34m,\u001b[0m\u001b[0mlower\u001b[0m\u001b[0;34m=\u001b[0m\u001b[0;36m10\u001b[0m\u001b[0;34m**\u001b[0m\u001b[0;34m-\u001b[0m\u001b[0;36m20\u001b[0m\u001b[0;34m)\u001b[0m\u001b[0;34m\u001b[0m\u001b[0;34m\u001b[0m\u001b[0m\n\u001b[1;32m      3\u001b[0m \u001b[0mbrsALP\u001b[0m\u001b[0;34m(\u001b[0m\u001b[0;36m1\u001b[0m\u001b[0;34m,\u001b[0m\u001b[0;36m0\u001b[0m\u001b[0;34m,\u001b[0m\u001b[0;36m0\u001b[0m\u001b[0;34m,\u001b[0m\u001b[0;36m0\u001b[0m\u001b[0;34m,\u001b[0m\u001b[0;36m0\u001b[0m\u001b[0;34m,\u001b[0m\u001b[0;36m0\u001b[0m\u001b[0;34m,\u001b[0m\u001b[0;36m0\u001b[0m\u001b[0;34m,\u001b[0m\u001b[0;36m0\u001b[0m\u001b[0;34m,\u001b[0m\u001b[0;34m\"cQ=1, all other UV-couplings=0, \\u039B=1TeV\"\u001b[0m\u001b[0;34m,\u001b[0m\u001b[0;36m1000\u001b[0m\u001b[0;34m,\u001b[0m\u001b[0mlower\u001b[0m\u001b[0;34m=\u001b[0m\u001b[0;36m10\u001b[0m\u001b[0;34m**\u001b[0m\u001b[0;34m-\u001b[0m\u001b[0;36m20\u001b[0m\u001b[0;34m)\u001b[0m\u001b[0;34m\u001b[0m\u001b[0;34m\u001b[0m\u001b[0m\n\u001b[1;32m      4\u001b[0m \u001b[0mbrsALP\u001b[0m\u001b[0;34m(\u001b[0m\u001b[0;36m0\u001b[0m\u001b[0;34m,\u001b[0m\u001b[0;36m0\u001b[0m\u001b[0;34m,\u001b[0m\u001b[0;36m1\u001b[0m\u001b[0;34m,\u001b[0m\u001b[0;36m0\u001b[0m\u001b[0;34m,\u001b[0m\u001b[0;36m0\u001b[0m\u001b[0;34m,\u001b[0m\u001b[0;36m0\u001b[0m\u001b[0;34m,\u001b[0m\u001b[0;36m0\u001b[0m\u001b[0;34m,\u001b[0m\u001b[0;36m0\u001b[0m\u001b[0;34m,\u001b[0m\u001b[0;34m\"cd=1, all other UV-couplings=0, \\u039B=1TeV\"\u001b[0m\u001b[0;34m,\u001b[0m\u001b[0;36m1000\u001b[0m\u001b[0;34m,\u001b[0m\u001b[0mlower\u001b[0m\u001b[0;34m=\u001b[0m\u001b[0;36m10\u001b[0m\u001b[0;34m**\u001b[0m\u001b[0;34m-\u001b[0m\u001b[0;36m20\u001b[0m\u001b[0;34m)\u001b[0m\u001b[0;34m\u001b[0m\u001b[0;34m\u001b[0m\u001b[0m\n",
      "\u001b[0;32m/tmp/ipykernel_95347/2593817824.py\u001b[0m in \u001b[0;36mbrsALP\u001b[0;34m(cQ, cu, cd, cL, ce, cGG, cWW, cBB, title, Lambda, br, lower)\u001b[0m\n\u001b[1;32m     14\u001b[0m         \u001b[0mbrs\u001b[0m \u001b[0;34m=\u001b[0m \u001b[0;34m[\u001b[0m\u001b[0;34m[\u001b[0m\u001b[0;34m]\u001b[0m\u001b[0;34m,\u001b[0m\u001b[0;34m[\u001b[0m\u001b[0;34m]\u001b[0m\u001b[0;34m,\u001b[0m\u001b[0;34m[\u001b[0m\u001b[0;34m]\u001b[0m\u001b[0;34m,\u001b[0m\u001b[0;34m[\u001b[0m\u001b[0;34m]\u001b[0m\u001b[0;34m,\u001b[0m\u001b[0;34m[\u001b[0m\u001b[0;34m]\u001b[0m\u001b[0;34m,\u001b[0m\u001b[0;34m[\u001b[0m\u001b[0;34m]\u001b[0m\u001b[0;34m,\u001b[0m\u001b[0;34m[\u001b[0m\u001b[0;34m]\u001b[0m\u001b[0;34m,\u001b[0m\u001b[0;34m[\u001b[0m\u001b[0;34m]\u001b[0m\u001b[0;34m,\u001b[0m\u001b[0;34m[\u001b[0m\u001b[0;34m]\u001b[0m\u001b[0;34m]\u001b[0m\u001b[0;34m\u001b[0m\u001b[0;34m\u001b[0m\u001b[0m\n\u001b[1;32m     15\u001b[0m         \u001b[0;32mfor\u001b[0m \u001b[0mma\u001b[0m \u001b[0;32min\u001b[0m \u001b[0mmaList\u001b[0m\u001b[0;34m:\u001b[0m\u001b[0;34m\u001b[0m\u001b[0;34m\u001b[0m\u001b[0m\n\u001b[0;32m---> 16\u001b[0;31m             \u001b[0mlscs\u001b[0m \u001b[0;34m=\u001b[0m \u001b[0mTdAlps\u001b[0m\u001b[0;34m.\u001b[0m\u001b[0mRunRotateMatchRun\u001b[0m\u001b[0;34m(\u001b[0m\u001b[0mHC\u001b[0m\u001b[0;34m,\u001b[0m \u001b[0mLambda\u001b[0m\u001b[0;34m,\u001b[0m \u001b[0mma\u001b[0m\u001b[0;34m,\u001b[0m \u001b[0;36m3\u001b[0m\u001b[0;34m)\u001b[0m\u001b[0;34m\u001b[0m\u001b[0;34m\u001b[0m\u001b[0m\n\u001b[0m\u001b[1;32m     17\u001b[0m             \u001b[0mbrs\u001b[0m\u001b[0;34m[\u001b[0m\u001b[0;36m0\u001b[0m\u001b[0;34m]\u001b[0m\u001b[0;34m.\u001b[0m\u001b[0mappend\u001b[0m\u001b[0;34m(\u001b[0m\u001b[0mGammaatoll\u001b[0m\u001b[0;34m(\u001b[0m\u001b[0mma\u001b[0m\u001b[0;34m,\u001b[0m\u001b[0mreadCee\u001b[0m\u001b[0;34m(\u001b[0m\u001b[0mlscs\u001b[0m\u001b[0;34m)\u001b[0m\u001b[0;34m,\u001b[0m\u001b[0msm\u001b[0m\u001b[0;34m[\u001b[0m\u001b[0;34m'me'\u001b[0m\u001b[0;34m]\u001b[0m\u001b[0;34m,\u001b[0m\u001b[0mLambda\u001b[0m\u001b[0;34m)\u001b[0m\u001b[0;34m)\u001b[0m\u001b[0;34m\u001b[0m\u001b[0;34m\u001b[0m\u001b[0m\n\u001b[1;32m     18\u001b[0m             \u001b[0mbrs\u001b[0m\u001b[0;34m[\u001b[0m\u001b[0;36m1\u001b[0m\u001b[0;34m]\u001b[0m\u001b[0;34m.\u001b[0m\u001b[0mappend\u001b[0m\u001b[0;34m(\u001b[0m\u001b[0mGammaatoll\u001b[0m\u001b[0;34m(\u001b[0m\u001b[0mma\u001b[0m\u001b[0;34m,\u001b[0m\u001b[0mreadCmumu\u001b[0m\u001b[0;34m(\u001b[0m\u001b[0mlscs\u001b[0m\u001b[0;34m)\u001b[0m\u001b[0;34m,\u001b[0m\u001b[0msm\u001b[0m\u001b[0;34m[\u001b[0m\u001b[0;34m'mmu'\u001b[0m\u001b[0;34m]\u001b[0m\u001b[0;34m,\u001b[0m\u001b[0mLambda\u001b[0m\u001b[0;34m)\u001b[0m\u001b[0;34m)\u001b[0m\u001b[0;34m\u001b[0m\u001b[0;34m\u001b[0m\u001b[0m\n",
      "\u001b[0;32m~/prj/alps-running/TdAlps-Internal/TdAlps.py\u001b[0m in \u001b[0;36mRunRotateMatchRun\u001b[0;34m(HC, high_scale, low_scale, loops)\u001b[0m\n\u001b[1;32m     56\u001b[0m                 \u001b[0mLR8\u001b[0m\u001b[0;34m[\u001b[0m\u001b[0;34m'D'\u001b[0m\u001b[0;34m]\u001b[0m\u001b[0;34m=\u001b[0m\u001b[0mLR8\u001b[0m\u001b[0;34m[\u001b[0m\u001b[0;34m'D'\u001b[0m\u001b[0;34m]\u001b[0m\u001b[0;34m[\u001b[0m\u001b[0;36m0\u001b[0m\u001b[0;34m:\u001b[0m\u001b[0;34m-\u001b[0m\u001b[0;36m1\u001b[0m\u001b[0;34m,\u001b[0m\u001b[0;36m0\u001b[0m\u001b[0;34m:\u001b[0m\u001b[0;34m-\u001b[0m\u001b[0;36m1\u001b[0m\u001b[0;34m]\u001b[0m\u001b[0;34m\u001b[0m\u001b[0;34m\u001b[0m\u001b[0m\n\u001b[1;32m     57\u001b[0m                 \u001b[0mLR8\u001b[0m\u001b[0;34m[\u001b[0m\u001b[0;34m'd'\u001b[0m\u001b[0;34m]\u001b[0m\u001b[0;34m=\u001b[0m\u001b[0mLR8\u001b[0m\u001b[0;34m[\u001b[0m\u001b[0;34m'd'\u001b[0m\u001b[0;34m]\u001b[0m\u001b[0;34m[\u001b[0m\u001b[0;36m0\u001b[0m\u001b[0;34m:\u001b[0m\u001b[0;34m-\u001b[0m\u001b[0;36m1\u001b[0m\u001b[0;34m,\u001b[0m\u001b[0;36m0\u001b[0m\u001b[0;34m:\u001b[0m\u001b[0;34m-\u001b[0m\u001b[0;36m1\u001b[0m\u001b[0;34m]\u001b[0m\u001b[0;34m\u001b[0m\u001b[0;34m\u001b[0m\u001b[0m\n\u001b[0;32m---> 58\u001b[0;31m                 \u001b[0msol4\u001b[0m \u001b[0;34m=\u001b[0m \u001b[0msolve_ivp\u001b[0m\u001b[0;34m(\u001b[0m\u001b[0mLowRunning\u001b[0m\u001b[0;34m.\u001b[0m\u001b[0mLow_RGE_array7\u001b[0m\u001b[0;34m,\u001b[0m \u001b[0;34m[\u001b[0m\u001b[0mp\u001b[0m\u001b[0;34m[\u001b[0m\u001b[0;34m'mb'\u001b[0m\u001b[0;34m]\u001b[0m\u001b[0;34m,\u001b[0m \u001b[0mp\u001b[0m\u001b[0;34m[\u001b[0m\u001b[0;34m'mtau'\u001b[0m\u001b[0;34m]\u001b[0m\u001b[0;34m]\u001b[0m\u001b[0;34m,\u001b[0m \u001b[0mtools\u001b[0m\u001b[0;34m.\u001b[0m\u001b[0mdict2array7\u001b[0m\u001b[0;34m(\u001b[0m\u001b[0mLR8\u001b[0m\u001b[0;34m)\u001b[0m\u001b[0;34m,\u001b[0m \u001b[0margs\u001b[0m\u001b[0;34m=\u001b[0m\u001b[0;34m[\u001b[0m\u001b[0mloops\u001b[0m\u001b[0;34m,\u001b[0m\u001b[0;36m7\u001b[0m\u001b[0;34m]\u001b[0m\u001b[0;34m)\u001b[0m\u001b[0;34m\u001b[0m\u001b[0;34m\u001b[0m\u001b[0m\n\u001b[0m\u001b[1;32m     59\u001b[0m                 \u001b[0mLR7\u001b[0m \u001b[0;34m=\u001b[0m \u001b[0mtools\u001b[0m\u001b[0;34m.\u001b[0m\u001b[0marray2dict7\u001b[0m\u001b[0;34m(\u001b[0m\u001b[0msol4\u001b[0m\u001b[0;34m.\u001b[0m\u001b[0my\u001b[0m\u001b[0;34m[\u001b[0m\u001b[0;34m:\u001b[0m\u001b[0;34m,\u001b[0m \u001b[0;34m-\u001b[0m\u001b[0;36m1\u001b[0m\u001b[0;34m]\u001b[0m\u001b[0;34m)\u001b[0m\u001b[0;34m\u001b[0m\u001b[0;34m\u001b[0m\u001b[0m\n\u001b[1;32m     60\u001b[0m                 \u001b[0;32mif\u001b[0m \u001b[0mlow_scale\u001b[0m\u001b[0;34m>=\u001b[0m\u001b[0mp\u001b[0m\u001b[0;34m[\u001b[0m\u001b[0;34m'mc'\u001b[0m\u001b[0;34m]\u001b[0m\u001b[0;34m:\u001b[0m\u001b[0;34m\u001b[0m\u001b[0;34m\u001b[0m\u001b[0m\n",
      "\u001b[0;32m~/.local/lib/python3.9/site-packages/scipy/integrate/_ivp/ivp.py\u001b[0m in \u001b[0;36msolve_ivp\u001b[0;34m(fun, t_span, y0, method, t_eval, dense_output, events, vectorized, args, **options)\u001b[0m\n\u001b[1;32m    574\u001b[0m     \u001b[0mstatus\u001b[0m \u001b[0;34m=\u001b[0m \u001b[0;32mNone\u001b[0m\u001b[0;34m\u001b[0m\u001b[0;34m\u001b[0m\u001b[0m\n\u001b[1;32m    575\u001b[0m     \u001b[0;32mwhile\u001b[0m \u001b[0mstatus\u001b[0m \u001b[0;32mis\u001b[0m \u001b[0;32mNone\u001b[0m\u001b[0;34m:\u001b[0m\u001b[0;34m\u001b[0m\u001b[0;34m\u001b[0m\u001b[0m\n\u001b[0;32m--> 576\u001b[0;31m         \u001b[0mmessage\u001b[0m \u001b[0;34m=\u001b[0m \u001b[0msolver\u001b[0m\u001b[0;34m.\u001b[0m\u001b[0mstep\u001b[0m\u001b[0;34m(\u001b[0m\u001b[0;34m)\u001b[0m\u001b[0;34m\u001b[0m\u001b[0;34m\u001b[0m\u001b[0m\n\u001b[0m\u001b[1;32m    577\u001b[0m \u001b[0;34m\u001b[0m\u001b[0m\n\u001b[1;32m    578\u001b[0m         \u001b[0;32mif\u001b[0m \u001b[0msolver\u001b[0m\u001b[0;34m.\u001b[0m\u001b[0mstatus\u001b[0m \u001b[0;34m==\u001b[0m \u001b[0;34m'finished'\u001b[0m\u001b[0;34m:\u001b[0m\u001b[0;34m\u001b[0m\u001b[0;34m\u001b[0m\u001b[0m\n",
      "\u001b[0;32m~/.local/lib/python3.9/site-packages/scipy/integrate/_ivp/base.py\u001b[0m in \u001b[0;36mstep\u001b[0;34m(self)\u001b[0m\n\u001b[1;32m    179\u001b[0m         \u001b[0;32melse\u001b[0m\u001b[0;34m:\u001b[0m\u001b[0;34m\u001b[0m\u001b[0;34m\u001b[0m\u001b[0m\n\u001b[1;32m    180\u001b[0m             \u001b[0mt\u001b[0m \u001b[0;34m=\u001b[0m \u001b[0mself\u001b[0m\u001b[0;34m.\u001b[0m\u001b[0mt\u001b[0m\u001b[0;34m\u001b[0m\u001b[0;34m\u001b[0m\u001b[0m\n\u001b[0;32m--> 181\u001b[0;31m             \u001b[0msuccess\u001b[0m\u001b[0;34m,\u001b[0m \u001b[0mmessage\u001b[0m \u001b[0;34m=\u001b[0m \u001b[0mself\u001b[0m\u001b[0;34m.\u001b[0m\u001b[0m_step_impl\u001b[0m\u001b[0;34m(\u001b[0m\u001b[0;34m)\u001b[0m\u001b[0;34m\u001b[0m\u001b[0;34m\u001b[0m\u001b[0m\n\u001b[0m\u001b[1;32m    182\u001b[0m \u001b[0;34m\u001b[0m\u001b[0m\n\u001b[1;32m    183\u001b[0m             \u001b[0;32mif\u001b[0m \u001b[0;32mnot\u001b[0m \u001b[0msuccess\u001b[0m\u001b[0;34m:\u001b[0m\u001b[0;34m\u001b[0m\u001b[0;34m\u001b[0m\u001b[0m\n",
      "\u001b[0;32m~/.local/lib/python3.9/site-packages/scipy/integrate/_ivp/rk.py\u001b[0m in \u001b[0;36m_step_impl\u001b[0;34m(self)\u001b[0m\n\u001b[1;32m    142\u001b[0m             \u001b[0mh_abs\u001b[0m \u001b[0;34m=\u001b[0m \u001b[0mnp\u001b[0m\u001b[0;34m.\u001b[0m\u001b[0mabs\u001b[0m\u001b[0;34m(\u001b[0m\u001b[0mh\u001b[0m\u001b[0;34m)\u001b[0m\u001b[0;34m\u001b[0m\u001b[0;34m\u001b[0m\u001b[0m\n\u001b[1;32m    143\u001b[0m \u001b[0;34m\u001b[0m\u001b[0m\n\u001b[0;32m--> 144\u001b[0;31m             y_new, f_new = rk_step(self.fun, t, y, self.f, h, self.A,\n\u001b[0m\u001b[1;32m    145\u001b[0m                                    self.B, self.C, self.K)\n\u001b[1;32m    146\u001b[0m             \u001b[0mscale\u001b[0m \u001b[0;34m=\u001b[0m \u001b[0matol\u001b[0m \u001b[0;34m+\u001b[0m \u001b[0mnp\u001b[0m\u001b[0;34m.\u001b[0m\u001b[0mmaximum\u001b[0m\u001b[0;34m(\u001b[0m\u001b[0mnp\u001b[0m\u001b[0;34m.\u001b[0m\u001b[0mabs\u001b[0m\u001b[0;34m(\u001b[0m\u001b[0my\u001b[0m\u001b[0;34m)\u001b[0m\u001b[0;34m,\u001b[0m \u001b[0mnp\u001b[0m\u001b[0;34m.\u001b[0m\u001b[0mabs\u001b[0m\u001b[0;34m(\u001b[0m\u001b[0my_new\u001b[0m\u001b[0;34m)\u001b[0m\u001b[0;34m)\u001b[0m \u001b[0;34m*\u001b[0m \u001b[0mrtol\u001b[0m\u001b[0;34m\u001b[0m\u001b[0;34m\u001b[0m\u001b[0m\n",
      "\u001b[0;32m~/.local/lib/python3.9/site-packages/scipy/integrate/_ivp/rk.py\u001b[0m in \u001b[0;36mrk_step\u001b[0;34m(fun, t, y, f, h, A, B, C, K)\u001b[0m\n\u001b[1;32m     62\u001b[0m     \u001b[0;32mfor\u001b[0m \u001b[0ms\u001b[0m\u001b[0;34m,\u001b[0m \u001b[0;34m(\u001b[0m\u001b[0ma\u001b[0m\u001b[0;34m,\u001b[0m \u001b[0mc\u001b[0m\u001b[0;34m)\u001b[0m \u001b[0;32min\u001b[0m \u001b[0menumerate\u001b[0m\u001b[0;34m(\u001b[0m\u001b[0mzip\u001b[0m\u001b[0;34m(\u001b[0m\u001b[0mA\u001b[0m\u001b[0;34m[\u001b[0m\u001b[0;36m1\u001b[0m\u001b[0;34m:\u001b[0m\u001b[0;34m]\u001b[0m\u001b[0;34m,\u001b[0m \u001b[0mC\u001b[0m\u001b[0;34m[\u001b[0m\u001b[0;36m1\u001b[0m\u001b[0;34m:\u001b[0m\u001b[0;34m]\u001b[0m\u001b[0;34m)\u001b[0m\u001b[0;34m,\u001b[0m \u001b[0mstart\u001b[0m\u001b[0;34m=\u001b[0m\u001b[0;36m1\u001b[0m\u001b[0;34m)\u001b[0m\u001b[0;34m:\u001b[0m\u001b[0;34m\u001b[0m\u001b[0;34m\u001b[0m\u001b[0m\n\u001b[1;32m     63\u001b[0m         \u001b[0mdy\u001b[0m \u001b[0;34m=\u001b[0m \u001b[0mnp\u001b[0m\u001b[0;34m.\u001b[0m\u001b[0mdot\u001b[0m\u001b[0;34m(\u001b[0m\u001b[0mK\u001b[0m\u001b[0;34m[\u001b[0m\u001b[0;34m:\u001b[0m\u001b[0ms\u001b[0m\u001b[0;34m]\u001b[0m\u001b[0;34m.\u001b[0m\u001b[0mT\u001b[0m\u001b[0;34m,\u001b[0m \u001b[0ma\u001b[0m\u001b[0;34m[\u001b[0m\u001b[0;34m:\u001b[0m\u001b[0ms\u001b[0m\u001b[0;34m]\u001b[0m\u001b[0;34m)\u001b[0m \u001b[0;34m*\u001b[0m \u001b[0mh\u001b[0m\u001b[0;34m\u001b[0m\u001b[0;34m\u001b[0m\u001b[0m\n\u001b[0;32m---> 64\u001b[0;31m         \u001b[0mK\u001b[0m\u001b[0;34m[\u001b[0m\u001b[0ms\u001b[0m\u001b[0;34m]\u001b[0m \u001b[0;34m=\u001b[0m \u001b[0mfun\u001b[0m\u001b[0;34m(\u001b[0m\u001b[0mt\u001b[0m \u001b[0;34m+\u001b[0m \u001b[0mc\u001b[0m \u001b[0;34m*\u001b[0m \u001b[0mh\u001b[0m\u001b[0;34m,\u001b[0m \u001b[0my\u001b[0m \u001b[0;34m+\u001b[0m \u001b[0mdy\u001b[0m\u001b[0;34m)\u001b[0m\u001b[0;34m\u001b[0m\u001b[0;34m\u001b[0m\u001b[0m\n\u001b[0m\u001b[1;32m     65\u001b[0m \u001b[0;34m\u001b[0m\u001b[0m\n\u001b[1;32m     66\u001b[0m     \u001b[0my_new\u001b[0m \u001b[0;34m=\u001b[0m \u001b[0my\u001b[0m \u001b[0;34m+\u001b[0m \u001b[0mh\u001b[0m \u001b[0;34m*\u001b[0m \u001b[0mnp\u001b[0m\u001b[0;34m.\u001b[0m\u001b[0mdot\u001b[0m\u001b[0;34m(\u001b[0m\u001b[0mK\u001b[0m\u001b[0;34m[\u001b[0m\u001b[0;34m:\u001b[0m\u001b[0;34m-\u001b[0m\u001b[0;36m1\u001b[0m\u001b[0;34m]\u001b[0m\u001b[0;34m.\u001b[0m\u001b[0mT\u001b[0m\u001b[0;34m,\u001b[0m \u001b[0mB\u001b[0m\u001b[0;34m)\u001b[0m\u001b[0;34m\u001b[0m\u001b[0;34m\u001b[0m\u001b[0m\n",
      "\u001b[0;32m~/.local/lib/python3.9/site-packages/scipy/integrate/_ivp/base.py\u001b[0m in \u001b[0;36mfun\u001b[0;34m(t, y)\u001b[0m\n\u001b[1;32m    136\u001b[0m         \u001b[0;32mdef\u001b[0m \u001b[0mfun\u001b[0m\u001b[0;34m(\u001b[0m\u001b[0mt\u001b[0m\u001b[0;34m,\u001b[0m \u001b[0my\u001b[0m\u001b[0;34m)\u001b[0m\u001b[0;34m:\u001b[0m\u001b[0;34m\u001b[0m\u001b[0;34m\u001b[0m\u001b[0m\n\u001b[1;32m    137\u001b[0m             \u001b[0mself\u001b[0m\u001b[0;34m.\u001b[0m\u001b[0mnfev\u001b[0m \u001b[0;34m+=\u001b[0m \u001b[0;36m1\u001b[0m\u001b[0;34m\u001b[0m\u001b[0;34m\u001b[0m\u001b[0m\n\u001b[0;32m--> 138\u001b[0;31m             \u001b[0;32mreturn\u001b[0m \u001b[0mself\u001b[0m\u001b[0;34m.\u001b[0m\u001b[0mfun_single\u001b[0m\u001b[0;34m(\u001b[0m\u001b[0mt\u001b[0m\u001b[0;34m,\u001b[0m \u001b[0my\u001b[0m\u001b[0;34m)\u001b[0m\u001b[0;34m\u001b[0m\u001b[0;34m\u001b[0m\u001b[0m\n\u001b[0m\u001b[1;32m    139\u001b[0m \u001b[0;34m\u001b[0m\u001b[0m\n\u001b[1;32m    140\u001b[0m         \u001b[0mself\u001b[0m\u001b[0;34m.\u001b[0m\u001b[0mfun\u001b[0m \u001b[0;34m=\u001b[0m \u001b[0mfun\u001b[0m\u001b[0;34m\u001b[0m\u001b[0;34m\u001b[0m\u001b[0m\n",
      "\u001b[0;32m~/.local/lib/python3.9/site-packages/scipy/integrate/_ivp/base.py\u001b[0m in \u001b[0;36mfun_wrapped\u001b[0;34m(t, y)\u001b[0m\n\u001b[1;32m     18\u001b[0m \u001b[0;34m\u001b[0m\u001b[0m\n\u001b[1;32m     19\u001b[0m     \u001b[0;32mdef\u001b[0m \u001b[0mfun_wrapped\u001b[0m\u001b[0;34m(\u001b[0m\u001b[0mt\u001b[0m\u001b[0;34m,\u001b[0m \u001b[0my\u001b[0m\u001b[0;34m)\u001b[0m\u001b[0;34m:\u001b[0m\u001b[0;34m\u001b[0m\u001b[0;34m\u001b[0m\u001b[0m\n\u001b[0;32m---> 20\u001b[0;31m         \u001b[0;32mreturn\u001b[0m \u001b[0mnp\u001b[0m\u001b[0;34m.\u001b[0m\u001b[0masarray\u001b[0m\u001b[0;34m(\u001b[0m\u001b[0mfun\u001b[0m\u001b[0;34m(\u001b[0m\u001b[0mt\u001b[0m\u001b[0;34m,\u001b[0m \u001b[0my\u001b[0m\u001b[0;34m)\u001b[0m\u001b[0;34m,\u001b[0m \u001b[0mdtype\u001b[0m\u001b[0;34m=\u001b[0m\u001b[0mdtype\u001b[0m\u001b[0;34m)\u001b[0m\u001b[0;34m\u001b[0m\u001b[0;34m\u001b[0m\u001b[0m\n\u001b[0m\u001b[1;32m     21\u001b[0m \u001b[0;34m\u001b[0m\u001b[0m\n\u001b[1;32m     22\u001b[0m     \u001b[0;32mreturn\u001b[0m \u001b[0mfun_wrapped\u001b[0m\u001b[0;34m,\u001b[0m \u001b[0my0\u001b[0m\u001b[0;34m\u001b[0m\u001b[0;34m\u001b[0m\u001b[0m\n",
      "\u001b[0;32m~/.local/lib/python3.9/site-packages/scipy/integrate/_ivp/ivp.py\u001b[0m in \u001b[0;36m<lambda>\u001b[0;34m(t, x, fun)\u001b[0m\n\u001b[1;32m    512\u001b[0m         \u001b[0;31m# additional parameters.  Pass in the original fun as a keyword\u001b[0m\u001b[0;34m\u001b[0m\u001b[0;34m\u001b[0m\u001b[0m\n\u001b[1;32m    513\u001b[0m         \u001b[0;31m# argument to keep it in the scope of the lambda.\u001b[0m\u001b[0;34m\u001b[0m\u001b[0;34m\u001b[0m\u001b[0m\n\u001b[0;32m--> 514\u001b[0;31m         \u001b[0mfun\u001b[0m \u001b[0;34m=\u001b[0m \u001b[0;32mlambda\u001b[0m \u001b[0mt\u001b[0m\u001b[0;34m,\u001b[0m \u001b[0mx\u001b[0m\u001b[0;34m,\u001b[0m \u001b[0mfun\u001b[0m\u001b[0;34m=\u001b[0m\u001b[0mfun\u001b[0m\u001b[0;34m:\u001b[0m \u001b[0mfun\u001b[0m\u001b[0;34m(\u001b[0m\u001b[0mt\u001b[0m\u001b[0;34m,\u001b[0m \u001b[0mx\u001b[0m\u001b[0;34m,\u001b[0m \u001b[0;34m*\u001b[0m\u001b[0margs\u001b[0m\u001b[0;34m)\u001b[0m\u001b[0;34m\u001b[0m\u001b[0;34m\u001b[0m\u001b[0m\n\u001b[0m\u001b[1;32m    515\u001b[0m         \u001b[0mjac\u001b[0m \u001b[0;34m=\u001b[0m \u001b[0moptions\u001b[0m\u001b[0;34m.\u001b[0m\u001b[0mget\u001b[0m\u001b[0;34m(\u001b[0m\u001b[0;34m'jac'\u001b[0m\u001b[0;34m)\u001b[0m\u001b[0;34m\u001b[0m\u001b[0;34m\u001b[0m\u001b[0m\n\u001b[1;32m    516\u001b[0m         \u001b[0;32mif\u001b[0m \u001b[0mcallable\u001b[0m\u001b[0;34m(\u001b[0m\u001b[0mjac\u001b[0m\u001b[0;34m)\u001b[0m\u001b[0;34m:\u001b[0m\u001b[0;34m\u001b[0m\u001b[0;34m\u001b[0m\u001b[0m\n",
      "\u001b[0;32m~/prj/alps-running/TdAlps-Internal/LowRunning.py\u001b[0m in \u001b[0;36mLow_RGE_array7\u001b[0;34m(mu, MKa, loop_order, n_charged_fermions)\u001b[0m\n\u001b[1;32m    112\u001b[0m \u001b[0;32mdef\u001b[0m \u001b[0mLow_RGE_array7\u001b[0m\u001b[0;34m(\u001b[0m\u001b[0mmu\u001b[0m\u001b[0;34m,\u001b[0m \u001b[0mMKa\u001b[0m\u001b[0;34m,\u001b[0m \u001b[0mloop_order\u001b[0m\u001b[0;34m,\u001b[0m\u001b[0mn_charged_fermions\u001b[0m\u001b[0;34m)\u001b[0m\u001b[0;34m:\u001b[0m\u001b[0;34m\u001b[0m\u001b[0;34m\u001b[0m\u001b[0m\n\u001b[1;32m    113\u001b[0m     \u001b[0mMKd\u001b[0m\u001b[0;34m=\u001b[0m\u001b[0mtools\u001b[0m\u001b[0;34m.\u001b[0m\u001b[0marray2dict7\u001b[0m\u001b[0;34m(\u001b[0m\u001b[0mMKa\u001b[0m\u001b[0;34m)\u001b[0m\u001b[0;34m\u001b[0m\u001b[0;34m\u001b[0m\u001b[0m\n\u001b[0;32m--> 114\u001b[0;31m     \u001b[0mbeta\u001b[0m\u001b[0;34m=\u001b[0m\u001b[0mLow_RGE\u001b[0m\u001b[0;34m(\u001b[0m\u001b[0mmu\u001b[0m\u001b[0;34m,\u001b[0m \u001b[0mMKd\u001b[0m\u001b[0;34m,\u001b[0m \u001b[0mloop_order\u001b[0m\u001b[0;34m,\u001b[0m\u001b[0mn_charged_fermions\u001b[0m\u001b[0;34m)\u001b[0m\u001b[0;34m\u001b[0m\u001b[0;34m\u001b[0m\u001b[0m\n\u001b[0m\u001b[1;32m    115\u001b[0m     \u001b[0;32mreturn\u001b[0m \u001b[0mtools\u001b[0m\u001b[0;34m.\u001b[0m\u001b[0mdict2array7\u001b[0m\u001b[0;34m(\u001b[0m\u001b[0mbeta\u001b[0m\u001b[0;34m)\u001b[0m\u001b[0;34m\u001b[0m\u001b[0;34m\u001b[0m\u001b[0m\n\u001b[1;32m    116\u001b[0m \u001b[0;34m\u001b[0m\u001b[0m\n",
      "\u001b[0;32m~/prj/alps-running/TdAlps-Internal/LowRunning.py\u001b[0m in \u001b[0;36mLow_RGE\u001b[0;34m(mu, MK, loop_order, n_charged_fermions)\u001b[0m\n\u001b[1;32m     38\u001b[0m     \u001b[0mbeta\u001b[0m\u001b[0;34m[\u001b[0m\u001b[0;34m'd'\u001b[0m\u001b[0;34m]\u001b[0m\u001b[0;34m=\u001b[0m\u001b[0mnp\u001b[0m\u001b[0;34m.\u001b[0m\u001b[0marray\u001b[0m\u001b[0;34m(\u001b[0m\u001b[0;34m[\u001b[0m\u001b[0;34m[\u001b[0m\u001b[0;36m0.\u001b[0m\u001b[0;34m+\u001b[0m\u001b[0;36m0j\u001b[0m\u001b[0;34m,\u001b[0m\u001b[0;36m0.\u001b[0m\u001b[0;34m+\u001b[0m\u001b[0;36m0j\u001b[0m\u001b[0;34m,\u001b[0m\u001b[0;36m0.\u001b[0m\u001b[0;34m+\u001b[0m\u001b[0;36m0j\u001b[0m\u001b[0;34m]\u001b[0m\u001b[0;34m,\u001b[0m\u001b[0;34m[\u001b[0m\u001b[0;36m0.\u001b[0m\u001b[0;34m+\u001b[0m\u001b[0;36m0j\u001b[0m\u001b[0;34m,\u001b[0m\u001b[0;36m0.\u001b[0m\u001b[0;34m+\u001b[0m\u001b[0;36m0j\u001b[0m\u001b[0;34m,\u001b[0m\u001b[0;36m0.\u001b[0m\u001b[0;34m+\u001b[0m\u001b[0;36m0j\u001b[0m\u001b[0;34m]\u001b[0m\u001b[0;34m,\u001b[0m\u001b[0;34m[\u001b[0m\u001b[0;36m0.\u001b[0m\u001b[0;34m+\u001b[0m\u001b[0;36m0j\u001b[0m\u001b[0;34m,\u001b[0m\u001b[0;36m0.\u001b[0m\u001b[0;34m+\u001b[0m\u001b[0;36m0j\u001b[0m\u001b[0;34m,\u001b[0m\u001b[0;36m0.\u001b[0m\u001b[0;34m+\u001b[0m\u001b[0;36m0j\u001b[0m\u001b[0;34m]\u001b[0m\u001b[0;34m]\u001b[0m\u001b[0;34m)\u001b[0m\u001b[0;34m\u001b[0m\u001b[0;34m\u001b[0m\u001b[0m\n\u001b[1;32m     39\u001b[0m     \u001b[0mbeta\u001b[0m\u001b[0;34m[\u001b[0m\u001b[0;34m'E'\u001b[0m\u001b[0;34m]\u001b[0m\u001b[0;34m=\u001b[0m\u001b[0mnp\u001b[0m\u001b[0;34m.\u001b[0m\u001b[0marray\u001b[0m\u001b[0;34m(\u001b[0m\u001b[0;34m[\u001b[0m\u001b[0;34m[\u001b[0m\u001b[0;36m0.\u001b[0m\u001b[0;34m+\u001b[0m\u001b[0;36m0j\u001b[0m\u001b[0;34m,\u001b[0m\u001b[0;36m0.\u001b[0m\u001b[0;34m+\u001b[0m\u001b[0;36m0j\u001b[0m\u001b[0;34m,\u001b[0m\u001b[0;36m0.\u001b[0m\u001b[0;34m+\u001b[0m\u001b[0;36m0j\u001b[0m\u001b[0;34m]\u001b[0m\u001b[0;34m,\u001b[0m\u001b[0;34m[\u001b[0m\u001b[0;36m0.\u001b[0m\u001b[0;34m+\u001b[0m\u001b[0;36m0j\u001b[0m\u001b[0;34m,\u001b[0m\u001b[0;36m0.\u001b[0m\u001b[0;34m+\u001b[0m\u001b[0;36m0j\u001b[0m\u001b[0;34m,\u001b[0m\u001b[0;36m0.\u001b[0m\u001b[0;34m+\u001b[0m\u001b[0;36m0j\u001b[0m\u001b[0;34m]\u001b[0m\u001b[0;34m,\u001b[0m\u001b[0;34m[\u001b[0m\u001b[0;36m0.\u001b[0m\u001b[0;34m+\u001b[0m\u001b[0;36m0j\u001b[0m\u001b[0;34m,\u001b[0m\u001b[0;36m0.\u001b[0m\u001b[0;34m+\u001b[0m\u001b[0;36m0j\u001b[0m\u001b[0;34m,\u001b[0m\u001b[0;36m0.\u001b[0m\u001b[0;34m+\u001b[0m\u001b[0;36m0j\u001b[0m\u001b[0;34m]\u001b[0m\u001b[0;34m]\u001b[0m\u001b[0;34m)\u001b[0m\u001b[0;34m\u001b[0m\u001b[0;34m\u001b[0m\u001b[0m\n\u001b[0;32m---> 40\u001b[0;31m     \u001b[0mbeta\u001b[0m\u001b[0;34m[\u001b[0m\u001b[0;34m'e'\u001b[0m\u001b[0;34m]\u001b[0m\u001b[0;34m=\u001b[0m\u001b[0mnp\u001b[0m\u001b[0;34m.\u001b[0m\u001b[0marray\u001b[0m\u001b[0;34m(\u001b[0m\u001b[0;34m[\u001b[0m\u001b[0;34m[\u001b[0m\u001b[0;36m0.\u001b[0m\u001b[0;34m+\u001b[0m\u001b[0;36m0j\u001b[0m\u001b[0;34m,\u001b[0m\u001b[0;36m0.\u001b[0m\u001b[0;34m+\u001b[0m\u001b[0;36m0j\u001b[0m\u001b[0;34m,\u001b[0m\u001b[0;36m0.\u001b[0m\u001b[0;34m+\u001b[0m\u001b[0;36m0j\u001b[0m\u001b[0;34m]\u001b[0m\u001b[0;34m,\u001b[0m\u001b[0;34m[\u001b[0m\u001b[0;36m0.\u001b[0m\u001b[0;34m+\u001b[0m\u001b[0;36m0j\u001b[0m\u001b[0;34m,\u001b[0m\u001b[0;36m0.\u001b[0m\u001b[0;34m+\u001b[0m\u001b[0;36m0j\u001b[0m\u001b[0;34m,\u001b[0m\u001b[0;36m0.\u001b[0m\u001b[0;34m+\u001b[0m\u001b[0;36m0j\u001b[0m\u001b[0;34m]\u001b[0m\u001b[0;34m,\u001b[0m\u001b[0;34m[\u001b[0m\u001b[0;36m0.\u001b[0m\u001b[0;34m+\u001b[0m\u001b[0;36m0j\u001b[0m\u001b[0;34m,\u001b[0m\u001b[0;36m0.\u001b[0m\u001b[0;34m+\u001b[0m\u001b[0;36m0j\u001b[0m\u001b[0;34m,\u001b[0m\u001b[0;36m0.\u001b[0m\u001b[0;34m+\u001b[0m\u001b[0;36m0j\u001b[0m\u001b[0;34m]\u001b[0m\u001b[0;34m]\u001b[0m\u001b[0;34m)\u001b[0m\u001b[0;34m\u001b[0m\u001b[0;34m\u001b[0m\u001b[0m\n\u001b[0m\u001b[1;32m     41\u001b[0m     \u001b[0mbeta\u001b[0m\u001b[0;34m[\u001b[0m\u001b[0;34m'nu'\u001b[0m\u001b[0;34m]\u001b[0m\u001b[0;34m=\u001b[0m\u001b[0mnp\u001b[0m\u001b[0;34m.\u001b[0m\u001b[0marray\u001b[0m\u001b[0;34m(\u001b[0m\u001b[0;34m[\u001b[0m\u001b[0;34m[\u001b[0m\u001b[0;36m0.\u001b[0m\u001b[0;34m+\u001b[0m\u001b[0;36m0j\u001b[0m\u001b[0;34m,\u001b[0m\u001b[0;36m0.\u001b[0m\u001b[0;34m+\u001b[0m\u001b[0;36m0j\u001b[0m\u001b[0;34m,\u001b[0m\u001b[0;36m0.\u001b[0m\u001b[0;34m+\u001b[0m\u001b[0;36m0j\u001b[0m\u001b[0;34m]\u001b[0m\u001b[0;34m,\u001b[0m\u001b[0;34m[\u001b[0m\u001b[0;36m0.\u001b[0m\u001b[0;34m+\u001b[0m\u001b[0;36m0j\u001b[0m\u001b[0;34m,\u001b[0m\u001b[0;36m0.\u001b[0m\u001b[0;34m+\u001b[0m\u001b[0;36m0j\u001b[0m\u001b[0;34m,\u001b[0m\u001b[0;36m0.\u001b[0m\u001b[0;34m+\u001b[0m\u001b[0;36m0j\u001b[0m\u001b[0;34m]\u001b[0m\u001b[0;34m,\u001b[0m\u001b[0;34m[\u001b[0m\u001b[0;36m0.\u001b[0m\u001b[0;34m+\u001b[0m\u001b[0;36m0j\u001b[0m\u001b[0;34m,\u001b[0m\u001b[0;36m0.\u001b[0m\u001b[0;34m+\u001b[0m\u001b[0;36m0j\u001b[0m\u001b[0;34m,\u001b[0m\u001b[0;36m0.\u001b[0m\u001b[0;34m+\u001b[0m\u001b[0;36m0j\u001b[0m\u001b[0;34m]\u001b[0m\u001b[0;34m]\u001b[0m\u001b[0;34m)\u001b[0m\u001b[0;34m\u001b[0m\u001b[0;34m\u001b[0m\u001b[0m\n\u001b[1;32m     42\u001b[0m     \u001b[0mbeta\u001b[0m\u001b[0;34m[\u001b[0m\u001b[0;34m'GG'\u001b[0m\u001b[0;34m]\u001b[0m\u001b[0;34m=\u001b[0m\u001b[0;36m0\u001b[0m\u001b[0;34m+\u001b[0m\u001b[0;36m0j\u001b[0m\u001b[0;34m\u001b[0m\u001b[0;34m\u001b[0m\u001b[0m\n",
      "\u001b[0;31mKeyboardInterrupt\u001b[0m: "
     ]
    }
   ],
   "source": [
    "brsALP(0,0,0,0,0,0,1,0,\"cWW=1, all other UV-couplings=0, \\u039B=1TeV\",1000,lower=10**-20)\n",
    "brsALP(0,1,0,0,0,0,0,0,\"cu=1, all other UV-couplings=0, \\u039B=1TeV\",1000,lower=10**-20)\n",
    "brsALP(1,0,0,0,0,0,0,0,\"cQ=1, all other UV-couplings=0, \\u039B=1TeV\",1000,lower=10**-20)\n",
    "brsALP(0,0,1,0,0,0,0,0,\"cd=1, all other UV-couplings=0, \\u039B=1TeV\",1000,lower=10**-20)"
   ]
  },
  {
   "cell_type": "markdown",
   "id": "motivated-principal",
   "metadata": {},
   "source": [
    "### decays under consideration encoded as\n",
    " - 0: e \n",
    " - 1: mu\n",
    " - 2: tau\n",
    " - 3: charm\n",
    " - 4: bottom\n",
    " - 5: photon\n",
    " - 6: hadron\n",
    " - 7: 3 pions"
   ]
  },
  {
   "cell_type": "markdown",
   "id": "suspended-nation",
   "metadata": {},
   "source": [
    "## Generate [ma, tau, c, BR(theory)] files for Na62"
   ]
  },
  {
   "cell_type": "code",
   "execution_count": 71,
   "id": "relative-angel",
   "metadata": {},
   "outputs": [],
   "source": [
    "Na62Bounds=genfromtxt('../Experimental_files/Na62-BR_m_tau_1911.03490-h.csv', delimiter=',')"
   ]
  },
  {
   "cell_type": "code",
   "execution_count": 72,
   "id": "revised-snake",
   "metadata": {},
   "outputs": [
    {
     "data": {
      "text/plain": [
       "array([0.01      , 0.01211528, 0.01467799, 0.01778279, 0.02154435,\n",
       "       0.02610157, 0.03162278, 0.03831187, 0.04641589, 0.05623413,\n",
       "       0.06812921, 0.08254042, 0.09      , 0.0935    , 0.095     ,\n",
       "       0.1       , 0.101     , 0.12115277, 0.14677993, 0.17782794,\n",
       "       0.21544347, 0.26101572, 0.31622777, 0.38311868, 0.43      ,\n",
       "       0.46415888, 0.47      , 0.55      , 0.56234133, 0.63      ,\n",
       "       0.65      , 0.68129207, 0.82540419, 0.95      , 1.        ,\n",
       "       1.        , 1.5       , 2.        , 2.5       , 3.        ,\n",
       "       3.2       , 3.5       , 4.        ])"
      ]
     },
     "execution_count": 72,
     "metadata": {},
     "output_type": "execute_result"
    }
   ],
   "source": [
    "masslist"
   ]
  },
  {
   "cell_type": "code",
   "execution_count": 73,
   "id": "lesser-greece",
   "metadata": {},
   "outputs": [
    {
     "data": {
      "text/plain": [
       "array([0.   , 0.01 , 0.02 , 0.03 , 0.04 , 0.05 , 0.06 , 0.07 , 0.08 ,\n",
       "       0.09 , 0.1  , 0.11 , 0.154, 0.156, 0.158, 0.16 , 0.162, 0.164,\n",
       "       0.166, 0.168, 0.17 , 0.172, 0.174, 0.176, 0.178, 0.18 , 0.182,\n",
       "       0.184, 0.186, 0.188, 0.19 , 0.192, 0.194, 0.196, 0.198, 0.2  ,\n",
       "       0.202, 0.204, 0.206, 0.208, 0.21 , 0.212, 0.214, 0.216, 0.218,\n",
       "       0.22 , 0.222, 0.224, 0.226, 0.228, 0.23 , 0.232, 0.234, 0.236,\n",
       "       0.238, 0.24 , 0.242, 0.244, 0.246, 0.248, 0.25 , 0.252, 0.254,\n",
       "       0.256, 0.258, 0.26 ])"
      ]
     },
     "execution_count": 73,
     "metadata": {},
     "output_type": "execute_result"
    }
   ],
   "source": [
    "Na62Bounds[:,0]* 10**-3"
   ]
  },
  {
   "cell_type": "code",
   "execution_count": 101,
   "id": "exciting-viking",
   "metadata": {},
   "outputs": [],
   "source": [
    "couplingListSmallCouplings=np.sort(np.append(np.logspace(-7, 4, 20),np.logspace(-1, 2, 20)))"
   ]
  },
  {
   "cell_type": "code",
   "execution_count": 144,
   "id": "163297c0",
   "metadata": {},
   "outputs": [
    {
     "data": {
      "text/plain": [
       "array([1.00000000e-07, 3.79269019e-07, 1.43844989e-06, 5.45559478e-06,\n",
       "       2.06913808e-05, 7.84759970e-05, 2.97635144e-04, 1.12883789e-03,\n",
       "       4.28133240e-03, 1.62377674e-02, 6.15848211e-02, 1.00000000e-01,\n",
       "       1.43844989e-01, 2.06913808e-01, 2.33572147e-01, 2.97635144e-01,\n",
       "       4.28133240e-01, 6.15848211e-01, 8.85866790e-01, 8.85866790e-01,\n",
       "       1.27427499e+00, 1.83298071e+00, 2.63665090e+00, 3.35981829e+00,\n",
       "       3.79269019e+00, 5.45559478e+00, 7.84759970e+00, 1.12883789e+01,\n",
       "       1.27427499e+01, 1.62377674e+01, 2.33572147e+01, 3.35981829e+01,\n",
       "       4.83293024e+01, 4.83293024e+01, 6.95192796e+01, 1.00000000e+02,\n",
       "       1.83298071e+02, 6.95192796e+02, 2.63665090e+03, 1.00000000e+04])"
      ]
     },
     "execution_count": 144,
     "metadata": {},
     "output_type": "execute_result"
    }
   ],
   "source": [
    "couplingListSmallCouplings"
   ]
  },
  {
   "cell_type": "code",
   "execution_count": 127,
   "id": "thermal-cornwall",
   "metadata": {},
   "outputs": [],
   "source": [
    "def generateNa62Files(mlist,clist,process,Lambda):\n",
    "    \n",
    "    with HiddenPrints():\n",
    "    \n",
    "        Na62List=[['# m [GeV], tau [ps], c, BR_theo(K+->pi+ a)\\n']]\n",
    "\n",
    "        for ma in mlist:\n",
    "            for c in clist:\n",
    "\n",
    "#                 if process in ['cff=cWW=cBB']:\n",
    "#                     #print(\"1\")\n",
    "#                     cQ=cL=cWW=cBB=cff=c\n",
    "#                     ce=cd=cu=-c\n",
    "#                     cGG=0\n",
    "\n",
    "                if process in ['cWW']:\n",
    "                    #print(\"2\")\n",
    "                    cQ=cL=cu=cd=ce=cGG=cBB=cff=0\n",
    "                    cWW=c\n",
    "\n",
    "\n",
    "                if process in ['cff']:\n",
    "                    #print(\"3\")\n",
    "                    cGG=cWW=cBB=0\n",
    "                    cQ=cL=cff=c\n",
    "                    ce=cd=cu=-c\n",
    "\n",
    "                coefs=getLScoefficients(cff, cWW, cBB, Lambda, ma)\n",
    "                cbs=getCbs(cff, cWW, cBB, Lambda, sm['mB+'])\n",
    "\n",
    "                BR= BrKtoPiaplus(ma, cbs, Lambda)\n",
    "                tau=ctaua(ma, cff, cWW, cBB, Lambda)/sm['c']*10**12\n",
    "\n",
    "                Na62List.append([ma,tau,c,BR])\n",
    "        return Na62List"
   ]
  },
  {
   "cell_type": "code",
   "execution_count": 128,
   "id": "fourth-macintosh",
   "metadata": {
    "scrolled": false
   },
   "outputs": [
    {
     "name": "stderr",
     "output_type": "stream",
     "text": [
      "/tmp/ipykernel_95347/3820465716.py:48: ComplexWarning: Casting complex values to real discards the imaginary part\n",
      "  return float(gamma)\n"
     ]
    }
   ],
   "source": [
    "meshcWW=generateNa62Files(Na62Bounds[:,0] * 10**-3,couplingListSmallCouplings,'cWW',10**3)\n",
    "meshcff=generateNa62Files(Na62Bounds[:,0] * 10**-3,couplingList,'cff',10**3)"
   ]
  },
  {
   "cell_type": "code",
   "execution_count": 129,
   "id": "expected-palestinian",
   "metadata": {},
   "outputs": [],
   "source": [
    "# with open(\"output/m-tau-c-BRBtoKmumu-cffcWWcBB.dat\", \"w\", newline=\"\") as f:\n",
    "#     writer = csv.writer(f,delimiter=\",\", quoting = csv.QUOTE_NONE,escapechar=' ')\n",
    "#     writer.writerows(meshcffcWWcBB)\n",
    "    \n",
    "with open(\"output/m-tau-c-BRKtoPia-cWW.dat\", \"w\", newline=\"\") as f:\n",
    "    writer = csv.writer(f,delimiter=\",\", quoting = csv.QUOTE_NONE,escapechar=' ')\n",
    "    writer.writerows(meshcWW)\n",
    "    \n",
    "with open(\"output/m-tau-c-BRKtoPia-cff.dat\", \"w\", newline=\"\") as f:\n",
    "    writer = csv.writer(f,delimiter=\",\", quoting = csv.QUOTE_NONE,escapechar=' ')\n",
    "    writer.writerows(meshcff)"
   ]
  },
  {
   "cell_type": "markdown",
   "id": "collected-civilian",
   "metadata": {},
   "source": [
    "### interpolating Na62 files in lifetime and comparing to theo files"
   ]
  },
  {
   "cell_type": "code",
   "execution_count": 130,
   "id": "indoor-complexity",
   "metadata": {},
   "outputs": [],
   "source": [
    "tauListNa62 = np.array([np.Inf, 5*10**-9, 2*10**-9, 1*10**-9, 500*10**(-12), 200*10**(-12),\\\n",
    "                      100*10**(-12),]) # [tau] = s"
   ]
  },
  {
   "cell_type": "code",
   "execution_count": 160,
   "id": "placed-dallas",
   "metadata": {
    "scrolled": true
   },
   "outputs": [],
   "source": [
    "def compareTheoExp(coupling):\n",
    "    theoList = genfromtxt('output/m-tau-c-BRKtoPia-{}.dat'.format(coupling), delimiter=',')\n",
    "#     print(theoList[0])\n",
    "    \n",
    "    allowedlist=[['# m [GeV], tau [ps], c, BR_theo(K+->pi+ a), BR_Na62(K+->pi+ a), Allowed/excluded (1/0)\\n']]\n",
    "    for i in range(0,theoList.shape[0]):\n",
    "        #picking mass and tau from theo file\n",
    "        ma = theoList[i,0]\n",
    "        taua = theoList[i,1]\n",
    "        \n",
    "        # finding the same mass in exp file\n",
    "        expPosition=np.where((Na62Bounds[:,0]/1000 >= ma*(1-0.0001))&(Na62Bounds[:,0]/1000 <= ma*(1+0.0001)))\n",
    "    \n",
    "        #interpolating BRexp so we get it for tau from out theo file\n",
    "        BRexp=np.interp(taua,tauListNa62,Na62Bounds[expPosition,1:][0,0])\n",
    "\n",
    "        # comparing theo and exp bounds (1 = allowed, 0 = excluded)\n",
    "        if BRexp<=theoList[i,3]:\n",
    "            allowedlist.append([theoList[i,0],theoList[i,1],theoList[i,2],theoList[i,3],BRexp,0])\n",
    "        else:\n",
    "            allowedlist.append([theoList[i,0],theoList[i,1],theoList[i,2],theoList[i,3],BRexp,1])\n",
    "\n",
    "        # writing results into a file\n",
    "        with open(\"output/m-tau-c-BRKtoPia-{}_combined.dat\".format(coupling), \"w\", newline=\"\") as f:\n",
    "            writer = csv.writer(f,delimiter=\",\", quoting = csv.QUOTE_NONE,escapechar=' ')\n",
    "            writer.writerows(allowedlist)\n",
    "        "
   ]
  },
  {
   "cell_type": "code",
   "execution_count": 161,
   "id": "9b2fb837",
   "metadata": {},
   "outputs": [],
   "source": [
    "compareTheoExp(\"cWW\")\n",
    "compareTheoExp(\"cff\")"
   ]
  },
  {
   "cell_type": "markdown",
   "id": "talented-component",
   "metadata": {},
   "source": [
    "### importing bounds "
   ]
  },
  {
   "cell_type": "code",
   "execution_count": 162,
   "id": "assured-lottery",
   "metadata": {},
   "outputs": [],
   "source": [
    "Na62BoundscWW = genfromtxt('output/m-tau-c-BRKtoPia-cWW_combined.dat', delimiter=',')\n",
    "Na62Boundscff = genfromtxt('output/m-tau-c-BRKtoPia-cff_combined.dat', delimiter=',')"
   ]
  },
  {
   "cell_type": "code",
   "execution_count": 163,
   "id": "82624ed9",
   "metadata": {},
   "outputs": [
    {
     "data": {
      "text/plain": [
       "array([[0.00000000e+00, 0.00000000e+00, 1.00000000e-07, 9.21542779e-18,\n",
       "        2.02000000e-10, 1.00000000e+00],\n",
       "       [0.00000000e+00, 0.00000000e+00, 3.79269019e-07, 1.32559311e-16,\n",
       "        2.02000000e-10, 1.00000000e+00],\n",
       "       [0.00000000e+00, 0.00000000e+00, 1.43844989e-06, 1.90679926e-15,\n",
       "        2.02000000e-10, 1.00000000e+00],\n",
       "       ...,\n",
       "       [2.60000000e-01, 1.14147966e-05, 6.95192796e+02, 7.76257447e+05,\n",
       "        1.61000000e+00, 0.00000000e+00],\n",
       "       [2.60000000e-01, 7.93543798e-07, 2.63665090e+03, 1.11663586e+07,\n",
       "        1.61000000e+00, 0.00000000e+00],\n",
       "       [2.60000000e-01, 5.51674904e-08, 1.00000000e+04, 1.60653003e+08,\n",
       "        1.61000000e+00, 0.00000000e+00]])"
      ]
     },
     "execution_count": 163,
     "metadata": {},
     "output_type": "execute_result"
    }
   ],
   "source": [
    "Na62BoundscWW"
   ]
  },
  {
   "cell_type": "code",
   "execution_count": 164,
   "id": "2ea51966",
   "metadata": {},
   "outputs": [
    {
     "data": {
      "text/plain": [
       "array([[0.00000000e+00, 0.00000000e+00, 1.00000000e-06, 2.39561234e-11,\n",
       "        2.02000000e-10, 1.00000000e+00],\n",
       "       [0.00000000e+00, 0.00000000e+00, 3.35981829e-06, 2.70425798e-10,\n",
       "        2.02000000e-10, 0.00000000e+00],\n",
       "       [0.00000000e+00, 0.00000000e+00, 1.12883789e-05, 3.05266886e-09,\n",
       "        2.02000000e-10, 0.00000000e+00],\n",
       "       ...,\n",
       "       [2.60000000e-01, 2.85097617e-09, 8.85866790e+02, 3.27818136e+10,\n",
       "        1.61000000e+00, 0.00000000e+00],\n",
       "       [2.60000000e-01, 2.52558511e-10, 2.97635144e+03, 3.70053534e+11,\n",
       "        1.61000000e+00, 0.00000000e+00],\n",
       "       [2.60000000e-01, 2.23733198e-11, 1.00000000e+04, 4.17730451e+12,\n",
       "        1.24000000e-10, 0.00000000e+00]])"
      ]
     },
     "execution_count": 164,
     "metadata": {},
     "output_type": "execute_result"
    }
   ],
   "source": [
    "Na62Boundscff"
   ]
  },
  {
   "cell_type": "markdown",
   "id": "social-relevance",
   "metadata": {},
   "source": [
    "### plots"
   ]
  },
  {
   "cell_type": "code",
   "execution_count": 165,
   "id": "a8341934",
   "metadata": {},
   "outputs": [],
   "source": [
    "def fromLambdatof(inputarray):\n",
    "    tmp=inputarray.copy()\n",
    "    tmp[:,1] *= 4*np.pi\n",
    "    return tmp"
   ]
  },
  {
   "cell_type": "code",
   "execution_count": 166,
   "id": "surprising-community",
   "metadata": {},
   "outputs": [],
   "source": [
    "def plotBounds(boundsArray, particleCode, upper=False):\n",
    "    if upper:\n",
    "        return np.vstack([np.array(masslist),boundsArray[:,particleCode,1]]).T\n",
    "    else:\n",
    "        return np.vstack([np.array(masslist),boundsArray[:,particleCode,0]]).T"
   ]
  },
  {
   "cell_type": "code",
   "execution_count": 167,
   "id": "thrown-mount",
   "metadata": {},
   "outputs": [],
   "source": [
    "def stackBounds(xarray,arrSmattToLarge,arrLargeToSmall):\n",
    "    combinedx=np.append(xarray,np.flip(xarray))\n",
    "    combinedy=np.append(arrSmattToLarge,np.flip(arrLargeToSmall))\n",
    "    \n",
    "    return np.vstack([combinedx,combinedy]).T"
   ]
  },
  {
   "cell_type": "code",
   "execution_count": 171,
   "id": "linear-advisory",
   "metadata": {},
   "outputs": [],
   "source": [
    "def plotGen(inputarray,lineScatterFillORPolygon,color,linewidthORmarkersize,*args,**kwargs):\n",
    "    \n",
    "    data=inputarray[~np.isnan(inputarray[:,1])]\n",
    "    \n",
    "    if not args:\n",
    "        alphaPoly=0.3\n",
    "    else:\n",
    "        alphaPoly=args[0]\n",
    "    \n",
    "    if (lineScatterFillORPolygon==\"polygon\"):\n",
    "        ax.fill(data[:,0],data[:,1], color=color, alpha=1,**kwargs)\n",
    "    if (lineScatterFillORPolygon==\"oppacpolygon\"):\n",
    "        ax.fill(data[:,0],data[:,1], facecolor=color,alpha=alphaPoly,\\\n",
    "                edgecolor=color,linewidth=linewidthORmarkersize,**kwargs)\n",
    "    if (lineScatterFillORPolygon==\"nonfilledpolygon\"):\n",
    "        ax.fill(data[:,0],data[:,1], facecolor=\"none\", edgecolor=color,\\\n",
    "                linewidth=linewidthORmarkersize, linestyle='-',**kwargs)\n",
    "        \n",
    "def plotAllowed(inputfile,x,y,z,zfixed):\n",
    "    inputparams = np.array(genfromtxt(inputfile,  comments=\"#\", delimiter=','))\n",
    "    \n",
    "    #choosing only rows with z=zfixed\n",
    "    zfixedonly=inputparams[:,z]==zfixed\n",
    "    params=inputparams[zfixedonly]\n",
    "\n",
    "    allowed=params[:,5]==1\n",
    "\n",
    "    plt.scatter(params[allowed,x], params[allowed,y], c='green')\n",
    "    plt.scatter(params[~allowed,x], params[~allowed,y], c='red')\n",
    "    \n",
    "def plotAllAllowed(inputfile,x,y):\n",
    "    params = np.array(genfromtxt(inputfile,  comments=\"#\", delimiter=','))\n",
    "    \n",
    "    allowed=params[:,5]==1\n",
    "    \n",
    "    \n",
    "    plt.scatter(params[allowed,x], params[allowed,y], c='green')\n",
    "    plt.scatter(params[~allowed,x], params[~allowed,y], c='red')\n",
    "    \n",
    "def plotAllAllowedConverted(inputfile,x,y):\n",
    "    params = np.array(genfromtxt(inputfile,  comments=\"#\", delimiter=','))\n",
    "    \n",
    "    allowed=params[:,5]==1\n",
    "    \n",
    "    \n",
    "    plt.scatter(params[allowed,x], params[allowed,y]*(4*np.pi), c='green')\n",
    "    plt.scatter(params[~allowed,x], params[~allowed,y]*(4*np.pi), c='red')"
   ]
  },
  {
   "cell_type": "code",
   "execution_count": 173,
   "id": "a55101df",
   "metadata": {},
   "outputs": [
    {
     "data": {
      "image/png": "[encoded data removed]",
      "text/plain": [
       "<Figure size 648x504 with 1 Axes>"
      ]
     },
     "metadata": {
      "needs_background": "light"
     },
     "output_type": "display_data"
    }
   ],
   "source": [
    "plt.figure(figsize=(9, 7))\n",
    "\n",
    "\n",
    "plotAllAllowedConverted(\"output/m-tau-c-BRKtoPia-cff_combined.dat\",0,2)\n",
    "#plotWhiteRegions(10**(3))\n",
    "\n",
    "plt.title('Na62')\n",
    "plt.xlabel('$m_a$ [GeV]')\n",
    "#plt.xlim(0.2,0.2)\n",
    "plt.ylabel('$c_{ff}/f_a=1 TeV$')\n",
    "plt.xscale(\"log\")\n",
    "plt.yscale(\"log\")\n",
    "\n",
    "# plt.xlim(9*10**-3, 4)\n",
    "#plt.ylim(3*10**-4, 4*10**4)\n",
    "\n",
    "plt.savefig('plots/Na62_cff_bound_oldAlps.png', dpi=300, bbox_inches='tight')"
   ]
  },
  {
   "cell_type": "code",
   "execution_count": 174,
   "id": "cbf8d8e3",
   "metadata": {},
   "outputs": [
    {
     "data": {
      "image/png": "[encoded data removed]",
      "text/plain": [
       "<Figure size 648x504 with 1 Axes>"
      ]
     },
     "metadata": {
      "needs_background": "light"
     },
     "output_type": "display_data"
    }
   ],
   "source": [
    "plt.figure(figsize=(9, 7))\n",
    "\n",
    "\n",
    "plotAllAllowed(\"output/m-tau-c-BRKtoPia-cWW_combined.dat\",0,2)\n",
    "#plotWhiteRegions(10**(3))\n",
    "\n",
    "plt.title('Na62')\n",
    "plt.xlabel('$m_a$ [GeV]')\n",
    "#plt.xlim(0.2,0.2)\n",
    "plt.ylabel('$c_{WW}/f_a=1 TeV$')\n",
    "\n",
    "# plt.xlim(9*10**-3, 4)\n",
    "plt.ylim(10**-7, 10**4)\n",
    "\n",
    "plt.xscale(\"log\")\n",
    "plt.yscale(\"log\")\n",
    "\n",
    "plt.savefig('plots/Na62_cWW_bound_oldAlps.png', dpi=300, bbox_inches='tight')"
   ]
  },
  {
   "cell_type": "markdown",
   "id": "779cd555",
   "metadata": {},
   "source": [
    "# Combined plots"
   ]
  },
  {
   "cell_type": "code",
   "execution_count": 51,
   "id": "1170308f",
   "metadata": {},
   "outputs": [],
   "source": [
    "# readArrayVisibleBoundBelleIIcffEqcWWEqcBB = np.load('output/visibleBoundBelleIIcffEqcWWEqcBB.npy')\n",
    "readArrayVisibleBoundBelleIIcff = np.load('output/visibleBoundBelleIIcff.npy')\n",
    "readArrayVisibleBoundBelleIIcWW = np.load('output/visibleBoundBelleIIcWW.npy')"
   ]
  },
  {
   "cell_type": "code",
   "execution_count": 52,
   "id": "efc177d1",
   "metadata": {},
   "outputs": [],
   "source": [
    "BaBarBounds=genfromtxt('../ruth/BaBarBounds_readable.txt', delimiter='\\t')\n",
    "BaBarBoundsOld=genfromtxt('../ruth/BaBarBounds_readable_old.txt', delimiter='\\t')"
   ]
  },
  {
   "cell_type": "code",
   "execution_count": 53,
   "id": "c6bae277",
   "metadata": {},
   "outputs": [],
   "source": [
    "BellIIInvBounds05ab=genfromtxt('../ruth/BelleIIInvBounds_readable_0.5ab.txt', delimiter='\\t')\n",
    "BellIIInvBounds50ab=genfromtxt('../ruth/BelleIIInvBounds_readable_50ab.txt', delimiter='\\t')"
   ]
  },
  {
   "cell_type": "code",
   "execution_count": 54,
   "id": "96a3b3c9",
   "metadata": {},
   "outputs": [],
   "source": [
    "LHCbBoundscff=genfromtxt('output/LHCb_cff.dat', delimiter='\\t')\n",
    "LHCbBoundscWW=genfromtxt('output/LHCb_cWW.dat', delimiter='\\t')"
   ]
  },
  {
   "cell_type": "code",
   "execution_count": 45,
   "id": "f7bf1857",
   "metadata": {},
   "outputs": [],
   "source": [
    "# function that plots cut-out regions from 1612.07818\n",
    "\n",
    "def whiteregions(m):\n",
    "    return np.heaviside(m - 0.25,0)*np.heaviside(-m + 0.4,0) + np.heaviside(m - 0.5,0)*np.heaviside(-m + 2.9,0)\\\n",
    "    + np.heaviside(m - 3.2,0)*np.heaviside(-m + 3.6,0) + np.heaviside(m - 3.9,0)*np.heaviside(-m + 4.7,0)\n",
    "#     return np.heaviside(m - 3.9,0)*np.heaviside(-m + 4.7,0)\n",
    "\n",
    "def plotWhiteRegions(yupper):\n",
    "    m=np.linspace(0.2,5,num=10000);\n",
    "    plt.fill_between(m,(1-whiteregions(m))*yupper,0,color=\"white\",zorder=2)"
   ]
  },
  {
   "cell_type": "code",
   "execution_count": 49,
   "id": "refined-option",
   "metadata": {
    "scrolled": false
   },
   "outputs": [
    {
     "data": {
      "text/plain": [
       "<matplotlib.legend.Legend at 0x7fe87815ae20>"
      ]
     },
     "execution_count": 49,
     "metadata": {},
     "output_type": "execute_result"
    },
    {
     "data": {
      "image/png": "[encoded data removed]",
      "text/plain": [
       "<Figure size 648x504 with 1 Axes>"
      ]
     },
     "metadata": {
      "needs_background": "light"
     },
     "output_type": "display_data"
    }
   ],
   "source": [
    "fig, ax = plt.subplots(figsize=(9, 7))\n",
    "\n",
    "ax.plot(BaBarBounds[:,0],BaBarBounds[:,1],c=\"grey\", ls='--',lw=2)\n",
    "ax.plot(BellIIInvBounds05ab[:,0],BellIIInvBounds05ab[:,1],c=\"black\", ls='-',lw=2)\n",
    "ax.plot(BellIIInvBounds50ab[:,0],BellIIInvBounds50ab[:,1],c=\"black\", ls='-.',lw=2)\n",
    "\n",
    "plotGen(fromLambdatof(LHCbBoundscff),\"oppacpolygon\",\"grey\",0,0.5, label='LHCb, X=$\\mu^+ \\mu^-$')\n",
    "# plotGen(LHCbBounds,\"nonfilledpolygon\",\"grey\",1)\n",
    "plotWhiteRegions(10**(2))\n",
    "\n",
    "plotGen(stackBounds(masslist,readArrayVisibleBoundBelleIIcff[:,5,0]*(4*np.pi),\\\n",
    "                    readArrayVisibleBoundBelleIIcff[:,5,1]*(4*np.pi)),\"oppacpolygon\",\"deepskyblue\",0,0.4,\\\n",
    "                    label='Belle II, $X=\\gamma \\gamma $',zorder=3)\n",
    "plotGen(stackBounds(masslist,readArrayVisibleBoundBelleIIcff[:,5,0]*(4*np.pi),\\\n",
    "                    readArrayVisibleBoundBelleIIcff[:,5,1]*(4*np.pi)),\"nonfilledpolygon\",\"deepskyblue\",1,zorder=3)\n",
    "\n",
    "plotGen(stackBounds(masslist,readArrayVisibleBoundBelleIIcff[:,0,0]*(4*np.pi),\\\n",
    "                    readArrayVisibleBoundBelleIIcff[:,0,1]*(4*np.pi)),\"oppacpolygon\",\"darkblue\",0,0.3,\\\n",
    "                    label='Belle II, $X=e^+ e^-$',zorder=3)\n",
    "plotGen(stackBounds(masslist,readArrayVisibleBoundBelleIIcff[:,0,0]*(4*np.pi),\\\n",
    "                    readArrayVisibleBoundBelleIIcff[:,0,1]*(4*np.pi)),\"nonfilledpolygon\",\"darkblue\",1,zorder=3)\n",
    "\n",
    "plotGen(stackBounds(masslist,readArrayVisibleBoundBelleIIcff[:,1,0]*(4*np.pi),\\\n",
    "                    readArrayVisibleBoundBelleIIcff[:,1,1]*(4*np.pi)),\"oppacpolygon\",\"rebeccapurple\",0,0.5,\\\n",
    "                    label='Belle II, $X=\\mu^+ \\mu^-$',zorder=3)\n",
    "# plotGen(stackBounds(masslist,readArrayVisibleBoundBelleIIcff[:,1,0],\\\n",
    "#                     readArrayVisibleBoundBelleIIcff[:,1,1]),\"nonfilledpolygon\",\"rebeccapurple\",1)\n",
    "\n",
    "p = mpatches.Rectangle((0.8,4*10**-3), 0.4, 0.9, linewidth=0, fill=None, hatch='//')\n",
    "ax.add_patch(p)\n",
    "\n",
    "\n",
    "# ax.set_title('Projected bounds on $BR( B^+ \\\\rightarrow K^+ + X )$')\n",
    "\n",
    "ax.set_xlabel('ALP mass $m_a$ [GeV]')\n",
    "ax.set_ylabel('$c_{ff}/f_a\\ [TeV^{-1}]$')\n",
    "ax.set_xscale('log')\n",
    "ax.set_yscale('log')\n",
    "ax.set_xlim(9*10**-3, 4)\n",
    "ax.set_ylim(3*10**-4, 4*10**4)\n",
    "\n",
    "handles, labels = ax.get_legend_handles_labels()\n",
    "babar= mlines.Line2D([], [], color='grey', linestyle='--',\n",
    "                          markersize=15, label='BaBar, X='+\"ET\")\n",
    "belleIIInv= mlines.Line2D([], [], color='black', linestyle='-',\n",
    "                          markersize=15, label='Belle II, 0.5/ab, X='+\"ET\")\n",
    "belleIIInv50= mlines.Line2D([], [], color='black', linestyle='-.',\n",
    "                          markersize=15, label='Belle II, 50/ab, X='+\"ET\")\n",
    "handles.insert(0, belleIIInv50)\n",
    "handles.insert(0, belleIIInv) \n",
    "handles.insert(0, babar) \n",
    "\n",
    "ax.legend(handles=handles, loc='upper right')\n",
    "\n",
    "\n",
    "\n",
    "#plt.savefig('plots/Bounds-projections-cff-50ab.png', dpi=300, bbox_inches='tight')"
   ]
  },
  {
   "cell_type": "code",
   "execution_count": 55,
   "id": "4e331506",
   "metadata": {},
   "outputs": [
    {
     "data": {
      "text/plain": [
       "<matplotlib.legend.Legend at 0x7fe877f61f70>"
      ]
     },
     "execution_count": 55,
     "metadata": {},
     "output_type": "execute_result"
    },
    {
     "data": {
      "image/png": "[encoded data removed]",
      "text/plain": [
       "<Figure size 648x504 with 1 Axes>"
      ]
     },
     "metadata": {
      "needs_background": "light"
     },
     "output_type": "display_data"
    }
   ],
   "source": [
    "fig, ax = plt.subplots(figsize=(9, 7))\n",
    "\n",
    "ax.plot(BaBarBounds[:,0],BaBarBounds[:,2],c=\"grey\", ls='--',lw=2)\n",
    "\n",
    "plotGen(fromLambdatof(LHCbBoundscWW),\"oppacpolygon\",\"grey\",0,0.5, label='LHCb, X=$\\mu^+ \\mu^-$')\n",
    "# plotGen(LHCbBounds,\"nonfilledpolygon\",\"grey\",1)\n",
    "plotWhiteRegions(10**(2))\n",
    "\n",
    "plotGen(stackBounds(masslist,readArrayVisibleBoundBelleIIcWW[:,5,0]*(4*np.pi),\\\n",
    "                    readArrayVisibleBoundBelleIIcWW[:,5,1]*(4*np.pi)),\"oppacpolygon\",\"deepskyblue\",0,0.4,\\\n",
    "                    label='Belle II, $X=\\gamma \\gamma $',zorder=3)\n",
    "plotGen(stackBounds(masslist,readArrayVisibleBoundBelleIIcWW[:,5,0]*(4*np.pi),\\\n",
    "                    readArrayVisibleBoundBelleIIcWW[:,5,1]*(4*np.pi)),\"nonfilledpolygon\",\"deepskyblue\",1,zorder=3)\n",
    "\n",
    "plotGen(stackBounds(masslist,readArrayVisibleBoundBelleIIcWW[:,0,0]*(4*np.pi),\\\n",
    "                    readArrayVisibleBoundBelleIIcWW[:,0,1]*(4*np.pi)),\"oppacpolygon\",\"darkblue\",0,0.3,\\\n",
    "                    label='Belle II, $X=e^+ e^-$',zorder=3)\n",
    "plotGen(stackBounds(masslist,readArrayVisibleBoundBelleIIcWW[:,0,0]*(4*np.pi),\\\n",
    "                    readArrayVisibleBoundBelleIIcWW[:,0,1]*(4*np.pi)),\"nonfilledpolygon\",\"darkblue\",1,zorder=3)\n",
    "\n",
    "plotGen(stackBounds(masslist,readArrayVisibleBoundBelleIIcWW[:,1,0]*(4*np.pi),\\\n",
    "                    readArrayVisibleBoundBelleIIcWW[:,1,1]*(4*np.pi)),\"oppacpolygon\",\"rebeccapurple\",0,0.5,\\\n",
    "                    label='Belle II, $X=\\mu^+ \\mu^-$',zorder=3)\n",
    "# plotGen(stackBounds(masslist,readArrayVisibleBoundBelleIIcff[:,1,0],\\\n",
    "#                     readArrayVisibleBoundBelleIIcff[:,1,1]),\"nonfilledpolygon\",\"rebeccapurple\",1)\n",
    "\n",
    "p = mpatches.Rectangle((0.7,7*10**-3), 1.3, 2, linewidth=0, fill=None, hatch='//')\n",
    "ax.add_patch(p)\n",
    "\n",
    "\n",
    "# ax.set_title('Projected bounds on $BR( B^+ \\\\rightarrow K^+ + X )$')\n",
    "\n",
    "ax.set_xlabel('ALP mass $m_a$ [GeV]')\n",
    "ax.set_ylabel('$c_{WW}/f_a\\ [TeV^{-1}]$')\n",
    "ax.set_xscale('log')\n",
    "ax.set_yscale('log')\n",
    "ax.set_xlim(9*10**-3, 4)\n",
    "ax.set_ylim(10**-3, 10**3)\n",
    "\n",
    "handles, labels = ax.get_legend_handles_labels()\n",
    "babar= mlines.Line2D([], [], color='grey', linestyle='--',\n",
    "                          markersize=15, label='BaBar, X='+\"E\")\n",
    "handles.insert(0, babar) \n",
    "\n",
    "ax.legend(handles=handles)\n",
    "\n",
    "\n",
    "\n",
    "#plt.savefig('plots/BoundBelleII-cWW-projections.png', dpi=300, bbox_inches='tight')"
   ]
  },
  {
   "cell_type": "code",
   "execution_count": null,
   "id": "935637d3",
   "metadata": {},
   "outputs": [],
   "source": []
  }
 ],
 "metadata": {
  "kernelspec": {
   "display_name": "Python 3 (ipykernel)",
   "language": "python",
   "name": "python3"
  },
  "language_info": {
   "codemirror_mode": {
    "name": "ipython",
    "version": 3
   },
   "file_extension": ".py",
   "mimetype": "text/x-python",
   "name": "python",
   "nbconvert_exporter": "python",
   "pygments_lexer": "ipython3",
   "version": "3.9.7"
  }
 },
 "nbformat": 4,
 "nbformat_minor": 5
}
