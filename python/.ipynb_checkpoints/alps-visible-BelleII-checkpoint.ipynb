{
 "cells": [
  {
   "cell_type": "code",
   "execution_count": 1,
   "id": "political-fault",
   "metadata": {},
   "outputs": [],
   "source": [
    "import glob\n",
    "import matplotlib as mlib\n",
    "import matplotlib.pyplot as plt\n",
    "import numpy as np\n",
    "from numpy import genfromtxt\n",
    "from numpy import loadtxt\n",
    "import re\n",
    "import csv\n",
    "import matplotlib.colors as mcolors\n",
    "import matplotlib.cm as cm\n",
    "import matplotlib.patches as mpatches\n",
    "\n",
    "import sys\n",
    "sys.path.insert(1, '/home/stasya/prj/alps-running/TdAlps-Internal/')\n",
    "import TdAlps\n",
    "from collections import OrderedDict"
   ]
  },
  {
   "cell_type": "code",
   "execution_count": 2,
   "id": "foreign-nancy",
   "metadata": {},
   "outputs": [],
   "source": [
    "#Plotting settings\n",
    "font = {\n",
    "        'weight' : 'normal',\n",
    "        'size'   : 16}\n",
    "\n",
    "mlib.rc('font', **font)"
   ]
  },
  {
   "cell_type": "code",
   "execution_count": 3,
   "id": "appropriate-ivory",
   "metadata": {},
   "outputs": [],
   "source": [
    "sm={\n",
    "    'GF': 1.166*10**(-5),\n",
    "    'sw': np.sqrt(0.231),\n",
    "    'hbar': 6.582*10**(-25),\n",
    "    'c': 3*10**10,\n",
    "    'alpha': 1/137,\n",
    "    'Vtb': 0.999,\n",
    "    'Vts': 0.0404,\n",
    "    'Xt': 1.469,\n",
    "    'BrBtoKnunu+': 4.5*10**(-6),\n",
    "    'NBBBaBar': 471*10**6,\n",
    "    'NBBBelleII': 5*10**10,\n",
    "    'me': 0.000511,\n",
    "    'mmu': 0.1056,\n",
    "    'mtau': 1.777,\n",
    "    'mu': 2.2/1000,\n",
    "    'md': 4.7/1000,\n",
    "    'ms': 95/1000,\n",
    "    'mc': 1.275,\n",
    "    'mb': 4.18,\n",
    "    'mt': 173,\n",
    "    'mZ': 91.19,\n",
    "    'mB+': 5.279,\n",
    "    'mK+': 0.494,\n",
    "    'tauB+': 1.638*10**(-12)\n",
    "}"
   ]
  },
  {
   "cell_type": "code",
   "execution_count": 4,
   "id": "final-router",
   "metadata": {},
   "outputs": [],
   "source": [
    "def f(Lambda):\n",
    "    return Lambda/(4 * np.pi)"
   ]
  },
  {
   "cell_type": "markdown",
   "id": "attached-overhead",
   "metadata": {},
   "source": [
    "## based on https://github.com/rrschaefer/alps (formulas taken from 2012.12272 and 1708.00443)"
   ]
  },
  {
   "cell_type": "markdown",
   "id": "recorded-static",
   "metadata": {},
   "source": [
    "### Alps running implemented in https://github.com/TdAlps"
   ]
  },
  {
   "cell_type": "code",
   "execution_count": 5,
   "id": "systematic-gibraltar",
   "metadata": {},
   "outputs": [],
   "source": [
    "def getLScoefficients(cff, cww, cbb, Lambda, mu):\n",
    "    HC = OrderedDict()\n",
    "    HC['Q'] = np.array([[cff,0,0],[0,cff,0],[0,0,cff]])\n",
    "    HC['u'] = np.array([[-cff,0,0],[0,-cff,0],[0,0,-cff]])\n",
    "    HC['d'] = np.array([[-cff,0,0],[0,-cff,0],[0,0,-cff]])\n",
    "    HC['L'] = np.array([[cff,0,0],[0,cff,0],[0,0,cff]])\n",
    "    HC['e'] = np.array([[-cff,0,0],[0,-cff,0],[0,0,-cff]])\n",
    "    HC['GG'] = 0\n",
    "    HC['WW'] = cww\n",
    "    HC['BB'] = cbb\n",
    "    return TdAlps.RunRotateMatchRun(HC, Lambda, mu, 3)\n",
    "\n",
    "\n",
    "def getCuu(cff, cww, cbb, Lambda, mu):\n",
    "    coeffs = getLScoefficients(cff, cww, cbb, Lambda, mu)\n",
    "    return coeffs['U'][0][0]-coeffs['u'][0][0]\n",
    "\n",
    "def getCcc(cff, cww, cbb, Lambda, mu):\n",
    "    coeffs = getLScoefficients(cff, cww, cbb, Lambda, mu)\n",
    "    return coeffs['U'][1][1]-coeffs['u'][1][1]\n",
    "\n",
    "def getCtt(cff, cww, cbb, Lambda, mu):\n",
    "    coeffs = getLScoefficients(cff, cww, cbb, Lambda, mu)\n",
    "    return coeffs['U'][2][2]-coeffs['u'][2][2]\n",
    "\n",
    "def getCdd(cff, cww, cbb, Lambda, mu):\n",
    "    coeffs = getLScoefficients(cff, cww, cbb, Lambda, mu)\n",
    "    return coeffs['D'][0][0]-coeffs['d'][0][0]\n",
    "\n",
    "def getCss(cff, cww, cbb, Lambda, mu):\n",
    "    coeffs = getLScoefficients(cff, cww, cbb, Lambda, mu)\n",
    "    return coeffs['D'][1][1]-coeffs['d'][1][1]\n",
    "\n",
    "def getCbb(cff, cww, cbb, Lambda, mu):\n",
    "    coeffs = getLScoefficients(cff, cww, cbb, Lambda, mu)\n",
    "    return coeffs['D'][2][2]-coeffs['d'][2][2]\n",
    "\n",
    "def getCGG(cff, cww, cbb, Lambda, mu):\n",
    "    coeffs = getLScoefficients(cff, cww, cbb, Lambda, mu)\n",
    "    return coeffs['GG']\n",
    "\n",
    "def getCgg(cff, cww, cbb, Lambda, mu):\n",
    "    coeffs = getLScoefficients(cff, cww, cbb, Lambda, mu)\n",
    "    return coeffs['gamgam']\n",
    "\n",
    "def getCee(cff, cww, cbb, Lambda, mu):\n",
    "    coeffs = getLScoefficients(cff, cww, cbb, Lambda, mu)\n",
    "    return coeffs['E'][0][0]-coeffs['e'][0][0]\n",
    "\n",
    "def getCmumu(cff, cww, cbb, Lambda, mu):\n",
    "    coeffs = getLScoefficients(cff, cww, cbb, Lambda, mu)\n",
    "    return coeffs['E'][1][1]-coeffs['e'][1][1]\n",
    "\n",
    "def getCtautau(cff, cww, cbb, Lambda, mu):\n",
    "    coeffs = getLScoefficients(cff, cww, cbb, Lambda, mu)\n",
    "    return coeffs['E'][2][2]-coeffs['e'][2][2]\n",
    "\n",
    "def getCbs(cff, cww, cbb, Lambda, mu):\n",
    "    coeffs = getLScoefficients(cff, cww, cbb, Lambda, mu)\n",
    "    return coeffs['D'][2][1]-coeffs['d'][2][1]\n",
    "\n",
    "def getAlphaEM(cff, cww, cbb, Lambda, mu):\n",
    "    coeffs = getLScoefficients(cff, cww, cbb, Lambda, mu)\n",
    "    return coeffs['aEM']\n",
    "\n",
    "def getAlphaS(cff, cww, cbb, Lambda, mu):\n",
    "    coeffs = getLScoefficients(cff, cww, cbb, Lambda, mu)\n",
    "    return coeffs['a3']\n",
    "\n",
    "\n",
    "def readCuu(coeffs):\n",
    "    return coeffs['U'][0][0]-coeffs['u'][0][0]\n",
    "\n",
    "def readCcc(coeffs):\n",
    "    return coeffs['U'][1][1]-coeffs['u'][1][1]\n",
    "\n",
    "def readCtt(coeffs):\n",
    "    return coeffs['U'][2][2]-coeffs['u'][2][2]\n",
    "\n",
    "def readCdd(coeffs):\n",
    "    return coeffs['D'][0][0]-coeffs['d'][0][0]\n",
    "\n",
    "def readCss(coeffs):\n",
    "    return coeffs['D'][1][1]-coeffs['d'][1][1]\n",
    "\n",
    "def readCbb(coeffs):\n",
    "    return coeffs['D'][2][2]-coeffs['d'][2][2]\n",
    "\n",
    "def readCGG(coeffs):\n",
    "    return coeffs['GG']\n",
    "\n",
    "def readCgg(coeffs):\n",
    "    return coeffs['gamgam']\n",
    "\n",
    "def readCee(coeffs):\n",
    "    return coeffs['E'][0][0]-coeffs['e'][0][0]\n",
    "\n",
    "def readCmumu(coeffs):\n",
    "    return coeffs['E'][1][1]-coeffs['e'][1][1]\n",
    "\n",
    "def readCtautau(coeffs):\n",
    "    return coeffs['E'][2][2]-coeffs['e'][2][2]\n",
    "\n",
    "def readCbs(coeffs):\n",
    "    return coeffs['D'][2][1]-coeffs['d'][2][1]\n",
    "\n",
    "def readAlphaEM(coeffs):\n",
    "    return coeffs['aEM']\n",
    "\n",
    "def readAlphaS(coeffs):\n",
    "    return coeffs['a3']\n",
    "\n",
    "def printLowScaleCoef(coeffs):\n",
    "    print(\"readCuu = {0}\\n readCcc = {1}\\n readCdd = {2}\\n readCss = {3}\\n readCbb = {4}\\n\".format(readCuu(coeffs),readCcc(coeffs),readCdd(coeffs),readCss(coeffs),readCbb(coeffs)))  "
   ]
  },
  {
   "cell_type": "code",
   "execution_count": 6,
   "id": "sixth-worship",
   "metadata": {},
   "outputs": [],
   "source": [
    "testCoeff= getLScoefficients(1, 0.5, 0, 10**3, 50)"
   ]
  },
  {
   "cell_type": "code",
   "execution_count": 7,
   "id": "numerous-purpose",
   "metadata": {},
   "outputs": [
    {
     "data": {
      "text/plain": [
       "(1.9706808739558992+4.357055911013798e-22j)"
      ]
     },
     "execution_count": 7,
     "metadata": {},
     "output_type": "execute_result"
    }
   ],
   "source": [
    "readCbb(getLScoefficients(1, 0, 0, 10**3, 5))"
   ]
  },
  {
   "cell_type": "code",
   "execution_count": 8,
   "id": "short-sport",
   "metadata": {},
   "outputs": [
    {
     "data": {
      "text/plain": [
       "(0.5+0j)"
      ]
     },
     "execution_count": 8,
     "metadata": {},
     "output_type": "execute_result"
    }
   ],
   "source": [
    "readCgg(testCoeff)"
   ]
  },
  {
   "cell_type": "code",
   "execution_count": 9,
   "id": "organic-execution",
   "metadata": {},
   "outputs": [
    {
     "data": {
      "text/plain": [
       "(0.00965486945987901+0j)"
      ]
     },
     "execution_count": 9,
     "metadata": {},
     "output_type": "execute_result"
    }
   ],
   "source": [
    "readAlphaEM(testCoeff)"
   ]
  },
  {
   "cell_type": "code",
   "execution_count": 10,
   "id": "protective-tournament",
   "metadata": {},
   "outputs": [
    {
     "name": "stdout",
     "output_type": "stream",
     "text": [
      "readCuu = (1.8703162199567827-1.588421225203518e-24j)\n",
      " readCcc = (1.8703162199567827-1.588421225203518e-24j)\n",
      " readCdd = (2.0476858760465784-1.688147274833831e-21j)\n",
      " readCss = (2.0476618440142937+3.3865449825539148e-21j)\n",
      " readCbb = (2.0329718799285375-1.5868064632864805e-24j)\n",
      "\n"
     ]
    }
   ],
   "source": [
    "printLowScaleCoef(testCoeff)"
   ]
  },
  {
   "cell_type": "code",
   "execution_count": 11,
   "id": "veterinary-handbook",
   "metadata": {},
   "outputs": [
    {
     "name": "stdout",
     "output_type": "stream",
     "text": [
      "(0.5+0j) 0j\n"
     ]
    }
   ],
   "source": [
    "print(readCgg(testCoeff),readCGG(testCoeff))"
   ]
  },
  {
   "cell_type": "code",
   "execution_count": 12,
   "id": "manual-reproduction",
   "metadata": {},
   "outputs": [],
   "source": [
    "def nq(ma):\n",
    "    if ma>2*sm['mt']:\n",
    "        return 6\n",
    "    elif ma>=2*sm['mb']:\n",
    "        return 5\n",
    "    elif ma>=2*sm['mc']:\n",
    "        return 4\n",
    "    elif ma>=2*sm['ms']:\n",
    "        return 3\n",
    "    elif ma>=2*sm['md']:\n",
    "        return 2\n",
    "    elif ma>=2*sm['mu']:\n",
    "        return 1\n",
    "    else:\n",
    "        return 0\n",
    "\n",
    "def B2(tau):\n",
    "    return 1-(tau-1)*funcB(tau)**2\n",
    "\n",
    "# (14) in 2012.12272\n",
    "def B1(tau):\n",
    "    return 1-tau*funcB(tau)**2\n",
    "\n",
    "\n",
    "def funcB(tau):\n",
    "    if tau>=1:\n",
    "        return np.arcsin(1/np.sqrt(tau))\n",
    "    else:\n",
    "        return np.pi/2 + 1j/2 * np.log((1+np.sqrt(1-tau))/(1-np.sqrt(1-tau)))"
   ]
  },
  {
   "cell_type": "code",
   "execution_count": 16,
   "id": "concrete-matthew",
   "metadata": {},
   "outputs": [],
   "source": [
    "def Gammaatoll(ma, cll, ml, Lambda):\n",
    "    if ma <= 2 * ml:\n",
    "        return 0\n",
    "    gamma = ml**2 * abs(cll)**2 * np.sqrt(ma**2 - 4 * ml**2) / (8 * np.pi * Lambda**2) \n",
    "    if gamma.imag  != 0:\n",
    "        if gamma.imag/gamma.real > 10**-10:\n",
    "            print(\"The Decay rate to leptons with mass \" + str(ml) + \" is complex: \" + str(gamma))\n",
    "    return float(gamma)\n",
    "\n",
    "#quark masses depend on scale, not included here\n",
    "def Gammaatoqq(ma, cqq, mq, Lambda):\n",
    "    if ma <= 2 * mq:\n",
    "        return 0\n",
    "    gamma = 3 * mq**2 * abs(cqq)**2 * np.sqrt(ma**2 - 4 * mq**2) / (8 * np.pi * Lambda**2)\n",
    "    if gamma.imag  != 0:\n",
    "        if gamma.imag/gamma.real > 10**-10:\n",
    "            print(\"The Decay rate to quarks with mass \" + str(mq) + \" is complex: \" + str(gamma))\n",
    "    return float(gamma)\n",
    "\n",
    "def Gammaatogamgam(ma, coeffs, Lambda):\n",
    "    cgamgam = readCgg(coeffs)\n",
    "    alphaEM = readAlphaEM(coeffs)\n",
    "    effcgg = cgamgam\n",
    "    if ma >= sm['mZ']:\n",
    "        effcgg += 2 * alphaEM/np.pi * coeffs['WW']/sm['sw']**2 * B2(4*sm['mW']**2/ma**2)\n",
    "        effcgg += 3 * (2/3)**2 * readCtt(coeffs) * B1(4*sm['mt']**2/ma**2)\n",
    "    if ma>2*sm['mc']:\n",
    "        effcgg += 3 * (2/3)**2 * readCcc(coeffs) * B1(4*sm['mc']**2/ma**2) \n",
    "        \n",
    "    effcgg += 3 * (2/3)**2 * readCuu(coeffs) * B1(4*sm['mu']**2/ma**2)\n",
    "    if ma>2*sm['mb']:\n",
    "        effcgg += 3 * (-1/3)**2 * readCbb(coeffs) * B1(4*sm['mb']**2/ma**2)\n",
    "        effcgg += 3 * (-1/3)**2 * (readCss(coeffs) * B1(4*sm['ms']**2/ma**2) + readCdd(coeffs) \\\n",
    "                               * B1(4*sm['md']**2/ma**2))\n",
    "    effcgg += readCee(coeffs) * B1(4*sm['me']**2/ma**2) + readCmumu(coeffs) * B1(4*sm['mmu']**2/ma**2)\n",
    "    if ma>2*sm['mb']:\n",
    "        effcgg += readCtautau(coeffs) * B1(4*sm['mtau']**2/ma**2)\n",
    "    gamma = abs(effcgg)**2 * alphaEM**2 * ma**3 /(4 * np.pi * Lambda**2) \n",
    "    if gamma.imag  != 0:\n",
    "        if gamma.imag/gamma.real > 10**-10:\n",
    "            print(\"The Decay rate to photons is complex: \" + str(gamma))\n",
    "    return float(gamma)\n",
    "\n",
    "def GammaatogamgamMyCheck2(ma, coeffs, Lambda):\n",
    "    cgamgam = readCgg(coeffs)\n",
    "    alphaEM = readAlphaEM(coeffs)\n",
    "    effcgg = cgamgam\n",
    "    # eq. (47) in 2012.12272\n",
    "    if ma>sm['me']:\n",
    "        effcgg +=B1(4*sm['me']**2/ma**2) \n",
    "    if ma>sm['mmu']:\n",
    "        effcgg +=B1(4*sm['mmu']**2/ma**2) \n",
    "    if ma>sm['mtau']:\n",
    "        effcgg +=B1(4*sm['mtau']**2/ma**2)\n",
    "        \n",
    "    if ma>sm['mu']:\n",
    "        effcgg += 3 * (2/3)**2 * B1(4*sm['mu']**2/ma**2) \n",
    "    if ma>sm['mc']:\n",
    "        effcgg += 3 * (2/3)**2 * B1(4*sm['mc']**2/ma**2) \n",
    "    if ma>sm['mt']:\n",
    "        effcgg += 3 * (2/3)**2 * B1(4*sm['mt']**2/ma**2) \n",
    "        \n",
    "    if ma>sm['md']:\n",
    "        effcgg += 3 * (1/3)**2 * B1(4*sm['md']**2/ma**2) \n",
    "    if ma>sm['ms']:\n",
    "        effcgg += 3 * (1/3)**2 * B1(4*sm['ms']**2/ma**2) \n",
    "    if ma>sm['mb']:\n",
    "        effcgg += 3 * (1/3)**2 * B1(4*sm['mb']**2/ma**2) \n",
    "        \n",
    "    if ma >= sm['mZ']:\n",
    "        effcgg += 2 * alphaEM/np.pi * coeffs['WW']/sm['sw']**2 * B2(4*sm['mW']**2/ma**2)\n",
    "        \n",
    "    # eq.(46) in 2012.12272\n",
    "    gamma = abs(effcgg)**2 * alphaEM**2 * ma**3 /(64 * np.pi * f(Lambda)**2) \n",
    "    if gamma.imag  != 0:\n",
    "        if gamma.imag/gamma.real > 10**-10:\n",
    "            print(\"The Decay rate to photons is complex: \" + str(gamma))\n",
    "    return float(gamma)\n",
    "    \n",
    "\n",
    "def GammaatogamgamMyCheck(ma, coeffs, Lambda):\n",
    "    cgamgam = readCgg(coeffs)\n",
    "    alphaEM = readAlphaEM(coeffs)\n",
    "    effcgg = cgamgam\n",
    "    # eq. (47) in 2012.12272\n",
    "    #effcgg += 2 * alphaEM/np.pi * 1/sm['sw']**2 * B2(4*sm['mW']**2/ma**2) * np.heaviside(ma-sm['mZ'],1)\n",
    "    effcgg += 3 * (2/3)**2 * (np.heaviside(ma-sm['mu'],1) * B1(4*sm['mu']**2/ma**2) \n",
    "                              + np.heaviside(ma-sm['mc'],1) * B1(4*sm['mc']**2/ma**2) \\\n",
    "                              + np.heaviside(ma-sm['mt'],1) * B1(4*sm['mt']**2/ma**2))\\\n",
    "            + 3 * (1/3)**2 * (np.heaviside(ma-sm['md'],1) * B1(4*sm['md']**2/ma**2) \n",
    "                              + np.heaviside(ma-sm['ms'],1) * B1(4*sm['ms']**2/ma**2) \\\n",
    "                              + np.heaviside(ma-sm['mb'],1) * B1(4*sm['mb']**2/ma**2))\\\n",
    "            +  (np.heaviside(ma-sm['me'],1) * B1(4*sm['me']**2/ma**2) \n",
    "                              + np.heaviside(ma-sm['mmu'],1) * B1(4*sm['mmu']**2/ma**2) \\\n",
    "                              + np.heaviside(ma-sm['mtau'],1) * B1(4*sm['mtau']**2/ma**2))\n",
    "    # eq.(46) in 2012.12272\n",
    "    gamma = abs(effcgg)**2 * alphaEM**2 * ma**3 /(64 * np.pi * f(Lambda)**2) \n",
    "    if gamma.imag  != 0:\n",
    "        if gamma.imag/gamma.real > 10**-10:\n",
    "            print(\"The Decay rate to photons is complex: \" + str(gamma))\n",
    "    return float(gamma)\n",
    "    \n",
    "def Gammaatohad(ma, coeffs, Lambda):\n",
    "    if ma <= 1:\n",
    "        return 0\n",
    "    alphaS = readAlphaS(coeffs)\n",
    "    cGGeff = readCGG(coeffs)\n",
    "    cGGeff += 1/2 * readCuu(coeffs) * B1(4*sm['mu']**2/ma**2)\n",
    "    cGGeff += 1/2 * readCdd(coeffs) * B1(4*sm['md']**2/ma**2)\n",
    "    cGGeff += 1/2 * readCss(coeffs) * B1(4*sm['ms']**2/ma**2)\n",
    "    if ma>2*sm['mc']:\n",
    "        cGGeff += 1/2 * readCcc(coeffs) * B1(4*sm['mc']**2/ma**2)\n",
    "    if ma>2*sm['mb']:\n",
    "        cGGeff += 1/2 * readCbb(coeffs) * B1(4*sm['mb']**2/ma**2)\n",
    "    if ma >= sm['mZ']:\n",
    "        cGGeff += 1/2 * readCtt(coeffs) * B1(4*sm['mt']**2/ma**2)\n",
    "    gamma = abs(cGGeff)**2 * 32 * np.pi * alphaS**2 * ma**3 * \\\n",
    "            (1 + (97/4-7*nq(ma)/6) * alphaS/np.pi)/Lambda**2\n",
    "    if gamma.imag  != 0:\n",
    "        if gamma.imag/gamma.real > 10**-10:\n",
    "            print(\"The Decay rate to hadrons is complex: \" + str(gamma))\n",
    "    return float(gamma)\n",
    "\n",
    "def GammaatohadMyCheck(ma, coeffs, Lambda):\n",
    "    if ma <= 1:\n",
    "        return 0\n",
    "    alphaS = readAlphaS(coeffs)\n",
    "    cGGeff = readCGG(coeffs)\n",
    "    \n",
    "    # eq.(13) in 2012.12272\n",
    "    \n",
    "    cGGeff += 1/2 * readCuu(coeffs) * B1(4*sm['mu']**2/ma**2) * np.heaviside(ma-sm['mu'],1)\\\n",
    "            + 1/2 * readCdd(coeffs) * B1(4*sm['md']**2/ma**2) * np.heaviside(ma-sm['md'],1)\\\n",
    "            + 1/2 * readCss(coeffs) * B1(4*sm['ms']**2/ma**2) * np.heaviside(ma-sm['ms'],1)\\\n",
    "            + 1/2 * readCcc(coeffs) * B1(4*sm['mc']**2/ma**2) * np.heaviside(ma-sm['mc'],1)\\\n",
    "            + 1/2 * readCbb(coeffs) * B1(4*sm['mb']**2/ma**2) * np.heaviside(ma-sm['mb'],1)\\\n",
    "            #+ 1/2 * readCtt(coeffs) * B1(4*sm['mt']**2/ma**2) * np.heaviside(ma-sm['mZ'],1)\\\n",
    "        \n",
    "    # eq.(29) in 1708.00443 with nq=3 light quarks\n",
    "    gamma = abs(cGGeff)**2 * 32 * np.pi * alphaS**2 * ma**3 * \\\n",
    "            (1 + (97/4-7*nq(ma)/6) * alphaS/np.pi)/Lambda**2\n",
    "    if gamma.imag  != 0:\n",
    "        if gamma.imag/gamma.real > 10**-10:\n",
    "            print(\"The Decay rate to hadrons is complex: \" + str(gamma))\n",
    "    return float(gamma)"
   ]
  },
  {
   "cell_type": "code",
   "execution_count": 19,
   "id": "auburn-console",
   "metadata": {},
   "outputs": [
    {
     "name": "stdout",
     "output_type": "stream",
     "text": [
      "4.9637770073871695e-11 1.9447082151266876e-10 1.9447082151266876e-10\n"
     ]
    },
    {
     "name": "stderr",
     "output_type": "stream",
     "text": [
      "<ipython-input-16-25bfcbeee36a>:42: ComplexWarning: Casting complex values to real discards the imaginary part\n",
      "  return float(gamma)\n",
      "<ipython-input-16-25bfcbeee36a>:101: ComplexWarning: Casting complex values to real discards the imaginary part\n",
      "  return float(gamma)\n",
      "<ipython-input-16-25bfcbeee36a>:78: ComplexWarning: Casting complex values to real discards the imaginary part\n",
      "  return float(gamma)\n"
     ]
    }
   ],
   "source": [
    "print(Gammaatogamgam(0.5, testCoeff, 10**3),GammaatogamgamMyCheck(0.5, testCoeff, 10**3),GammaatogamgamMyCheck2(0.5, testCoeff, 10**3))"
   ]
  },
  {
   "cell_type": "code",
   "execution_count": 20,
   "id": "stylish-municipality",
   "metadata": {},
   "outputs": [
    {
     "name": "stdout",
     "output_type": "stream",
     "text": [
      "8.503955864875954e-08 3.679170989178841e-07 3.679170989178841e-07\n"
     ]
    },
    {
     "name": "stderr",
     "output_type": "stream",
     "text": [
      "<ipython-input-16-25bfcbeee36a>:42: ComplexWarning: Casting complex values to real discards the imaginary part\n",
      "  return float(gamma)\n",
      "<ipython-input-16-25bfcbeee36a>:101: ComplexWarning: Casting complex values to real discards the imaginary part\n",
      "  return float(gamma)\n",
      "<ipython-input-16-25bfcbeee36a>:78: ComplexWarning: Casting complex values to real discards the imaginary part\n",
      "  return float(gamma)\n"
     ]
    }
   ],
   "source": [
    "print(Gammaatogamgam(5, testCoeff, 10**3),GammaatogamgamMyCheck(5, testCoeff, 10**3),GammaatogamgamMyCheck2(5, testCoeff, 10**3))"
   ]
  },
  {
   "cell_type": "code",
   "execution_count": 15,
   "id": "psychological-allah",
   "metadata": {},
   "outputs": [
    {
     "name": "stdout",
     "output_type": "stream",
     "text": [
      "0.0006651550006344234 0.0006651550006344234\n"
     ]
    },
    {
     "name": "stderr",
     "output_type": "stream",
     "text": [
      "<ipython-input-13-180f5a4b9bb1>:111: ComplexWarning: Casting complex values to real discards the imaginary part\n",
      "  return float(gamma)\n",
      "<ipython-input-13-180f5a4b9bb1>:134: ComplexWarning: Casting complex values to real discards the imaginary part\n",
      "  return float(gamma)\n"
     ]
    }
   ],
   "source": [
    "print(Gammaatohad(3, testCoeff, 10**3),GammaatohadMyCheck(3, testCoeff, 10**3))"
   ]
  },
  {
   "cell_type": "code",
   "execution_count": 167,
   "id": "heard-scenario",
   "metadata": {},
   "outputs": [],
   "source": [
    "def Gammaa(ma, cff, cww, cbb, Lambda):\n",
    "    lscs = getLScoefficients(cff, cww, cbb, Lambda, ma)\n",
    "    GammaTot = 0\n",
    "    if ma>2*sm['me']:\n",
    "        GammaTot += Gammaatoll(ma,readCee(lscs),sm['me'],Lambda)\n",
    "    if ma>2*sm['mmu']:\n",
    "        GammaTot += Gammaatoll(ma,readCmumu(lscs),sm['mmu'],Lambda)\n",
    "    if ma>2*sm['mtau']:\n",
    "        GammaTot += Gammaatoll(ma,readCtautau(lscs),sm['mtau'],Lambda)\n",
    "    if ma>2*sm['mc']:\n",
    "        GammaTot += Gammaatoqq(ma,readCcc(lscs),sm['mc'],Lambda)\n",
    "    if ma>2*sm['mb']:\n",
    "        GammaTot += Gammaatoqq(ma,readCbb(lscs),sm['mb'],Lambda)\n",
    "    if ma>1:\n",
    "        GammaTot += Gammaatohad(ma,lscs,Lambda)\n",
    "    GammaTot += Gammaatogamgam(ma,lscs,Lambda)\n",
    "    if GammaTot.imag  != 0:\n",
    "        print(\"The Decay rate to hadrons is complex: \" + str(GammaTot))\n",
    "    return float(GammaTot)"
   ]
  },
  {
   "cell_type": "code",
   "execution_count": 168,
   "id": "sweet-branch",
   "metadata": {},
   "outputs": [],
   "source": [
    "def BrBtoKaplus(ma, cbs, Lambda):\n",
    "    return abs(cbs)**2/(16 * np.pi * Lambda**2) * abs(formFactorFzeroBplus(ma))**2* (sm['mB+']**2\\\n",
    "    -sm['mK+'])**2/sm['mB+']**3 * np.sqrt(sm['mB+']**4+sm['mK+']**4+ma**4-2*(sm['mB+']**2 * sm['mK+']**2 \\\n",
    "                                    + sm['mK+']**2 * ma**2 + ma**2 * sm['mB+']**2))/sm['hbar']*sm['tauB+']"
   ]
  },
  {
   "cell_type": "code",
   "execution_count": 169,
   "id": "decreased-proceeding",
   "metadata": {},
   "outputs": [
    {
     "name": "stderr",
     "output_type": "stream",
     "text": [
      "<ipython-input-164-0e5cfdde1471>:85: ComplexWarning: Casting complex values to real discards the imaginary part\n",
      "  return float(gamma)\n",
      "<ipython-input-164-0e5cfdde1471>:41: ComplexWarning: Casting complex values to real discards the imaginary part\n",
      "  return float(gamma)\n"
     ]
    },
    {
     "data": {
      "text/plain": [
       "0.003261155304571763"
      ]
     },
     "execution_count": 169,
     "metadata": {},
     "output_type": "execute_result"
    }
   ],
   "source": [
    "Gammaa(3, 1, 0, 0, 10**3)"
   ]
  },
  {
   "cell_type": "code",
   "execution_count": null,
   "id": "cordless-access",
   "metadata": {},
   "outputs": [],
   "source": []
  }
 ],
 "metadata": {
  "kernelspec": {
   "display_name": "Python 3",
   "language": "python",
   "name": "python3"
  },
  "language_info": {
   "codemirror_mode": {
    "name": "ipython",
    "version": 3
   },
   "file_extension": ".py",
   "mimetype": "text/x-python",
   "name": "python",
   "nbconvert_exporter": "python",
   "pygments_lexer": "ipython3",
   "version": "3.8.6"
  }
 },
 "nbformat": 4,
 "nbformat_minor": 5
}
